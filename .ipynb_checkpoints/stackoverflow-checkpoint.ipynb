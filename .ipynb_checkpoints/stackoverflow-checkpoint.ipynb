{
 "cells": [
  {
   "cell_type": "markdown",
   "metadata": {
    "id": "DhWvrK5gVM6W"
   },
   "source": [
    "# **Importing libraries**"
   ]
  },
  {
   "cell_type": "code",
   "execution_count": 1,
   "metadata": {
    "id": "lD5A1Gt8HPe-"
   },
   "outputs": [],
   "source": [
    "import pandas as pd, numpy as np\n",
    "import seaborn as sns\n",
    "import matplotlib.pyplot as plt\n",
    "%matplotlib inline\n",
    "import numpy as np\n",
    "import matplotlib.pyplot as plt\n"
   ]
  },
  {
   "cell_type": "markdown",
   "metadata": {
    "id": "dKV-fFQKUzC4"
   },
   "source": [
    "# **Uploading datasets from public s3 link**"
   ]
  },
  {
   "cell_type": "code",
   "execution_count": 2,
   "metadata": {
    "id": "p4LittRdybRj"
   },
   "outputs": [],
   "source": [
    "quesdf= pd.read_csv(\"https://stack-overflow-casestudy-datasets.s3.amazonaws.com/Questions.csv\", encoding='latin-1')"
   ]
  },
  {
   "cell_type": "code",
   "execution_count": 3,
   "metadata": {
    "id": "uKTK9P893bFF"
   },
   "outputs": [],
   "source": [
    "ansdf= pd.read_csv(\"https://stack-overflow-casestudy-datasets.s3.amazonaws.com/Answers.csv\", encoding='latin-1')"
   ]
  },
  {
   "cell_type": "code",
   "execution_count": 4,
   "metadata": {
    "id": "aZoOebAGV8L5"
   },
   "outputs": [],
   "source": [
    "tagsdf= pd.read_csv(\"https://stack-overflow-casestudy-datasets.s3.amazonaws.com/Tags.csv\", encoding='latin-1')"
   ]
  },
  {
   "cell_type": "code",
   "execution_count": 5,
   "metadata": {
    "id": "kP6xHKILWNo-"
   },
   "outputs": [],
   "source": [
    "usersdf= pd.read_csv(\"https://stack-overflow-casestudy-datasets.s3.amazonaws.com/Users.csv\", encoding='latin-1')"
   ]
  },
  {
   "cell_type": "markdown",
   "metadata": {
    "id": "DyUKhRuxWnIJ"
   },
   "source": [
    "# **Cleaning datasets**\n",
    "\n"
   ]
  },
  {
   "cell_type": "code",
   "execution_count": 6,
   "metadata": {
    "colab": {
     "base_uri": "https://localhost:8080/",
     "height": 195
    },
    "id": "fQg8TztKD1F7",
    "outputId": "e99bcdd7-27ae-4974-abb1-d8bd47b06441"
   },
   "outputs": [
    {
     "data": {
      "text/html": [
       "<div>\n",
       "<style scoped>\n",
       "    .dataframe tbody tr th:only-of-type {\n",
       "        vertical-align: middle;\n",
       "    }\n",
       "\n",
       "    .dataframe tbody tr th {\n",
       "        vertical-align: top;\n",
       "    }\n",
       "\n",
       "    .dataframe thead th {\n",
       "        text-align: right;\n",
       "    }\n",
       "</style>\n",
       "<table border=\"1\" class=\"dataframe\">\n",
       "  <thead>\n",
       "    <tr style=\"text-align: right;\">\n",
       "      <th></th>\n",
       "      <th>Id</th>\n",
       "      <th>OwnerUserId</th>\n",
       "      <th>CreationDate</th>\n",
       "      <th>ClosedDate</th>\n",
       "      <th>Score</th>\n",
       "      <th>Title</th>\n",
       "      <th>Body</th>\n",
       "    </tr>\n",
       "  </thead>\n",
       "  <tbody>\n",
       "    <tr>\n",
       "      <th>0</th>\n",
       "      <td>80</td>\n",
       "      <td>26.0</td>\n",
       "      <td>2008-08-01T13:57:07Z</td>\n",
       "      <td>NaN</td>\n",
       "      <td>26</td>\n",
       "      <td>SQLStatement.execute() - multiple queries in o...</td>\n",
       "      <td>&lt;p&gt;I've written a database generation script i...</td>\n",
       "    </tr>\n",
       "    <tr>\n",
       "      <th>1</th>\n",
       "      <td>90</td>\n",
       "      <td>58.0</td>\n",
       "      <td>2008-08-01T14:41:24Z</td>\n",
       "      <td>2012-12-26T03:45:49Z</td>\n",
       "      <td>144</td>\n",
       "      <td>Good branching and merging tutorials for Torto...</td>\n",
       "      <td>&lt;p&gt;Are there any really good tutorials explain...</td>\n",
       "    </tr>\n",
       "    <tr>\n",
       "      <th>2</th>\n",
       "      <td>120</td>\n",
       "      <td>83.0</td>\n",
       "      <td>2008-08-01T15:50:08Z</td>\n",
       "      <td>NaN</td>\n",
       "      <td>21</td>\n",
       "      <td>ASP.NET Site Maps</td>\n",
       "      <td>&lt;p&gt;Has anyone got experience creating &lt;strong&gt;...</td>\n",
       "    </tr>\n",
       "    <tr>\n",
       "      <th>3</th>\n",
       "      <td>180</td>\n",
       "      <td>2089740.0</td>\n",
       "      <td>2008-08-01T18:42:19Z</td>\n",
       "      <td>NaN</td>\n",
       "      <td>53</td>\n",
       "      <td>Function for creating color wheels</td>\n",
       "      <td>&lt;p&gt;This is something I've pseudo-solved many t...</td>\n",
       "    </tr>\n",
       "    <tr>\n",
       "      <th>4</th>\n",
       "      <td>260</td>\n",
       "      <td>91.0</td>\n",
       "      <td>2008-08-01T23:22:08Z</td>\n",
       "      <td>NaN</td>\n",
       "      <td>49</td>\n",
       "      <td>Adding scripting functionality to .NET applica...</td>\n",
       "      <td>&lt;p&gt;I have a little game written in C#. It uses...</td>\n",
       "    </tr>\n",
       "  </tbody>\n",
       "</table>\n",
       "</div>"
      ],
      "text/plain": [
       "    Id  ...                                               Body\n",
       "0   80  ...  <p>I've written a database generation script i...\n",
       "1   90  ...  <p>Are there any really good tutorials explain...\n",
       "2  120  ...  <p>Has anyone got experience creating <strong>...\n",
       "3  180  ...  <p>This is something I've pseudo-solved many t...\n",
       "4  260  ...  <p>I have a little game written in C#. It uses...\n",
       "\n",
       "[5 rows x 7 columns]"
      ]
     },
     "execution_count": 6,
     "metadata": {
      "tags": []
     },
     "output_type": "execute_result"
    }
   ],
   "source": [
    "quesdf.head()\n"
   ]
  },
  {
   "cell_type": "code",
   "execution_count": 7,
   "metadata": {
    "colab": {
     "base_uri": "https://localhost:8080/"
    },
    "id": "3-2M48DAWUSF",
    "outputId": "ec2d291f-e13c-4a67-bfeb-db0860afa6c1"
   },
   "outputs": [
    {
     "data": {
      "text/plain": [
       "Id                int64\n",
       "OwnerUserId     float64\n",
       "CreationDate     object\n",
       "ClosedDate       object\n",
       "Score             int64\n",
       "Title            object\n",
       "Body             object\n",
       "dtype: object"
      ]
     },
     "execution_count": 7,
     "metadata": {
      "tags": []
     },
     "output_type": "execute_result"
    }
   ],
   "source": [
    "quesdf.dtypes"
   ]
  },
  {
   "cell_type": "code",
   "execution_count": 8,
   "metadata": {
    "colab": {
     "base_uri": "https://localhost:8080/"
    },
    "id": "uJLh1ijJYeM4",
    "outputId": "92c3a007-388c-412e-d174-c488a0fe6c2e"
   },
   "outputs": [
    {
     "name": "stdout",
     "output_type": "stream",
     "text": [
      "<class 'pandas.core.frame.DataFrame'>\n",
      "RangeIndex: 1264216 entries, 0 to 1264215\n",
      "Data columns (total 7 columns):\n",
      " #   Column        Non-Null Count    Dtype  \n",
      "---  ------        --------------    -----  \n",
      " 0   Id            1264216 non-null  int64  \n",
      " 1   OwnerUserId   1249762 non-null  float64\n",
      " 2   CreationDate  1264216 non-null  object \n",
      " 3   ClosedDate    55959 non-null    object \n",
      " 4   Score         1264216 non-null  int64  \n",
      " 5   Title         1264216 non-null  object \n",
      " 6   Body          1264216 non-null  object \n",
      "dtypes: float64(1), int64(2), object(4)\n",
      "memory usage: 67.5+ MB\n"
     ]
    }
   ],
   "source": [
    "quesdf.info()"
   ]
  },
  {
   "cell_type": "code",
   "execution_count": 9,
   "metadata": {
    "colab": {
     "base_uri": "https://localhost:8080/",
     "height": 195
    },
    "id": "eCXDluzUorsA",
    "outputId": "aa5c489d-3a6c-40f1-ab95-50f70d6728c2"
   },
   "outputs": [
    {
     "data": {
      "text/html": [
       "<div>\n",
       "<style scoped>\n",
       "    .dataframe tbody tr th:only-of-type {\n",
       "        vertical-align: middle;\n",
       "    }\n",
       "\n",
       "    .dataframe tbody tr th {\n",
       "        vertical-align: top;\n",
       "    }\n",
       "\n",
       "    .dataframe thead th {\n",
       "        text-align: right;\n",
       "    }\n",
       "</style>\n",
       "<table border=\"1\" class=\"dataframe\">\n",
       "  <thead>\n",
       "    <tr style=\"text-align: right;\">\n",
       "      <th></th>\n",
       "      <th>Id</th>\n",
       "      <th>OwnerUserId</th>\n",
       "      <th>CreationDate</th>\n",
       "      <th>ParentId</th>\n",
       "      <th>Score</th>\n",
       "      <th>Body</th>\n",
       "    </tr>\n",
       "  </thead>\n",
       "  <tbody>\n",
       "    <tr>\n",
       "      <th>0</th>\n",
       "      <td>92</td>\n",
       "      <td>61.0</td>\n",
       "      <td>2008-08-01T14:45:37Z</td>\n",
       "      <td>90</td>\n",
       "      <td>13</td>\n",
       "      <td>&lt;p&gt;&lt;a href=\"http://svnbook.red-bean.com/\"&gt;Vers...</td>\n",
       "    </tr>\n",
       "    <tr>\n",
       "      <th>1</th>\n",
       "      <td>124</td>\n",
       "      <td>26.0</td>\n",
       "      <td>2008-08-01T16:09:47Z</td>\n",
       "      <td>80</td>\n",
       "      <td>12</td>\n",
       "      <td>&lt;p&gt;I wound up using this. It is a kind of a ha...</td>\n",
       "    </tr>\n",
       "    <tr>\n",
       "      <th>2</th>\n",
       "      <td>199</td>\n",
       "      <td>50.0</td>\n",
       "      <td>2008-08-01T19:36:46Z</td>\n",
       "      <td>180</td>\n",
       "      <td>1</td>\n",
       "      <td>&lt;p&gt;I've read somewhere the human eye can't dis...</td>\n",
       "    </tr>\n",
       "    <tr>\n",
       "      <th>3</th>\n",
       "      <td>269</td>\n",
       "      <td>91.0</td>\n",
       "      <td>2008-08-01T23:49:57Z</td>\n",
       "      <td>260</td>\n",
       "      <td>4</td>\n",
       "      <td>&lt;p&gt;Yes, I thought about that, but I soon figur...</td>\n",
       "    </tr>\n",
       "    <tr>\n",
       "      <th>4</th>\n",
       "      <td>307</td>\n",
       "      <td>49.0</td>\n",
       "      <td>2008-08-02T01:49:46Z</td>\n",
       "      <td>260</td>\n",
       "      <td>28</td>\n",
       "      <td>&lt;p&gt;&lt;a href=\"http://www.codeproject.com/Article...</td>\n",
       "    </tr>\n",
       "  </tbody>\n",
       "</table>\n",
       "</div>"
      ],
      "text/plain": [
       "    Id  OwnerUserId  ... Score                                               Body\n",
       "0   92         61.0  ...    13  <p><a href=\"http://svnbook.red-bean.com/\">Vers...\n",
       "1  124         26.0  ...    12  <p>I wound up using this. It is a kind of a ha...\n",
       "2  199         50.0  ...     1  <p>I've read somewhere the human eye can't dis...\n",
       "3  269         91.0  ...     4  <p>Yes, I thought about that, but I soon figur...\n",
       "4  307         49.0  ...    28  <p><a href=\"http://www.codeproject.com/Article...\n",
       "\n",
       "[5 rows x 6 columns]"
      ]
     },
     "execution_count": 9,
     "metadata": {
      "tags": []
     },
     "output_type": "execute_result"
    }
   ],
   "source": [
    "ansdf.head()"
   ]
  },
  {
   "cell_type": "code",
   "execution_count": 10,
   "metadata": {
    "colab": {
     "base_uri": "https://localhost:8080/"
    },
    "id": "wGkZAoEWo2pY",
    "outputId": "820c0bd4-94de-44e7-fdce-d8ac145f50a5"
   },
   "outputs": [
    {
     "data": {
      "text/plain": [
       "Id                int64\n",
       "OwnerUserId     float64\n",
       "CreationDate     object\n",
       "ParentId          int64\n",
       "Score             int64\n",
       "Body             object\n",
       "dtype: object"
      ]
     },
     "execution_count": 10,
     "metadata": {
      "tags": []
     },
     "output_type": "execute_result"
    }
   ],
   "source": [
    "ansdf.dtypes"
   ]
  },
  {
   "cell_type": "code",
   "execution_count": 11,
   "metadata": {
    "colab": {
     "base_uri": "https://localhost:8080/"
    },
    "id": "_v4x42kbovlw",
    "outputId": "88014116-8f76-477a-cce4-cdff98205c83"
   },
   "outputs": [
    {
     "name": "stdout",
     "output_type": "stream",
     "text": [
      "<class 'pandas.core.frame.DataFrame'>\n",
      "RangeIndex: 2014516 entries, 0 to 2014515\n",
      "Data columns (total 6 columns):\n",
      " #   Column        Dtype  \n",
      "---  ------        -----  \n",
      " 0   Id            int64  \n",
      " 1   OwnerUserId   float64\n",
      " 2   CreationDate  object \n",
      " 3   ParentId      int64  \n",
      " 4   Score         int64  \n",
      " 5   Body          object \n",
      "dtypes: float64(1), int64(3), object(2)\n",
      "memory usage: 92.2+ MB\n"
     ]
    }
   ],
   "source": [
    "ansdf.info()"
   ]
  },
  {
   "cell_type": "code",
   "execution_count": 12,
   "metadata": {
    "colab": {
     "base_uri": "https://localhost:8080/"
    },
    "id": "5H-WgZRwjTdj",
    "outputId": "a3bd4fb0-c68d-4fa9-abb9-adee4bb1870e"
   },
   "outputs": [
    {
     "data": {
      "text/plain": [
       "13200"
      ]
     },
     "execution_count": 12,
     "metadata": {
      "tags": []
     },
     "output_type": "execute_result"
    }
   ],
   "source": [
    "ansdf.OwnerUserId.isnull().sum()"
   ]
  },
  {
   "cell_type": "code",
   "execution_count": 13,
   "metadata": {
    "colab": {
     "base_uri": "https://localhost:8080/"
    },
    "id": "pBQW605BlShU",
    "outputId": "1a850e21-3caf-4ed4-8c35-1fd9081e53b3"
   },
   "outputs": [
    {
     "data": {
      "text/plain": [
       "1102568"
      ]
     },
     "execution_count": 13,
     "metadata": {
      "tags": []
     },
     "output_type": "execute_result"
    }
   ],
   "source": [
    "ansdf.ParentId.nunique()"
   ]
  },
  {
   "cell_type": "code",
   "execution_count": 14,
   "metadata": {
    "colab": {
     "base_uri": "https://localhost:8080/",
     "height": 195
    },
    "id": "LJlwTMHnoIbt",
    "outputId": "ad74e2b2-1d14-4242-8b74-f29289a1d483"
   },
   "outputs": [
    {
     "data": {
      "text/html": [
       "<div>\n",
       "<style scoped>\n",
       "    .dataframe tbody tr th:only-of-type {\n",
       "        vertical-align: middle;\n",
       "    }\n",
       "\n",
       "    .dataframe tbody tr th {\n",
       "        vertical-align: top;\n",
       "    }\n",
       "\n",
       "    .dataframe thead th {\n",
       "        text-align: right;\n",
       "    }\n",
       "</style>\n",
       "<table border=\"1\" class=\"dataframe\">\n",
       "  <thead>\n",
       "    <tr style=\"text-align: right;\">\n",
       "      <th></th>\n",
       "      <th>Id</th>\n",
       "      <th>Tag</th>\n",
       "    </tr>\n",
       "  </thead>\n",
       "  <tbody>\n",
       "    <tr>\n",
       "      <th>0</th>\n",
       "      <td>80</td>\n",
       "      <td>flex</td>\n",
       "    </tr>\n",
       "    <tr>\n",
       "      <th>1</th>\n",
       "      <td>80</td>\n",
       "      <td>actionscript-3</td>\n",
       "    </tr>\n",
       "    <tr>\n",
       "      <th>2</th>\n",
       "      <td>80</td>\n",
       "      <td>air</td>\n",
       "    </tr>\n",
       "    <tr>\n",
       "      <th>3</th>\n",
       "      <td>90</td>\n",
       "      <td>svn</td>\n",
       "    </tr>\n",
       "    <tr>\n",
       "      <th>4</th>\n",
       "      <td>90</td>\n",
       "      <td>tortoisesvn</td>\n",
       "    </tr>\n",
       "  </tbody>\n",
       "</table>\n",
       "</div>"
      ],
      "text/plain": [
       "   Id             Tag\n",
       "0  80            flex\n",
       "1  80  actionscript-3\n",
       "2  80             air\n",
       "3  90             svn\n",
       "4  90     tortoisesvn"
      ]
     },
     "execution_count": 14,
     "metadata": {
      "tags": []
     },
     "output_type": "execute_result"
    }
   ],
   "source": [
    "tagsdf.head()"
   ]
  },
  {
   "cell_type": "markdown",
   "metadata": {
    "id": "ESiYwXfVxLYF"
   },
   "source": [
    "A question can have multiple tags. Here, the Id given is that of the question so the Id in tagsdf needn't be unique"
   ]
  },
  {
   "cell_type": "code",
   "execution_count": 15,
   "metadata": {
    "colab": {
     "base_uri": "https://localhost:8080/"
    },
    "id": "JdKqiyuqt9f_",
    "outputId": "c4d17618-9ffe-4b85-834d-34dfe1d615ee"
   },
   "outputs": [
    {
     "data": {
      "text/plain": [
       "Id      int64\n",
       "Tag    object\n",
       "dtype: object"
      ]
     },
     "execution_count": 15,
     "metadata": {
      "tags": []
     },
     "output_type": "execute_result"
    }
   ],
   "source": [
    "tagsdf.dtypes"
   ]
  },
  {
   "cell_type": "code",
   "execution_count": 16,
   "metadata": {
    "colab": {
     "base_uri": "https://localhost:8080/"
    },
    "id": "A0kovcIIt_P4",
    "outputId": "6b204f44-6d5a-4ac1-a393-1e1f0d9ea59b"
   },
   "outputs": [
    {
     "name": "stdout",
     "output_type": "stream",
     "text": [
      "<class 'pandas.core.frame.DataFrame'>\n",
      "RangeIndex: 3750994 entries, 0 to 3750993\n",
      "Data columns (total 2 columns):\n",
      " #   Column  Dtype \n",
      "---  ------  ----- \n",
      " 0   Id      int64 \n",
      " 1   Tag     object\n",
      "dtypes: int64(1), object(1)\n",
      "memory usage: 57.2+ MB\n"
     ]
    }
   ],
   "source": [
    "tagsdf.info()"
   ]
  },
  {
   "cell_type": "code",
   "execution_count": 17,
   "metadata": {
    "colab": {
     "base_uri": "https://localhost:8080/"
    },
    "id": "zX5C0c7hVxvb",
    "outputId": "a42f3dcf-3932-45d2-ecd3-0cb90f663b10"
   },
   "outputs": [
    {
     "data": {
      "text/plain": [
       "javascript              124155\n",
       "java                    115212\n",
       "c#                      101186\n",
       "php                      98808\n",
       "android                  90659\n",
       "                         ...  \n",
       "application-client           1\n",
       "xamarin.uwp                  1\n",
       "polyglot-persistance         1\n",
       "dmx-ssas                     1\n",
       "onlyoffice                   1\n",
       "Name: Tag, Length: 37034, dtype: int64"
      ]
     },
     "execution_count": 17,
     "metadata": {
      "tags": []
     },
     "output_type": "execute_result"
    }
   ],
   "source": [
    "tagsdf.Tag.value_counts()"
   ]
  },
  {
   "cell_type": "code",
   "execution_count": 18,
   "metadata": {
    "colab": {
     "base_uri": "https://localhost:8080/"
    },
    "id": "NWi55Oca8jOu",
    "outputId": "f3dad260-a466-424e-d53a-f31ba70807f2"
   },
   "outputs": [
    {
     "data": {
      "text/plain": [
       "1264216"
      ]
     },
     "execution_count": 18,
     "metadata": {
      "tags": []
     },
     "output_type": "execute_result"
    }
   ],
   "source": [
    "tagsdf.Id.nunique()"
   ]
  },
  {
   "cell_type": "code",
   "execution_count": 19,
   "metadata": {
    "colab": {
     "base_uri": "https://localhost:8080/",
     "height": 343
    },
    "id": "MWDyUfbEV_Ey",
    "outputId": "89899ef2-458d-474b-d311-634dc0688150"
   },
   "outputs": [
    {
     "data": {
      "text/html": [
       "<div>\n",
       "<style scoped>\n",
       "    .dataframe tbody tr th:only-of-type {\n",
       "        vertical-align: middle;\n",
       "    }\n",
       "\n",
       "    .dataframe tbody tr th {\n",
       "        vertical-align: top;\n",
       "    }\n",
       "\n",
       "    .dataframe thead th {\n",
       "        text-align: right;\n",
       "    }\n",
       "</style>\n",
       "<table border=\"1\" class=\"dataframe\">\n",
       "  <thead>\n",
       "    <tr style=\"text-align: right;\">\n",
       "      <th></th>\n",
       "      <th>Id</th>\n",
       "      <th>Tag</th>\n",
       "    </tr>\n",
       "  </thead>\n",
       "  <tbody>\n",
       "    <tr>\n",
       "      <th>7</th>\n",
       "      <td>120</td>\n",
       "      <td>sql</td>\n",
       "    </tr>\n",
       "    <tr>\n",
       "      <th>67</th>\n",
       "      <td>1970</td>\n",
       "      <td>sql</td>\n",
       "    </tr>\n",
       "    <tr>\n",
       "      <th>72</th>\n",
       "      <td>2120</td>\n",
       "      <td>sql</td>\n",
       "    </tr>\n",
       "    <tr>\n",
       "      <th>99</th>\n",
       "      <td>2840</td>\n",
       "      <td>sql</td>\n",
       "    </tr>\n",
       "    <tr>\n",
       "      <th>130</th>\n",
       "      <td>4110</td>\n",
       "      <td>sql</td>\n",
       "    </tr>\n",
       "    <tr>\n",
       "      <th>184</th>\n",
       "      <td>6340</td>\n",
       "      <td>sql</td>\n",
       "    </tr>\n",
       "    <tr>\n",
       "      <th>266</th>\n",
       "      <td>10190</td>\n",
       "      <td>sql</td>\n",
       "    </tr>\n",
       "    <tr>\n",
       "      <th>312</th>\n",
       "      <td>11060</td>\n",
       "      <td>python</td>\n",
       "    </tr>\n",
       "    <tr>\n",
       "      <th>392</th>\n",
       "      <td>13540</td>\n",
       "      <td>sql</td>\n",
       "    </tr>\n",
       "    <tr>\n",
       "      <th>503</th>\n",
       "      <td>17250</td>\n",
       "      <td>python</td>\n",
       "    </tr>\n",
       "  </tbody>\n",
       "</table>\n",
       "</div>"
      ],
      "text/plain": [
       "        Id     Tag\n",
       "7      120     sql\n",
       "67    1970     sql\n",
       "72    2120     sql\n",
       "99    2840     sql\n",
       "130   4110     sql\n",
       "184   6340     sql\n",
       "266  10190     sql\n",
       "312  11060  python\n",
       "392  13540     sql\n",
       "503  17250  python"
      ]
     },
     "execution_count": 19,
     "metadata": {
      "tags": []
     },
     "output_type": "execute_result"
    }
   ],
   "source": [
    "DStagsdf= tagsdf[(tagsdf['Tag']==\"python\") | (tagsdf['Tag']==\"matlab\")  | (tagsdf['Tag']==\"r\") | (tagsdf['Tag']==\"sas\") | (tagsdf['Tag']==\"sql\")]\n",
    "DStagsdf.head(10)"
   ]
  },
  {
   "cell_type": "code",
   "execution_count": 20,
   "metadata": {
    "colab": {
     "base_uri": "https://localhost:8080/",
     "height": 195
    },
    "id": "xuQK1NeqDydA",
    "outputId": "74cff94c-e64f-4c6a-973b-02f2de481ec3"
   },
   "outputs": [
    {
     "data": {
      "text/html": [
       "<div>\n",
       "<style scoped>\n",
       "    .dataframe tbody tr th:only-of-type {\n",
       "        vertical-align: middle;\n",
       "    }\n",
       "\n",
       "    .dataframe tbody tr th {\n",
       "        vertical-align: top;\n",
       "    }\n",
       "\n",
       "    .dataframe thead th {\n",
       "        text-align: right;\n",
       "    }\n",
       "</style>\n",
       "<table border=\"1\" class=\"dataframe\">\n",
       "  <thead>\n",
       "    <tr style=\"text-align: right;\">\n",
       "      <th></th>\n",
       "      <th>Unnamed: 0</th>\n",
       "      <th>id</th>\n",
       "      <th>display_name</th>\n",
       "      <th>creation_date</th>\n",
       "      <th>last_access_date</th>\n",
       "      <th>reputation</th>\n",
       "      <th>up_votes</th>\n",
       "      <th>down_votes</th>\n",
       "      <th>views</th>\n",
       "    </tr>\n",
       "  </thead>\n",
       "  <tbody>\n",
       "    <tr>\n",
       "      <th>0</th>\n",
       "      <td>0</td>\n",
       "      <td>26</td>\n",
       "      <td>Shawn</td>\n",
       "      <td>2008-08-01 12:18:14.52 UTC</td>\n",
       "      <td>2018-04-11 04:40:35.66 UTC</td>\n",
       "      <td>11820</td>\n",
       "      <td>565</td>\n",
       "      <td>67</td>\n",
       "      <td>3547</td>\n",
       "    </tr>\n",
       "    <tr>\n",
       "      <th>1</th>\n",
       "      <td>1</td>\n",
       "      <td>26</td>\n",
       "      <td>Shawn</td>\n",
       "      <td>2008-08-01 12:18:14.52 UTC</td>\n",
       "      <td>2018-04-11 04:40:35.66 UTC</td>\n",
       "      <td>11820</td>\n",
       "      <td>565</td>\n",
       "      <td>67</td>\n",
       "      <td>3547</td>\n",
       "    </tr>\n",
       "    <tr>\n",
       "      <th>2</th>\n",
       "      <td>2</td>\n",
       "      <td>26</td>\n",
       "      <td>Shawn</td>\n",
       "      <td>2008-08-01 12:18:14.52 UTC</td>\n",
       "      <td>2018-04-11 04:40:35.66 UTC</td>\n",
       "      <td>11820</td>\n",
       "      <td>565</td>\n",
       "      <td>67</td>\n",
       "      <td>3547</td>\n",
       "    </tr>\n",
       "    <tr>\n",
       "      <th>3</th>\n",
       "      <td>3</td>\n",
       "      <td>26</td>\n",
       "      <td>Shawn</td>\n",
       "      <td>2008-08-01 12:18:14.52 UTC</td>\n",
       "      <td>2018-04-11 04:40:35.66 UTC</td>\n",
       "      <td>11820</td>\n",
       "      <td>565</td>\n",
       "      <td>67</td>\n",
       "      <td>3547</td>\n",
       "    </tr>\n",
       "    <tr>\n",
       "      <th>4</th>\n",
       "      <td>4</td>\n",
       "      <td>26</td>\n",
       "      <td>Shawn</td>\n",
       "      <td>2008-08-01 12:18:14.52 UTC</td>\n",
       "      <td>2018-04-11 04:40:35.66 UTC</td>\n",
       "      <td>11820</td>\n",
       "      <td>565</td>\n",
       "      <td>67</td>\n",
       "      <td>3547</td>\n",
       "    </tr>\n",
       "  </tbody>\n",
       "</table>\n",
       "</div>"
      ],
      "text/plain": [
       "   Unnamed: 0  id display_name  ... up_votes down_votes  views\n",
       "0           0  26        Shawn  ...      565         67   3547\n",
       "1           1  26        Shawn  ...      565         67   3547\n",
       "2           2  26        Shawn  ...      565         67   3547\n",
       "3           3  26        Shawn  ...      565         67   3547\n",
       "4           4  26        Shawn  ...      565         67   3547\n",
       "\n",
       "[5 rows x 9 columns]"
      ]
     },
     "execution_count": 20,
     "metadata": {
      "tags": []
     },
     "output_type": "execute_result"
    }
   ],
   "source": [
    "usersdf.head()"
   ]
  },
  {
   "cell_type": "code",
   "execution_count": 21,
   "metadata": {
    "colab": {
     "base_uri": "https://localhost:8080/"
    },
    "id": "_Xy6PADJobJl",
    "outputId": "ce353517-91a9-4d80-fa40-dacc7b73ed81"
   },
   "outputs": [
    {
     "data": {
      "text/plain": [
       "Unnamed: 0           int64\n",
       "id                   int64\n",
       "display_name        object\n",
       "creation_date       object\n",
       "last_access_date    object\n",
       "reputation           int64\n",
       "up_votes             int64\n",
       "down_votes           int64\n",
       "views                int64\n",
       "dtype: object"
      ]
     },
     "execution_count": 21,
     "metadata": {
      "tags": []
     },
     "output_type": "execute_result"
    }
   ],
   "source": [
    "usersdf.dtypes"
   ]
  },
  {
   "cell_type": "code",
   "execution_count": 22,
   "metadata": {
    "colab": {
     "base_uri": "https://localhost:8080/"
    },
    "id": "I8qbRIDVuYJd",
    "outputId": "1702abff-d64f-422a-cfe4-f08aa480366f"
   },
   "outputs": [
    {
     "name": "stdout",
     "output_type": "stream",
     "text": [
      "<class 'pandas.core.frame.DataFrame'>\n",
      "RangeIndex: 1990480 entries, 0 to 1990479\n",
      "Data columns (total 9 columns):\n",
      " #   Column            Dtype \n",
      "---  ------            ----- \n",
      " 0   Unnamed: 0        int64 \n",
      " 1   id                int64 \n",
      " 2   display_name      object\n",
      " 3   creation_date     object\n",
      " 4   last_access_date  object\n",
      " 5   reputation        int64 \n",
      " 6   up_votes          int64 \n",
      " 7   down_votes        int64 \n",
      " 8   views             int64 \n",
      "dtypes: int64(6), object(3)\n",
      "memory usage: 136.7+ MB\n"
     ]
    }
   ],
   "source": [
    "usersdf.info()"
   ]
  },
  {
   "cell_type": "markdown",
   "metadata": {
    "id": "9NhdDlKB8RL5"
   },
   "source": [
    "### Standardising and Changing to appropriate data types"
   ]
  },
  {
   "cell_type": "code",
   "execution_count": 23,
   "metadata": {
    "id": "qXP1qoSrUc9X"
   },
   "outputs": [],
   "source": [
    "quesdf.CreationDate= quesdf.CreationDate.apply(lambda x: str(x).split('+')[0])"
   ]
  },
  {
   "cell_type": "code",
   "execution_count": 24,
   "metadata": {
    "id": "-oOFl4GG8YjU"
   },
   "outputs": [],
   "source": [
    "quesdf['CreationDate']= pd.to_datetime(quesdf['CreationDate'])"
   ]
  },
  {
   "cell_type": "code",
   "execution_count": 25,
   "metadata": {
    "id": "_alyFCtR8rhP"
   },
   "outputs": [],
   "source": [
    "quesdf['ClosedDate']= pd.to_datetime(quesdf['ClosedDate'])"
   ]
  },
  {
   "cell_type": "code",
   "execution_count": 26,
   "metadata": {
    "colab": {
     "base_uri": "https://localhost:8080/"
    },
    "id": "kI3yHgAa8uxJ",
    "outputId": "c2ad1e42-94cf-4768-fedb-267ca5b23cc0"
   },
   "outputs": [
    {
     "name": "stdout",
     "output_type": "stream",
     "text": [
      "<class 'pandas.core.frame.DataFrame'>\n",
      "RangeIndex: 1264216 entries, 0 to 1264215\n",
      "Data columns (total 7 columns):\n",
      " #   Column        Non-Null Count    Dtype              \n",
      "---  ------        --------------    -----              \n",
      " 0   Id            1264216 non-null  int64              \n",
      " 1   OwnerUserId   1249762 non-null  float64            \n",
      " 2   CreationDate  1264216 non-null  datetime64[ns, UTC]\n",
      " 3   ClosedDate    55959 non-null    datetime64[ns, UTC]\n",
      " 4   Score         1264216 non-null  int64              \n",
      " 5   Title         1264216 non-null  object             \n",
      " 6   Body          1264216 non-null  object             \n",
      "dtypes: datetime64[ns, UTC](2), float64(1), int64(2), object(2)\n",
      "memory usage: 67.5+ MB\n"
     ]
    }
   ],
   "source": [
    "quesdf.info()"
   ]
  },
  {
   "cell_type": "code",
   "execution_count": 27,
   "metadata": {
    "id": "DFhF2dnYVu8K"
   },
   "outputs": [],
   "source": [
    "ansdf.CreationDate= ansdf.CreationDate.apply(lambda x: str(x).split('+')[0])"
   ]
  },
  {
   "cell_type": "code",
   "execution_count": 28,
   "metadata": {
    "id": "cCE8vk3pn3_Z"
   },
   "outputs": [],
   "source": [
    "ansdf['CreationDate']= pd.to_datetime(ansdf['CreationDate'])"
   ]
  },
  {
   "cell_type": "code",
   "execution_count": 29,
   "metadata": {
    "colab": {
     "base_uri": "https://localhost:8080/"
    },
    "id": "wTDI4mgzusNx",
    "outputId": "37258c64-57fe-4e24-a4c5-f1bb4ba0270a"
   },
   "outputs": [
    {
     "name": "stdout",
     "output_type": "stream",
     "text": [
      "<class 'pandas.core.frame.DataFrame'>\n",
      "RangeIndex: 2014516 entries, 0 to 2014515\n",
      "Data columns (total 6 columns):\n",
      " #   Column        Dtype              \n",
      "---  ------        -----              \n",
      " 0   Id            int64              \n",
      " 1   OwnerUserId   float64            \n",
      " 2   CreationDate  datetime64[ns, UTC]\n",
      " 3   ParentId      int64              \n",
      " 4   Score         int64              \n",
      " 5   Body          object             \n",
      "dtypes: datetime64[ns, UTC](1), float64(1), int64(3), object(1)\n",
      "memory usage: 92.2+ MB\n"
     ]
    }
   ],
   "source": [
    "ansdf.info()"
   ]
  },
  {
   "cell_type": "code",
   "execution_count": 30,
   "metadata": {
    "id": "vdJwODWSTnnL"
   },
   "outputs": [],
   "source": [
    "usersdf.creation_date= usersdf.creation_date.apply(lambda x: x.split('+')[0])"
   ]
  },
  {
   "cell_type": "code",
   "execution_count": 31,
   "metadata": {
    "id": "8IW_DXYuuvK-"
   },
   "outputs": [],
   "source": [
    "usersdf['creation_date']=pd.to_datetime(usersdf['creation_date'])"
   ]
  },
  {
   "cell_type": "code",
   "execution_count": 32,
   "metadata": {
    "id": "Eb52p_x5NJr5"
   },
   "outputs": [],
   "source": [
    "usersdf.last_access_date= usersdf.last_access_date.apply(lambda x: str(x).split('+')[0])\n"
   ]
  },
  {
   "cell_type": "code",
   "execution_count": 33,
   "metadata": {
    "id": "DnirED_tvGZh"
   },
   "outputs": [],
   "source": [
    "usersdf['last_access_date']= pd.to_datetime(usersdf['last_access_date'])"
   ]
  },
  {
   "cell_type": "code",
   "execution_count": 34,
   "metadata": {
    "colab": {
     "base_uri": "https://localhost:8080/"
    },
    "id": "z9me-1sewrJC",
    "outputId": "9effbafa-f868-4911-dbb7-45eb910f3b73"
   },
   "outputs": [
    {
     "name": "stdout",
     "output_type": "stream",
     "text": [
      "<class 'pandas.core.frame.DataFrame'>\n",
      "RangeIndex: 1990480 entries, 0 to 1990479\n",
      "Data columns (total 9 columns):\n",
      " #   Column            Dtype              \n",
      "---  ------            -----              \n",
      " 0   Unnamed: 0        int64              \n",
      " 1   id                int64              \n",
      " 2   display_name      object             \n",
      " 3   creation_date     datetime64[ns, UTC]\n",
      " 4   last_access_date  datetime64[ns, UTC]\n",
      " 5   reputation        int64              \n",
      " 6   up_votes          int64              \n",
      " 7   down_votes        int64              \n",
      " 8   views             int64              \n",
      "dtypes: datetime64[ns, UTC](2), int64(6), object(1)\n",
      "memory usage: 136.7+ MB\n"
     ]
    }
   ],
   "source": [
    "usersdf.info()"
   ]
  },
  {
   "cell_type": "code",
   "execution_count": 35,
   "metadata": {
    "id": "TU3ldXu2CYA-"
   },
   "outputs": [],
   "source": [
    "usersdf.drop_duplicates(inplace= True)"
   ]
  },
  {
   "cell_type": "code",
   "execution_count": 36,
   "metadata": {
    "colab": {
     "base_uri": "https://localhost:8080/"
    },
    "id": "iTf4o5vUClPg",
    "outputId": "58fe50cd-9576-4178-c86b-d821bcd9678a"
   },
   "outputs": [
    {
     "data": {
      "text/plain": [
       "(1990480, 9)"
      ]
     },
     "execution_count": 36,
     "metadata": {
      "tags": []
     },
     "output_type": "execute_result"
    }
   ],
   "source": [
    "usersdf.shape"
   ]
  },
  {
   "cell_type": "code",
   "execution_count": 37,
   "metadata": {
    "colab": {
     "base_uri": "https://localhost:8080/"
    },
    "id": "Ixf9WnpdDcwM",
    "outputId": "3f712e34-ddd7-49d5-f9c9-323a632a57f6"
   },
   "outputs": [
    {
     "data": {
      "text/plain": [
       "<bound method Series.unique of 0               26\n",
       "1               26\n",
       "2               26\n",
       "3               26\n",
       "4               26\n",
       "            ...   \n",
       "1990475    4228492\n",
       "1990476    6820506\n",
       "1990477    4464432\n",
       "1990478    4605946\n",
       "1990479    6107989\n",
       "Name: id, Length: 1990480, dtype: int64>"
      ]
     },
     "execution_count": 37,
     "metadata": {
      "tags": []
     },
     "output_type": "execute_result"
    }
   ],
   "source": [
    "usersdf.id.unique"
   ]
  },
  {
   "cell_type": "markdown",
   "metadata": {
    "id": "N7S5EcY6iccf"
   },
   "source": [
    "### Handling the null values "
   ]
  },
  {
   "cell_type": "code",
   "execution_count": 38,
   "metadata": {
    "colab": {
     "base_uri": "https://localhost:8080/"
    },
    "id": "GTLAC8Sdr0k9",
    "outputId": "2021807e-8737-457a-bb73-72e634fb903e"
   },
   "outputs": [
    {
     "data": {
      "text/plain": [
       "14454"
      ]
     },
     "execution_count": 38,
     "metadata": {
      "tags": []
     },
     "output_type": "execute_result"
    }
   ],
   "source": [
    "quesdf.OwnerUserId.isnull().sum()"
   ]
  },
  {
   "cell_type": "code",
   "execution_count": 39,
   "metadata": {
    "id": "AD-W-18wNVC1"
   },
   "outputs": [],
   "source": [
    "quesdf= quesdf[~quesdf['OwnerUserId'].isnull()]"
   ]
  },
  {
   "cell_type": "code",
   "execution_count": 40,
   "metadata": {
    "colab": {
     "base_uri": "https://localhost:8080/"
    },
    "id": "iNFmrasJ--rl",
    "outputId": "bd1c61ff-5d4b-420a-f2f2-cf15e5323d31"
   },
   "outputs": [
    {
     "data": {
      "text/plain": [
       "0"
      ]
     },
     "execution_count": 40,
     "metadata": {
      "tags": []
     },
     "output_type": "execute_result"
    }
   ],
   "source": [
    "quesdf.OwnerUserId.isnull().sum()"
   ]
  },
  {
   "cell_type": "code",
   "execution_count": 41,
   "metadata": {
    "colab": {
     "base_uri": "https://localhost:8080/"
    },
    "id": "8lW_PSoVsC3L",
    "outputId": "54e0d5c7-a087-4175-eabd-64745ff5f40e"
   },
   "outputs": [
    {
     "data": {
      "text/plain": [
       "1194522"
      ]
     },
     "execution_count": 41,
     "metadata": {
      "tags": []
     },
     "output_type": "execute_result"
    }
   ],
   "source": [
    "quesdf.ClosedDate.isnull().sum()"
   ]
  },
  {
   "cell_type": "code",
   "execution_count": 42,
   "metadata": {
    "colab": {
     "base_uri": "https://localhost:8080/"
    },
    "id": "TlphnlUxsIKC",
    "outputId": "08fa0521-4ef4-413e-9f40-b0223a8e9735"
   },
   "outputs": [
    {
     "data": {
      "text/plain": [
       "55240"
      ]
     },
     "execution_count": 42,
     "metadata": {
      "tags": []
     },
     "output_type": "execute_result"
    }
   ],
   "source": [
    "quesdf['ClosedDate'].notnull().sum()"
   ]
  },
  {
   "cell_type": "code",
   "execution_count": 43,
   "metadata": {
    "colab": {
     "base_uri": "https://localhost:8080/",
     "height": 402
    },
    "id": "4d54kJ0nsU6W",
    "outputId": "d3270a56-934a-4b3c-8924-1b12a67ffcbe"
   },
   "outputs": [
    {
     "data": {
      "text/html": [
       "<div>\n",
       "<style scoped>\n",
       "    .dataframe tbody tr th:only-of-type {\n",
       "        vertical-align: middle;\n",
       "    }\n",
       "\n",
       "    .dataframe tbody tr th {\n",
       "        vertical-align: top;\n",
       "    }\n",
       "\n",
       "    .dataframe thead th {\n",
       "        text-align: right;\n",
       "    }\n",
       "</style>\n",
       "<table border=\"1\" class=\"dataframe\">\n",
       "  <thead>\n",
       "    <tr style=\"text-align: right;\">\n",
       "      <th></th>\n",
       "      <th>Id</th>\n",
       "      <th>OwnerUserId</th>\n",
       "      <th>CreationDate</th>\n",
       "      <th>ClosedDate</th>\n",
       "      <th>Score</th>\n",
       "      <th>Title</th>\n",
       "      <th>Body</th>\n",
       "    </tr>\n",
       "  </thead>\n",
       "  <tbody>\n",
       "    <tr>\n",
       "      <th>1</th>\n",
       "      <td>90</td>\n",
       "      <td>58.0</td>\n",
       "      <td>2008-08-01 14:41:24+00:00</td>\n",
       "      <td>2012-12-26 03:45:49+00:00</td>\n",
       "      <td>144</td>\n",
       "      <td>Good branching and merging tutorials for Torto...</td>\n",
       "      <td>&lt;p&gt;Are there any really good tutorials explain...</td>\n",
       "    </tr>\n",
       "    <tr>\n",
       "      <th>6</th>\n",
       "      <td>470</td>\n",
       "      <td>71.0</td>\n",
       "      <td>2008-08-02 15:11:47+00:00</td>\n",
       "      <td>2016-03-26 05:23:29+00:00</td>\n",
       "      <td>13</td>\n",
       "      <td>Homegrown consumption of web services</td>\n",
       "      <td>&lt;p&gt;I've been writing a few web services for a ...</td>\n",
       "    </tr>\n",
       "    <tr>\n",
       "      <th>27</th>\n",
       "      <td>2540</td>\n",
       "      <td>136.0</td>\n",
       "      <td>2008-08-05 16:30:37+00:00</td>\n",
       "      <td>2014-04-03 15:36:28+00:00</td>\n",
       "      <td>39</td>\n",
       "      <td>Good STL-like library for C</td>\n",
       "      <td>&lt;p&gt;What are good libraries for C with datastru...</td>\n",
       "    </tr>\n",
       "    <tr>\n",
       "      <th>29</th>\n",
       "      <td>2630</td>\n",
       "      <td>17.0</td>\n",
       "      <td>2008-08-05 18:01:32+00:00</td>\n",
       "      <td>2012-02-22 01:58:23+00:00</td>\n",
       "      <td>14</td>\n",
       "      <td>What are your favorite Powershell Cmdlets?</td>\n",
       "      <td>&lt;p&gt;I just found /n softwares free Powershell N...</td>\n",
       "    </tr>\n",
       "    <tr>\n",
       "      <th>35</th>\n",
       "      <td>2970</td>\n",
       "      <td>58.0</td>\n",
       "      <td>2008-08-05 23:55:25+00:00</td>\n",
       "      <td>2012-03-06 03:17:01+00:00</td>\n",
       "      <td>17</td>\n",
       "      <td>My website got hacked... What should I do?</td>\n",
       "      <td>&lt;p&gt;My dad called me today and said people goin...</td>\n",
       "    </tr>\n",
       "    <tr>\n",
       "      <th>...</th>\n",
       "      <td>...</td>\n",
       "      <td>...</td>\n",
       "      <td>...</td>\n",
       "      <td>...</td>\n",
       "      <td>...</td>\n",
       "      <td>...</td>\n",
       "      <td>...</td>\n",
       "    </tr>\n",
       "    <tr>\n",
       "      <th>1264148</th>\n",
       "      <td>40141810</td>\n",
       "      <td>7044612.0</td>\n",
       "      <td>2016-10-19 21:29:05+00:00</td>\n",
       "      <td>2016-10-19 21:41:54+00:00</td>\n",
       "      <td>-1</td>\n",
       "      <td>Windows - Where can I find a system() list of ...</td>\n",
       "      <td>&lt;p&gt;This is my first question here in StackOver...</td>\n",
       "    </tr>\n",
       "    <tr>\n",
       "      <th>1264177</th>\n",
       "      <td>40142370</td>\n",
       "      <td>7044756.0</td>\n",
       "      <td>2016-10-19 22:12:46+00:00</td>\n",
       "      <td>2016-10-19 22:17:45+00:00</td>\n",
       "      <td>-6</td>\n",
       "      <td>How can i find value of first zero in base 2</td>\n",
       "      <td>&lt;p&gt;I'm tried to write a program to find value ...</td>\n",
       "    </tr>\n",
       "    <tr>\n",
       "      <th>1264180</th>\n",
       "      <td>40142450</td>\n",
       "      <td>6247467.0</td>\n",
       "      <td>2016-10-19 22:19:45+00:00</td>\n",
       "      <td>2016-10-19 23:06:30+00:00</td>\n",
       "      <td>-1</td>\n",
       "      <td>C# thread report found items</td>\n",
       "      <td>&lt;p&gt;Lets say I want to make a program that find...</td>\n",
       "    </tr>\n",
       "    <tr>\n",
       "      <th>1264187</th>\n",
       "      <td>40142600</td>\n",
       "      <td>7044841.0</td>\n",
       "      <td>2016-10-19 22:33:00+00:00</td>\n",
       "      <td>2016-10-19 22:34:48+00:00</td>\n",
       "      <td>-10</td>\n",
       "      <td>Remove white spaces without replace()</td>\n",
       "      <td>&lt;pre&gt;&lt;code&gt;def compress(s):\\n    âââ(str...</td>\n",
       "    </tr>\n",
       "    <tr>\n",
       "      <th>1264194</th>\n",
       "      <td>40142790</td>\n",
       "      <td>7044882.0</td>\n",
       "      <td>2016-10-19 22:52:53+00:00</td>\n",
       "      <td>2016-10-19 23:05:09+00:00</td>\n",
       "      <td>-5</td>\n",
       "      <td>Why is my switch statement giving me constant ...</td>\n",
       "      <td>&lt;p&gt;Sorry in advance for the weird format of th...</td>\n",
       "    </tr>\n",
       "  </tbody>\n",
       "</table>\n",
       "<p>55240 rows × 7 columns</p>\n",
       "</div>"
      ],
      "text/plain": [
       "               Id  ...                                               Body\n",
       "1              90  ...  <p>Are there any really good tutorials explain...\n",
       "6             470  ...  <p>I've been writing a few web services for a ...\n",
       "27           2540  ...  <p>What are good libraries for C with datastru...\n",
       "29           2630  ...  <p>I just found /n softwares free Powershell N...\n",
       "35           2970  ...  <p>My dad called me today and said people goin...\n",
       "...           ...  ...                                                ...\n",
       "1264148  40141810  ...  <p>This is my first question here in StackOver...\n",
       "1264177  40142370  ...  <p>I'm tried to write a program to find value ...\n",
       "1264180  40142450  ...  <p>Lets say I want to make a program that find...\n",
       "1264187  40142600  ...  <pre><code>def compress(s):\\n    âââ(str...\n",
       "1264194  40142790  ...  <p>Sorry in advance for the weird format of th...\n",
       "\n",
       "[55240 rows x 7 columns]"
      ]
     },
     "execution_count": 43,
     "metadata": {
      "tags": []
     },
     "output_type": "execute_result"
    }
   ],
   "source": [
    "quesdf[quesdf.ClosedDate.notnull()]"
   ]
  },
  {
   "cell_type": "markdown",
   "metadata": {
    "id": "htfoDfd_qVEE"
   },
   "source": [
    "Closed Date column is the date when the question is closed due to duplicacy or other reasons. Closed questions cannot be answered so we will not be dealing with this column in our data analysis. According to the above analysis, 55240 questions cannot be answered because they are closed."
   ]
  },
  {
   "cell_type": "code",
   "execution_count": 44,
   "metadata": {
    "colab": {
     "base_uri": "https://localhost:8080/",
     "height": 402
    },
    "id": "Bqe2ftNntWhj",
    "outputId": "de298fdf-ef68-4c89-ab09-ade2170486ca"
   },
   "outputs": [
    {
     "data": {
      "text/html": [
       "<div>\n",
       "<style scoped>\n",
       "    .dataframe tbody tr th:only-of-type {\n",
       "        vertical-align: middle;\n",
       "    }\n",
       "\n",
       "    .dataframe tbody tr th {\n",
       "        vertical-align: top;\n",
       "    }\n",
       "\n",
       "    .dataframe thead th {\n",
       "        text-align: right;\n",
       "    }\n",
       "</style>\n",
       "<table border=\"1\" class=\"dataframe\">\n",
       "  <thead>\n",
       "    <tr style=\"text-align: right;\">\n",
       "      <th></th>\n",
       "      <th>Id</th>\n",
       "      <th>OwnerUserId</th>\n",
       "      <th>CreationDate</th>\n",
       "      <th>Score</th>\n",
       "      <th>Title</th>\n",
       "      <th>Body</th>\n",
       "    </tr>\n",
       "  </thead>\n",
       "  <tbody>\n",
       "    <tr>\n",
       "      <th>0</th>\n",
       "      <td>80</td>\n",
       "      <td>26.0</td>\n",
       "      <td>2008-08-01 13:57:07+00:00</td>\n",
       "      <td>26</td>\n",
       "      <td>SQLStatement.execute() - multiple queries in o...</td>\n",
       "      <td>&lt;p&gt;I've written a database generation script i...</td>\n",
       "    </tr>\n",
       "    <tr>\n",
       "      <th>1</th>\n",
       "      <td>90</td>\n",
       "      <td>58.0</td>\n",
       "      <td>2008-08-01 14:41:24+00:00</td>\n",
       "      <td>144</td>\n",
       "      <td>Good branching and merging tutorials for Torto...</td>\n",
       "      <td>&lt;p&gt;Are there any really good tutorials explain...</td>\n",
       "    </tr>\n",
       "    <tr>\n",
       "      <th>2</th>\n",
       "      <td>120</td>\n",
       "      <td>83.0</td>\n",
       "      <td>2008-08-01 15:50:08+00:00</td>\n",
       "      <td>21</td>\n",
       "      <td>ASP.NET Site Maps</td>\n",
       "      <td>&lt;p&gt;Has anyone got experience creating &lt;strong&gt;...</td>\n",
       "    </tr>\n",
       "    <tr>\n",
       "      <th>3</th>\n",
       "      <td>180</td>\n",
       "      <td>2089740.0</td>\n",
       "      <td>2008-08-01 18:42:19+00:00</td>\n",
       "      <td>53</td>\n",
       "      <td>Function for creating color wheels</td>\n",
       "      <td>&lt;p&gt;This is something I've pseudo-solved many t...</td>\n",
       "    </tr>\n",
       "    <tr>\n",
       "      <th>4</th>\n",
       "      <td>260</td>\n",
       "      <td>91.0</td>\n",
       "      <td>2008-08-01 23:22:08+00:00</td>\n",
       "      <td>49</td>\n",
       "      <td>Adding scripting functionality to .NET applica...</td>\n",
       "      <td>&lt;p&gt;I have a little game written in C#. It uses...</td>\n",
       "    </tr>\n",
       "    <tr>\n",
       "      <th>...</th>\n",
       "      <td>...</td>\n",
       "      <td>...</td>\n",
       "      <td>...</td>\n",
       "      <td>...</td>\n",
       "      <td>...</td>\n",
       "      <td>...</td>\n",
       "    </tr>\n",
       "    <tr>\n",
       "      <th>1264211</th>\n",
       "      <td>40143210</td>\n",
       "      <td>5610777.0</td>\n",
       "      <td>2016-10-19 23:38:01+00:00</td>\n",
       "      <td>0</td>\n",
       "      <td>URL routing in PHP (MVC)</td>\n",
       "      <td>&lt;p&gt;I am building a custom MVC project and I ha...</td>\n",
       "    </tr>\n",
       "    <tr>\n",
       "      <th>1264212</th>\n",
       "      <td>40143300</td>\n",
       "      <td>3791161.0</td>\n",
       "      <td>2016-10-19 23:48:09+00:00</td>\n",
       "      <td>0</td>\n",
       "      <td>Bigquery.Jobs.Insert - Resumable Upload?</td>\n",
       "      <td>&lt;p&gt;The API docs show that you should be able t...</td>\n",
       "    </tr>\n",
       "    <tr>\n",
       "      <th>1264213</th>\n",
       "      <td>40143340</td>\n",
       "      <td>7028647.0</td>\n",
       "      <td>2016-10-19 23:52:50+00:00</td>\n",
       "      <td>1</td>\n",
       "      <td>Obfuscating code in android studio</td>\n",
       "      <td>&lt;p&gt;Under minifyEnabled I changed from false to...</td>\n",
       "    </tr>\n",
       "    <tr>\n",
       "      <th>1264214</th>\n",
       "      <td>40143360</td>\n",
       "      <td>871677.0</td>\n",
       "      <td>2016-10-19 23:55:24+00:00</td>\n",
       "      <td>0</td>\n",
       "      <td>How to fire function after v-model change?</td>\n",
       "      <td>&lt;p&gt;I have input which I use to filter my array...</td>\n",
       "    </tr>\n",
       "    <tr>\n",
       "      <th>1264215</th>\n",
       "      <td>40143380</td>\n",
       "      <td>6823982.0</td>\n",
       "      <td>2016-10-19 23:57:31+00:00</td>\n",
       "      <td>0</td>\n",
       "      <td>npm run mocha test - files being cached</td>\n",
       "      <td>&lt;p&gt;I'm running a mocha test and I noticed my c...</td>\n",
       "    </tr>\n",
       "  </tbody>\n",
       "</table>\n",
       "<p>1249762 rows × 6 columns</p>\n",
       "</div>"
      ],
      "text/plain": [
       "               Id  ...                                               Body\n",
       "0              80  ...  <p>I've written a database generation script i...\n",
       "1              90  ...  <p>Are there any really good tutorials explain...\n",
       "2             120  ...  <p>Has anyone got experience creating <strong>...\n",
       "3             180  ...  <p>This is something I've pseudo-solved many t...\n",
       "4             260  ...  <p>I have a little game written in C#. It uses...\n",
       "...           ...  ...                                                ...\n",
       "1264211  40143210  ...  <p>I am building a custom MVC project and I ha...\n",
       "1264212  40143300  ...  <p>The API docs show that you should be able t...\n",
       "1264213  40143340  ...  <p>Under minifyEnabled I changed from false to...\n",
       "1264214  40143360  ...  <p>I have input which I use to filter my array...\n",
       "1264215  40143380  ...  <p>I'm running a mocha test and I noticed my c...\n",
       "\n",
       "[1249762 rows x 6 columns]"
      ]
     },
     "execution_count": 44,
     "metadata": {
      "tags": []
     },
     "output_type": "execute_result"
    }
   ],
   "source": [
    "quesdf.drop(['ClosedDate'], axis=1)"
   ]
  },
  {
   "cell_type": "code",
   "execution_count": 45,
   "metadata": {
    "id": "Zzt5MZQo0_xV"
   },
   "outputs": [],
   "source": [
    "quesdf= quesdf.drop(['ClosedDate'], axis=1)"
   ]
  },
  {
   "cell_type": "markdown",
   "metadata": {
    "id": "-Jk9JM1Btose"
   },
   "source": [
    "Closed Date is irrelevant to our analysis so I dropped it."
   ]
  },
  {
   "cell_type": "code",
   "execution_count": 46,
   "metadata": {
    "id": "Mt7ZgwtbvpOr"
   },
   "outputs": [],
   "source": [
    "ansdf.drop(['Id'], axis=1, inplace=True)"
   ]
  },
  {
   "cell_type": "markdown",
   "metadata": {
    "id": "oTZR0sLwvyAb"
   },
   "source": [
    "Answer Id is irrelevant to analysis so it is dropped"
   ]
  },
  {
   "cell_type": "code",
   "execution_count": 47,
   "metadata": {
    "id": "4GIHRp_fnGVP"
   },
   "outputs": [],
   "source": [
    "ansdf= ansdf[~ansdf['OwnerUserId'].isnull()]"
   ]
  },
  {
   "cell_type": "code",
   "execution_count": 48,
   "metadata": {
    "colab": {
     "base_uri": "https://localhost:8080/"
    },
    "id": "xPxzpM61nRvz",
    "outputId": "0cc42dc2-bc20-4db0-b572-51376555298e"
   },
   "outputs": [
    {
     "data": {
      "text/plain": [
       "0"
      ]
     },
     "execution_count": 48,
     "metadata": {
      "tags": []
     },
     "output_type": "execute_result"
    }
   ],
   "source": [
    "ansdf.OwnerUserId.isnull().sum()"
   ]
  },
  {
   "cell_type": "code",
   "execution_count": 49,
   "metadata": {
    "id": "r9w_CuFVnXzj"
   },
   "outputs": [],
   "source": [
    "quesdf['OwnerUserId']= quesdf['OwnerUserId'].astype('int32')"
   ]
  },
  {
   "cell_type": "code",
   "execution_count": 50,
   "metadata": {
    "id": "68qY7PTlnqiH"
   },
   "outputs": [],
   "source": [
    "ansdf['OwnerUserId']= ansdf['OwnerUserId'].astype('int32')"
   ]
  },
  {
   "cell_type": "code",
   "execution_count": 51,
   "metadata": {
    "colab": {
     "base_uri": "https://localhost:8080/",
     "height": 402
    },
    "id": "A729KgeI1FhU",
    "outputId": "397964db-efa5-4fa3-b202-d8647f738a26"
   },
   "outputs": [
    {
     "data": {
      "text/html": [
       "<div>\n",
       "<style scoped>\n",
       "    .dataframe tbody tr th:only-of-type {\n",
       "        vertical-align: middle;\n",
       "    }\n",
       "\n",
       "    .dataframe tbody tr th {\n",
       "        vertical-align: top;\n",
       "    }\n",
       "\n",
       "    .dataframe thead th {\n",
       "        text-align: right;\n",
       "    }\n",
       "</style>\n",
       "<table border=\"1\" class=\"dataframe\">\n",
       "  <thead>\n",
       "    <tr style=\"text-align: right;\">\n",
       "      <th></th>\n",
       "      <th>id</th>\n",
       "      <th>display_name</th>\n",
       "      <th>creation_date</th>\n",
       "      <th>last_access_date</th>\n",
       "      <th>reputation</th>\n",
       "      <th>up_votes</th>\n",
       "      <th>down_votes</th>\n",
       "      <th>views</th>\n",
       "    </tr>\n",
       "  </thead>\n",
       "  <tbody>\n",
       "    <tr>\n",
       "      <th>0</th>\n",
       "      <td>26</td>\n",
       "      <td>Shawn</td>\n",
       "      <td>2008-08-01 12:18:14.520000+00:00</td>\n",
       "      <td>2018-04-11 04:40:35.660000+00:00</td>\n",
       "      <td>11820</td>\n",
       "      <td>565</td>\n",
       "      <td>67</td>\n",
       "      <td>3547</td>\n",
       "    </tr>\n",
       "    <tr>\n",
       "      <th>1</th>\n",
       "      <td>26</td>\n",
       "      <td>Shawn</td>\n",
       "      <td>2008-08-01 12:18:14.520000+00:00</td>\n",
       "      <td>2018-04-11 04:40:35.660000+00:00</td>\n",
       "      <td>11820</td>\n",
       "      <td>565</td>\n",
       "      <td>67</td>\n",
       "      <td>3547</td>\n",
       "    </tr>\n",
       "    <tr>\n",
       "      <th>2</th>\n",
       "      <td>26</td>\n",
       "      <td>Shawn</td>\n",
       "      <td>2008-08-01 12:18:14.520000+00:00</td>\n",
       "      <td>2018-04-11 04:40:35.660000+00:00</td>\n",
       "      <td>11820</td>\n",
       "      <td>565</td>\n",
       "      <td>67</td>\n",
       "      <td>3547</td>\n",
       "    </tr>\n",
       "    <tr>\n",
       "      <th>3</th>\n",
       "      <td>26</td>\n",
       "      <td>Shawn</td>\n",
       "      <td>2008-08-01 12:18:14.520000+00:00</td>\n",
       "      <td>2018-04-11 04:40:35.660000+00:00</td>\n",
       "      <td>11820</td>\n",
       "      <td>565</td>\n",
       "      <td>67</td>\n",
       "      <td>3547</td>\n",
       "    </tr>\n",
       "    <tr>\n",
       "      <th>4</th>\n",
       "      <td>26</td>\n",
       "      <td>Shawn</td>\n",
       "      <td>2008-08-01 12:18:14.520000+00:00</td>\n",
       "      <td>2018-04-11 04:40:35.660000+00:00</td>\n",
       "      <td>11820</td>\n",
       "      <td>565</td>\n",
       "      <td>67</td>\n",
       "      <td>3547</td>\n",
       "    </tr>\n",
       "    <tr>\n",
       "      <th>...</th>\n",
       "      <td>...</td>\n",
       "      <td>...</td>\n",
       "      <td>...</td>\n",
       "      <td>...</td>\n",
       "      <td>...</td>\n",
       "      <td>...</td>\n",
       "      <td>...</td>\n",
       "      <td>...</td>\n",
       "    </tr>\n",
       "    <tr>\n",
       "      <th>1990475</th>\n",
       "      <td>4228492</td>\n",
       "      <td>Michael Spranger</td>\n",
       "      <td>2014-11-07 20:21:14.283000+00:00</td>\n",
       "      <td>2019-08-28 18:01:29.560000+00:00</td>\n",
       "      <td>415</td>\n",
       "      <td>112</td>\n",
       "      <td>2</td>\n",
       "      <td>17</td>\n",
       "    </tr>\n",
       "    <tr>\n",
       "      <th>1990476</th>\n",
       "      <td>6820506</td>\n",
       "      <td>Manuela</td>\n",
       "      <td>2016-09-12 00:19:17.830000+00:00</td>\n",
       "      <td>2018-07-20 01:28:24.853000+00:00</td>\n",
       "      <td>21</td>\n",
       "      <td>38</td>\n",
       "      <td>0</td>\n",
       "      <td>50</td>\n",
       "    </tr>\n",
       "    <tr>\n",
       "      <th>1990477</th>\n",
       "      <td>4464432</td>\n",
       "      <td>YTorii</td>\n",
       "      <td>2015-01-17 10:48:17.523000+00:00</td>\n",
       "      <td>2019-08-31 13:51:47.413000+00:00</td>\n",
       "      <td>336</td>\n",
       "      <td>67</td>\n",
       "      <td>1</td>\n",
       "      <td>13</td>\n",
       "    </tr>\n",
       "    <tr>\n",
       "      <th>1990478</th>\n",
       "      <td>4605946</td>\n",
       "      <td>space_voyager</td>\n",
       "      <td>2015-02-25 13:43:24.630000+00:00</td>\n",
       "      <td>2019-07-13 23:55:47.607000+00:00</td>\n",
       "      <td>884</td>\n",
       "      <td>53</td>\n",
       "      <td>1</td>\n",
       "      <td>191</td>\n",
       "    </tr>\n",
       "    <tr>\n",
       "      <th>1990479</th>\n",
       "      <td>6107989</td>\n",
       "      <td>Nicky HFE</td>\n",
       "      <td>2016-03-24 06:25:14.090000+00:00</td>\n",
       "      <td>2019-08-21 13:40:34.197000+00:00</td>\n",
       "      <td>108</td>\n",
       "      <td>0</td>\n",
       "      <td>0</td>\n",
       "      <td>30</td>\n",
       "    </tr>\n",
       "  </tbody>\n",
       "</table>\n",
       "<p>1990480 rows × 8 columns</p>\n",
       "</div>"
      ],
      "text/plain": [
       "              id      display_name  ... down_votes views\n",
       "0             26             Shawn  ...         67  3547\n",
       "1             26             Shawn  ...         67  3547\n",
       "2             26             Shawn  ...         67  3547\n",
       "3             26             Shawn  ...         67  3547\n",
       "4             26             Shawn  ...         67  3547\n",
       "...          ...               ...  ...        ...   ...\n",
       "1990475  4228492  Michael Spranger  ...          2    17\n",
       "1990476  6820506           Manuela  ...          0    50\n",
       "1990477  4464432            YTorii  ...          1    13\n",
       "1990478  4605946     space_voyager  ...          1   191\n",
       "1990479  6107989         Nicky HFE  ...          0    30\n",
       "\n",
       "[1990480 rows x 8 columns]"
      ]
     },
     "execution_count": 51,
     "metadata": {
      "tags": []
     },
     "output_type": "execute_result"
    }
   ],
   "source": [
    "usersdf.drop(['Unnamed: 0'], axis=1)"
   ]
  },
  {
   "cell_type": "code",
   "execution_count": 52,
   "metadata": {
    "id": "AMjCWpOq19rz"
   },
   "outputs": [],
   "source": [
    "usersdf= usersdf.drop(['Unnamed: 0'], axis=1)"
   ]
  },
  {
   "cell_type": "code",
   "execution_count": 53,
   "metadata": {
    "id": "BFxt0KsTObPV"
   },
   "outputs": [],
   "source": [
    "usersdf.drop(['creation_date','last_access_date'], axis=1, inplace=True)"
   ]
  },
  {
   "cell_type": "code",
   "execution_count": 54,
   "metadata": {
    "colab": {
     "base_uri": "https://localhost:8080/"
    },
    "id": "kF6mIKbMEhID",
    "outputId": "fa4ba8e0-b255-447a-df97-2981afbbd351"
   },
   "outputs": [
    {
     "data": {
      "text/plain": [
       "(465460, 6)"
      ]
     },
     "execution_count": 54,
     "metadata": {
      "tags": []
     },
     "output_type": "execute_result"
    }
   ],
   "source": [
    "usersdf.drop_duplicates(inplace= True)\n",
    "usersdf.shape"
   ]
  },
  {
   "cell_type": "code",
   "execution_count": 55,
   "metadata": {
    "colab": {
     "base_uri": "https://localhost:8080/",
     "height": 195
    },
    "id": "CCczY0kZkyuK",
    "outputId": "af6655f5-899f-4b6a-e07c-cba4cf112150"
   },
   "outputs": [
    {
     "data": {
      "text/html": [
       "<div>\n",
       "<style scoped>\n",
       "    .dataframe tbody tr th:only-of-type {\n",
       "        vertical-align: middle;\n",
       "    }\n",
       "\n",
       "    .dataframe tbody tr th {\n",
       "        vertical-align: top;\n",
       "    }\n",
       "\n",
       "    .dataframe thead th {\n",
       "        text-align: right;\n",
       "    }\n",
       "</style>\n",
       "<table border=\"1\" class=\"dataframe\">\n",
       "  <thead>\n",
       "    <tr style=\"text-align: right;\">\n",
       "      <th></th>\n",
       "      <th>id</th>\n",
       "      <th>display_name</th>\n",
       "      <th>reputation</th>\n",
       "      <th>up_votes</th>\n",
       "      <th>down_votes</th>\n",
       "      <th>views</th>\n",
       "    </tr>\n",
       "  </thead>\n",
       "  <tbody>\n",
       "    <tr>\n",
       "      <th>0</th>\n",
       "      <td>26</td>\n",
       "      <td>Shawn</td>\n",
       "      <td>11820</td>\n",
       "      <td>565</td>\n",
       "      <td>67</td>\n",
       "      <td>3547</td>\n",
       "    </tr>\n",
       "    <tr>\n",
       "      <th>27</th>\n",
       "      <td>1109</td>\n",
       "      <td>Theo</td>\n",
       "      <td>116072</td>\n",
       "      <td>457</td>\n",
       "      <td>136</td>\n",
       "      <td>6905</td>\n",
       "    </tr>\n",
       "    <tr>\n",
       "      <th>85</th>\n",
       "      <td>364174</td>\n",
       "      <td>stats</td>\n",
       "      <td>325</td>\n",
       "      <td>25</td>\n",
       "      <td>1</td>\n",
       "      <td>60</td>\n",
       "    </tr>\n",
       "    <tr>\n",
       "      <th>87</th>\n",
       "      <td>61</td>\n",
       "      <td>Bernard</td>\n",
       "      <td>22779</td>\n",
       "      <td>1321</td>\n",
       "      <td>219</td>\n",
       "      <td>1731</td>\n",
       "    </tr>\n",
       "    <tr>\n",
       "      <th>97</th>\n",
       "      <td>20709</td>\n",
       "      <td>Black Horus</td>\n",
       "      <td>978</td>\n",
       "      <td>73</td>\n",
       "      <td>2</td>\n",
       "      <td>96</td>\n",
       "    </tr>\n",
       "  </tbody>\n",
       "</table>\n",
       "</div>"
      ],
      "text/plain": [
       "        id display_name  reputation  up_votes  down_votes  views\n",
       "0       26        Shawn       11820       565          67   3547\n",
       "27    1109         Theo      116072       457         136   6905\n",
       "85  364174        stats         325        25           1     60\n",
       "87      61      Bernard       22779      1321         219   1731\n",
       "97   20709  Black Horus         978        73           2     96"
      ]
     },
     "execution_count": 55,
     "metadata": {
      "tags": []
     },
     "output_type": "execute_result"
    }
   ],
   "source": [
    "usersdf.head()"
   ]
  },
  {
   "cell_type": "code",
   "execution_count": 56,
   "metadata": {
    "colab": {
     "base_uri": "https://localhost:8080/",
     "height": 195
    },
    "id": "xM8YgDvuk4aI",
    "outputId": "da18cbb7-e99a-40b4-8b80-f8534f8654f9"
   },
   "outputs": [
    {
     "data": {
      "text/html": [
       "<div>\n",
       "<style scoped>\n",
       "    .dataframe tbody tr th:only-of-type {\n",
       "        vertical-align: middle;\n",
       "    }\n",
       "\n",
       "    .dataframe tbody tr th {\n",
       "        vertical-align: top;\n",
       "    }\n",
       "\n",
       "    .dataframe thead th {\n",
       "        text-align: right;\n",
       "    }\n",
       "</style>\n",
       "<table border=\"1\" class=\"dataframe\">\n",
       "  <thead>\n",
       "    <tr style=\"text-align: right;\">\n",
       "      <th></th>\n",
       "      <th>OwnerUserId</th>\n",
       "      <th>CreationDate</th>\n",
       "      <th>ParentId</th>\n",
       "      <th>Score</th>\n",
       "      <th>Body</th>\n",
       "    </tr>\n",
       "  </thead>\n",
       "  <tbody>\n",
       "    <tr>\n",
       "      <th>0</th>\n",
       "      <td>61</td>\n",
       "      <td>2008-08-01 14:45:37+00:00</td>\n",
       "      <td>90</td>\n",
       "      <td>13</td>\n",
       "      <td>&lt;p&gt;&lt;a href=\"http://svnbook.red-bean.com/\"&gt;Vers...</td>\n",
       "    </tr>\n",
       "    <tr>\n",
       "      <th>1</th>\n",
       "      <td>26</td>\n",
       "      <td>2008-08-01 16:09:47+00:00</td>\n",
       "      <td>80</td>\n",
       "      <td>12</td>\n",
       "      <td>&lt;p&gt;I wound up using this. It is a kind of a ha...</td>\n",
       "    </tr>\n",
       "    <tr>\n",
       "      <th>2</th>\n",
       "      <td>50</td>\n",
       "      <td>2008-08-01 19:36:46+00:00</td>\n",
       "      <td>180</td>\n",
       "      <td>1</td>\n",
       "      <td>&lt;p&gt;I've read somewhere the human eye can't dis...</td>\n",
       "    </tr>\n",
       "    <tr>\n",
       "      <th>3</th>\n",
       "      <td>91</td>\n",
       "      <td>2008-08-01 23:49:57+00:00</td>\n",
       "      <td>260</td>\n",
       "      <td>4</td>\n",
       "      <td>&lt;p&gt;Yes, I thought about that, but I soon figur...</td>\n",
       "    </tr>\n",
       "    <tr>\n",
       "      <th>4</th>\n",
       "      <td>49</td>\n",
       "      <td>2008-08-02 01:49:46+00:00</td>\n",
       "      <td>260</td>\n",
       "      <td>28</td>\n",
       "      <td>&lt;p&gt;&lt;a href=\"http://www.codeproject.com/Article...</td>\n",
       "    </tr>\n",
       "  </tbody>\n",
       "</table>\n",
       "</div>"
      ],
      "text/plain": [
       "   OwnerUserId  ...                                               Body\n",
       "0           61  ...  <p><a href=\"http://svnbook.red-bean.com/\">Vers...\n",
       "1           26  ...  <p>I wound up using this. It is a kind of a ha...\n",
       "2           50  ...  <p>I've read somewhere the human eye can't dis...\n",
       "3           91  ...  <p>Yes, I thought about that, but I soon figur...\n",
       "4           49  ...  <p><a href=\"http://www.codeproject.com/Article...\n",
       "\n",
       "[5 rows x 5 columns]"
      ]
     },
     "execution_count": 56,
     "metadata": {
      "tags": []
     },
     "output_type": "execute_result"
    }
   ],
   "source": [
    "ansdf.head()"
   ]
  },
  {
   "cell_type": "code",
   "execution_count": 57,
   "metadata": {
    "id": "Nwl9sYV7sGXD"
   },
   "outputs": [],
   "source": [
    "ansdf.rename(columns= {'CreationDate': 'AnswerDate', 'Body':'Answer','Score':'AnswerScore', 'ParentId':'QuesId'}, inplace=True)"
   ]
  },
  {
   "cell_type": "code",
   "execution_count": 58,
   "metadata": {
    "colab": {
     "base_uri": "https://localhost:8080/",
     "height": 343
    },
    "id": "HxtFE5EHtBSq",
    "outputId": "19b9f914-eac3-4798-aa3a-8fe940bdbf43"
   },
   "outputs": [
    {
     "data": {
      "text/html": [
       "<div>\n",
       "<style scoped>\n",
       "    .dataframe tbody tr th:only-of-type {\n",
       "        vertical-align: middle;\n",
       "    }\n",
       "\n",
       "    .dataframe tbody tr th {\n",
       "        vertical-align: top;\n",
       "    }\n",
       "\n",
       "    .dataframe thead th {\n",
       "        text-align: right;\n",
       "    }\n",
       "</style>\n",
       "<table border=\"1\" class=\"dataframe\">\n",
       "  <thead>\n",
       "    <tr style=\"text-align: right;\">\n",
       "      <th></th>\n",
       "      <th>OwnerUserId</th>\n",
       "      <th>AnswerDate</th>\n",
       "      <th>QuesId</th>\n",
       "      <th>AnswerScore</th>\n",
       "      <th>Answer</th>\n",
       "    </tr>\n",
       "  </thead>\n",
       "  <tbody>\n",
       "    <tr>\n",
       "      <th>0</th>\n",
       "      <td>61</td>\n",
       "      <td>2008-08-01 14:45:37+00:00</td>\n",
       "      <td>90</td>\n",
       "      <td>13</td>\n",
       "      <td>&lt;p&gt;&lt;a href=\"http://svnbook.red-bean.com/\"&gt;Vers...</td>\n",
       "    </tr>\n",
       "    <tr>\n",
       "      <th>1</th>\n",
       "      <td>26</td>\n",
       "      <td>2008-08-01 16:09:47+00:00</td>\n",
       "      <td>80</td>\n",
       "      <td>12</td>\n",
       "      <td>&lt;p&gt;I wound up using this. It is a kind of a ha...</td>\n",
       "    </tr>\n",
       "    <tr>\n",
       "      <th>2</th>\n",
       "      <td>50</td>\n",
       "      <td>2008-08-01 19:36:46+00:00</td>\n",
       "      <td>180</td>\n",
       "      <td>1</td>\n",
       "      <td>&lt;p&gt;I've read somewhere the human eye can't dis...</td>\n",
       "    </tr>\n",
       "    <tr>\n",
       "      <th>3</th>\n",
       "      <td>91</td>\n",
       "      <td>2008-08-01 23:49:57+00:00</td>\n",
       "      <td>260</td>\n",
       "      <td>4</td>\n",
       "      <td>&lt;p&gt;Yes, I thought about that, but I soon figur...</td>\n",
       "    </tr>\n",
       "    <tr>\n",
       "      <th>4</th>\n",
       "      <td>49</td>\n",
       "      <td>2008-08-02 01:49:46+00:00</td>\n",
       "      <td>260</td>\n",
       "      <td>28</td>\n",
       "      <td>&lt;p&gt;&lt;a href=\"http://www.codeproject.com/Article...</td>\n",
       "    </tr>\n",
       "    <tr>\n",
       "      <th>5</th>\n",
       "      <td>59</td>\n",
       "      <td>2008-08-02 03:00:24+00:00</td>\n",
       "      <td>330</td>\n",
       "      <td>19</td>\n",
       "      <td>&lt;p&gt;I would be a bit reluctant to use nested cl...</td>\n",
       "    </tr>\n",
       "    <tr>\n",
       "      <th>6</th>\n",
       "      <td>100</td>\n",
       "      <td>2008-08-02 04:18:15+00:00</td>\n",
       "      <td>260</td>\n",
       "      <td>6</td>\n",
       "      <td>&lt;p&gt;You might be able to use IronRuby for that....</td>\n",
       "    </tr>\n",
       "    <tr>\n",
       "      <th>7</th>\n",
       "      <td>119</td>\n",
       "      <td>2008-08-02 06:16:23+00:00</td>\n",
       "      <td>260</td>\n",
       "      <td>5</td>\n",
       "      <td>&lt;P&gt;You could use any of the DLR languages, whi...</td>\n",
       "    </tr>\n",
       "    <tr>\n",
       "      <th>8</th>\n",
       "      <td>49</td>\n",
       "      <td>2008-08-02 15:33:13+00:00</td>\n",
       "      <td>470</td>\n",
       "      <td>8</td>\n",
       "      <td>&lt;p&gt;No, what you're doing is fine. Don't let th...</td>\n",
       "    </tr>\n",
       "    <tr>\n",
       "      <th>9</th>\n",
       "      <td>86</td>\n",
       "      <td>2008-08-02 18:16:07+00:00</td>\n",
       "      <td>180</td>\n",
       "      <td>3</td>\n",
       "      <td>&lt;p&gt;Isn't it also a factor which order you set ...</td>\n",
       "    </tr>\n",
       "  </tbody>\n",
       "</table>\n",
       "</div>"
      ],
      "text/plain": [
       "   OwnerUserId  ...                                             Answer\n",
       "0           61  ...  <p><a href=\"http://svnbook.red-bean.com/\">Vers...\n",
       "1           26  ...  <p>I wound up using this. It is a kind of a ha...\n",
       "2           50  ...  <p>I've read somewhere the human eye can't dis...\n",
       "3           91  ...  <p>Yes, I thought about that, but I soon figur...\n",
       "4           49  ...  <p><a href=\"http://www.codeproject.com/Article...\n",
       "5           59  ...  <p>I would be a bit reluctant to use nested cl...\n",
       "6          100  ...  <p>You might be able to use IronRuby for that....\n",
       "7          119  ...  <P>You could use any of the DLR languages, whi...\n",
       "8           49  ...  <p>No, what you're doing is fine. Don't let th...\n",
       "9           86  ...  <p>Isn't it also a factor which order you set ...\n",
       "\n",
       "[10 rows x 5 columns]"
      ]
     },
     "execution_count": 58,
     "metadata": {
      "tags": []
     },
     "output_type": "execute_result"
    }
   ],
   "source": [
    "ansdf.head(10)"
   ]
  },
  {
   "cell_type": "code",
   "execution_count": 59,
   "metadata": {
    "colab": {
     "base_uri": "https://localhost:8080/",
     "height": 195
    },
    "id": "vIEk_T3ax4n-",
    "outputId": "505f9242-2931-4ea1-cf09-3871deb1d80b"
   },
   "outputs": [
    {
     "data": {
      "text/html": [
       "<div>\n",
       "<style scoped>\n",
       "    .dataframe tbody tr th:only-of-type {\n",
       "        vertical-align: middle;\n",
       "    }\n",
       "\n",
       "    .dataframe tbody tr th {\n",
       "        vertical-align: top;\n",
       "    }\n",
       "\n",
       "    .dataframe thead th {\n",
       "        text-align: right;\n",
       "    }\n",
       "</style>\n",
       "<table border=\"1\" class=\"dataframe\">\n",
       "  <thead>\n",
       "    <tr style=\"text-align: right;\">\n",
       "      <th></th>\n",
       "      <th>OwnerUserId</th>\n",
       "      <th>display_name</th>\n",
       "      <th>reputation</th>\n",
       "      <th>up_votes</th>\n",
       "      <th>down_votes</th>\n",
       "      <th>views</th>\n",
       "    </tr>\n",
       "  </thead>\n",
       "  <tbody>\n",
       "    <tr>\n",
       "      <th>0</th>\n",
       "      <td>26</td>\n",
       "      <td>Shawn</td>\n",
       "      <td>11820</td>\n",
       "      <td>565</td>\n",
       "      <td>67</td>\n",
       "      <td>3547</td>\n",
       "    </tr>\n",
       "    <tr>\n",
       "      <th>27</th>\n",
       "      <td>1109</td>\n",
       "      <td>Theo</td>\n",
       "      <td>116072</td>\n",
       "      <td>457</td>\n",
       "      <td>136</td>\n",
       "      <td>6905</td>\n",
       "    </tr>\n",
       "    <tr>\n",
       "      <th>85</th>\n",
       "      <td>364174</td>\n",
       "      <td>stats</td>\n",
       "      <td>325</td>\n",
       "      <td>25</td>\n",
       "      <td>1</td>\n",
       "      <td>60</td>\n",
       "    </tr>\n",
       "    <tr>\n",
       "      <th>87</th>\n",
       "      <td>61</td>\n",
       "      <td>Bernard</td>\n",
       "      <td>22779</td>\n",
       "      <td>1321</td>\n",
       "      <td>219</td>\n",
       "      <td>1731</td>\n",
       "    </tr>\n",
       "    <tr>\n",
       "      <th>97</th>\n",
       "      <td>20709</td>\n",
       "      <td>Black Horus</td>\n",
       "      <td>978</td>\n",
       "      <td>73</td>\n",
       "      <td>2</td>\n",
       "      <td>96</td>\n",
       "    </tr>\n",
       "  </tbody>\n",
       "</table>\n",
       "</div>"
      ],
      "text/plain": [
       "    OwnerUserId display_name  reputation  up_votes  down_votes  views\n",
       "0            26        Shawn       11820       565          67   3547\n",
       "27         1109         Theo      116072       457         136   6905\n",
       "85       364174        stats         325        25           1     60\n",
       "87           61      Bernard       22779      1321         219   1731\n",
       "97        20709  Black Horus         978        73           2     96"
      ]
     },
     "execution_count": 59,
     "metadata": {
      "tags": []
     },
     "output_type": "execute_result"
    }
   ],
   "source": [
    "usersdf.rename(columns= {'id':'OwnerUserId'}, inplace=True)\n",
    "usersdf.head()"
   ]
  },
  {
   "cell_type": "markdown",
   "metadata": {
    "id": "ma7dYRn168lB"
   },
   "source": [
    "### Standardising columns/rows"
   ]
  },
  {
   "cell_type": "code",
   "execution_count": 60,
   "metadata": {
    "colab": {
     "base_uri": "https://localhost:8080/"
    },
    "id": "jIT83aZQ015H",
    "outputId": "6ecf6475-3824-4ae2-f429-23d217c81f5a"
   },
   "outputs": [
    {
     "data": {
      "text/plain": [
       "count    1.249762e+06\n",
       "mean     1.770194e+00\n",
       "std      1.365188e+01\n",
       "min     -7.300000e+01\n",
       "25%      0.000000e+00\n",
       "50%      0.000000e+00\n",
       "75%      1.000000e+00\n",
       "max      5.190000e+03\n",
       "Name: Score, dtype: float64"
      ]
     },
     "execution_count": 60,
     "metadata": {
      "tags": []
     },
     "output_type": "execute_result"
    }
   ],
   "source": [
    "quesdf.Score.describe()"
   ]
  },
  {
   "cell_type": "code",
   "execution_count": 61,
   "metadata": {
    "id": "fNceSab28cE9"
   },
   "outputs": [],
   "source": [
    "quesdf.Score= quesdf.Score.astype(\"int64\")"
   ]
  },
  {
   "cell_type": "code",
   "execution_count": 62,
   "metadata": {
    "colab": {
     "base_uri": "https://localhost:8080/",
     "height": 333
    },
    "id": "wJYv0EjR8l3m",
    "outputId": "0ccab112-facf-4182-8b81-619fbfdadb96"
   },
   "outputs": [
    {
     "name": "stderr",
     "output_type": "stream",
     "text": [
      "/usr/local/lib/python3.6/dist-packages/seaborn/_decorators.py:43: FutureWarning: Pass the following variable as a keyword arg: x. From version 0.12, the only valid positional argument will be `data`, and passing other arguments without an explicit keyword will result in an error or misinterpretation.\n",
      "  FutureWarning\n"
     ]
    },
    {
     "data": {
      "image/png": "[encoded data removed]",
      "text/plain": [
       "<Figure size 432x288 with 1 Axes>"
      ]
     },
     "metadata": {
      "needs_background": "light",
      "tags": []
     },
     "output_type": "display_data"
    }
   ],
   "source": [
    "sns.boxplot(quesdf.Score)\n",
    "plt.show()"
   ]
  },
  {
   "cell_type": "markdown",
   "metadata": {
    "id": "YwtjTECBO_67"
   },
   "source": [
    "As we can see, maximum values lie between 0 to 1200"
   ]
  },
  {
   "cell_type": "markdown",
   "metadata": {
    "id": "oqti7twZlzHo"
   },
   "source": [
    "#EDA"
   ]
  },
  {
   "cell_type": "code",
   "execution_count": 63,
   "metadata": {
    "colab": {
     "base_uri": "https://localhost:8080/"
    },
    "id": "1eCiMyB1Hilm",
    "outputId": "b4a9f9c8-4cab-426c-92c6-e84d9ee8f833"
   },
   "outputs": [
    {
     "data": {
      "text/plain": [
       "0.50       0.0\n",
       "0.70       1.0\n",
       "0.80       2.0\n",
       "0.90       3.0\n",
       "0.95       6.0\n",
       "0.99      22.0\n",
       "1.00    5190.0\n",
       "Name: Score, dtype: float64"
      ]
     },
     "execution_count": 63,
     "metadata": {
      "tags": []
     },
     "output_type": "execute_result"
    }
   ],
   "source": [
    "quesdf.Score.quantile([0.5,0.7,0.8,0.9,0.95,0.99,1])"
   ]
  },
  {
   "cell_type": "markdown",
   "metadata": {
    "id": "rVFzE53qM6z5"
   },
   "source": [
    "As we can see, outliers are present but shouldn't be removed. They need to be binned or capped."
   ]
  },
  {
   "cell_type": "code",
   "execution_count": 64,
   "metadata": {
    "colab": {
     "base_uri": "https://localhost:8080/"
    },
    "id": "2ljSlUFZhKvW",
    "outputId": "04366f8c-5787-4eca-8e88-71e3dbda723a"
   },
   "outputs": [
    {
     "data": {
      "text/plain": [
       "count    585976.000000\n",
       "mean          4.024475\n",
       "std          19.679127\n",
       "min           1.000000\n",
       "25%           1.000000\n",
       "50%           2.000000\n",
       "75%           3.000000\n",
       "max        5190.000000\n",
       "Name: Score, dtype: float64"
      ]
     },
     "execution_count": 64,
     "metadata": {
      "tags": []
     },
     "output_type": "execute_result"
    }
   ],
   "source": [
    "quesdf[quesdf['Score']>0].Score.describe()"
   ]
  },
  {
   "cell_type": "code",
   "execution_count": 65,
   "metadata": {
    "colab": {
     "base_uri": "https://localhost:8080/"
    },
    "id": "gfHW5y7mLUb0",
    "outputId": "dc94631c-9724-483b-dfed-03341235e6ea"
   },
   "outputs": [
    {
     "data": {
      "text/plain": [
       "count    12289.000000\n",
       "mean        67.773456\n",
       "std        117.900893\n",
       "min         23.000000\n",
       "25%         28.000000\n",
       "50%         39.000000\n",
       "75%         66.000000\n",
       "max       5190.000000\n",
       "Name: Score, dtype: float64"
      ]
     },
     "execution_count": 65,
     "metadata": {
      "tags": []
     },
     "output_type": "execute_result"
    }
   ],
   "source": [
    "quesdf[quesdf['Score']>22].Score.describe()"
   ]
  },
  {
   "cell_type": "code",
   "execution_count": 66,
   "metadata": {
    "colab": {
     "base_uri": "https://localhost:8080/"
    },
    "id": "aP3Sv-JJLvW1",
    "outputId": "550569e3-5089-431d-b855-89b73f3cbbdb"
   },
   "outputs": [
    {
     "data": {
      "text/plain": [
       "1249762"
      ]
     },
     "execution_count": 66,
     "metadata": {
      "tags": []
     },
     "output_type": "execute_result"
    }
   ],
   "source": [
    "quesdf.Score.count()"
   ]
  },
  {
   "cell_type": "code",
   "execution_count": 202,
   "metadata": {
    "colab": {
     "base_uri": "https://localhost:8080/"
    },
    "id": "gOy4hiSrOD9M",
    "outputId": "e9da5816-2069-43c2-e4d7-8bc900317f54"
   },
   "outputs": [
    {
     "data": {
      "text/plain": [
       "count    585971.000000\n",
       "mean          3.997031\n",
       "std          16.997386\n",
       "min           1.000000\n",
       "25%           1.000000\n",
       "50%           2.000000\n",
       "75%           3.000000\n",
       "max        1760.000000\n",
       "Name: Score, dtype: float64"
      ]
     },
     "execution_count": 202,
     "metadata": {
      "tags": []
     },
     "output_type": "execute_result"
    }
   ],
   "source": [
    "quesdf[(quesdf['Score']>0) & (quesdf['Score']<2000)].Score.describe()"
   ]
  },
  {
   "cell_type": "code",
   "execution_count": 203,
   "metadata": {
    "colab": {
     "base_uri": "https://localhost:8080/"
    },
    "id": "f0PNl38jOPju",
    "outputId": "d177d055-8804-4aab-a9ed-d3b2d83276b7"
   },
   "outputs": [
    {
     "data": {
      "text/plain": [
       "count       5.000000\n",
       "mean     3220.400000\n",
       "std      1215.558226\n",
       "min      2363.000000\n",
       "25%      2399.000000\n",
       "50%      2537.000000\n",
       "75%      3613.000000\n",
       "max      5190.000000\n",
       "Name: Score, dtype: float64"
      ]
     },
     "execution_count": 203,
     "metadata": {
      "tags": []
     },
     "output_type": "execute_result"
    }
   ],
   "source": [
    "quesdf[quesdf['Score']>2000].Score.describe()"
   ]
  },
  {
   "cell_type": "code",
   "execution_count": 204,
   "metadata": {
    "colab": {
     "base_uri": "https://localhost:8080/",
     "height": 195
    },
    "id": "cPKuVJmNm8JG",
    "outputId": "f3453723-af15-47c5-dc84-458ad6efb0b3"
   },
   "outputs": [
    {
     "data": {
      "text/html": [
       "<div>\n",
       "<style scoped>\n",
       "    .dataframe tbody tr th:only-of-type {\n",
       "        vertical-align: middle;\n",
       "    }\n",
       "\n",
       "    .dataframe tbody tr th {\n",
       "        vertical-align: top;\n",
       "    }\n",
       "\n",
       "    .dataframe thead th {\n",
       "        text-align: right;\n",
       "    }\n",
       "</style>\n",
       "<table border=\"1\" class=\"dataframe\">\n",
       "  <thead>\n",
       "    <tr style=\"text-align: right;\">\n",
       "      <th></th>\n",
       "      <th>Id</th>\n",
       "      <th>OwnerUserId</th>\n",
       "      <th>CreationDate</th>\n",
       "      <th>Score</th>\n",
       "      <th>Title</th>\n",
       "      <th>Body</th>\n",
       "    </tr>\n",
       "  </thead>\n",
       "  <tbody>\n",
       "    <tr>\n",
       "      <th>441</th>\n",
       "      <td>40480</td>\n",
       "      <td>4315</td>\n",
       "      <td>2008-09-02 20:14:29+00:00</td>\n",
       "      <td>3613</td>\n",
       "      <td>Is Java \"pass-by-reference\" or \"pass-by-value\"?</td>\n",
       "      <td>&lt;p&gt;I always thought Java was &lt;strong&gt;pass-by-r...</td>\n",
       "    </tr>\n",
       "    <tr>\n",
       "      <th>4907</th>\n",
       "      <td>348170</td>\n",
       "      <td>14069</td>\n",
       "      <td>2008-12-07 21:57:46+00:00</td>\n",
       "      <td>5190</td>\n",
       "      <td>How to undo 'git add' before commit?</td>\n",
       "      <td>&lt;p&gt;I mistakenly added files using the command:...</td>\n",
       "    </tr>\n",
       "    <tr>\n",
       "      <th>5859</th>\n",
       "      <td>406230</td>\n",
       "      <td>36830</td>\n",
       "      <td>2009-01-02 07:30:16+00:00</td>\n",
       "      <td>2537</td>\n",
       "      <td>Regular expression to match line that doesn't ...</td>\n",
       "      <td>&lt;p&gt;I know it's possible to match a word and th...</td>\n",
       "    </tr>\n",
       "    <tr>\n",
       "      <th>7771</th>\n",
       "      <td>520650</td>\n",
       "      <td>825</td>\n",
       "      <td>2009-02-06 15:14:04+00:00</td>\n",
       "      <td>2399</td>\n",
       "      <td>Make an existing Git branch track a remote bra...</td>\n",
       "      <td>&lt;p&gt;I know how to make a new branch that tracks...</td>\n",
       "    </tr>\n",
       "    <tr>\n",
       "      <th>57759</th>\n",
       "      <td>2669690</td>\n",
       "      <td>151495</td>\n",
       "      <td>2010-04-19 18:00:09+00:00</td>\n",
       "      <td>2363</td>\n",
       "      <td>Why does Google prepend while(1); to their JSO...</td>\n",
       "      <td>&lt;p&gt;Why does Google prepend &lt;code&gt;while(1);&lt;/co...</td>\n",
       "    </tr>\n",
       "  </tbody>\n",
       "</table>\n",
       "</div>"
      ],
      "text/plain": [
       "            Id  ...                                               Body\n",
       "441      40480  ...  <p>I always thought Java was <strong>pass-by-r...\n",
       "4907    348170  ...  <p>I mistakenly added files using the command:...\n",
       "5859    406230  ...  <p>I know it's possible to match a word and th...\n",
       "7771    520650  ...  <p>I know how to make a new branch that tracks...\n",
       "57759  2669690  ...  <p>Why does Google prepend <code>while(1);</co...\n",
       "\n",
       "[5 rows x 6 columns]"
      ]
     },
     "execution_count": 204,
     "metadata": {
      "tags": []
     },
     "output_type": "execute_result"
    }
   ],
   "source": [
    "quesdf[quesdf['Score']>2000]"
   ]
  },
  {
   "cell_type": "code",
   "execution_count": 205,
   "metadata": {
    "id": "zJfmeAWFf0KX"
   },
   "outputs": [],
   "source": [
    "quesdf['bin'] = pd.cut(quesdf['Score'], bins=[-73,0,22,5190], labels=[\"Poor\", \"Average\", \"Good\"])"
   ]
  },
  {
   "cell_type": "code",
   "execution_count": 206,
   "metadata": {
    "colab": {
     "base_uri": "https://localhost:8080/"
    },
    "id": "Y4Uz8xNogRJq",
    "outputId": "33586444-52b4-4801-de49-634d5e8c1eef"
   },
   "outputs": [
    {
     "data": {
      "text/plain": [
       "Poor       663785\n",
       "Average    573687\n",
       "Good        12289\n",
       "Name: bin, dtype: int64"
      ]
     },
     "execution_count": 206,
     "metadata": {
      "tags": []
     },
     "output_type": "execute_result"
    }
   ],
   "source": [
    "quesdf.bin.value_counts()"
   ]
  },
  {
   "cell_type": "code",
   "execution_count": 207,
   "metadata": {
    "colab": {
     "base_uri": "https://localhost:8080/"
    },
    "id": "4esy-HV3kYSZ",
    "outputId": "d1450c5a-a163-4ff7-8731-4e0d7fd43605"
   },
   "outputs": [
    {
     "data": {
      "text/plain": [
       "Poor       0.531130\n",
       "Average    0.459037\n",
       "Good       0.009833\n",
       "Name: bin, dtype: float64"
      ]
     },
     "execution_count": 207,
     "metadata": {
      "tags": []
     },
     "output_type": "execute_result"
    }
   ],
   "source": [
    "quesdf.bin.value_counts(normalize=True)"
   ]
  },
  {
   "cell_type": "code",
   "execution_count": 208,
   "metadata": {
    "colab": {
     "base_uri": "https://localhost:8080/",
     "height": 265
    },
    "id": "1DsoItmRkQOO",
    "outputId": "afd19566-8f92-491f-8a48-58bb23c45210"
   },
   "outputs": [
    {
     "data": {
      "image/png": "[encoded data removed]",
      "text/plain": [
       "<Figure size 432x288 with 1 Axes>"
      ]
     },
     "metadata": {
      "needs_background": "light",
      "tags": []
     },
     "output_type": "display_data"
    }
   ],
   "source": [
    "quesdf.bin.value_counts(normalize=True).plot.barh()\n",
    "plt.show()"
   ]
  },
  {
   "cell_type": "code",
   "execution_count": 209,
   "metadata": {
    "colab": {
     "base_uri": "https://localhost:8080/"
    },
    "id": "BiSUG14SO8vA",
    "outputId": "6dd3acfb-559d-4b04-9433-7328838bb985"
   },
   "outputs": [
    {
     "name": "stdout",
     "output_type": "stream",
     "text": [
      "<class 'pandas.core.frame.DataFrame'>\n",
      "Int64Index: 2001316 entries, 0 to 2014515\n",
      "Data columns (total 5 columns):\n",
      " #   Column       Dtype              \n",
      "---  ------       -----              \n",
      " 0   OwnerUserId  int32              \n",
      " 1   AnswerDate   datetime64[ns, UTC]\n",
      " 2   QuesId       int64              \n",
      " 3   AnswerScore  int64              \n",
      " 4   Answer       object             \n",
      "dtypes: datetime64[ns, UTC](1), int32(1), int64(2), object(1)\n",
      "memory usage: 84.0+ MB\n"
     ]
    }
   ],
   "source": [
    "ansdf.info()"
   ]
  },
  {
   "cell_type": "code",
   "execution_count": 210,
   "metadata": {
    "colab": {
     "base_uri": "https://localhost:8080/"
    },
    "id": "gi3h-xfpP_Cg",
    "outputId": "93980a91-e3e4-45cf-9a0e-fa7cc002f29e"
   },
   "outputs": [
    {
     "data": {
      "text/plain": [
       " 0       585537\n",
       " 1       277534\n",
       " 2       123270\n",
       " 3        60314\n",
       "-1        43636\n",
       "          ...  \n",
       " 432          1\n",
       " 435          1\n",
       " 1460         1\n",
       " 261          1\n",
       " 1023         1\n",
       "Name: Score, Length: 529, dtype: int64"
      ]
     },
     "execution_count": 210,
     "metadata": {
      "tags": []
     },
     "output_type": "execute_result"
    }
   ],
   "source": [
    "quesdf.Score.value_counts()"
   ]
  },
  {
   "cell_type": "code",
   "execution_count": 211,
   "metadata": {
    "colab": {
     "base_uri": "https://localhost:8080/",
     "height": 195
    },
    "id": "mmXL8xqrP9fQ",
    "outputId": "95d18374-5a1f-42c4-cc47-7f7a646a3325"
   },
   "outputs": [
    {
     "data": {
      "text/html": [
       "<div>\n",
       "<style scoped>\n",
       "    .dataframe tbody tr th:only-of-type {\n",
       "        vertical-align: middle;\n",
       "    }\n",
       "\n",
       "    .dataframe tbody tr th {\n",
       "        vertical-align: top;\n",
       "    }\n",
       "\n",
       "    .dataframe thead th {\n",
       "        text-align: right;\n",
       "    }\n",
       "</style>\n",
       "<table border=\"1\" class=\"dataframe\">\n",
       "  <thead>\n",
       "    <tr style=\"text-align: right;\">\n",
       "      <th></th>\n",
       "      <th>OwnerUserId</th>\n",
       "      <th>AnswerDate</th>\n",
       "      <th>QuesId</th>\n",
       "      <th>AnswerScore</th>\n",
       "      <th>Answer</th>\n",
       "    </tr>\n",
       "  </thead>\n",
       "  <tbody>\n",
       "    <tr>\n",
       "      <th>0</th>\n",
       "      <td>61</td>\n",
       "      <td>2008-08-01 14:45:37+00:00</td>\n",
       "      <td>90</td>\n",
       "      <td>13</td>\n",
       "      <td>&lt;p&gt;&lt;a href=\"http://svnbook.red-bean.com/\"&gt;Vers...</td>\n",
       "    </tr>\n",
       "    <tr>\n",
       "      <th>1</th>\n",
       "      <td>26</td>\n",
       "      <td>2008-08-01 16:09:47+00:00</td>\n",
       "      <td>80</td>\n",
       "      <td>12</td>\n",
       "      <td>&lt;p&gt;I wound up using this. It is a kind of a ha...</td>\n",
       "    </tr>\n",
       "    <tr>\n",
       "      <th>2</th>\n",
       "      <td>50</td>\n",
       "      <td>2008-08-01 19:36:46+00:00</td>\n",
       "      <td>180</td>\n",
       "      <td>1</td>\n",
       "      <td>&lt;p&gt;I've read somewhere the human eye can't dis...</td>\n",
       "    </tr>\n",
       "    <tr>\n",
       "      <th>3</th>\n",
       "      <td>91</td>\n",
       "      <td>2008-08-01 23:49:57+00:00</td>\n",
       "      <td>260</td>\n",
       "      <td>4</td>\n",
       "      <td>&lt;p&gt;Yes, I thought about that, but I soon figur...</td>\n",
       "    </tr>\n",
       "    <tr>\n",
       "      <th>4</th>\n",
       "      <td>49</td>\n",
       "      <td>2008-08-02 01:49:46+00:00</td>\n",
       "      <td>260</td>\n",
       "      <td>28</td>\n",
       "      <td>&lt;p&gt;&lt;a href=\"http://www.codeproject.com/Article...</td>\n",
       "    </tr>\n",
       "  </tbody>\n",
       "</table>\n",
       "</div>"
      ],
      "text/plain": [
       "   OwnerUserId  ...                                             Answer\n",
       "0           61  ...  <p><a href=\"http://svnbook.red-bean.com/\">Vers...\n",
       "1           26  ...  <p>I wound up using this. It is a kind of a ha...\n",
       "2           50  ...  <p>I've read somewhere the human eye can't dis...\n",
       "3           91  ...  <p>Yes, I thought about that, but I soon figur...\n",
       "4           49  ...  <p><a href=\"http://www.codeproject.com/Article...\n",
       "\n",
       "[5 rows x 5 columns]"
      ]
     },
     "execution_count": 211,
     "metadata": {
      "tags": []
     },
     "output_type": "execute_result"
    }
   ],
   "source": [
    "ansdf.head()"
   ]
  },
  {
   "cell_type": "code",
   "execution_count": 215,
   "metadata": {
    "colab": {
     "base_uri": "https://localhost:8080/"
    },
    "id": "8xxI_kGKRuGo",
    "outputId": "efb512c9-fcea-427a-b461-4d000d9acb08"
   },
   "outputs": [
    {
     "data": {
      "text/plain": [
       "count    2.001316e+06\n",
       "mean     2.479975e+00\n",
       "std      1.592961e+01\n",
       "min     -4.200000e+01\n",
       "25%      0.000000e+00\n",
       "50%      1.000000e+00\n",
       "75%      2.000000e+00\n",
       "max      5.718000e+03\n",
       "Name: AnswerScore, dtype: float64"
      ]
     },
     "execution_count": 215,
     "metadata": {
      "tags": []
     },
     "output_type": "execute_result"
    }
   ],
   "source": [
    "ansdf.AnswerScore.describe()"
   ]
  },
  {
   "cell_type": "code",
   "execution_count": 217,
   "metadata": {
    "colab": {
     "base_uri": "https://localhost:8080/",
     "height": 333
    },
    "id": "odZOi84rQQuS",
    "outputId": "a971094e-7023-4deb-bf5b-00610a335d23"
   },
   "outputs": [
    {
     "name": "stderr",
     "output_type": "stream",
     "text": [
      "/usr/local/lib/python3.6/dist-packages/seaborn/_decorators.py:43: FutureWarning: Pass the following variable as a keyword arg: x. From version 0.12, the only valid positional argument will be `data`, and passing other arguments without an explicit keyword will result in an error or misinterpretation.\n",
      "  FutureWarning\n"
     ]
    },
    {
     "data": {
      "image/png": "[encoded data removed]",
      "text/plain": [
       "<Figure size 432x288 with 1 Axes>"
      ]
     },
     "metadata": {
      "needs_background": "light",
      "tags": []
     },
     "output_type": "display_data"
    }
   ],
   "source": [
    "sns.boxplot(ansdf.AnswerScore)\n",
    "plt.show()"
   ]
  },
  {
   "cell_type": "code",
   "execution_count": 218,
   "metadata": {
    "colab": {
     "base_uri": "https://localhost:8080/"
    },
    "id": "T1888lfDSfyb",
    "outputId": "9c7fb6ba-f594-4e70-894c-3261e5999db3"
   },
   "outputs": [
    {
     "data": {
      "text/plain": [
       "0.50       1.0\n",
       "0.70       2.0\n",
       "0.80       3.0\n",
       "0.90       4.0\n",
       "0.95       8.0\n",
       "0.99      28.0\n",
       "1.00    5718.0\n",
       "Name: AnswerScore, dtype: float64"
      ]
     },
     "execution_count": 218,
     "metadata": {
      "tags": []
     },
     "output_type": "execute_result"
    }
   ],
   "source": [
    "ansdf.AnswerScore.quantile([0.5,0.7,0.8,0.9,0.95,0.99,1])"
   ]
  },
  {
   "cell_type": "code",
   "execution_count": 232,
   "metadata": {
    "colab": {
     "base_uri": "https://localhost:8080/"
    },
    "id": "IUg5578_UUeo",
    "outputId": "b12f0935-3392-4375-b4a2-2f2452411ff4"
   },
   "outputs": [
    {
     "data": {
      "text/plain": [
       "count    2.001301e+06\n",
       "mean     2.458493e+00\n",
       "std      1.364353e+01\n",
       "min     -4.200000e+01\n",
       "25%      0.000000e+00\n",
       "50%      1.000000e+00\n",
       "75%      2.000000e+00\n",
       "max      1.963000e+03\n",
       "Name: AnswerScore, dtype: float64"
      ]
     },
     "execution_count": 232,
     "metadata": {
      "tags": []
     },
     "output_type": "execute_result"
    }
   ],
   "source": [
    "ansdf[ansdf['AnswerScore']<2000].AnswerScore.describe()"
   ]
  },
  {
   "cell_type": "code",
   "execution_count": 221,
   "metadata": {
    "colab": {
     "base_uri": "https://localhost:8080/"
    },
    "id": "_3U0WqjLUFA5",
    "outputId": "1b42846f-5a1a-4f33-cea5-4f3693601153"
   },
   "outputs": [
    {
     "data": {
      "text/plain": [
       "count       4.000000\n",
       "mean     3985.500000\n",
       "std      1184.806173\n",
       "min      3038.000000\n",
       "25%      3421.250000\n",
       "50%      3593.000000\n",
       "75%      4157.250000\n",
       "max      5718.000000\n",
       "Name: AnswerScore, dtype: float64"
      ]
     },
     "execution_count": 221,
     "metadata": {
      "tags": []
     },
     "output_type": "execute_result"
    }
   ],
   "source": [
    "ansdf[ansdf['AnswerScore']>3000].AnswerScore.describe()"
   ]
  },
  {
   "cell_type": "markdown",
   "metadata": {
    "id": "0pGE2KFQnUG6"
   },
   "source": [
    "So we can see that maximum scores lie between the range of 0 to 2000"
   ]
  },
  {
   "cell_type": "code",
   "execution_count": null,
   "metadata": {
    "id": "QKyl-hrVnTt6"
   },
   "outputs": [],
   "source": []
  },
  {
   "cell_type": "code",
   "execution_count": 222,
   "metadata": {
    "colab": {
     "base_uri": "https://localhost:8080/"
    },
    "id": "yGAvBNcXUSLU",
    "outputId": "0494d11b-3d5d-4649-efe5-067a838b3b35"
   },
   "outputs": [
    {
     "data": {
      "text/plain": [
       "0       771984\n",
       "1       526071\n",
       "2       258565\n",
       "3       134389\n",
       "4        76165\n",
       "         ...  \n",
       "569          1\n",
       "571          1\n",
       "572          1\n",
       "573          1\n",
       "1015         1\n",
       "Name: AnswerScore, Length: 695, dtype: int64"
      ]
     },
     "execution_count": 222,
     "metadata": {
      "tags": []
     },
     "output_type": "execute_result"
    }
   ],
   "source": [
    "ansdf.AnswerScore.value_counts()"
   ]
  },
  {
   "cell_type": "code",
   "execution_count": 223,
   "metadata": {
    "colab": {
     "base_uri": "https://localhost:8080/",
     "height": 195
    },
    "id": "NQm-FeOSb5jq",
    "outputId": "9e146488-e739-4c3b-f6a7-85ec1b2dca79"
   },
   "outputs": [
    {
     "data": {
      "text/html": [
       "<div>\n",
       "<style scoped>\n",
       "    .dataframe tbody tr th:only-of-type {\n",
       "        vertical-align: middle;\n",
       "    }\n",
       "\n",
       "    .dataframe tbody tr th {\n",
       "        vertical-align: top;\n",
       "    }\n",
       "\n",
       "    .dataframe thead th {\n",
       "        text-align: right;\n",
       "    }\n",
       "</style>\n",
       "<table border=\"1\" class=\"dataframe\">\n",
       "  <thead>\n",
       "    <tr style=\"text-align: right;\">\n",
       "      <th></th>\n",
       "      <th>OwnerUserId</th>\n",
       "      <th>display_name</th>\n",
       "      <th>reputation</th>\n",
       "      <th>up_votes</th>\n",
       "      <th>down_votes</th>\n",
       "      <th>views</th>\n",
       "    </tr>\n",
       "  </thead>\n",
       "  <tbody>\n",
       "    <tr>\n",
       "      <th>0</th>\n",
       "      <td>26</td>\n",
       "      <td>Shawn</td>\n",
       "      <td>11820</td>\n",
       "      <td>565</td>\n",
       "      <td>67</td>\n",
       "      <td>3547</td>\n",
       "    </tr>\n",
       "    <tr>\n",
       "      <th>27</th>\n",
       "      <td>1109</td>\n",
       "      <td>Theo</td>\n",
       "      <td>116072</td>\n",
       "      <td>457</td>\n",
       "      <td>136</td>\n",
       "      <td>6905</td>\n",
       "    </tr>\n",
       "    <tr>\n",
       "      <th>85</th>\n",
       "      <td>364174</td>\n",
       "      <td>stats</td>\n",
       "      <td>325</td>\n",
       "      <td>25</td>\n",
       "      <td>1</td>\n",
       "      <td>60</td>\n",
       "    </tr>\n",
       "    <tr>\n",
       "      <th>87</th>\n",
       "      <td>61</td>\n",
       "      <td>Bernard</td>\n",
       "      <td>22779</td>\n",
       "      <td>1321</td>\n",
       "      <td>219</td>\n",
       "      <td>1731</td>\n",
       "    </tr>\n",
       "    <tr>\n",
       "      <th>97</th>\n",
       "      <td>20709</td>\n",
       "      <td>Black Horus</td>\n",
       "      <td>978</td>\n",
       "      <td>73</td>\n",
       "      <td>2</td>\n",
       "      <td>96</td>\n",
       "    </tr>\n",
       "  </tbody>\n",
       "</table>\n",
       "</div>"
      ],
      "text/plain": [
       "    OwnerUserId display_name  reputation  up_votes  down_votes  views\n",
       "0            26        Shawn       11820       565          67   3547\n",
       "27         1109         Theo      116072       457         136   6905\n",
       "85       364174        stats         325        25           1     60\n",
       "87           61      Bernard       22779      1321         219   1731\n",
       "97        20709  Black Horus         978        73           2     96"
      ]
     },
     "execution_count": 223,
     "metadata": {
      "tags": []
     },
     "output_type": "execute_result"
    }
   ],
   "source": [
    "usersdf.head()"
   ]
  },
  {
   "cell_type": "code",
   "execution_count": 224,
   "metadata": {
    "colab": {
     "base_uri": "https://localhost:8080/",
     "height": 195
    },
    "id": "AgsBY4FycDkh",
    "outputId": "e3f692ca-c4f6-4078-84e1-ddedf6ee4ba1"
   },
   "outputs": [
    {
     "data": {
      "text/html": [
       "<div>\n",
       "<style scoped>\n",
       "    .dataframe tbody tr th:only-of-type {\n",
       "        vertical-align: middle;\n",
       "    }\n",
       "\n",
       "    .dataframe tbody tr th {\n",
       "        vertical-align: top;\n",
       "    }\n",
       "\n",
       "    .dataframe thead th {\n",
       "        text-align: right;\n",
       "    }\n",
       "</style>\n",
       "<table border=\"1\" class=\"dataframe\">\n",
       "  <thead>\n",
       "    <tr style=\"text-align: right;\">\n",
       "      <th></th>\n",
       "      <th>OwnerUserId</th>\n",
       "      <th>AnswerDate</th>\n",
       "      <th>QuesId</th>\n",
       "      <th>AnswerScore</th>\n",
       "      <th>Answer</th>\n",
       "    </tr>\n",
       "  </thead>\n",
       "  <tbody>\n",
       "    <tr>\n",
       "      <th>0</th>\n",
       "      <td>61</td>\n",
       "      <td>2008-08-01 14:45:37+00:00</td>\n",
       "      <td>90</td>\n",
       "      <td>13</td>\n",
       "      <td>&lt;p&gt;&lt;a href=\"http://svnbook.red-bean.com/\"&gt;Vers...</td>\n",
       "    </tr>\n",
       "    <tr>\n",
       "      <th>1</th>\n",
       "      <td>26</td>\n",
       "      <td>2008-08-01 16:09:47+00:00</td>\n",
       "      <td>80</td>\n",
       "      <td>12</td>\n",
       "      <td>&lt;p&gt;I wound up using this. It is a kind of a ha...</td>\n",
       "    </tr>\n",
       "    <tr>\n",
       "      <th>2</th>\n",
       "      <td>50</td>\n",
       "      <td>2008-08-01 19:36:46+00:00</td>\n",
       "      <td>180</td>\n",
       "      <td>1</td>\n",
       "      <td>&lt;p&gt;I've read somewhere the human eye can't dis...</td>\n",
       "    </tr>\n",
       "    <tr>\n",
       "      <th>3</th>\n",
       "      <td>91</td>\n",
       "      <td>2008-08-01 23:49:57+00:00</td>\n",
       "      <td>260</td>\n",
       "      <td>4</td>\n",
       "      <td>&lt;p&gt;Yes, I thought about that, but I soon figur...</td>\n",
       "    </tr>\n",
       "    <tr>\n",
       "      <th>4</th>\n",
       "      <td>49</td>\n",
       "      <td>2008-08-02 01:49:46+00:00</td>\n",
       "      <td>260</td>\n",
       "      <td>28</td>\n",
       "      <td>&lt;p&gt;&lt;a href=\"http://www.codeproject.com/Article...</td>\n",
       "    </tr>\n",
       "  </tbody>\n",
       "</table>\n",
       "</div>"
      ],
      "text/plain": [
       "   OwnerUserId  ...                                             Answer\n",
       "0           61  ...  <p><a href=\"http://svnbook.red-bean.com/\">Vers...\n",
       "1           26  ...  <p>I wound up using this. It is a kind of a ha...\n",
       "2           50  ...  <p>I've read somewhere the human eye can't dis...\n",
       "3           91  ...  <p>Yes, I thought about that, but I soon figur...\n",
       "4           49  ...  <p><a href=\"http://www.codeproject.com/Article...\n",
       "\n",
       "[5 rows x 5 columns]"
      ]
     },
     "execution_count": 224,
     "metadata": {
      "tags": []
     },
     "output_type": "execute_result"
    }
   ],
   "source": [
    "ansdf.head()"
   ]
  },
  {
   "cell_type": "code",
   "execution_count": 225,
   "metadata": {
    "colab": {
     "base_uri": "https://localhost:8080/",
     "height": 195
    },
    "id": "eRHBpFgpshWl",
    "outputId": "6280133d-5e6c-440d-a4b5-6f86a9c0b58c"
   },
   "outputs": [
    {
     "data": {
      "text/html": [
       "<div>\n",
       "<style scoped>\n",
       "    .dataframe tbody tr th:only-of-type {\n",
       "        vertical-align: middle;\n",
       "    }\n",
       "\n",
       "    .dataframe tbody tr th {\n",
       "        vertical-align: top;\n",
       "    }\n",
       "\n",
       "    .dataframe thead th {\n",
       "        text-align: right;\n",
       "    }\n",
       "</style>\n",
       "<table border=\"1\" class=\"dataframe\">\n",
       "  <thead>\n",
       "    <tr style=\"text-align: right;\">\n",
       "      <th></th>\n",
       "      <th>Id</th>\n",
       "      <th>OwnerUserId</th>\n",
       "      <th>CreationDate</th>\n",
       "      <th>Score</th>\n",
       "      <th>Title</th>\n",
       "      <th>Body</th>\n",
       "      <th>bin</th>\n",
       "    </tr>\n",
       "  </thead>\n",
       "  <tbody>\n",
       "    <tr>\n",
       "      <th>0</th>\n",
       "      <td>80</td>\n",
       "      <td>26</td>\n",
       "      <td>2008-08-01 13:57:07+00:00</td>\n",
       "      <td>26</td>\n",
       "      <td>SQLStatement.execute() - multiple queries in o...</td>\n",
       "      <td>&lt;p&gt;I've written a database generation script i...</td>\n",
       "      <td>Good</td>\n",
       "    </tr>\n",
       "    <tr>\n",
       "      <th>1</th>\n",
       "      <td>90</td>\n",
       "      <td>58</td>\n",
       "      <td>2008-08-01 14:41:24+00:00</td>\n",
       "      <td>144</td>\n",
       "      <td>Good branching and merging tutorials for Torto...</td>\n",
       "      <td>&lt;p&gt;Are there any really good tutorials explain...</td>\n",
       "      <td>Good</td>\n",
       "    </tr>\n",
       "    <tr>\n",
       "      <th>2</th>\n",
       "      <td>120</td>\n",
       "      <td>83</td>\n",
       "      <td>2008-08-01 15:50:08+00:00</td>\n",
       "      <td>21</td>\n",
       "      <td>ASP.NET Site Maps</td>\n",
       "      <td>&lt;p&gt;Has anyone got experience creating &lt;strong&gt;...</td>\n",
       "      <td>Average</td>\n",
       "    </tr>\n",
       "    <tr>\n",
       "      <th>3</th>\n",
       "      <td>180</td>\n",
       "      <td>2089740</td>\n",
       "      <td>2008-08-01 18:42:19+00:00</td>\n",
       "      <td>53</td>\n",
       "      <td>Function for creating color wheels</td>\n",
       "      <td>&lt;p&gt;This is something I've pseudo-solved many t...</td>\n",
       "      <td>Good</td>\n",
       "    </tr>\n",
       "    <tr>\n",
       "      <th>4</th>\n",
       "      <td>260</td>\n",
       "      <td>91</td>\n",
       "      <td>2008-08-01 23:22:08+00:00</td>\n",
       "      <td>49</td>\n",
       "      <td>Adding scripting functionality to .NET applica...</td>\n",
       "      <td>&lt;p&gt;I have a little game written in C#. It uses...</td>\n",
       "      <td>Good</td>\n",
       "    </tr>\n",
       "  </tbody>\n",
       "</table>\n",
       "</div>"
      ],
      "text/plain": [
       "    Id  OwnerUserId  ...                                               Body      bin\n",
       "0   80           26  ...  <p>I've written a database generation script i...     Good\n",
       "1   90           58  ...  <p>Are there any really good tutorials explain...     Good\n",
       "2  120           83  ...  <p>Has anyone got experience creating <strong>...  Average\n",
       "3  180      2089740  ...  <p>This is something I've pseudo-solved many t...     Good\n",
       "4  260           91  ...  <p>I have a little game written in C#. It uses...     Good\n",
       "\n",
       "[5 rows x 7 columns]"
      ]
     },
     "execution_count": 225,
     "metadata": {
      "tags": []
     },
     "output_type": "execute_result"
    }
   ],
   "source": [
    "quesdf.head()"
   ]
  },
  {
   "cell_type": "code",
   "execution_count": 233,
   "metadata": {
    "colab": {
     "base_uri": "https://localhost:8080/"
    },
    "id": "YPi8RKC1yowq",
    "outputId": "35734a3b-fd9e-4646-ac92-cf43f6ef10fd"
   },
   "outputs": [
    {
     "name": "stdout",
     "output_type": "stream",
     "text": [
      "<class 'pandas.core.frame.DataFrame'>\n",
      "Int64Index: 465460 entries, 0 to 1990479\n",
      "Data columns (total 6 columns):\n",
      " #   Column        Non-Null Count   Dtype \n",
      "---  ------        --------------   ----- \n",
      " 0   OwnerUserId   465460 non-null  int64 \n",
      " 1   display_name  465436 non-null  object\n",
      " 2   reputation    465460 non-null  int64 \n",
      " 3   up_votes      465460 non-null  int64 \n",
      " 4   down_votes    465460 non-null  int64 \n",
      " 5   views         465460 non-null  int64 \n",
      "dtypes: int64(5), object(1)\n",
      "memory usage: 24.9+ MB\n"
     ]
    }
   ],
   "source": [
    "usersdf.info()"
   ]
  },
  {
   "cell_type": "code",
   "execution_count": 234,
   "metadata": {
    "colab": {
     "base_uri": "https://localhost:8080/"
    },
    "id": "skSNvfq95pr4",
    "outputId": "2f47d111-2a24-4007-a02b-362971b7711d"
   },
   "outputs": [
    {
     "name": "stdout",
     "output_type": "stream",
     "text": [
      "<class 'pandas.core.frame.DataFrame'>\n",
      "Int64Index: 2001316 entries, 0 to 2014515\n",
      "Data columns (total 5 columns):\n",
      " #   Column       Dtype              \n",
      "---  ------       -----              \n",
      " 0   OwnerUserId  int32              \n",
      " 1   AnswerDate   datetime64[ns, UTC]\n",
      " 2   QuesId       int64              \n",
      " 3   AnswerScore  int64              \n",
      " 4   Answer       object             \n",
      "dtypes: datetime64[ns, UTC](1), int32(1), int64(2), object(1)\n",
      "memory usage: 84.0+ MB\n"
     ]
    }
   ],
   "source": [
    "ansdf.info()"
   ]
  },
  {
   "cell_type": "code",
   "execution_count": 235,
   "metadata": {
    "colab": {
     "base_uri": "https://localhost:8080/"
    },
    "id": "wV7oeg4yScuc",
    "outputId": "6a35e314-8c8a-49f7-c355-dfb1f1f2ab51"
   },
   "outputs": [
    {
     "name": "stdout",
     "output_type": "stream",
     "text": [
      "<class 'pandas.core.frame.DataFrame'>\n",
      "Int64Index: 1249762 entries, 0 to 1264215\n",
      "Data columns (total 7 columns):\n",
      " #   Column        Non-Null Count    Dtype              \n",
      "---  ------        --------------    -----              \n",
      " 0   Id            1249762 non-null  int64              \n",
      " 1   OwnerUserId   1249762 non-null  int32              \n",
      " 2   CreationDate  1249762 non-null  datetime64[ns, UTC]\n",
      " 3   Score         1249762 non-null  int64              \n",
      " 4   Title         1249762 non-null  object             \n",
      " 5   Body          1249762 non-null  object             \n",
      " 6   bin           1249761 non-null  category           \n",
      "dtypes: category(1), datetime64[ns, UTC](1), int32(1), int64(2), object(2)\n",
      "memory usage: 63.2+ MB\n"
     ]
    }
   ],
   "source": [
    "quesdf.info()"
   ]
  },
  {
   "cell_type": "markdown",
   "metadata": {
    "id": "cw-SQ4kb3aAR"
   },
   "source": [
    "##Most popular Data Science tag"
   ]
  },
  {
   "cell_type": "code",
   "execution_count": 84,
   "metadata": {
    "colab": {
     "base_uri": "https://localhost:8080/"
    },
    "id": "1IhvXzkiSiRf",
    "outputId": "b60da211-a371-44e9-976e-1c85ca82f43f"
   },
   "outputs": [
    {
     "data": {
      "text/plain": [
       "python    64601\n",
       "sql       35782\n",
       "r         15701\n",
       "matlab     6495\n",
       "sas         697\n",
       "Name: Tag, dtype: int64"
      ]
     },
     "execution_count": 84,
     "metadata": {
      "tags": []
     },
     "output_type": "execute_result"
    }
   ],
   "source": [
    "DStagsdf.Tag.value_counts()"
   ]
  },
  {
   "cell_type": "code",
   "execution_count": 85,
   "metadata": {
    "colab": {
     "base_uri": "https://localhost:8080/",
     "height": 282
    },
    "id": "C68w31jpbRtp",
    "outputId": "059877ac-6bc5-4bc7-ce5e-0d7ae1e3c203"
   },
   "outputs": [
    {
     "data": {
      "text/plain": [
       "<matplotlib.axes._subplots.AxesSubplot at 0x7f2777960f98>"
      ]
     },
     "execution_count": 85,
     "metadata": {
      "tags": []
     },
     "output_type": "execute_result"
    },
    {
     "data": {
      "image/png": "[encoded data removed]",
      "text/plain": [
       "<Figure size 432x288 with 1 Axes>"
      ]
     },
     "metadata": {
      "needs_background": "light",
      "tags": []
     },
     "output_type": "display_data"
    }
   ],
   "source": [
    "DStagsdf.Tag.value_counts().plot.barh()"
   ]
  },
  {
   "cell_type": "markdown",
   "metadata": {
    "id": "RAz7c2HTiRAB"
   },
   "source": [
    "##Combining question dataframe with tags dataframe"
   ]
  },
  {
   "cell_type": "code",
   "execution_count": 236,
   "metadata": {
    "colab": {
     "base_uri": "https://localhost:8080/",
     "height": 343
    },
    "id": "4YeFmIZY6Do0",
    "outputId": "90635153-d00f-4a3d-bcf3-98185d8f0ac2"
   },
   "outputs": [
    {
     "data": {
      "text/html": [
       "<div>\n",
       "<style scoped>\n",
       "    .dataframe tbody tr th:only-of-type {\n",
       "        vertical-align: middle;\n",
       "    }\n",
       "\n",
       "    .dataframe tbody tr th {\n",
       "        vertical-align: top;\n",
       "    }\n",
       "\n",
       "    .dataframe thead th {\n",
       "        text-align: right;\n",
       "    }\n",
       "</style>\n",
       "<table border=\"1\" class=\"dataframe\">\n",
       "  <thead>\n",
       "    <tr style=\"text-align: right;\">\n",
       "      <th></th>\n",
       "      <th>Id</th>\n",
       "      <th>OwnerUserId</th>\n",
       "      <th>CreationDate</th>\n",
       "      <th>Score</th>\n",
       "      <th>Title</th>\n",
       "      <th>Body</th>\n",
       "      <th>bin</th>\n",
       "      <th>Tag</th>\n",
       "    </tr>\n",
       "  </thead>\n",
       "  <tbody>\n",
       "    <tr>\n",
       "      <th>0</th>\n",
       "      <td>80</td>\n",
       "      <td>26.0</td>\n",
       "      <td>2008-08-01 13:57:07+00:00</td>\n",
       "      <td>26.0</td>\n",
       "      <td>SQLStatement.execute() - multiple queries in o...</td>\n",
       "      <td>&lt;p&gt;I've written a database generation script i...</td>\n",
       "      <td>Good</td>\n",
       "      <td>flex</td>\n",
       "    </tr>\n",
       "    <tr>\n",
       "      <th>1</th>\n",
       "      <td>80</td>\n",
       "      <td>26.0</td>\n",
       "      <td>2008-08-01 13:57:07+00:00</td>\n",
       "      <td>26.0</td>\n",
       "      <td>SQLStatement.execute() - multiple queries in o...</td>\n",
       "      <td>&lt;p&gt;I've written a database generation script i...</td>\n",
       "      <td>Good</td>\n",
       "      <td>actionscript-3</td>\n",
       "    </tr>\n",
       "    <tr>\n",
       "      <th>2</th>\n",
       "      <td>80</td>\n",
       "      <td>26.0</td>\n",
       "      <td>2008-08-01 13:57:07+00:00</td>\n",
       "      <td>26.0</td>\n",
       "      <td>SQLStatement.execute() - multiple queries in o...</td>\n",
       "      <td>&lt;p&gt;I've written a database generation script i...</td>\n",
       "      <td>Good</td>\n",
       "      <td>air</td>\n",
       "    </tr>\n",
       "    <tr>\n",
       "      <th>3</th>\n",
       "      <td>90</td>\n",
       "      <td>58.0</td>\n",
       "      <td>2008-08-01 14:41:24+00:00</td>\n",
       "      <td>144.0</td>\n",
       "      <td>Good branching and merging tutorials for Torto...</td>\n",
       "      <td>&lt;p&gt;Are there any really good tutorials explain...</td>\n",
       "      <td>Good</td>\n",
       "      <td>svn</td>\n",
       "    </tr>\n",
       "    <tr>\n",
       "      <th>4</th>\n",
       "      <td>90</td>\n",
       "      <td>58.0</td>\n",
       "      <td>2008-08-01 14:41:24+00:00</td>\n",
       "      <td>144.0</td>\n",
       "      <td>Good branching and merging tutorials for Torto...</td>\n",
       "      <td>&lt;p&gt;Are there any really good tutorials explain...</td>\n",
       "      <td>Good</td>\n",
       "      <td>tortoisesvn</td>\n",
       "    </tr>\n",
       "    <tr>\n",
       "      <th>5</th>\n",
       "      <td>90</td>\n",
       "      <td>58.0</td>\n",
       "      <td>2008-08-01 14:41:24+00:00</td>\n",
       "      <td>144.0</td>\n",
       "      <td>Good branching and merging tutorials for Torto...</td>\n",
       "      <td>&lt;p&gt;Are there any really good tutorials explain...</td>\n",
       "      <td>Good</td>\n",
       "      <td>branch</td>\n",
       "    </tr>\n",
       "    <tr>\n",
       "      <th>6</th>\n",
       "      <td>90</td>\n",
       "      <td>58.0</td>\n",
       "      <td>2008-08-01 14:41:24+00:00</td>\n",
       "      <td>144.0</td>\n",
       "      <td>Good branching and merging tutorials for Torto...</td>\n",
       "      <td>&lt;p&gt;Are there any really good tutorials explain...</td>\n",
       "      <td>Good</td>\n",
       "      <td>branching-and-merging</td>\n",
       "    </tr>\n",
       "    <tr>\n",
       "      <th>7</th>\n",
       "      <td>120</td>\n",
       "      <td>83.0</td>\n",
       "      <td>2008-08-01 15:50:08+00:00</td>\n",
       "      <td>21.0</td>\n",
       "      <td>ASP.NET Site Maps</td>\n",
       "      <td>&lt;p&gt;Has anyone got experience creating &lt;strong&gt;...</td>\n",
       "      <td>Average</td>\n",
       "      <td>sql</td>\n",
       "    </tr>\n",
       "    <tr>\n",
       "      <th>8</th>\n",
       "      <td>120</td>\n",
       "      <td>83.0</td>\n",
       "      <td>2008-08-01 15:50:08+00:00</td>\n",
       "      <td>21.0</td>\n",
       "      <td>ASP.NET Site Maps</td>\n",
       "      <td>&lt;p&gt;Has anyone got experience creating &lt;strong&gt;...</td>\n",
       "      <td>Average</td>\n",
       "      <td>asp.net</td>\n",
       "    </tr>\n",
       "    <tr>\n",
       "      <th>9</th>\n",
       "      <td>120</td>\n",
       "      <td>83.0</td>\n",
       "      <td>2008-08-01 15:50:08+00:00</td>\n",
       "      <td>21.0</td>\n",
       "      <td>ASP.NET Site Maps</td>\n",
       "      <td>&lt;p&gt;Has anyone got experience creating &lt;strong&gt;...</td>\n",
       "      <td>Average</td>\n",
       "      <td>sitemap</td>\n",
       "    </tr>\n",
       "  </tbody>\n",
       "</table>\n",
       "</div>"
      ],
      "text/plain": [
       "    Id  OwnerUserId  ...      bin                    Tag\n",
       "0   80         26.0  ...     Good                   flex\n",
       "1   80         26.0  ...     Good         actionscript-3\n",
       "2   80         26.0  ...     Good                    air\n",
       "3   90         58.0  ...     Good                    svn\n",
       "4   90         58.0  ...     Good            tortoisesvn\n",
       "5   90         58.0  ...     Good                 branch\n",
       "6   90         58.0  ...     Good  branching-and-merging\n",
       "7  120         83.0  ...  Average                    sql\n",
       "8  120         83.0  ...  Average                asp.net\n",
       "9  120         83.0  ...  Average                sitemap\n",
       "\n",
       "[10 rows x 8 columns]"
      ]
     },
     "execution_count": 236,
     "metadata": {
      "tags": []
     },
     "output_type": "execute_result"
    }
   ],
   "source": [
    "questag= pd.merge(quesdf, tagsdf, how='outer',on='Id')\n",
    "questag.head(10)"
   ]
  },
  {
   "cell_type": "code",
   "execution_count": 237,
   "metadata": {
    "colab": {
     "base_uri": "https://localhost:8080/"
    },
    "id": "sbQ80B1qnGBp",
    "outputId": "c2f7219b-b57e-4c66-ee8a-cbd82e21c970"
   },
   "outputs": [
    {
     "data": {
      "text/plain": [
       "(1249762, 7)"
      ]
     },
     "execution_count": 237,
     "metadata": {
      "tags": []
     },
     "output_type": "execute_result"
    }
   ],
   "source": [
    "quesdf.shape"
   ]
  },
  {
   "cell_type": "code",
   "execution_count": 238,
   "metadata": {
    "colab": {
     "base_uri": "https://localhost:8080/"
    },
    "id": "LSyE0fBl7nQ1",
    "outputId": "14ab37bf-fb52-453c-b3d6-9a32e7018d28"
   },
   "outputs": [
    {
     "data": {
      "text/plain": [
       "(3750994, 8)"
      ]
     },
     "execution_count": 238,
     "metadata": {
      "tags": []
     },
     "output_type": "execute_result"
    }
   ],
   "source": [
    "questag.shape"
   ]
  },
  {
   "cell_type": "markdown",
   "metadata": {
    "id": "7tcjlNcO3uZz"
   },
   "source": [
    "### Most popular tags"
   ]
  },
  {
   "cell_type": "code",
   "execution_count": 239,
   "metadata": {
    "colab": {
     "base_uri": "https://localhost:8080/"
    },
    "id": "ZHCP0Y9aaEep",
    "outputId": "5af3327b-2fe5-4cdb-982c-046fb8a9f250"
   },
   "outputs": [
    {
     "data": {
      "text/plain": [
       "javascript        124155\n",
       "java              115212\n",
       "c#                101186\n",
       "php                98808\n",
       "android            90659\n",
       "                   ...  \n",
       "repeatbutton           1\n",
       "reflectinsight         1\n",
       "cscfg                  1\n",
       "plunit                 1\n",
       "jsonix                 1\n",
       "Name: Tag, Length: 37034, dtype: int64"
      ]
     },
     "execution_count": 239,
     "metadata": {
      "tags": []
     },
     "output_type": "execute_result"
    }
   ],
   "source": [
    "tagsdf.Tag.value_counts()"
   ]
  },
  {
   "cell_type": "code",
   "execution_count": 240,
   "metadata": {
    "colab": {
     "base_uri": "https://localhost:8080/"
    },
    "id": "oAOAzfheaxxv",
    "outputId": "2617ac19-46e5-4f5f-f505-d6aa768c4738"
   },
   "outputs": [
    {
     "data": {
      "text/plain": [
       "37034"
      ]
     },
     "execution_count": 240,
     "metadata": {
      "tags": []
     },
     "output_type": "execute_result"
    }
   ],
   "source": [
    "tagsdf.Tag.nunique()"
   ]
  },
  {
   "cell_type": "code",
   "execution_count": 241,
   "metadata": {
    "colab": {
     "base_uri": "https://localhost:8080/"
    },
    "id": "JBDNjeY14cU5",
    "outputId": "26515c53-58c0-4c50-8061-f6c37c685c72"
   },
   "outputs": [
    {
     "data": {
      "text/plain": [
       "1249762"
      ]
     },
     "execution_count": 241,
     "metadata": {
      "tags": []
     },
     "output_type": "execute_result"
    }
   ],
   "source": [
    "quesdf.Id.count()"
   ]
  },
  {
   "cell_type": "code",
   "execution_count": 245,
   "metadata": {
    "colab": {
     "base_uri": "https://localhost:8080/"
    },
    "id": "VMiOf9E85r_C",
    "outputId": "cc7dab51-6c6b-4a51-a53b-2edebc0d1d56"
   },
   "outputs": [
    {
     "data": {
      "text/plain": [
       "1099938"
      ]
     },
     "execution_count": 245,
     "metadata": {
      "tags": []
     },
     "output_type": "execute_result"
    }
   ],
   "source": [
    "ansdf.QuesId.nunique()"
   ]
  },
  {
   "cell_type": "code",
   "execution_count": 246,
   "metadata": {
    "colab": {
     "base_uri": "https://localhost:8080/"
    },
    "id": "RwNh0nqG9CcK",
    "outputId": "f76d2fda-b9a4-48ec-9baf-6cabff9d4748"
   },
   "outputs": [
    {
     "data": {
      "text/plain": [
       "(1249762, 7)"
      ]
     },
     "execution_count": 246,
     "metadata": {
      "tags": []
     },
     "output_type": "execute_result"
    }
   ],
   "source": [
    "quesdf.shape"
   ]
  },
  {
   "cell_type": "code",
   "execution_count": 247,
   "metadata": {
    "colab": {
     "base_uri": "https://localhost:8080/"
    },
    "id": "W0J707n_9Jpw",
    "outputId": "20e3ab66-4262-4407-e221-1352e885925f"
   },
   "outputs": [
    {
     "data": {
      "text/plain": [
       "(2001316, 5)"
      ]
     },
     "execution_count": 247,
     "metadata": {
      "tags": []
     },
     "output_type": "execute_result"
    }
   ],
   "source": [
    "ansdf.shape"
   ]
  },
  {
   "cell_type": "markdown",
   "metadata": {
    "id": "oyUz2ptzg4t6"
   },
   "source": [
    "## Question with highest score"
   ]
  },
  {
   "cell_type": "code",
   "execution_count": 248,
   "metadata": {
    "colab": {
     "base_uri": "https://localhost:8080/",
     "height": 136
    },
    "id": "X9QowJ3UgWvD",
    "outputId": "cd83ba6a-a887-49bd-f2b6-701b1bb31b91"
   },
   "outputs": [
    {
     "data": {
      "text/html": [
       "<div>\n",
       "<style scoped>\n",
       "    .dataframe tbody tr th:only-of-type {\n",
       "        vertical-align: middle;\n",
       "    }\n",
       "\n",
       "    .dataframe tbody tr th {\n",
       "        vertical-align: top;\n",
       "    }\n",
       "\n",
       "    .dataframe thead th {\n",
       "        text-align: right;\n",
       "    }\n",
       "</style>\n",
       "<table border=\"1\" class=\"dataframe\">\n",
       "  <thead>\n",
       "    <tr style=\"text-align: right;\">\n",
       "      <th></th>\n",
       "      <th>Id</th>\n",
       "      <th>OwnerUserId</th>\n",
       "      <th>CreationDate</th>\n",
       "      <th>Score</th>\n",
       "      <th>Title</th>\n",
       "      <th>Body</th>\n",
       "      <th>bin</th>\n",
       "      <th>Tag</th>\n",
       "    </tr>\n",
       "  </thead>\n",
       "  <tbody>\n",
       "    <tr>\n",
       "      <th>13109</th>\n",
       "      <td>348170</td>\n",
       "      <td>14069.0</td>\n",
       "      <td>2008-12-07 21:57:46+00:00</td>\n",
       "      <td>5190.0</td>\n",
       "      <td>How to undo 'git add' before commit?</td>\n",
       "      <td>&lt;p&gt;I mistakenly added files using the command:...</td>\n",
       "      <td>Good</td>\n",
       "      <td>git</td>\n",
       "    </tr>\n",
       "    <tr>\n",
       "      <th>13110</th>\n",
       "      <td>348170</td>\n",
       "      <td>14069.0</td>\n",
       "      <td>2008-12-07 21:57:46+00:00</td>\n",
       "      <td>5190.0</td>\n",
       "      <td>How to undo 'git add' before commit?</td>\n",
       "      <td>&lt;p&gt;I mistakenly added files using the command:...</td>\n",
       "      <td>Good</td>\n",
       "      <td>version-control</td>\n",
       "    </tr>\n",
       "    <tr>\n",
       "      <th>13111</th>\n",
       "      <td>348170</td>\n",
       "      <td>14069.0</td>\n",
       "      <td>2008-12-07 21:57:46+00:00</td>\n",
       "      <td>5190.0</td>\n",
       "      <td>How to undo 'git add' before commit?</td>\n",
       "      <td>&lt;p&gt;I mistakenly added files using the command:...</td>\n",
       "      <td>Good</td>\n",
       "      <td>git-stage</td>\n",
       "    </tr>\n",
       "  </tbody>\n",
       "</table>\n",
       "</div>"
      ],
      "text/plain": [
       "           Id  OwnerUserId  ...   bin              Tag\n",
       "13109  348170      14069.0  ...  Good              git\n",
       "13110  348170      14069.0  ...  Good  version-control\n",
       "13111  348170      14069.0  ...  Good        git-stage\n",
       "\n",
       "[3 rows x 8 columns]"
      ]
     },
     "execution_count": 248,
     "metadata": {
      "tags": []
     },
     "output_type": "execute_result"
    }
   ],
   "source": [
    "questag[questag.Score==questag.Score.max()]"
   ]
  },
  {
   "cell_type": "code",
   "execution_count": 249,
   "metadata": {
    "colab": {
     "base_uri": "https://localhost:8080/"
    },
    "id": "t92iUSf8gmBm",
    "outputId": "54d341f2-76f1-45c1-9631-b6452a63ee70"
   },
   "outputs": [
    {
     "name": "stdout",
     "output_type": "stream",
     "text": [
      "<class 'pandas.core.frame.DataFrame'>\n",
      "Int64Index: 2001316 entries, 0 to 2014515\n",
      "Data columns (total 5 columns):\n",
      " #   Column       Dtype              \n",
      "---  ------       -----              \n",
      " 0   OwnerUserId  int32              \n",
      " 1   AnswerDate   datetime64[ns, UTC]\n",
      " 2   QuesId       int64              \n",
      " 3   AnswerScore  int64              \n",
      " 4   Answer       object             \n",
      "dtypes: datetime64[ns, UTC](1), int32(1), int64(2), object(1)\n",
      "memory usage: 84.0+ MB\n"
     ]
    }
   ],
   "source": [
    "ansdf.info()"
   ]
  },
  {
   "cell_type": "code",
   "execution_count": 100,
   "metadata": {
    "colab": {
     "base_uri": "https://localhost:8080/"
    },
    "id": "JF-2DQ3rimdn",
    "outputId": "13d84d68-662d-48b9-9760-a807b07cced3"
   },
   "outputs": [
    {
     "data": {
      "text/plain": [
       "(2001316, 5)"
      ]
     },
     "execution_count": 100,
     "metadata": {
      "tags": []
     },
     "output_type": "execute_result"
    }
   ],
   "source": [
    "ansdf.shape"
   ]
  },
  {
   "cell_type": "markdown",
   "metadata": {
    "id": "tJUK_Hc_oAwa"
   },
   "source": [
    "## Combining Answers dataframe with users dataframe"
   ]
  },
  {
   "cell_type": "code",
   "execution_count": 251,
   "metadata": {
    "colab": {
     "base_uri": "https://localhost:8080/",
     "height": 343
    },
    "id": "ptvkOkkzoE9a",
    "outputId": "762a18ec-e028-44b8-d4fe-b16a7f5c14c9"
   },
   "outputs": [
    {
     "data": {
      "text/html": [
       "<div>\n",
       "<style scoped>\n",
       "    .dataframe tbody tr th:only-of-type {\n",
       "        vertical-align: middle;\n",
       "    }\n",
       "\n",
       "    .dataframe tbody tr th {\n",
       "        vertical-align: top;\n",
       "    }\n",
       "\n",
       "    .dataframe thead th {\n",
       "        text-align: right;\n",
       "    }\n",
       "</style>\n",
       "<table border=\"1\" class=\"dataframe\">\n",
       "  <thead>\n",
       "    <tr style=\"text-align: right;\">\n",
       "      <th></th>\n",
       "      <th>OwnerUserId</th>\n",
       "      <th>AnswerDate</th>\n",
       "      <th>QuesId</th>\n",
       "      <th>AnswerScore</th>\n",
       "      <th>Answer</th>\n",
       "      <th>display_name</th>\n",
       "      <th>reputation</th>\n",
       "      <th>up_votes</th>\n",
       "      <th>down_votes</th>\n",
       "      <th>views</th>\n",
       "    </tr>\n",
       "  </thead>\n",
       "  <tbody>\n",
       "    <tr>\n",
       "      <th>0</th>\n",
       "      <td>61</td>\n",
       "      <td>2008-08-01 14:45:37+00:00</td>\n",
       "      <td>90</td>\n",
       "      <td>13</td>\n",
       "      <td>&lt;p&gt;&lt;a href=\"http://svnbook.red-bean.com/\"&gt;Vers...</td>\n",
       "      <td>Bernard</td>\n",
       "      <td>22779</td>\n",
       "      <td>1321</td>\n",
       "      <td>219</td>\n",
       "      <td>1731</td>\n",
       "    </tr>\n",
       "    <tr>\n",
       "      <th>1</th>\n",
       "      <td>61</td>\n",
       "      <td>2008-08-29 01:30:38+00:00</td>\n",
       "      <td>24270</td>\n",
       "      <td>1</td>\n",
       "      <td>&lt;p&gt;I know I find OOP useful pretty much solely...</td>\n",
       "      <td>Bernard</td>\n",
       "      <td>22779</td>\n",
       "      <td>1321</td>\n",
       "      <td>219</td>\n",
       "      <td>1731</td>\n",
       "    </tr>\n",
       "    <tr>\n",
       "      <th>2</th>\n",
       "      <td>61</td>\n",
       "      <td>2008-09-07 02:32:02+00:00</td>\n",
       "      <td>47980</td>\n",
       "      <td>7</td>\n",
       "      <td>&lt;p&gt;I sure as hell can't. Small errors explode ...</td>\n",
       "      <td>Bernard</td>\n",
       "      <td>22779</td>\n",
       "      <td>1321</td>\n",
       "      <td>219</td>\n",
       "      <td>1731</td>\n",
       "    </tr>\n",
       "    <tr>\n",
       "      <th>3</th>\n",
       "      <td>61</td>\n",
       "      <td>2008-09-09 08:35:20+00:00</td>\n",
       "      <td>51390</td>\n",
       "      <td>2</td>\n",
       "      <td>&lt;p&gt;I wonder how widespread the JVM actually is...</td>\n",
       "      <td>Bernard</td>\n",
       "      <td>22779</td>\n",
       "      <td>1321</td>\n",
       "      <td>219</td>\n",
       "      <td>1731</td>\n",
       "    </tr>\n",
       "    <tr>\n",
       "      <th>4</th>\n",
       "      <td>61</td>\n",
       "      <td>2008-09-26 22:57:06+00:00</td>\n",
       "      <td>142340</td>\n",
       "      <td>0</td>\n",
       "      <td>&lt;p&gt;I just have a number. First release is &lt;cod...</td>\n",
       "      <td>Bernard</td>\n",
       "      <td>22779</td>\n",
       "      <td>1321</td>\n",
       "      <td>219</td>\n",
       "      <td>1731</td>\n",
       "    </tr>\n",
       "    <tr>\n",
       "      <th>5</th>\n",
       "      <td>61</td>\n",
       "      <td>2009-02-08 23:41:04+00:00</td>\n",
       "      <td>526660</td>\n",
       "      <td>3</td>\n",
       "      <td>&lt;p&gt;You need a main function:&lt;/p&gt;\\n\\n&lt;pre&gt;&lt;code...</td>\n",
       "      <td>Bernard</td>\n",
       "      <td>22779</td>\n",
       "      <td>1321</td>\n",
       "      <td>219</td>\n",
       "      <td>1731</td>\n",
       "    </tr>\n",
       "    <tr>\n",
       "      <th>6</th>\n",
       "      <td>61</td>\n",
       "      <td>2009-11-23 10:24:47+00:00</td>\n",
       "      <td>1581560</td>\n",
       "      <td>0</td>\n",
       "      <td>&lt;p&gt;The answer, it seems, is to use &lt;a href=\"ht...</td>\n",
       "      <td>Bernard</td>\n",
       "      <td>22779</td>\n",
       "      <td>1321</td>\n",
       "      <td>219</td>\n",
       "      <td>1731</td>\n",
       "    </tr>\n",
       "    <tr>\n",
       "      <th>7</th>\n",
       "      <td>61</td>\n",
       "      <td>2010-03-25 23:53:31+00:00</td>\n",
       "      <td>2520220</td>\n",
       "      <td>8</td>\n",
       "      <td>&lt;p&gt;Yes, the function must be declared as &lt;code...</td>\n",
       "      <td>Bernard</td>\n",
       "      <td>22779</td>\n",
       "      <td>1321</td>\n",
       "      <td>219</td>\n",
       "      <td>1731</td>\n",
       "    </tr>\n",
       "    <tr>\n",
       "      <th>8</th>\n",
       "      <td>61</td>\n",
       "      <td>2011-06-05 11:28:08+00:00</td>\n",
       "      <td>6242540</td>\n",
       "      <td>8</td>\n",
       "      <td>&lt;p&gt;If you merely want a pointer, the correct w...</td>\n",
       "      <td>Bernard</td>\n",
       "      <td>22779</td>\n",
       "      <td>1321</td>\n",
       "      <td>219</td>\n",
       "      <td>1731</td>\n",
       "    </tr>\n",
       "    <tr>\n",
       "      <th>9</th>\n",
       "      <td>61</td>\n",
       "      <td>2011-07-02 12:03:26+00:00</td>\n",
       "      <td>6553950</td>\n",
       "      <td>7</td>\n",
       "      <td>&lt;p&gt;I asked around on IRC, and as far as we can...</td>\n",
       "      <td>Bernard</td>\n",
       "      <td>22779</td>\n",
       "      <td>1321</td>\n",
       "      <td>219</td>\n",
       "      <td>1731</td>\n",
       "    </tr>\n",
       "  </tbody>\n",
       "</table>\n",
       "</div>"
      ],
      "text/plain": [
       "   OwnerUserId                AnswerDate   QuesId  ...  up_votes down_votes views\n",
       "0           61 2008-08-01 14:45:37+00:00       90  ...      1321        219  1731\n",
       "1           61 2008-08-29 01:30:38+00:00    24270  ...      1321        219  1731\n",
       "2           61 2008-09-07 02:32:02+00:00    47980  ...      1321        219  1731\n",
       "3           61 2008-09-09 08:35:20+00:00    51390  ...      1321        219  1731\n",
       "4           61 2008-09-26 22:57:06+00:00   142340  ...      1321        219  1731\n",
       "5           61 2009-02-08 23:41:04+00:00   526660  ...      1321        219  1731\n",
       "6           61 2009-11-23 10:24:47+00:00  1581560  ...      1321        219  1731\n",
       "7           61 2010-03-25 23:53:31+00:00  2520220  ...      1321        219  1731\n",
       "8           61 2011-06-05 11:28:08+00:00  6242540  ...      1321        219  1731\n",
       "9           61 2011-07-02 12:03:26+00:00  6553950  ...      1321        219  1731\n",
       "\n",
       "[10 rows x 10 columns]"
      ]
     },
     "execution_count": 251,
     "metadata": {
      "tags": []
     },
     "output_type": "execute_result"
    }
   ],
   "source": [
    "userans= pd.merge(ansdf,usersdf,how='inner',on='OwnerUserId')\n",
    "userans.head(10)"
   ]
  },
  {
   "cell_type": "code",
   "execution_count": 252,
   "metadata": {
    "colab": {
     "base_uri": "https://localhost:8080/"
    },
    "id": "a9CsDSIioSP3",
    "outputId": "e2823fb9-1858-47ca-9436-4396f7f53c81"
   },
   "outputs": [
    {
     "data": {
      "text/plain": [
       "(1990480, 10)"
      ]
     },
     "execution_count": 252,
     "metadata": {
      "tags": []
     },
     "output_type": "execute_result"
    }
   ],
   "source": [
    "userans.shape"
   ]
  },
  {
   "cell_type": "code",
   "execution_count": 254,
   "metadata": {
    "colab": {
     "base_uri": "https://localhost:8080/"
    },
    "id": "L3u5iUzkoVcj",
    "outputId": "a9ca5192-1e41-4752-c9b1-42746e4b43c2"
   },
   "outputs": [
    {
     "data": {
      "text/plain": [
       "(465460, 6)"
      ]
     },
     "execution_count": 254,
     "metadata": {
      "tags": []
     },
     "output_type": "execute_result"
    }
   ],
   "source": [
    "usersdf.shape"
   ]
  },
  {
   "cell_type": "code",
   "execution_count": 255,
   "metadata": {
    "colab": {
     "base_uri": "https://localhost:8080/"
    },
    "id": "vpfgF1eioYZb",
    "outputId": "54777609-983f-4557-f704-aeae3c99fec5"
   },
   "outputs": [
    {
     "data": {
      "text/plain": [
       "(2001316, 5)"
      ]
     },
     "execution_count": 255,
     "metadata": {
      "tags": []
     },
     "output_type": "execute_result"
    }
   ],
   "source": [
    "ansdf.shape"
   ]
  },
  {
   "cell_type": "code",
   "execution_count": 277,
   "metadata": {
    "id": "HfDkt4HmrL2P"
   },
   "outputs": [],
   "source": [
    "userans.rename(columns= {'OwnerUserId':'A_OwnerUserId'}, inplace= True)"
   ]
  },
  {
   "cell_type": "code",
   "execution_count": 275,
   "metadata": {
    "id": "XIvHkKpUqn7b"
   },
   "outputs": [],
   "source": [
    "userans.drop_duplicates(inplace= True)"
   ]
  },
  {
   "cell_type": "code",
   "execution_count": 278,
   "metadata": {
    "colab": {
     "base_uri": "https://localhost:8080/",
     "height": 639
    },
    "id": "28AquSFGqtEM",
    "outputId": "14fd3027-bf80-4977-ee9b-2fc18265bc4e"
   },
   "outputs": [
    {
     "data": {
      "text/html": [
       "<div>\n",
       "<style scoped>\n",
       "    .dataframe tbody tr th:only-of-type {\n",
       "        vertical-align: middle;\n",
       "    }\n",
       "\n",
       "    .dataframe tbody tr th {\n",
       "        vertical-align: top;\n",
       "    }\n",
       "\n",
       "    .dataframe thead th {\n",
       "        text-align: right;\n",
       "    }\n",
       "</style>\n",
       "<table border=\"1\" class=\"dataframe\">\n",
       "  <thead>\n",
       "    <tr style=\"text-align: right;\">\n",
       "      <th></th>\n",
       "      <th>A_OwnerUserId</th>\n",
       "      <th>AnswerDate</th>\n",
       "      <th>QuesId</th>\n",
       "      <th>AnswerScore</th>\n",
       "      <th>Answer</th>\n",
       "      <th>display_name</th>\n",
       "      <th>reputation</th>\n",
       "      <th>up_votes</th>\n",
       "      <th>down_votes</th>\n",
       "      <th>views</th>\n",
       "    </tr>\n",
       "  </thead>\n",
       "  <tbody>\n",
       "    <tr>\n",
       "      <th>0</th>\n",
       "      <td>61</td>\n",
       "      <td>2008-08-01 14:45:37+00:00</td>\n",
       "      <td>90</td>\n",
       "      <td>13</td>\n",
       "      <td>&lt;p&gt;&lt;a href=\"http://svnbook.red-bean.com/\"&gt;Vers...</td>\n",
       "      <td>Bernard</td>\n",
       "      <td>22779</td>\n",
       "      <td>1321</td>\n",
       "      <td>219</td>\n",
       "      <td>1731</td>\n",
       "    </tr>\n",
       "    <tr>\n",
       "      <th>1</th>\n",
       "      <td>61</td>\n",
       "      <td>2008-08-29 01:30:38+00:00</td>\n",
       "      <td>24270</td>\n",
       "      <td>1</td>\n",
       "      <td>&lt;p&gt;I know I find OOP useful pretty much solely...</td>\n",
       "      <td>Bernard</td>\n",
       "      <td>22779</td>\n",
       "      <td>1321</td>\n",
       "      <td>219</td>\n",
       "      <td>1731</td>\n",
       "    </tr>\n",
       "    <tr>\n",
       "      <th>2</th>\n",
       "      <td>61</td>\n",
       "      <td>2008-09-07 02:32:02+00:00</td>\n",
       "      <td>47980</td>\n",
       "      <td>7</td>\n",
       "      <td>&lt;p&gt;I sure as hell can't. Small errors explode ...</td>\n",
       "      <td>Bernard</td>\n",
       "      <td>22779</td>\n",
       "      <td>1321</td>\n",
       "      <td>219</td>\n",
       "      <td>1731</td>\n",
       "    </tr>\n",
       "    <tr>\n",
       "      <th>3</th>\n",
       "      <td>61</td>\n",
       "      <td>2008-09-09 08:35:20+00:00</td>\n",
       "      <td>51390</td>\n",
       "      <td>2</td>\n",
       "      <td>&lt;p&gt;I wonder how widespread the JVM actually is...</td>\n",
       "      <td>Bernard</td>\n",
       "      <td>22779</td>\n",
       "      <td>1321</td>\n",
       "      <td>219</td>\n",
       "      <td>1731</td>\n",
       "    </tr>\n",
       "    <tr>\n",
       "      <th>4</th>\n",
       "      <td>61</td>\n",
       "      <td>2008-09-26 22:57:06+00:00</td>\n",
       "      <td>142340</td>\n",
       "      <td>0</td>\n",
       "      <td>&lt;p&gt;I just have a number. First release is &lt;cod...</td>\n",
       "      <td>Bernard</td>\n",
       "      <td>22779</td>\n",
       "      <td>1321</td>\n",
       "      <td>219</td>\n",
       "      <td>1731</td>\n",
       "    </tr>\n",
       "    <tr>\n",
       "      <th>5</th>\n",
       "      <td>61</td>\n",
       "      <td>2009-02-08 23:41:04+00:00</td>\n",
       "      <td>526660</td>\n",
       "      <td>3</td>\n",
       "      <td>&lt;p&gt;You need a main function:&lt;/p&gt;\\n\\n&lt;pre&gt;&lt;code...</td>\n",
       "      <td>Bernard</td>\n",
       "      <td>22779</td>\n",
       "      <td>1321</td>\n",
       "      <td>219</td>\n",
       "      <td>1731</td>\n",
       "    </tr>\n",
       "    <tr>\n",
       "      <th>6</th>\n",
       "      <td>61</td>\n",
       "      <td>2009-11-23 10:24:47+00:00</td>\n",
       "      <td>1581560</td>\n",
       "      <td>0</td>\n",
       "      <td>&lt;p&gt;The answer, it seems, is to use &lt;a href=\"ht...</td>\n",
       "      <td>Bernard</td>\n",
       "      <td>22779</td>\n",
       "      <td>1321</td>\n",
       "      <td>219</td>\n",
       "      <td>1731</td>\n",
       "    </tr>\n",
       "    <tr>\n",
       "      <th>7</th>\n",
       "      <td>61</td>\n",
       "      <td>2010-03-25 23:53:31+00:00</td>\n",
       "      <td>2520220</td>\n",
       "      <td>8</td>\n",
       "      <td>&lt;p&gt;Yes, the function must be declared as &lt;code...</td>\n",
       "      <td>Bernard</td>\n",
       "      <td>22779</td>\n",
       "      <td>1321</td>\n",
       "      <td>219</td>\n",
       "      <td>1731</td>\n",
       "    </tr>\n",
       "    <tr>\n",
       "      <th>8</th>\n",
       "      <td>61</td>\n",
       "      <td>2011-06-05 11:28:08+00:00</td>\n",
       "      <td>6242540</td>\n",
       "      <td>8</td>\n",
       "      <td>&lt;p&gt;If you merely want a pointer, the correct w...</td>\n",
       "      <td>Bernard</td>\n",
       "      <td>22779</td>\n",
       "      <td>1321</td>\n",
       "      <td>219</td>\n",
       "      <td>1731</td>\n",
       "    </tr>\n",
       "    <tr>\n",
       "      <th>9</th>\n",
       "      <td>61</td>\n",
       "      <td>2011-07-02 12:03:26+00:00</td>\n",
       "      <td>6553950</td>\n",
       "      <td>7</td>\n",
       "      <td>&lt;p&gt;I asked around on IRC, and as far as we can...</td>\n",
       "      <td>Bernard</td>\n",
       "      <td>22779</td>\n",
       "      <td>1321</td>\n",
       "      <td>219</td>\n",
       "      <td>1731</td>\n",
       "    </tr>\n",
       "    <tr>\n",
       "      <th>10</th>\n",
       "      <td>26</td>\n",
       "      <td>2008-08-01 16:09:47+00:00</td>\n",
       "      <td>80</td>\n",
       "      <td>12</td>\n",
       "      <td>&lt;p&gt;I wound up using this. It is a kind of a ha...</td>\n",
       "      <td>Shawn</td>\n",
       "      <td>11820</td>\n",
       "      <td>565</td>\n",
       "      <td>67</td>\n",
       "      <td>3547</td>\n",
       "    </tr>\n",
       "    <tr>\n",
       "      <th>11</th>\n",
       "      <td>26</td>\n",
       "      <td>2008-08-04 18:00:50+00:00</td>\n",
       "      <td>580</td>\n",
       "      <td>5</td>\n",
       "      <td>&lt;p&gt;Like Rob Allen, I use SQL Compare / Data Co...</td>\n",
       "      <td>Shawn</td>\n",
       "      <td>11820</td>\n",
       "      <td>565</td>\n",
       "      <td>67</td>\n",
       "      <td>3547</td>\n",
       "    </tr>\n",
       "    <tr>\n",
       "      <th>12</th>\n",
       "      <td>26</td>\n",
       "      <td>2008-08-05 13:15:53+00:00</td>\n",
       "      <td>2250</td>\n",
       "      <td>3</td>\n",
       "      <td>&lt;p&gt;One feature of the DataSet is that if you c...</td>\n",
       "      <td>Shawn</td>\n",
       "      <td>11820</td>\n",
       "      <td>565</td>\n",
       "      <td>67</td>\n",
       "      <td>3547</td>\n",
       "    </tr>\n",
       "    <tr>\n",
       "      <th>13</th>\n",
       "      <td>26</td>\n",
       "      <td>2008-08-06 15:16:32+00:00</td>\n",
       "      <td>3470</td>\n",
       "      <td>1</td>\n",
       "      <td>&lt;p&gt;I had to do this for a project before. One ...</td>\n",
       "      <td>Shawn</td>\n",
       "      <td>11820</td>\n",
       "      <td>565</td>\n",
       "      <td>67</td>\n",
       "      <td>3547</td>\n",
       "    </tr>\n",
       "    <tr>\n",
       "      <th>14</th>\n",
       "      <td>26</td>\n",
       "      <td>2008-08-14 15:52:17+00:00</td>\n",
       "      <td>11200</td>\n",
       "      <td>1</td>\n",
       "      <td>&lt;p&gt;I wound up using format 120 in MS SQL: &lt;/p&gt;...</td>\n",
       "      <td>Shawn</td>\n",
       "      <td>11820</td>\n",
       "      <td>565</td>\n",
       "      <td>67</td>\n",
       "      <td>3547</td>\n",
       "    </tr>\n",
       "    <tr>\n",
       "      <th>15</th>\n",
       "      <td>26</td>\n",
       "      <td>2008-09-01 20:36:21+00:00</td>\n",
       "      <td>38370</td>\n",
       "      <td>0</td>\n",
       "      <td>&lt;p&gt;It's not working because on the client sess...</td>\n",
       "      <td>Shawn</td>\n",
       "      <td>11820</td>\n",
       "      <td>565</td>\n",
       "      <td>67</td>\n",
       "      <td>3547</td>\n",
       "    </tr>\n",
       "    <tr>\n",
       "      <th>16</th>\n",
       "      <td>26</td>\n",
       "      <td>2008-10-31 04:27:08+00:00</td>\n",
       "      <td>252230</td>\n",
       "      <td>0</td>\n",
       "      <td>&lt;p&gt;I prefer inline sql unless the stored proce...</td>\n",
       "      <td>Shawn</td>\n",
       "      <td>11820</td>\n",
       "      <td>565</td>\n",
       "      <td>67</td>\n",
       "      <td>3547</td>\n",
       "    </tr>\n",
       "    <tr>\n",
       "      <th>17</th>\n",
       "      <td>26</td>\n",
       "      <td>2008-12-09 04:52:54+00:00</td>\n",
       "      <td>351800</td>\n",
       "      <td>6</td>\n",
       "      <td>&lt;p&gt;Try:&lt;/p&gt;\\n\\n&lt;pre&gt;&lt;code&gt;myObjects.RemoveAll(...</td>\n",
       "      <td>Shawn</td>\n",
       "      <td>11820</td>\n",
       "      <td>565</td>\n",
       "      <td>67</td>\n",
       "      <td>3547</td>\n",
       "    </tr>\n",
       "    <tr>\n",
       "      <th>18</th>\n",
       "      <td>26</td>\n",
       "      <td>2008-12-27 07:10:57+00:00</td>\n",
       "      <td>393110</td>\n",
       "      <td>0</td>\n",
       "      <td>&lt;p&gt;Why not just do it all via JavaScript? Some...</td>\n",
       "      <td>Shawn</td>\n",
       "      <td>11820</td>\n",
       "      <td>565</td>\n",
       "      <td>67</td>\n",
       "      <td>3547</td>\n",
       "    </tr>\n",
       "    <tr>\n",
       "      <th>19</th>\n",
       "      <td>26</td>\n",
       "      <td>2008-12-31 18:15:22+00:00</td>\n",
       "      <td>403630</td>\n",
       "      <td>1</td>\n",
       "      <td>&lt;p&gt;I would use a stored procedure. The full te...</td>\n",
       "      <td>Shawn</td>\n",
       "      <td>11820</td>\n",
       "      <td>565</td>\n",
       "      <td>67</td>\n",
       "      <td>3547</td>\n",
       "    </tr>\n",
       "  </tbody>\n",
       "</table>\n",
       "</div>"
      ],
      "text/plain": [
       "    A_OwnerUserId                AnswerDate  ...  down_votes  views\n",
       "0              61 2008-08-01 14:45:37+00:00  ...         219   1731\n",
       "1              61 2008-08-29 01:30:38+00:00  ...         219   1731\n",
       "2              61 2008-09-07 02:32:02+00:00  ...         219   1731\n",
       "3              61 2008-09-09 08:35:20+00:00  ...         219   1731\n",
       "4              61 2008-09-26 22:57:06+00:00  ...         219   1731\n",
       "5              61 2009-02-08 23:41:04+00:00  ...         219   1731\n",
       "6              61 2009-11-23 10:24:47+00:00  ...         219   1731\n",
       "7              61 2010-03-25 23:53:31+00:00  ...         219   1731\n",
       "8              61 2011-06-05 11:28:08+00:00  ...         219   1731\n",
       "9              61 2011-07-02 12:03:26+00:00  ...         219   1731\n",
       "10             26 2008-08-01 16:09:47+00:00  ...          67   3547\n",
       "11             26 2008-08-04 18:00:50+00:00  ...          67   3547\n",
       "12             26 2008-08-05 13:15:53+00:00  ...          67   3547\n",
       "13             26 2008-08-06 15:16:32+00:00  ...          67   3547\n",
       "14             26 2008-08-14 15:52:17+00:00  ...          67   3547\n",
       "15             26 2008-09-01 20:36:21+00:00  ...          67   3547\n",
       "16             26 2008-10-31 04:27:08+00:00  ...          67   3547\n",
       "17             26 2008-12-09 04:52:54+00:00  ...          67   3547\n",
       "18             26 2008-12-27 07:10:57+00:00  ...          67   3547\n",
       "19             26 2008-12-31 18:15:22+00:00  ...          67   3547\n",
       "\n",
       "[20 rows x 10 columns]"
      ]
     },
     "execution_count": 278,
     "metadata": {
      "tags": []
     },
     "output_type": "execute_result"
    }
   ],
   "source": [
    "userans.head(20)"
   ]
  },
  {
   "cell_type": "markdown",
   "metadata": {
    "id": "31q5MmOojEP2"
   },
   "source": [
    "## Combining all the 4 dataframes- questions, tags, answers and users"
   ]
  },
  {
   "cell_type": "code",
   "execution_count": 256,
   "metadata": {
    "colab": {
     "base_uri": "https://localhost:8080/",
     "height": 343
    },
    "id": "pM3A3oh-jS-4",
    "outputId": "c6b58e87-d59e-4118-c0cc-618b31a2b75c"
   },
   "outputs": [
    {
     "data": {
      "text/html": [
       "<div>\n",
       "<style scoped>\n",
       "    .dataframe tbody tr th:only-of-type {\n",
       "        vertical-align: middle;\n",
       "    }\n",
       "\n",
       "    .dataframe tbody tr th {\n",
       "        vertical-align: top;\n",
       "    }\n",
       "\n",
       "    .dataframe thead th {\n",
       "        text-align: right;\n",
       "    }\n",
       "</style>\n",
       "<table border=\"1\" class=\"dataframe\">\n",
       "  <thead>\n",
       "    <tr style=\"text-align: right;\">\n",
       "      <th></th>\n",
       "      <th>Id</th>\n",
       "      <th>OwnerUserId</th>\n",
       "      <th>CreationDate</th>\n",
       "      <th>Score</th>\n",
       "      <th>Title</th>\n",
       "      <th>Body</th>\n",
       "      <th>bin</th>\n",
       "      <th>Tag</th>\n",
       "    </tr>\n",
       "  </thead>\n",
       "  <tbody>\n",
       "    <tr>\n",
       "      <th>0</th>\n",
       "      <td>80</td>\n",
       "      <td>26.0</td>\n",
       "      <td>2008-08-01 13:57:07+00:00</td>\n",
       "      <td>26.0</td>\n",
       "      <td>SQLStatement.execute() - multiple queries in o...</td>\n",
       "      <td>&lt;p&gt;I've written a database generation script i...</td>\n",
       "      <td>Good</td>\n",
       "      <td>flex</td>\n",
       "    </tr>\n",
       "    <tr>\n",
       "      <th>1</th>\n",
       "      <td>80</td>\n",
       "      <td>26.0</td>\n",
       "      <td>2008-08-01 13:57:07+00:00</td>\n",
       "      <td>26.0</td>\n",
       "      <td>SQLStatement.execute() - multiple queries in o...</td>\n",
       "      <td>&lt;p&gt;I've written a database generation script i...</td>\n",
       "      <td>Good</td>\n",
       "      <td>actionscript-3</td>\n",
       "    </tr>\n",
       "    <tr>\n",
       "      <th>2</th>\n",
       "      <td>80</td>\n",
       "      <td>26.0</td>\n",
       "      <td>2008-08-01 13:57:07+00:00</td>\n",
       "      <td>26.0</td>\n",
       "      <td>SQLStatement.execute() - multiple queries in o...</td>\n",
       "      <td>&lt;p&gt;I've written a database generation script i...</td>\n",
       "      <td>Good</td>\n",
       "      <td>air</td>\n",
       "    </tr>\n",
       "    <tr>\n",
       "      <th>3</th>\n",
       "      <td>90</td>\n",
       "      <td>58.0</td>\n",
       "      <td>2008-08-01 14:41:24+00:00</td>\n",
       "      <td>144.0</td>\n",
       "      <td>Good branching and merging tutorials for Torto...</td>\n",
       "      <td>&lt;p&gt;Are there any really good tutorials explain...</td>\n",
       "      <td>Good</td>\n",
       "      <td>svn</td>\n",
       "    </tr>\n",
       "    <tr>\n",
       "      <th>4</th>\n",
       "      <td>90</td>\n",
       "      <td>58.0</td>\n",
       "      <td>2008-08-01 14:41:24+00:00</td>\n",
       "      <td>144.0</td>\n",
       "      <td>Good branching and merging tutorials for Torto...</td>\n",
       "      <td>&lt;p&gt;Are there any really good tutorials explain...</td>\n",
       "      <td>Good</td>\n",
       "      <td>tortoisesvn</td>\n",
       "    </tr>\n",
       "    <tr>\n",
       "      <th>5</th>\n",
       "      <td>90</td>\n",
       "      <td>58.0</td>\n",
       "      <td>2008-08-01 14:41:24+00:00</td>\n",
       "      <td>144.0</td>\n",
       "      <td>Good branching and merging tutorials for Torto...</td>\n",
       "      <td>&lt;p&gt;Are there any really good tutorials explain...</td>\n",
       "      <td>Good</td>\n",
       "      <td>branch</td>\n",
       "    </tr>\n",
       "    <tr>\n",
       "      <th>6</th>\n",
       "      <td>90</td>\n",
       "      <td>58.0</td>\n",
       "      <td>2008-08-01 14:41:24+00:00</td>\n",
       "      <td>144.0</td>\n",
       "      <td>Good branching and merging tutorials for Torto...</td>\n",
       "      <td>&lt;p&gt;Are there any really good tutorials explain...</td>\n",
       "      <td>Good</td>\n",
       "      <td>branching-and-merging</td>\n",
       "    </tr>\n",
       "    <tr>\n",
       "      <th>7</th>\n",
       "      <td>120</td>\n",
       "      <td>83.0</td>\n",
       "      <td>2008-08-01 15:50:08+00:00</td>\n",
       "      <td>21.0</td>\n",
       "      <td>ASP.NET Site Maps</td>\n",
       "      <td>&lt;p&gt;Has anyone got experience creating &lt;strong&gt;...</td>\n",
       "      <td>Average</td>\n",
       "      <td>sql</td>\n",
       "    </tr>\n",
       "    <tr>\n",
       "      <th>8</th>\n",
       "      <td>120</td>\n",
       "      <td>83.0</td>\n",
       "      <td>2008-08-01 15:50:08+00:00</td>\n",
       "      <td>21.0</td>\n",
       "      <td>ASP.NET Site Maps</td>\n",
       "      <td>&lt;p&gt;Has anyone got experience creating &lt;strong&gt;...</td>\n",
       "      <td>Average</td>\n",
       "      <td>asp.net</td>\n",
       "    </tr>\n",
       "    <tr>\n",
       "      <th>9</th>\n",
       "      <td>120</td>\n",
       "      <td>83.0</td>\n",
       "      <td>2008-08-01 15:50:08+00:00</td>\n",
       "      <td>21.0</td>\n",
       "      <td>ASP.NET Site Maps</td>\n",
       "      <td>&lt;p&gt;Has anyone got experience creating &lt;strong&gt;...</td>\n",
       "      <td>Average</td>\n",
       "      <td>sitemap</td>\n",
       "    </tr>\n",
       "  </tbody>\n",
       "</table>\n",
       "</div>"
      ],
      "text/plain": [
       "    Id  OwnerUserId  ...      bin                    Tag\n",
       "0   80         26.0  ...     Good                   flex\n",
       "1   80         26.0  ...     Good         actionscript-3\n",
       "2   80         26.0  ...     Good                    air\n",
       "3   90         58.0  ...     Good                    svn\n",
       "4   90         58.0  ...     Good            tortoisesvn\n",
       "5   90         58.0  ...     Good                 branch\n",
       "6   90         58.0  ...     Good  branching-and-merging\n",
       "7  120         83.0  ...  Average                    sql\n",
       "8  120         83.0  ...  Average                asp.net\n",
       "9  120         83.0  ...  Average                sitemap\n",
       "\n",
       "[10 rows x 8 columns]"
      ]
     },
     "execution_count": 256,
     "metadata": {
      "tags": []
     },
     "output_type": "execute_result"
    }
   ],
   "source": [
    "questag.head(10)"
   ]
  },
  {
   "cell_type": "code",
   "execution_count": 257,
   "metadata": {
    "id": "ldRbnEAduQsJ"
   },
   "outputs": [],
   "source": [
    "questag.rename(columns= {'Id':'QuesId','Body':'Question'}, inplace=True)"
   ]
  },
  {
   "cell_type": "code",
   "execution_count": 279,
   "metadata": {
    "id": "3m4CJIu8raHN"
   },
   "outputs": [],
   "source": [
    "questag.rename(columns= {'OwnerUserId':'Q_OwnerUserId'}, inplace=True)"
   ]
  },
  {
   "cell_type": "code",
   "execution_count": 280,
   "metadata": {
    "colab": {
     "base_uri": "https://localhost:8080/"
    },
    "id": "P1x15SxqjcXs",
    "outputId": "d2afd61e-5b77-4033-bec4-fd8cfdbfe7bd"
   },
   "outputs": [
    {
     "data": {
      "text/plain": [
       "3750994"
      ]
     },
     "execution_count": 280,
     "metadata": {
      "tags": []
     },
     "output_type": "execute_result"
    }
   ],
   "source": [
    "len(questag.QuesId)"
   ]
  },
  {
   "cell_type": "code",
   "execution_count": 281,
   "metadata": {
    "colab": {
     "base_uri": "https://localhost:8080/"
    },
    "id": "1NVnjY3pwh9-",
    "outputId": "658cacd6-59a2-407b-aada-ab50fcdcda12"
   },
   "outputs": [
    {
     "data": {
      "text/plain": [
       "1990480"
      ]
     },
     "execution_count": 281,
     "metadata": {
      "tags": []
     },
     "output_type": "execute_result"
    }
   ],
   "source": [
    "len(userans.QuesId)"
   ]
  },
  {
   "cell_type": "code",
   "execution_count": null,
   "metadata": {
    "id": "yIzWnNsVlB5H"
   },
   "outputs": [],
   "source": [
    "Stack= pd.merge(questag, userans, how='inner',on='QuesId')"
   ]
  },
  {
   "cell_type": "code",
   "execution_count": 265,
   "metadata": {
    "colab": {
     "base_uri": "https://localhost:8080/"
    },
    "id": "HGd9JPhquj3V",
    "outputId": "2ce05d0e-109f-4d01-fe07-f320f97bd5ad"
   },
   "outputs": [
    {
     "data": {
      "text/plain": [
       "(404006, 16)"
      ]
     },
     "execution_count": 265,
     "metadata": {
      "tags": []
     },
     "output_type": "execute_result"
    }
   ],
   "source": [
    "Stack.shape"
   ]
  },
  {
   "cell_type": "code",
   "execution_count": 266,
   "metadata": {
    "colab": {
     "base_uri": "https://localhost:8080/",
     "height": 770
    },
    "id": "aGGV37aiul_R",
    "outputId": "321bee70-14e0-46b0-a4af-f674528dd117"
   },
   "outputs": [
    {
     "data": {
      "text/html": [
       "<div>\n",
       "<style scoped>\n",
       "    .dataframe tbody tr th:only-of-type {\n",
       "        vertical-align: middle;\n",
       "    }\n",
       "\n",
       "    .dataframe tbody tr th {\n",
       "        vertical-align: top;\n",
       "    }\n",
       "\n",
       "    .dataframe thead th {\n",
       "        text-align: right;\n",
       "    }\n",
       "</style>\n",
       "<table border=\"1\" class=\"dataframe\">\n",
       "  <thead>\n",
       "    <tr style=\"text-align: right;\">\n",
       "      <th></th>\n",
       "      <th>QuesId</th>\n",
       "      <th>OwnerUserId</th>\n",
       "      <th>CreationDate</th>\n",
       "      <th>Score</th>\n",
       "      <th>Title</th>\n",
       "      <th>Question</th>\n",
       "      <th>bin</th>\n",
       "      <th>Tag</th>\n",
       "      <th>AnswerDate</th>\n",
       "      <th>AnswerScore</th>\n",
       "      <th>Answer</th>\n",
       "      <th>display_name</th>\n",
       "      <th>reputation</th>\n",
       "      <th>up_votes</th>\n",
       "      <th>down_votes</th>\n",
       "      <th>views</th>\n",
       "    </tr>\n",
       "  </thead>\n",
       "  <tbody>\n",
       "    <tr>\n",
       "      <th>0</th>\n",
       "      <td>80</td>\n",
       "      <td>26.0</td>\n",
       "      <td>2008-08-01 13:57:07+00:00</td>\n",
       "      <td>26.0</td>\n",
       "      <td>SQLStatement.execute() - multiple queries in o...</td>\n",
       "      <td>&lt;p&gt;I've written a database generation script i...</td>\n",
       "      <td>Good</td>\n",
       "      <td>flex</td>\n",
       "      <td>2008-08-01 16:09:47+00:00</td>\n",
       "      <td>12</td>\n",
       "      <td>&lt;p&gt;I wound up using this. It is a kind of a ha...</td>\n",
       "      <td>Shawn</td>\n",
       "      <td>11820</td>\n",
       "      <td>565</td>\n",
       "      <td>67</td>\n",
       "      <td>3547</td>\n",
       "    </tr>\n",
       "    <tr>\n",
       "      <th>1</th>\n",
       "      <td>80</td>\n",
       "      <td>26.0</td>\n",
       "      <td>2008-08-01 13:57:07+00:00</td>\n",
       "      <td>26.0</td>\n",
       "      <td>SQLStatement.execute() - multiple queries in o...</td>\n",
       "      <td>&lt;p&gt;I've written a database generation script i...</td>\n",
       "      <td>Good</td>\n",
       "      <td>actionscript-3</td>\n",
       "      <td>2008-08-01 16:09:47+00:00</td>\n",
       "      <td>12</td>\n",
       "      <td>&lt;p&gt;I wound up using this. It is a kind of a ha...</td>\n",
       "      <td>Shawn</td>\n",
       "      <td>11820</td>\n",
       "      <td>565</td>\n",
       "      <td>67</td>\n",
       "      <td>3547</td>\n",
       "    </tr>\n",
       "    <tr>\n",
       "      <th>2</th>\n",
       "      <td>80</td>\n",
       "      <td>26.0</td>\n",
       "      <td>2008-08-01 13:57:07+00:00</td>\n",
       "      <td>26.0</td>\n",
       "      <td>SQLStatement.execute() - multiple queries in o...</td>\n",
       "      <td>&lt;p&gt;I've written a database generation script i...</td>\n",
       "      <td>Good</td>\n",
       "      <td>air</td>\n",
       "      <td>2008-08-01 16:09:47+00:00</td>\n",
       "      <td>12</td>\n",
       "      <td>&lt;p&gt;I wound up using this. It is a kind of a ha...</td>\n",
       "      <td>Shawn</td>\n",
       "      <td>11820</td>\n",
       "      <td>565</td>\n",
       "      <td>67</td>\n",
       "      <td>3547</td>\n",
       "    </tr>\n",
       "    <tr>\n",
       "      <th>3</th>\n",
       "      <td>260</td>\n",
       "      <td>91.0</td>\n",
       "      <td>2008-08-01 23:22:08+00:00</td>\n",
       "      <td>49.0</td>\n",
       "      <td>Adding scripting functionality to .NET applica...</td>\n",
       "      <td>&lt;p&gt;I have a little game written in C#. It uses...</td>\n",
       "      <td>Good</td>\n",
       "      <td>c#</td>\n",
       "      <td>2008-08-01 23:49:57+00:00</td>\n",
       "      <td>4</td>\n",
       "      <td>&lt;p&gt;Yes, I thought about that, but I soon figur...</td>\n",
       "      <td>Michael Stum</td>\n",
       "      <td>120896</td>\n",
       "      <td>7122</td>\n",
       "      <td>55</td>\n",
       "      <td>12579</td>\n",
       "    </tr>\n",
       "    <tr>\n",
       "      <th>4</th>\n",
       "      <td>260</td>\n",
       "      <td>91.0</td>\n",
       "      <td>2008-08-01 23:22:08+00:00</td>\n",
       "      <td>49.0</td>\n",
       "      <td>Adding scripting functionality to .NET applica...</td>\n",
       "      <td>&lt;p&gt;I have a little game written in C#. It uses...</td>\n",
       "      <td>Good</td>\n",
       "      <td>.net</td>\n",
       "      <td>2008-08-01 23:49:57+00:00</td>\n",
       "      <td>4</td>\n",
       "      <td>&lt;p&gt;Yes, I thought about that, but I soon figur...</td>\n",
       "      <td>Michael Stum</td>\n",
       "      <td>120896</td>\n",
       "      <td>7122</td>\n",
       "      <td>55</td>\n",
       "      <td>12579</td>\n",
       "    </tr>\n",
       "  </tbody>\n",
       "</table>\n",
       "</div>"
      ],
      "text/plain": [
       "   QuesId  OwnerUserId              CreationDate  ...  up_votes down_votes  views\n",
       "0      80         26.0 2008-08-01 13:57:07+00:00  ...       565         67   3547\n",
       "1      80         26.0 2008-08-01 13:57:07+00:00  ...       565         67   3547\n",
       "2      80         26.0 2008-08-01 13:57:07+00:00  ...       565         67   3547\n",
       "3     260         91.0 2008-08-01 23:22:08+00:00  ...      7122         55  12579\n",
       "4     260         91.0 2008-08-01 23:22:08+00:00  ...      7122         55  12579\n",
       "\n",
       "[5 rows x 16 columns]"
      ]
     },
     "execution_count": 266,
     "metadata": {
      "tags": []
     },
     "output_type": "execute_result"
    }
   ],
   "source": [
    "Stack.head()"
   ]
  },
  {
   "cell_type": "code",
   "execution_count": 267,
   "metadata": {
    "colab": {
     "base_uri": "https://localhost:8080/"
    },
    "id": "jKMndgksvKHA",
    "outputId": "f4eace9c-21ce-4bcc-a807-db02f1fb5474"
   },
   "outputs": [
    {
     "data": {
      "text/plain": [
       "count    404006.000000\n",
       "mean          1.567591\n",
       "std          13.941106\n",
       "min         -17.000000\n",
       "25%           0.000000\n",
       "50%           0.000000\n",
       "75%           1.000000\n",
       "max        2173.000000\n",
       "Name: AnswerScore, dtype: float64"
      ]
     },
     "execution_count": 267,
     "metadata": {
      "tags": []
     },
     "output_type": "execute_result"
    }
   ],
   "source": [
    "Stack.AnswerScore.describe()"
   ]
  },
  {
   "cell_type": "code",
   "execution_count": 268,
   "metadata": {
    "colab": {
     "base_uri": "https://localhost:8080/"
    },
    "id": "cG2Fi3SVxLK6",
    "outputId": "b93416ce-8452-4ba0-ed20-58453d9d343a"
   },
   "outputs": [
    {
     "data": {
      "text/plain": [
       "count    404006.000000\n",
       "mean          2.021898\n",
       "std          12.744610\n",
       "min         -13.000000\n",
       "25%           0.000000\n",
       "50%           0.000000\n",
       "75%           2.000000\n",
       "max        1412.000000\n",
       "Name: Score, dtype: float64"
      ]
     },
     "execution_count": 268,
     "metadata": {
      "tags": []
     },
     "output_type": "execute_result"
    }
   ],
   "source": [
    "Stack.Score.describe()"
   ]
  },
  {
   "cell_type": "code",
   "execution_count": 274,
   "metadata": {
    "colab": {
     "base_uri": "https://localhost:8080/",
     "height": 1000
    },
    "id": "0-s5JnFPpNn0",
    "outputId": "593e559a-61fb-4c39-8453-4732efe82506"
   },
   "outputs": [
    {
     "data": {
      "text/html": [
       "<div>\n",
       "<style scoped>\n",
       "    .dataframe tbody tr th:only-of-type {\n",
       "        vertical-align: middle;\n",
       "    }\n",
       "\n",
       "    .dataframe tbody tr th {\n",
       "        vertical-align: top;\n",
       "    }\n",
       "\n",
       "    .dataframe thead th {\n",
       "        text-align: right;\n",
       "    }\n",
       "</style>\n",
       "<table border=\"1\" class=\"dataframe\">\n",
       "  <thead>\n",
       "    <tr style=\"text-align: right;\">\n",
       "      <th></th>\n",
       "      <th>QuesId</th>\n",
       "      <th>OwnerUserId</th>\n",
       "      <th>CreationDate</th>\n",
       "      <th>Score</th>\n",
       "      <th>Title</th>\n",
       "      <th>Question</th>\n",
       "      <th>bin</th>\n",
       "      <th>Tag</th>\n",
       "      <th>AnswerDate</th>\n",
       "      <th>AnswerScore</th>\n",
       "      <th>Answer</th>\n",
       "      <th>display_name</th>\n",
       "      <th>reputation</th>\n",
       "      <th>up_votes</th>\n",
       "      <th>down_votes</th>\n",
       "      <th>views</th>\n",
       "      <th>Expected time</th>\n",
       "    </tr>\n",
       "  </thead>\n",
       "  <tbody>\n",
       "    <tr>\n",
       "      <th>0</th>\n",
       "      <td>80</td>\n",
       "      <td>26.0</td>\n",
       "      <td>2008-08-01 13:57:07+00:00</td>\n",
       "      <td>26.0</td>\n",
       "      <td>SQLStatement.execute() - multiple queries in o...</td>\n",
       "      <td>&lt;p&gt;I've written a database generation script i...</td>\n",
       "      <td>Good</td>\n",
       "      <td>flex</td>\n",
       "      <td>2008-08-01 16:09:47+00:00</td>\n",
       "      <td>12</td>\n",
       "      <td>&lt;p&gt;I wound up using this. It is a kind of a ha...</td>\n",
       "      <td>Shawn</td>\n",
       "      <td>11820</td>\n",
       "      <td>565</td>\n",
       "      <td>67</td>\n",
       "      <td>3547</td>\n",
       "      <td>0 days 02:12:40</td>\n",
       "    </tr>\n",
       "    <tr>\n",
       "      <th>1</th>\n",
       "      <td>80</td>\n",
       "      <td>26.0</td>\n",
       "      <td>2008-08-01 13:57:07+00:00</td>\n",
       "      <td>26.0</td>\n",
       "      <td>SQLStatement.execute() - multiple queries in o...</td>\n",
       "      <td>&lt;p&gt;I've written a database generation script i...</td>\n",
       "      <td>Good</td>\n",
       "      <td>actionscript-3</td>\n",
       "      <td>2008-08-01 16:09:47+00:00</td>\n",
       "      <td>12</td>\n",
       "      <td>&lt;p&gt;I wound up using this. It is a kind of a ha...</td>\n",
       "      <td>Shawn</td>\n",
       "      <td>11820</td>\n",
       "      <td>565</td>\n",
       "      <td>67</td>\n",
       "      <td>3547</td>\n",
       "      <td>0 days 02:12:40</td>\n",
       "    </tr>\n",
       "    <tr>\n",
       "      <th>2</th>\n",
       "      <td>80</td>\n",
       "      <td>26.0</td>\n",
       "      <td>2008-08-01 13:57:07+00:00</td>\n",
       "      <td>26.0</td>\n",
       "      <td>SQLStatement.execute() - multiple queries in o...</td>\n",
       "      <td>&lt;p&gt;I've written a database generation script i...</td>\n",
       "      <td>Good</td>\n",
       "      <td>air</td>\n",
       "      <td>2008-08-01 16:09:47+00:00</td>\n",
       "      <td>12</td>\n",
       "      <td>&lt;p&gt;I wound up using this. It is a kind of a ha...</td>\n",
       "      <td>Shawn</td>\n",
       "      <td>11820</td>\n",
       "      <td>565</td>\n",
       "      <td>67</td>\n",
       "      <td>3547</td>\n",
       "      <td>0 days 02:12:40</td>\n",
       "    </tr>\n",
       "    <tr>\n",
       "      <th>3</th>\n",
       "      <td>260</td>\n",
       "      <td>91.0</td>\n",
       "      <td>2008-08-01 23:22:08+00:00</td>\n",
       "      <td>49.0</td>\n",
       "      <td>Adding scripting functionality to .NET applica...</td>\n",
       "      <td>&lt;p&gt;I have a little game written in C#. It uses...</td>\n",
       "      <td>Good</td>\n",
       "      <td>c#</td>\n",
       "      <td>2008-08-01 23:49:57+00:00</td>\n",
       "      <td>4</td>\n",
       "      <td>&lt;p&gt;Yes, I thought about that, but I soon figur...</td>\n",
       "      <td>Michael Stum</td>\n",
       "      <td>120896</td>\n",
       "      <td>7122</td>\n",
       "      <td>55</td>\n",
       "      <td>12579</td>\n",
       "      <td>0 days 00:27:49</td>\n",
       "    </tr>\n",
       "    <tr>\n",
       "      <th>4</th>\n",
       "      <td>260</td>\n",
       "      <td>91.0</td>\n",
       "      <td>2008-08-01 23:22:08+00:00</td>\n",
       "      <td>49.0</td>\n",
       "      <td>Adding scripting functionality to .NET applica...</td>\n",
       "      <td>&lt;p&gt;I have a little game written in C#. It uses...</td>\n",
       "      <td>Good</td>\n",
       "      <td>.net</td>\n",
       "      <td>2008-08-01 23:49:57+00:00</td>\n",
       "      <td>4</td>\n",
       "      <td>&lt;p&gt;Yes, I thought about that, but I soon figur...</td>\n",
       "      <td>Michael Stum</td>\n",
       "      <td>120896</td>\n",
       "      <td>7122</td>\n",
       "      <td>55</td>\n",
       "      <td>12579</td>\n",
       "      <td>0 days 00:27:49</td>\n",
       "    </tr>\n",
       "    <tr>\n",
       "      <th>5</th>\n",
       "      <td>260</td>\n",
       "      <td>91.0</td>\n",
       "      <td>2008-08-01 23:22:08+00:00</td>\n",
       "      <td>49.0</td>\n",
       "      <td>Adding scripting functionality to .NET applica...</td>\n",
       "      <td>&lt;p&gt;I have a little game written in C#. It uses...</td>\n",
       "      <td>Good</td>\n",
       "      <td>scripting</td>\n",
       "      <td>2008-08-01 23:49:57+00:00</td>\n",
       "      <td>4</td>\n",
       "      <td>&lt;p&gt;Yes, I thought about that, but I soon figur...</td>\n",
       "      <td>Michael Stum</td>\n",
       "      <td>120896</td>\n",
       "      <td>7122</td>\n",
       "      <td>55</td>\n",
       "      <td>12579</td>\n",
       "      <td>0 days 00:27:49</td>\n",
       "    </tr>\n",
       "    <tr>\n",
       "      <th>6</th>\n",
       "      <td>260</td>\n",
       "      <td>91.0</td>\n",
       "      <td>2008-08-01 23:22:08+00:00</td>\n",
       "      <td>49.0</td>\n",
       "      <td>Adding scripting functionality to .NET applica...</td>\n",
       "      <td>&lt;p&gt;I have a little game written in C#. It uses...</td>\n",
       "      <td>Good</td>\n",
       "      <td>compiler-construction</td>\n",
       "      <td>2008-08-01 23:49:57+00:00</td>\n",
       "      <td>4</td>\n",
       "      <td>&lt;p&gt;Yes, I thought about that, but I soon figur...</td>\n",
       "      <td>Michael Stum</td>\n",
       "      <td>120896</td>\n",
       "      <td>7122</td>\n",
       "      <td>55</td>\n",
       "      <td>12579</td>\n",
       "      <td>0 days 00:27:49</td>\n",
       "    </tr>\n",
       "    <tr>\n",
       "      <th>7</th>\n",
       "      <td>810</td>\n",
       "      <td>233.0</td>\n",
       "      <td>2008-08-03 20:35:01+00:00</td>\n",
       "      <td>9.0</td>\n",
       "      <td>Visual Studio Setup Project - Per User Registr...</td>\n",
       "      <td>&lt;p&gt;I'm trying to maintain a Setup Project in &lt;...</td>\n",
       "      <td>Average</td>\n",
       "      <td>windows</td>\n",
       "      <td>2008-08-03 20:45:27+00:00</td>\n",
       "      <td>0</td>\n",
       "      <td>&lt;p&gt;I'm partway to my solution with this entry ...</td>\n",
       "      <td>Ray</td>\n",
       "      <td>36926</td>\n",
       "      <td>1734</td>\n",
       "      <td>211</td>\n",
       "      <td>1627</td>\n",
       "      <td>0 days 00:10:26</td>\n",
       "    </tr>\n",
       "    <tr>\n",
       "      <th>8</th>\n",
       "      <td>810</td>\n",
       "      <td>233.0</td>\n",
       "      <td>2008-08-03 20:35:01+00:00</td>\n",
       "      <td>9.0</td>\n",
       "      <td>Visual Studio Setup Project - Per User Registr...</td>\n",
       "      <td>&lt;p&gt;I'm trying to maintain a Setup Project in &lt;...</td>\n",
       "      <td>Average</td>\n",
       "      <td>windows</td>\n",
       "      <td>2008-08-03 22:34:06+00:00</td>\n",
       "      <td>0</td>\n",
       "      <td>&lt;p&gt;Despite what the &lt;a href=\"http://msdn.micro...</td>\n",
       "      <td>Ray</td>\n",
       "      <td>36926</td>\n",
       "      <td>1734</td>\n",
       "      <td>211</td>\n",
       "      <td>1627</td>\n",
       "      <td>0 days 01:59:05</td>\n",
       "    </tr>\n",
       "    <tr>\n",
       "      <th>9</th>\n",
       "      <td>810</td>\n",
       "      <td>233.0</td>\n",
       "      <td>2008-08-03 20:35:01+00:00</td>\n",
       "      <td>9.0</td>\n",
       "      <td>Visual Studio Setup Project - Per User Registr...</td>\n",
       "      <td>&lt;p&gt;I'm trying to maintain a Setup Project in &lt;...</td>\n",
       "      <td>Average</td>\n",
       "      <td>visual-studio</td>\n",
       "      <td>2008-08-03 20:45:27+00:00</td>\n",
       "      <td>0</td>\n",
       "      <td>&lt;p&gt;I'm partway to my solution with this entry ...</td>\n",
       "      <td>Ray</td>\n",
       "      <td>36926</td>\n",
       "      <td>1734</td>\n",
       "      <td>211</td>\n",
       "      <td>1627</td>\n",
       "      <td>0 days 00:10:26</td>\n",
       "    </tr>\n",
       "  </tbody>\n",
       "</table>\n",
       "</div>"
      ],
      "text/plain": [
       "   QuesId  OwnerUserId  ...  views   Expected time\n",
       "0      80         26.0  ...   3547 0 days 02:12:40\n",
       "1      80         26.0  ...   3547 0 days 02:12:40\n",
       "2      80         26.0  ...   3547 0 days 02:12:40\n",
       "3     260         91.0  ...  12579 0 days 00:27:49\n",
       "4     260         91.0  ...  12579 0 days 00:27:49\n",
       "5     260         91.0  ...  12579 0 days 00:27:49\n",
       "6     260         91.0  ...  12579 0 days 00:27:49\n",
       "7     810        233.0  ...   1627 0 days 00:10:26\n",
       "8     810        233.0  ...   1627 0 days 01:59:05\n",
       "9     810        233.0  ...   1627 0 days 00:10:26\n",
       "\n",
       "[10 rows x 17 columns]"
      ]
     },
     "execution_count": 274,
     "metadata": {
      "tags": []
     },
     "output_type": "execute_result"
    }
   ],
   "source": [
    "Stack.drop_duplicates(inplace= True)\n",
    "Stack.head(10)"
   ]
  },
  {
   "cell_type": "markdown",
   "metadata": {
    "id": "dZNDAkmaylCa"
   },
   "source": [
    "## Calculating the expected time to get a question answered"
   ]
  },
  {
   "cell_type": "code",
   "execution_count": 269,
   "metadata": {
    "id": "ehprZ-LRx8nn"
   },
   "outputs": [],
   "source": [
    "Stack['Expected time']= qta.AnswerDate-qta.CreationDate"
   ]
  },
  {
   "cell_type": "code",
   "execution_count": 270,
   "metadata": {
    "colab": {
     "base_uri": "https://localhost:8080/",
     "height": 786
    },
    "id": "MgGoNL9gyFbE",
    "outputId": "3503e2ed-37d2-42cd-9b4b-98364102e498"
   },
   "outputs": [
    {
     "data": {
      "text/html": [
       "<div>\n",
       "<style scoped>\n",
       "    .dataframe tbody tr th:only-of-type {\n",
       "        vertical-align: middle;\n",
       "    }\n",
       "\n",
       "    .dataframe tbody tr th {\n",
       "        vertical-align: top;\n",
       "    }\n",
       "\n",
       "    .dataframe thead th {\n",
       "        text-align: right;\n",
       "    }\n",
       "</style>\n",
       "<table border=\"1\" class=\"dataframe\">\n",
       "  <thead>\n",
       "    <tr style=\"text-align: right;\">\n",
       "      <th></th>\n",
       "      <th>QuesId</th>\n",
       "      <th>OwnerUserId</th>\n",
       "      <th>CreationDate</th>\n",
       "      <th>Score</th>\n",
       "      <th>Title</th>\n",
       "      <th>Question</th>\n",
       "      <th>bin</th>\n",
       "      <th>Tag</th>\n",
       "      <th>AnswerDate</th>\n",
       "      <th>AnswerScore</th>\n",
       "      <th>Answer</th>\n",
       "      <th>display_name</th>\n",
       "      <th>reputation</th>\n",
       "      <th>up_votes</th>\n",
       "      <th>down_votes</th>\n",
       "      <th>views</th>\n",
       "      <th>Expected time</th>\n",
       "    </tr>\n",
       "  </thead>\n",
       "  <tbody>\n",
       "    <tr>\n",
       "      <th>0</th>\n",
       "      <td>80</td>\n",
       "      <td>26.0</td>\n",
       "      <td>2008-08-01 13:57:07+00:00</td>\n",
       "      <td>26.0</td>\n",
       "      <td>SQLStatement.execute() - multiple queries in o...</td>\n",
       "      <td>&lt;p&gt;I've written a database generation script i...</td>\n",
       "      <td>Good</td>\n",
       "      <td>flex</td>\n",
       "      <td>2008-08-01 16:09:47+00:00</td>\n",
       "      <td>12</td>\n",
       "      <td>&lt;p&gt;I wound up using this. It is a kind of a ha...</td>\n",
       "      <td>Shawn</td>\n",
       "      <td>11820</td>\n",
       "      <td>565</td>\n",
       "      <td>67</td>\n",
       "      <td>3547</td>\n",
       "      <td>0 days 02:12:40</td>\n",
       "    </tr>\n",
       "    <tr>\n",
       "      <th>1</th>\n",
       "      <td>80</td>\n",
       "      <td>26.0</td>\n",
       "      <td>2008-08-01 13:57:07+00:00</td>\n",
       "      <td>26.0</td>\n",
       "      <td>SQLStatement.execute() - multiple queries in o...</td>\n",
       "      <td>&lt;p&gt;I've written a database generation script i...</td>\n",
       "      <td>Good</td>\n",
       "      <td>actionscript-3</td>\n",
       "      <td>2008-08-01 16:09:47+00:00</td>\n",
       "      <td>12</td>\n",
       "      <td>&lt;p&gt;I wound up using this. It is a kind of a ha...</td>\n",
       "      <td>Shawn</td>\n",
       "      <td>11820</td>\n",
       "      <td>565</td>\n",
       "      <td>67</td>\n",
       "      <td>3547</td>\n",
       "      <td>0 days 02:12:40</td>\n",
       "    </tr>\n",
       "    <tr>\n",
       "      <th>2</th>\n",
       "      <td>80</td>\n",
       "      <td>26.0</td>\n",
       "      <td>2008-08-01 13:57:07+00:00</td>\n",
       "      <td>26.0</td>\n",
       "      <td>SQLStatement.execute() - multiple queries in o...</td>\n",
       "      <td>&lt;p&gt;I've written a database generation script i...</td>\n",
       "      <td>Good</td>\n",
       "      <td>air</td>\n",
       "      <td>2008-08-01 16:09:47+00:00</td>\n",
       "      <td>12</td>\n",
       "      <td>&lt;p&gt;I wound up using this. It is a kind of a ha...</td>\n",
       "      <td>Shawn</td>\n",
       "      <td>11820</td>\n",
       "      <td>565</td>\n",
       "      <td>67</td>\n",
       "      <td>3547</td>\n",
       "      <td>0 days 02:12:40</td>\n",
       "    </tr>\n",
       "    <tr>\n",
       "      <th>3</th>\n",
       "      <td>260</td>\n",
       "      <td>91.0</td>\n",
       "      <td>2008-08-01 23:22:08+00:00</td>\n",
       "      <td>49.0</td>\n",
       "      <td>Adding scripting functionality to .NET applica...</td>\n",
       "      <td>&lt;p&gt;I have a little game written in C#. It uses...</td>\n",
       "      <td>Good</td>\n",
       "      <td>c#</td>\n",
       "      <td>2008-08-01 23:49:57+00:00</td>\n",
       "      <td>4</td>\n",
       "      <td>&lt;p&gt;Yes, I thought about that, but I soon figur...</td>\n",
       "      <td>Michael Stum</td>\n",
       "      <td>120896</td>\n",
       "      <td>7122</td>\n",
       "      <td>55</td>\n",
       "      <td>12579</td>\n",
       "      <td>0 days 00:27:49</td>\n",
       "    </tr>\n",
       "    <tr>\n",
       "      <th>4</th>\n",
       "      <td>260</td>\n",
       "      <td>91.0</td>\n",
       "      <td>2008-08-01 23:22:08+00:00</td>\n",
       "      <td>49.0</td>\n",
       "      <td>Adding scripting functionality to .NET applica...</td>\n",
       "      <td>&lt;p&gt;I have a little game written in C#. It uses...</td>\n",
       "      <td>Good</td>\n",
       "      <td>.net</td>\n",
       "      <td>2008-08-01 23:49:57+00:00</td>\n",
       "      <td>4</td>\n",
       "      <td>&lt;p&gt;Yes, I thought about that, but I soon figur...</td>\n",
       "      <td>Michael Stum</td>\n",
       "      <td>120896</td>\n",
       "      <td>7122</td>\n",
       "      <td>55</td>\n",
       "      <td>12579</td>\n",
       "      <td>0 days 00:27:49</td>\n",
       "    </tr>\n",
       "  </tbody>\n",
       "</table>\n",
       "</div>"
      ],
      "text/plain": [
       "   QuesId  OwnerUserId  ...  views   Expected time\n",
       "0      80         26.0  ...   3547 0 days 02:12:40\n",
       "1      80         26.0  ...   3547 0 days 02:12:40\n",
       "2      80         26.0  ...   3547 0 days 02:12:40\n",
       "3     260         91.0  ...  12579 0 days 00:27:49\n",
       "4     260         91.0  ...  12579 0 days 00:27:49\n",
       "\n",
       "[5 rows x 17 columns]"
      ]
     },
     "execution_count": 270,
     "metadata": {
      "tags": []
     },
     "output_type": "execute_result"
    }
   ],
   "source": [
    "Stack.head()"
   ]
  },
  {
   "cell_type": "code",
   "execution_count": 271,
   "metadata": {
    "id": "W1xa1qwbvRTe"
   },
   "outputs": [],
   "source": [
    "tagsdf.rename(columns={'Id':'QuesId'}, inplace=True)"
   ]
  },
  {
   "cell_type": "code",
   "execution_count": 130,
   "metadata": {
    "colab": {
     "base_uri": "https://localhost:8080/",
     "height": 343
    },
    "id": "gheuowyPtLFe",
    "outputId": "c7e9aba5-e82c-4edb-d3a0-c0a431217225"
   },
   "outputs": [
    {
     "data": {
      "text/html": [
       "<div>\n",
       "<style scoped>\n",
       "    .dataframe tbody tr th:only-of-type {\n",
       "        vertical-align: middle;\n",
       "    }\n",
       "\n",
       "    .dataframe tbody tr th {\n",
       "        vertical-align: top;\n",
       "    }\n",
       "\n",
       "    .dataframe thead th {\n",
       "        text-align: right;\n",
       "    }\n",
       "</style>\n",
       "<table border=\"1\" class=\"dataframe\">\n",
       "  <thead>\n",
       "    <tr style=\"text-align: right;\">\n",
       "      <th></th>\n",
       "      <th>QuesId</th>\n",
       "      <th>Tag</th>\n",
       "    </tr>\n",
       "  </thead>\n",
       "  <tbody>\n",
       "    <tr>\n",
       "      <th>7</th>\n",
       "      <td>120</td>\n",
       "      <td>sql</td>\n",
       "    </tr>\n",
       "    <tr>\n",
       "      <th>67</th>\n",
       "      <td>1970</td>\n",
       "      <td>sql</td>\n",
       "    </tr>\n",
       "    <tr>\n",
       "      <th>72</th>\n",
       "      <td>2120</td>\n",
       "      <td>sql</td>\n",
       "    </tr>\n",
       "    <tr>\n",
       "      <th>99</th>\n",
       "      <td>2840</td>\n",
       "      <td>sql</td>\n",
       "    </tr>\n",
       "    <tr>\n",
       "      <th>130</th>\n",
       "      <td>4110</td>\n",
       "      <td>sql</td>\n",
       "    </tr>\n",
       "    <tr>\n",
       "      <th>184</th>\n",
       "      <td>6340</td>\n",
       "      <td>sql</td>\n",
       "    </tr>\n",
       "    <tr>\n",
       "      <th>266</th>\n",
       "      <td>10190</td>\n",
       "      <td>sql</td>\n",
       "    </tr>\n",
       "    <tr>\n",
       "      <th>312</th>\n",
       "      <td>11060</td>\n",
       "      <td>python</td>\n",
       "    </tr>\n",
       "    <tr>\n",
       "      <th>392</th>\n",
       "      <td>13540</td>\n",
       "      <td>sql</td>\n",
       "    </tr>\n",
       "    <tr>\n",
       "      <th>503</th>\n",
       "      <td>17250</td>\n",
       "      <td>python</td>\n",
       "    </tr>\n",
       "  </tbody>\n",
       "</table>\n",
       "</div>"
      ],
      "text/plain": [
       "     QuesId     Tag\n",
       "7       120     sql\n",
       "67     1970     sql\n",
       "72     2120     sql\n",
       "99     2840     sql\n",
       "130    4110     sql\n",
       "184    6340     sql\n",
       "266   10190     sql\n",
       "312   11060  python\n",
       "392   13540     sql\n",
       "503   17250  python"
      ]
     },
     "execution_count": 130,
     "metadata": {
      "tags": []
     },
     "output_type": "execute_result"
    }
   ],
   "source": [
    "DStagsdf.head(10)"
   ]
  },
  {
   "cell_type": "code",
   "execution_count": 129,
   "metadata": {
    "colab": {
     "base_uri": "https://localhost:8080/"
    },
    "id": "IGGb2aBQiiEt",
    "outputId": "21637aa6-dd68-4ef3-fa7c-72b6436ff549"
   },
   "outputs": [
    {
     "name": "stderr",
     "output_type": "stream",
     "text": [
      "/usr/local/lib/python3.6/dist-packages/pandas/core/frame.py:4308: SettingWithCopyWarning: \n",
      "A value is trying to be set on a copy of a slice from a DataFrame\n",
      "\n",
      "See the caveats in the documentation: https://pandas.pydata.org/pandas-docs/stable/user_guide/indexing.html#returning-a-view-versus-a-copy\n",
      "  errors=errors,\n"
     ]
    }
   ],
   "source": [
    "DStagsdf.rename(columns= {'Id':'QuesId'}, inplace=True)"
   ]
  },
  {
   "cell_type": "code",
   "execution_count": 128,
   "metadata": {
    "colab": {
     "base_uri": "https://localhost:8080/",
     "height": 320
    },
    "id": "TmsiLphWufNg",
    "outputId": "81ee1e9d-a72f-47b5-f258-c36eb6ba3d88"
   },
   "outputs": [
    {
     "ename": "KeyError",
     "evalue": "ignored",
     "output_type": "error",
     "traceback": [
      "\u001b[0;31m---------------------------------------------------------------------------\u001b[0m",
      "\u001b[0;31mKeyError\u001b[0m                                  Traceback (most recent call last)",
      "\u001b[0;32m<ipython-input-128-59d1a294bb50>\u001b[0m in \u001b[0;36m<module>\u001b[0;34m()\u001b[0m\n\u001b[0;32m----> 1\u001b[0;31m \u001b[0mDSStack\u001b[0m\u001b[0;34m=\u001b[0m \u001b[0mpd\u001b[0m\u001b[0;34m.\u001b[0m\u001b[0mmerge\u001b[0m\u001b[0;34m(\u001b[0m\u001b[0mqta\u001b[0m\u001b[0;34m,\u001b[0m \u001b[0mDStagsdf\u001b[0m\u001b[0;34m,\u001b[0m \u001b[0mhow\u001b[0m\u001b[0;34m=\u001b[0m\u001b[0;34m'inner'\u001b[0m\u001b[0;34m,\u001b[0m \u001b[0mon\u001b[0m\u001b[0;34m=\u001b[0m\u001b[0;34m'QuesId'\u001b[0m\u001b[0;34m)\u001b[0m\u001b[0;34m\u001b[0m\u001b[0;34m\u001b[0m\u001b[0m\n\u001b[0m\u001b[1;32m      2\u001b[0m \u001b[0mDSStack\u001b[0m\u001b[0;34m.\u001b[0m\u001b[0mhead\u001b[0m\u001b[0;34m(\u001b[0m\u001b[0;36m10\u001b[0m\u001b[0;34m)\u001b[0m\u001b[0;34m\u001b[0m\u001b[0;34m\u001b[0m\u001b[0m\n",
      "\u001b[0;32m/usr/local/lib/python3.6/dist-packages/pandas/core/reshape/merge.py\u001b[0m in \u001b[0;36mmerge\u001b[0;34m(left, right, how, on, left_on, right_on, left_index, right_index, sort, suffixes, copy, indicator, validate)\u001b[0m\n\u001b[1;32m     85\u001b[0m         \u001b[0mcopy\u001b[0m\u001b[0;34m=\u001b[0m\u001b[0mcopy\u001b[0m\u001b[0;34m,\u001b[0m\u001b[0;34m\u001b[0m\u001b[0;34m\u001b[0m\u001b[0m\n\u001b[1;32m     86\u001b[0m         \u001b[0mindicator\u001b[0m\u001b[0;34m=\u001b[0m\u001b[0mindicator\u001b[0m\u001b[0;34m,\u001b[0m\u001b[0;34m\u001b[0m\u001b[0;34m\u001b[0m\u001b[0m\n\u001b[0;32m---> 87\u001b[0;31m         \u001b[0mvalidate\u001b[0m\u001b[0;34m=\u001b[0m\u001b[0mvalidate\u001b[0m\u001b[0;34m,\u001b[0m\u001b[0;34m\u001b[0m\u001b[0;34m\u001b[0m\u001b[0m\n\u001b[0m\u001b[1;32m     88\u001b[0m     )\n\u001b[1;32m     89\u001b[0m     \u001b[0;32mreturn\u001b[0m \u001b[0mop\u001b[0m\u001b[0;34m.\u001b[0m\u001b[0mget_result\u001b[0m\u001b[0;34m(\u001b[0m\u001b[0;34m)\u001b[0m\u001b[0;34m\u001b[0m\u001b[0;34m\u001b[0m\u001b[0m\n",
      "\u001b[0;32m/usr/local/lib/python3.6/dist-packages/pandas/core/reshape/merge.py\u001b[0m in \u001b[0;36m__init__\u001b[0;34m(self, left, right, how, on, left_on, right_on, axis, left_index, right_index, sort, suffixes, copy, indicator, validate)\u001b[0m\n\u001b[1;32m    650\u001b[0m             \u001b[0mself\u001b[0m\u001b[0;34m.\u001b[0m\u001b[0mright_join_keys\u001b[0m\u001b[0;34m,\u001b[0m\u001b[0;34m\u001b[0m\u001b[0;34m\u001b[0m\u001b[0m\n\u001b[1;32m    651\u001b[0m             \u001b[0mself\u001b[0m\u001b[0;34m.\u001b[0m\u001b[0mjoin_names\u001b[0m\u001b[0;34m,\u001b[0m\u001b[0;34m\u001b[0m\u001b[0;34m\u001b[0m\u001b[0m\n\u001b[0;32m--> 652\u001b[0;31m         ) = self._get_merge_keys()\n\u001b[0m\u001b[1;32m    653\u001b[0m \u001b[0;34m\u001b[0m\u001b[0m\n\u001b[1;32m    654\u001b[0m         \u001b[0;31m# validate the merge keys dtypes. We may need to coerce\u001b[0m\u001b[0;34m\u001b[0m\u001b[0;34m\u001b[0m\u001b[0;34m\u001b[0m\u001b[0m\n",
      "\u001b[0;32m/usr/local/lib/python3.6/dist-packages/pandas/core/reshape/merge.py\u001b[0m in \u001b[0;36m_get_merge_keys\u001b[0;34m(self)\u001b[0m\n\u001b[1;32m   1003\u001b[0m                     \u001b[0;32mif\u001b[0m \u001b[0;32mnot\u001b[0m \u001b[0mis_rkey\u001b[0m\u001b[0;34m(\u001b[0m\u001b[0mrk\u001b[0m\u001b[0;34m)\u001b[0m\u001b[0;34m:\u001b[0m\u001b[0;34m\u001b[0m\u001b[0;34m\u001b[0m\u001b[0m\n\u001b[1;32m   1004\u001b[0m                         \u001b[0;32mif\u001b[0m \u001b[0mrk\u001b[0m \u001b[0;32mis\u001b[0m \u001b[0;32mnot\u001b[0m \u001b[0;32mNone\u001b[0m\u001b[0;34m:\u001b[0m\u001b[0;34m\u001b[0m\u001b[0;34m\u001b[0m\u001b[0m\n\u001b[0;32m-> 1005\u001b[0;31m                             \u001b[0mright_keys\u001b[0m\u001b[0;34m.\u001b[0m\u001b[0mappend\u001b[0m\u001b[0;34m(\u001b[0m\u001b[0mright\u001b[0m\u001b[0;34m.\u001b[0m\u001b[0m_get_label_or_level_values\u001b[0m\u001b[0;34m(\u001b[0m\u001b[0mrk\u001b[0m\u001b[0;34m)\u001b[0m\u001b[0;34m)\u001b[0m\u001b[0;34m\u001b[0m\u001b[0;34m\u001b[0m\u001b[0m\n\u001b[0m\u001b[1;32m   1006\u001b[0m                         \u001b[0;32melse\u001b[0m\u001b[0;34m:\u001b[0m\u001b[0;34m\u001b[0m\u001b[0;34m\u001b[0m\u001b[0m\n\u001b[1;32m   1007\u001b[0m                             \u001b[0;31m# work-around for merge_asof(right_index=True)\u001b[0m\u001b[0;34m\u001b[0m\u001b[0;34m\u001b[0m\u001b[0;34m\u001b[0m\u001b[0m\n",
      "\u001b[0;32m/usr/local/lib/python3.6/dist-packages/pandas/core/generic.py\u001b[0m in \u001b[0;36m_get_label_or_level_values\u001b[0;34m(self, key, axis)\u001b[0m\n\u001b[1;32m   1561\u001b[0m             \u001b[0mvalues\u001b[0m \u001b[0;34m=\u001b[0m \u001b[0mself\u001b[0m\u001b[0;34m.\u001b[0m\u001b[0maxes\u001b[0m\u001b[0;34m[\u001b[0m\u001b[0maxis\u001b[0m\u001b[0;34m]\u001b[0m\u001b[0;34m.\u001b[0m\u001b[0mget_level_values\u001b[0m\u001b[0;34m(\u001b[0m\u001b[0mkey\u001b[0m\u001b[0;34m)\u001b[0m\u001b[0;34m.\u001b[0m\u001b[0m_values\u001b[0m\u001b[0;34m\u001b[0m\u001b[0;34m\u001b[0m\u001b[0m\n\u001b[1;32m   1562\u001b[0m         \u001b[0;32melse\u001b[0m\u001b[0;34m:\u001b[0m\u001b[0;34m\u001b[0m\u001b[0;34m\u001b[0m\u001b[0m\n\u001b[0;32m-> 1563\u001b[0;31m             \u001b[0;32mraise\u001b[0m \u001b[0mKeyError\u001b[0m\u001b[0;34m(\u001b[0m\u001b[0mkey\u001b[0m\u001b[0;34m)\u001b[0m\u001b[0;34m\u001b[0m\u001b[0;34m\u001b[0m\u001b[0m\n\u001b[0m\u001b[1;32m   1564\u001b[0m \u001b[0;34m\u001b[0m\u001b[0m\n\u001b[1;32m   1565\u001b[0m         \u001b[0;31m# Check for duplicates\u001b[0m\u001b[0;34m\u001b[0m\u001b[0;34m\u001b[0m\u001b[0;34m\u001b[0m\u001b[0m\n",
      "\u001b[0;31mKeyError\u001b[0m: 'QuesId'"
     ]
    }
   ],
   "source": [
    "DSStack= pd.merge(qta, DStagsdf, how='inner', on='QuesId')\n",
    "DSStack.head(10)"
   ]
  },
  {
   "cell_type": "code",
   "execution_count": null,
   "metadata": {
    "id": "MN0W8HiCvr7d"
   },
   "outputs": [],
   "source": []
  }
 ],
 "metadata": {
  "colab": {
   "collapsed_sections": [],
   "name": "stackoverflow.ipynb",
   "provenance": []
  },
  "kernelspec": {
   "display_name": "Python 3",
   "language": "python",
   "name": "python3"
  },
  "language_info": {
   "codemirror_mode": {
    "name": "ipython",
    "version": 3
   },
   "file_extension": ".py",
   "mimetype": "text/x-python",
   "name": "python",
   "nbconvert_exporter": "python",
   "pygments_lexer": "ipython3",
   "version": "3.6.5"
  }
 },
 "nbformat": 4,
 "nbformat_minor": 1
}
