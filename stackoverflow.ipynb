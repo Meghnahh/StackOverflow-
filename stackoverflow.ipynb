{
  "nbformat": 4,
  "nbformat_minor": 0,
  "metadata": {
    "colab": {
      "name": "stackoverflow.ipynb",
      "provenance": [],
      "collapsed_sections": []
    },
    "kernelspec": {
      "display_name": "Python 3",
      "language": "python",
      "name": "python3"
    },
    "language_info": {
      "codemirror_mode": {
        "name": "ipython",
        "version": 3
      },
      "file_extension": ".py",
      "mimetype": "text/x-python",
      "name": "python",
      "nbconvert_exporter": "python",
      "pygments_lexer": "ipython3",
      "version": "3.6.5"
    }
  },
  "cells": [
    {
      "cell_type": "markdown",
      "metadata": {
        "id": "DhWvrK5gVM6W"
      },
      "source": [
        "# **Importing libraries**"
      ]
    },
    {
      "cell_type": "code",
      "metadata": {
        "id": "lD5A1Gt8HPe-"
      },
      "source": [
        "import pandas as pd, numpy as np\n",
        "import seaborn as sns\n",
        "import matplotlib.pyplot as plt\n",
        "%matplotlib inline\n",
        "import numpy as np\n",
        "import matplotlib.pyplot as plt\n",
        "import collections"
      ],
      "execution_count": null,
      "outputs": []
    },
    {
      "cell_type": "markdown",
      "metadata": {
        "id": "dKV-fFQKUzC4"
      },
      "source": [
        "# **Uploading datasets from public s3 link**"
      ]
    },
    {
      "cell_type": "code",
      "metadata": {
        "id": "p4LittRdybRj"
      },
      "source": [
        "quesdf= pd.read_csv(\"https://stack-overflow-casestudy-datasets.s3.amazonaws.com/Questions.csv\", encoding='latin-1')"
      ],
      "execution_count": null,
      "outputs": []
    },
    {
      "cell_type": "code",
      "metadata": {
        "id": "uKTK9P893bFF"
      },
      "source": [
        "ansdf= pd.read_csv(\"https://stack-overflow-casestudy-datasets.s3.amazonaws.com/Answers.csv\", encoding='latin-1')"
      ],
      "execution_count": null,
      "outputs": []
    },
    {
      "cell_type": "code",
      "metadata": {
        "id": "aZoOebAGV8L5"
      },
      "source": [
        "tagsdf= pd.read_csv(\"https://stack-overflow-casestudy-datasets.s3.amazonaws.com/Tags.csv\", encoding='latin-1')"
      ],
      "execution_count": null,
      "outputs": []
    },
    {
      "cell_type": "code",
      "metadata": {
        "id": "kP6xHKILWNo-"
      },
      "source": [
        "usersdf= pd.read_csv(\"https://stack-overflow-casestudy-datasets.s3.amazonaws.com/Users.csv\", encoding='latin-1')"
      ],
      "execution_count": null,
      "outputs": []
    },
    {
      "cell_type": "markdown",
      "metadata": {
        "id": "DyUKhRuxWnIJ"
      },
      "source": [
        "# **Cleaning datasets**\n",
        "\n"
      ]
    },
    {
      "cell_type": "code",
      "metadata": {
        "colab": {
          "base_uri": "https://localhost:8080/",
          "height": 195
        },
        "id": "fQg8TztKD1F7",
        "outputId": "13e00018-c1a7-471a-8979-7dd4b3b3b3bc"
      },
      "source": [
        "quesdf.head()\n"
      ],
      "execution_count": null,
      "outputs": [
        {
          "output_type": "execute_result",
          "data": {
            "text/html": [
              "<div>\n",
              "<style scoped>\n",
              "    .dataframe tbody tr th:only-of-type {\n",
              "        vertical-align: middle;\n",
              "    }\n",
              "\n",
              "    .dataframe tbody tr th {\n",
              "        vertical-align: top;\n",
              "    }\n",
              "\n",
              "    .dataframe thead th {\n",
              "        text-align: right;\n",
              "    }\n",
              "</style>\n",
              "<table border=\"1\" class=\"dataframe\">\n",
              "  <thead>\n",
              "    <tr style=\"text-align: right;\">\n",
              "      <th></th>\n",
              "      <th>Id</th>\n",
              "      <th>OwnerUserId</th>\n",
              "      <th>CreationDate</th>\n",
              "      <th>ClosedDate</th>\n",
              "      <th>Score</th>\n",
              "      <th>Title</th>\n",
              "      <th>Body</th>\n",
              "    </tr>\n",
              "  </thead>\n",
              "  <tbody>\n",
              "    <tr>\n",
              "      <th>0</th>\n",
              "      <td>80</td>\n",
              "      <td>26.0</td>\n",
              "      <td>2008-08-01T13:57:07Z</td>\n",
              "      <td>NaN</td>\n",
              "      <td>26</td>\n",
              "      <td>SQLStatement.execute() - multiple queries in o...</td>\n",
              "      <td>&lt;p&gt;I've written a database generation script i...</td>\n",
              "    </tr>\n",
              "    <tr>\n",
              "      <th>1</th>\n",
              "      <td>90</td>\n",
              "      <td>58.0</td>\n",
              "      <td>2008-08-01T14:41:24Z</td>\n",
              "      <td>2012-12-26T03:45:49Z</td>\n",
              "      <td>144</td>\n",
              "      <td>Good branching and merging tutorials for Torto...</td>\n",
              "      <td>&lt;p&gt;Are there any really good tutorials explain...</td>\n",
              "    </tr>\n",
              "    <tr>\n",
              "      <th>2</th>\n",
              "      <td>120</td>\n",
              "      <td>83.0</td>\n",
              "      <td>2008-08-01T15:50:08Z</td>\n",
              "      <td>NaN</td>\n",
              "      <td>21</td>\n",
              "      <td>ASP.NET Site Maps</td>\n",
              "      <td>&lt;p&gt;Has anyone got experience creating &lt;strong&gt;...</td>\n",
              "    </tr>\n",
              "    <tr>\n",
              "      <th>3</th>\n",
              "      <td>180</td>\n",
              "      <td>2089740.0</td>\n",
              "      <td>2008-08-01T18:42:19Z</td>\n",
              "      <td>NaN</td>\n",
              "      <td>53</td>\n",
              "      <td>Function for creating color wheels</td>\n",
              "      <td>&lt;p&gt;This is something I've pseudo-solved many t...</td>\n",
              "    </tr>\n",
              "    <tr>\n",
              "      <th>4</th>\n",
              "      <td>260</td>\n",
              "      <td>91.0</td>\n",
              "      <td>2008-08-01T23:22:08Z</td>\n",
              "      <td>NaN</td>\n",
              "      <td>49</td>\n",
              "      <td>Adding scripting functionality to .NET applica...</td>\n",
              "      <td>&lt;p&gt;I have a little game written in C#. It uses...</td>\n",
              "    </tr>\n",
              "  </tbody>\n",
              "</table>\n",
              "</div>"
            ],
            "text/plain": [
              "    Id  ...                                               Body\n",
              "0   80  ...  <p>I've written a database generation script i...\n",
              "1   90  ...  <p>Are there any really good tutorials explain...\n",
              "2  120  ...  <p>Has anyone got experience creating <strong>...\n",
              "3  180  ...  <p>This is something I've pseudo-solved many t...\n",
              "4  260  ...  <p>I have a little game written in C#. It uses...\n",
              "\n",
              "[5 rows x 7 columns]"
            ]
          },
          "metadata": {
            "tags": []
          },
          "execution_count": 6
        }
      ]
    },
    {
      "cell_type": "code",
      "metadata": {
        "colab": {
          "base_uri": "https://localhost:8080/"
        },
        "id": "3-2M48DAWUSF",
        "outputId": "6b55d05e-4157-4ded-ae14-735a32fa928a"
      },
      "source": [
        "quesdf.dtypes"
      ],
      "execution_count": null,
      "outputs": [
        {
          "output_type": "execute_result",
          "data": {
            "text/plain": [
              "Id                int64\n",
              "OwnerUserId     float64\n",
              "CreationDate     object\n",
              "ClosedDate       object\n",
              "Score             int64\n",
              "Title            object\n",
              "Body             object\n",
              "dtype: object"
            ]
          },
          "metadata": {
            "tags": []
          },
          "execution_count": 7
        }
      ]
    },
    {
      "cell_type": "code",
      "metadata": {
        "colab": {
          "base_uri": "https://localhost:8080/"
        },
        "id": "uJLh1ijJYeM4",
        "outputId": "3d7011d3-67b6-4a6f-e419-d9082b7287d0"
      },
      "source": [
        "quesdf.info()"
      ],
      "execution_count": null,
      "outputs": [
        {
          "output_type": "stream",
          "text": [
            "<class 'pandas.core.frame.DataFrame'>\n",
            "RangeIndex: 1264216 entries, 0 to 1264215\n",
            "Data columns (total 7 columns):\n",
            " #   Column        Non-Null Count    Dtype  \n",
            "---  ------        --------------    -----  \n",
            " 0   Id            1264216 non-null  int64  \n",
            " 1   OwnerUserId   1249762 non-null  float64\n",
            " 2   CreationDate  1264216 non-null  object \n",
            " 3   ClosedDate    55959 non-null    object \n",
            " 4   Score         1264216 non-null  int64  \n",
            " 5   Title         1264216 non-null  object \n",
            " 6   Body          1264216 non-null  object \n",
            "dtypes: float64(1), int64(2), object(4)\n",
            "memory usage: 67.5+ MB\n"
          ],
          "name": "stdout"
        }
      ]
    },
    {
      "cell_type": "code",
      "metadata": {
        "colab": {
          "base_uri": "https://localhost:8080/",
          "height": 195
        },
        "id": "eCXDluzUorsA",
        "outputId": "471237e3-3ec9-4d8c-843b-3e32ebfdaf97"
      },
      "source": [
        "ansdf.head()"
      ],
      "execution_count": null,
      "outputs": [
        {
          "output_type": "execute_result",
          "data": {
            "text/html": [
              "<div>\n",
              "<style scoped>\n",
              "    .dataframe tbody tr th:only-of-type {\n",
              "        vertical-align: middle;\n",
              "    }\n",
              "\n",
              "    .dataframe tbody tr th {\n",
              "        vertical-align: top;\n",
              "    }\n",
              "\n",
              "    .dataframe thead th {\n",
              "        text-align: right;\n",
              "    }\n",
              "</style>\n",
              "<table border=\"1\" class=\"dataframe\">\n",
              "  <thead>\n",
              "    <tr style=\"text-align: right;\">\n",
              "      <th></th>\n",
              "      <th>Id</th>\n",
              "      <th>OwnerUserId</th>\n",
              "      <th>CreationDate</th>\n",
              "      <th>ParentId</th>\n",
              "      <th>Score</th>\n",
              "      <th>Body</th>\n",
              "    </tr>\n",
              "  </thead>\n",
              "  <tbody>\n",
              "    <tr>\n",
              "      <th>0</th>\n",
              "      <td>92</td>\n",
              "      <td>61.0</td>\n",
              "      <td>2008-08-01T14:45:37Z</td>\n",
              "      <td>90</td>\n",
              "      <td>13</td>\n",
              "      <td>&lt;p&gt;&lt;a href=\"http://svnbook.red-bean.com/\"&gt;Vers...</td>\n",
              "    </tr>\n",
              "    <tr>\n",
              "      <th>1</th>\n",
              "      <td>124</td>\n",
              "      <td>26.0</td>\n",
              "      <td>2008-08-01T16:09:47Z</td>\n",
              "      <td>80</td>\n",
              "      <td>12</td>\n",
              "      <td>&lt;p&gt;I wound up using this. It is a kind of a ha...</td>\n",
              "    </tr>\n",
              "    <tr>\n",
              "      <th>2</th>\n",
              "      <td>199</td>\n",
              "      <td>50.0</td>\n",
              "      <td>2008-08-01T19:36:46Z</td>\n",
              "      <td>180</td>\n",
              "      <td>1</td>\n",
              "      <td>&lt;p&gt;I've read somewhere the human eye can't dis...</td>\n",
              "    </tr>\n",
              "    <tr>\n",
              "      <th>3</th>\n",
              "      <td>269</td>\n",
              "      <td>91.0</td>\n",
              "      <td>2008-08-01T23:49:57Z</td>\n",
              "      <td>260</td>\n",
              "      <td>4</td>\n",
              "      <td>&lt;p&gt;Yes, I thought about that, but I soon figur...</td>\n",
              "    </tr>\n",
              "    <tr>\n",
              "      <th>4</th>\n",
              "      <td>307</td>\n",
              "      <td>49.0</td>\n",
              "      <td>2008-08-02T01:49:46Z</td>\n",
              "      <td>260</td>\n",
              "      <td>28</td>\n",
              "      <td>&lt;p&gt;&lt;a href=\"http://www.codeproject.com/Article...</td>\n",
              "    </tr>\n",
              "  </tbody>\n",
              "</table>\n",
              "</div>"
            ],
            "text/plain": [
              "    Id  OwnerUserId  ... Score                                               Body\n",
              "0   92         61.0  ...    13  <p><a href=\"http://svnbook.red-bean.com/\">Vers...\n",
              "1  124         26.0  ...    12  <p>I wound up using this. It is a kind of a ha...\n",
              "2  199         50.0  ...     1  <p>I've read somewhere the human eye can't dis...\n",
              "3  269         91.0  ...     4  <p>Yes, I thought about that, but I soon figur...\n",
              "4  307         49.0  ...    28  <p><a href=\"http://www.codeproject.com/Article...\n",
              "\n",
              "[5 rows x 6 columns]"
            ]
          },
          "metadata": {
            "tags": []
          },
          "execution_count": 9
        }
      ]
    },
    {
      "cell_type": "code",
      "metadata": {
        "colab": {
          "base_uri": "https://localhost:8080/"
        },
        "id": "wGkZAoEWo2pY",
        "outputId": "444c90be-2f55-4dc2-86b3-2484648788ed"
      },
      "source": [
        "ansdf.dtypes"
      ],
      "execution_count": null,
      "outputs": [
        {
          "output_type": "execute_result",
          "data": {
            "text/plain": [
              "Id                int64\n",
              "OwnerUserId     float64\n",
              "CreationDate     object\n",
              "ParentId          int64\n",
              "Score             int64\n",
              "Body             object\n",
              "dtype: object"
            ]
          },
          "metadata": {
            "tags": []
          },
          "execution_count": 10
        }
      ]
    },
    {
      "cell_type": "code",
      "metadata": {
        "colab": {
          "base_uri": "https://localhost:8080/"
        },
        "id": "_v4x42kbovlw",
        "outputId": "14b1ce1e-f2e7-4910-b143-acc0042d79a9"
      },
      "source": [
        "ansdf.info()"
      ],
      "execution_count": null,
      "outputs": [
        {
          "output_type": "stream",
          "text": [
            "<class 'pandas.core.frame.DataFrame'>\n",
            "RangeIndex: 2014516 entries, 0 to 2014515\n",
            "Data columns (total 6 columns):\n",
            " #   Column        Dtype  \n",
            "---  ------        -----  \n",
            " 0   Id            int64  \n",
            " 1   OwnerUserId   float64\n",
            " 2   CreationDate  object \n",
            " 3   ParentId      int64  \n",
            " 4   Score         int64  \n",
            " 5   Body          object \n",
            "dtypes: float64(1), int64(3), object(2)\n",
            "memory usage: 92.2+ MB\n"
          ],
          "name": "stdout"
        }
      ]
    },
    {
      "cell_type": "code",
      "metadata": {
        "colab": {
          "base_uri": "https://localhost:8080/"
        },
        "id": "5H-WgZRwjTdj",
        "outputId": "b559ba8e-5856-4a9f-a5cc-e1b30d9916bc"
      },
      "source": [
        "ansdf.OwnerUserId.isnull().sum()"
      ],
      "execution_count": null,
      "outputs": [
        {
          "output_type": "execute_result",
          "data": {
            "text/plain": [
              "13200"
            ]
          },
          "metadata": {
            "tags": []
          },
          "execution_count": 12
        }
      ]
    },
    {
      "cell_type": "code",
      "metadata": {
        "colab": {
          "base_uri": "https://localhost:8080/"
        },
        "id": "pBQW605BlShU",
        "outputId": "2ea5a470-f2f7-4d89-a97a-9971def28288"
      },
      "source": [
        "ansdf.ParentId.nunique()"
      ],
      "execution_count": null,
      "outputs": [
        {
          "output_type": "execute_result",
          "data": {
            "text/plain": [
              "1102568"
            ]
          },
          "metadata": {
            "tags": []
          },
          "execution_count": 13
        }
      ]
    },
    {
      "cell_type": "code",
      "metadata": {
        "colab": {
          "base_uri": "https://localhost:8080/",
          "height": 195
        },
        "id": "LJlwTMHnoIbt",
        "outputId": "772712f2-6223-4fc0-e9b6-f11275db4e7e"
      },
      "source": [
        "tagsdf.head()"
      ],
      "execution_count": null,
      "outputs": [
        {
          "output_type": "execute_result",
          "data": {
            "text/html": [
              "<div>\n",
              "<style scoped>\n",
              "    .dataframe tbody tr th:only-of-type {\n",
              "        vertical-align: middle;\n",
              "    }\n",
              "\n",
              "    .dataframe tbody tr th {\n",
              "        vertical-align: top;\n",
              "    }\n",
              "\n",
              "    .dataframe thead th {\n",
              "        text-align: right;\n",
              "    }\n",
              "</style>\n",
              "<table border=\"1\" class=\"dataframe\">\n",
              "  <thead>\n",
              "    <tr style=\"text-align: right;\">\n",
              "      <th></th>\n",
              "      <th>Id</th>\n",
              "      <th>Tag</th>\n",
              "    </tr>\n",
              "  </thead>\n",
              "  <tbody>\n",
              "    <tr>\n",
              "      <th>0</th>\n",
              "      <td>80</td>\n",
              "      <td>flex</td>\n",
              "    </tr>\n",
              "    <tr>\n",
              "      <th>1</th>\n",
              "      <td>80</td>\n",
              "      <td>actionscript-3</td>\n",
              "    </tr>\n",
              "    <tr>\n",
              "      <th>2</th>\n",
              "      <td>80</td>\n",
              "      <td>air</td>\n",
              "    </tr>\n",
              "    <tr>\n",
              "      <th>3</th>\n",
              "      <td>90</td>\n",
              "      <td>svn</td>\n",
              "    </tr>\n",
              "    <tr>\n",
              "      <th>4</th>\n",
              "      <td>90</td>\n",
              "      <td>tortoisesvn</td>\n",
              "    </tr>\n",
              "  </tbody>\n",
              "</table>\n",
              "</div>"
            ],
            "text/plain": [
              "   Id             Tag\n",
              "0  80            flex\n",
              "1  80  actionscript-3\n",
              "2  80             air\n",
              "3  90             svn\n",
              "4  90     tortoisesvn"
            ]
          },
          "metadata": {
            "tags": []
          },
          "execution_count": 115
        }
      ]
    },
    {
      "cell_type": "markdown",
      "metadata": {
        "id": "ESiYwXfVxLYF"
      },
      "source": [
        "A question can have multiple tags. Here, the Id given is that of the question so the Id in tagsdf needn't be unique"
      ]
    },
    {
      "cell_type": "code",
      "metadata": {
        "colab": {
          "base_uri": "https://localhost:8080/"
        },
        "id": "JdKqiyuqt9f_",
        "outputId": "c503535c-fbb7-44cf-d678-707d3c02802a"
      },
      "source": [
        "tagsdf.dtypes"
      ],
      "execution_count": null,
      "outputs": [
        {
          "output_type": "execute_result",
          "data": {
            "text/plain": [
              "Id      int64\n",
              "Tag    object\n",
              "dtype: object"
            ]
          },
          "metadata": {
            "tags": []
          },
          "execution_count": 125
        }
      ]
    },
    {
      "cell_type": "code",
      "metadata": {
        "colab": {
          "base_uri": "https://localhost:8080/"
        },
        "id": "A0kovcIIt_P4",
        "outputId": "91bd8c24-6d44-4b9d-c871-7ed1665c7974"
      },
      "source": [
        "tagsdf.info()"
      ],
      "execution_count": null,
      "outputs": [
        {
          "output_type": "stream",
          "text": [
            "<class 'pandas.core.frame.DataFrame'>\n",
            "RangeIndex: 3750994 entries, 0 to 3750993\n",
            "Data columns (total 2 columns):\n",
            " #   Column  Dtype \n",
            "---  ------  ----- \n",
            " 0   Id      int64 \n",
            " 1   Tag     object\n",
            "dtypes: int64(1), object(1)\n",
            "memory usage: 57.2+ MB\n"
          ],
          "name": "stdout"
        }
      ]
    },
    {
      "cell_type": "code",
      "metadata": {
        "colab": {
          "base_uri": "https://localhost:8080/"
        },
        "id": "zX5C0c7hVxvb",
        "outputId": "a7ac19c1-0b4d-43ff-d7ef-2469f20c1fd3"
      },
      "source": [
        "tagsdf.Tag.value_counts()"
      ],
      "execution_count": null,
      "outputs": [
        {
          "output_type": "execute_result",
          "data": {
            "text/plain": [
              "javascript          124155\n",
              "java                115212\n",
              "c#                  101186\n",
              "php                  98808\n",
              "android              90659\n",
              "                     ...  \n",
              "bootstrap-notify         1\n",
              "netgroup                 1\n",
              "tool-rec                 1\n",
              "navigateuri              1\n",
              "product-key              1\n",
              "Name: Tag, Length: 37034, dtype: int64"
            ]
          },
          "metadata": {
            "tags": []
          },
          "execution_count": 127
        }
      ]
    },
    {
      "cell_type": "code",
      "metadata": {
        "colab": {
          "base_uri": "https://localhost:8080/"
        },
        "id": "NWi55Oca8jOu",
        "outputId": "b46d427e-3f68-470c-c689-ed9b118caa23"
      },
      "source": [
        "tagsdf.Id.nunique()"
      ],
      "execution_count": null,
      "outputs": [
        {
          "output_type": "execute_result",
          "data": {
            "text/plain": [
              "1264216"
            ]
          },
          "metadata": {
            "tags": []
          },
          "execution_count": 128
        }
      ]
    },
    {
      "cell_type": "code",
      "metadata": {
        "colab": {
          "base_uri": "https://localhost:8080/",
          "height": 343
        },
        "id": "MWDyUfbEV_Ey",
        "outputId": "710e182b-bf33-4855-8956-235a0804ed93"
      },
      "source": [
        "DStagsdf= tagsdf[(tagsdf['Tag']==\"python\") | (tagsdf['Tag']==\"matlab\")  | (tagsdf['Tag']==\"r\") | (tagsdf['Tag']==\"sas\") | (tagsdf['Tag']==\"sql\")]\n",
        "DStagsdf.head(10)"
      ],
      "execution_count": null,
      "outputs": [
        {
          "output_type": "execute_result",
          "data": {
            "text/html": [
              "<div>\n",
              "<style scoped>\n",
              "    .dataframe tbody tr th:only-of-type {\n",
              "        vertical-align: middle;\n",
              "    }\n",
              "\n",
              "    .dataframe tbody tr th {\n",
              "        vertical-align: top;\n",
              "    }\n",
              "\n",
              "    .dataframe thead th {\n",
              "        text-align: right;\n",
              "    }\n",
              "</style>\n",
              "<table border=\"1\" class=\"dataframe\">\n",
              "  <thead>\n",
              "    <tr style=\"text-align: right;\">\n",
              "      <th></th>\n",
              "      <th>Id</th>\n",
              "      <th>Tag</th>\n",
              "    </tr>\n",
              "  </thead>\n",
              "  <tbody>\n",
              "    <tr>\n",
              "      <th>7</th>\n",
              "      <td>120</td>\n",
              "      <td>sql</td>\n",
              "    </tr>\n",
              "    <tr>\n",
              "      <th>67</th>\n",
              "      <td>1970</td>\n",
              "      <td>sql</td>\n",
              "    </tr>\n",
              "    <tr>\n",
              "      <th>72</th>\n",
              "      <td>2120</td>\n",
              "      <td>sql</td>\n",
              "    </tr>\n",
              "    <tr>\n",
              "      <th>99</th>\n",
              "      <td>2840</td>\n",
              "      <td>sql</td>\n",
              "    </tr>\n",
              "    <tr>\n",
              "      <th>130</th>\n",
              "      <td>4110</td>\n",
              "      <td>sql</td>\n",
              "    </tr>\n",
              "    <tr>\n",
              "      <th>184</th>\n",
              "      <td>6340</td>\n",
              "      <td>sql</td>\n",
              "    </tr>\n",
              "    <tr>\n",
              "      <th>266</th>\n",
              "      <td>10190</td>\n",
              "      <td>sql</td>\n",
              "    </tr>\n",
              "    <tr>\n",
              "      <th>312</th>\n",
              "      <td>11060</td>\n",
              "      <td>python</td>\n",
              "    </tr>\n",
              "    <tr>\n",
              "      <th>392</th>\n",
              "      <td>13540</td>\n",
              "      <td>sql</td>\n",
              "    </tr>\n",
              "    <tr>\n",
              "      <th>503</th>\n",
              "      <td>17250</td>\n",
              "      <td>python</td>\n",
              "    </tr>\n",
              "  </tbody>\n",
              "</table>\n",
              "</div>"
            ],
            "text/plain": [
              "        Id     Tag\n",
              "7      120     sql\n",
              "67    1970     sql\n",
              "72    2120     sql\n",
              "99    2840     sql\n",
              "130   4110     sql\n",
              "184   6340     sql\n",
              "266  10190     sql\n",
              "312  11060  python\n",
              "392  13540     sql\n",
              "503  17250  python"
            ]
          },
          "metadata": {
            "tags": []
          },
          "execution_count": 129
        }
      ]
    },
    {
      "cell_type": "code",
      "metadata": {
        "colab": {
          "base_uri": "https://localhost:8080/",
          "height": 35
        },
        "id": "P1pNMOpaBJzU",
        "outputId": "64951de8-f084-4a70-e1e3-4ca3eb3d7024"
      },
      "source": [
        "'''tagsdf['Id'] = tagsdf.round(0).astype(str)\n",
        "tagsdf['Tag'] = tagsdf['Tag'].astype(str)\n",
        "\n",
        "tagsGrouped = tagsdf.groupby(['Id'])['Tag'].apply(','.join).reset_index()''' #Grouping tags according to Id"
      ],
      "execution_count": null,
      "outputs": [
        {
          "output_type": "execute_result",
          "data": {
            "application/vnd.google.colaboratory.intrinsic+json": {
              "type": "string"
            },
            "text/plain": [
              "\"tagsdf['Id'] = tagsdf.round(0).astype(str)\\ntagsdf['Tag'] = tagsdf['Tag'].astype(str)\\n\\ntagsGrouped = tagsdf.groupby(['Id'])['Tag'].apply(','.join).reset_index()\""
            ]
          },
          "metadata": {
            "tags": []
          },
          "execution_count": 130
        }
      ]
    },
    {
      "cell_type": "code",
      "metadata": {
        "colab": {
          "base_uri": "https://localhost:8080/",
          "height": 402
        },
        "id": "jj6IE_qhB0t0",
        "outputId": "53ef8715-07ae-4188-8b2b-b31abe6ad93a"
      },
      "source": [
        "tagsGrouped"
      ],
      "execution_count": null,
      "outputs": [
        {
          "output_type": "execute_result",
          "data": {
            "text/html": [
              "<div>\n",
              "<style scoped>\n",
              "    .dataframe tbody tr th:only-of-type {\n",
              "        vertical-align: middle;\n",
              "    }\n",
              "\n",
              "    .dataframe tbody tr th {\n",
              "        vertical-align: top;\n",
              "    }\n",
              "\n",
              "    .dataframe thead th {\n",
              "        text-align: right;\n",
              "    }\n",
              "</style>\n",
              "<table border=\"1\" class=\"dataframe\">\n",
              "  <thead>\n",
              "    <tr style=\"text-align: right;\">\n",
              "      <th></th>\n",
              "      <th>Id</th>\n",
              "      <th>Tag</th>\n",
              "    </tr>\n",
              "  </thead>\n",
              "  <tbody>\n",
              "    <tr>\n",
              "      <th>0</th>\n",
              "      <td>1000000</td>\n",
              "      <td>vb6,progress-bar</td>\n",
              "    </tr>\n",
              "    <tr>\n",
              "      <th>1</th>\n",
              "      <td>10000020</td>\n",
              "      <td>jquery,google-apps-script</td>\n",
              "    </tr>\n",
              "    <tr>\n",
              "      <th>2</th>\n",
              "      <td>10000030</td>\n",
              "      <td>ios,mkmapview,mkannotationview</td>\n",
              "    </tr>\n",
              "    <tr>\n",
              "      <th>3</th>\n",
              "      <td>10000120</td>\n",
              "      <td>ios,uikit,interface-builder</td>\n",
              "    </tr>\n",
              "    <tr>\n",
              "      <th>4</th>\n",
              "      <td>10000150</td>\n",
              "      <td>r</td>\n",
              "    </tr>\n",
              "    <tr>\n",
              "      <th>...</th>\n",
              "      <td>...</td>\n",
              "      <td>...</td>\n",
              "    </tr>\n",
              "    <tr>\n",
              "      <th>1264211</th>\n",
              "      <td>9999910</td>\n",
              "      <td>inno-setup</td>\n",
              "    </tr>\n",
              "    <tr>\n",
              "      <th>1264212</th>\n",
              "      <td>9999930</td>\n",
              "      <td>html,actionscript-3,mouseevent,flash-cs5</td>\n",
              "    </tr>\n",
              "    <tr>\n",
              "      <th>1264213</th>\n",
              "      <td>9999940</td>\n",
              "      <td>jquery,jquery-ui</td>\n",
              "    </tr>\n",
              "    <tr>\n",
              "      <th>1264214</th>\n",
              "      <td>9999950</td>\n",
              "      <td>asp.net,signalr</td>\n",
              "    </tr>\n",
              "    <tr>\n",
              "      <th>1264215</th>\n",
              "      <td>9999980</td>\n",
              "      <td>linux,linux-kernel,kernel,lfs,linux-from-scratch</td>\n",
              "    </tr>\n",
              "  </tbody>\n",
              "</table>\n",
              "<p>1264216 rows × 2 columns</p>\n",
              "</div>"
            ],
            "text/plain": [
              "               Id                                               Tag\n",
              "0         1000000                                  vb6,progress-bar\n",
              "1        10000020                         jquery,google-apps-script\n",
              "2        10000030                    ios,mkmapview,mkannotationview\n",
              "3        10000120                       ios,uikit,interface-builder\n",
              "4        10000150                                                 r\n",
              "...           ...                                               ...\n",
              "1264211   9999910                                        inno-setup\n",
              "1264212   9999930          html,actionscript-3,mouseevent,flash-cs5\n",
              "1264213   9999940                                  jquery,jquery-ui\n",
              "1264214   9999950                                   asp.net,signalr\n",
              "1264215   9999980  linux,linux-kernel,kernel,lfs,linux-from-scratch\n",
              "\n",
              "[1264216 rows x 2 columns]"
            ]
          },
          "metadata": {
            "tags": []
          },
          "execution_count": 131
        }
      ]
    },
    {
      "cell_type": "code",
      "metadata": {
        "colab": {
          "base_uri": "https://localhost:8080/",
          "height": 195
        },
        "id": "xuQK1NeqDydA",
        "outputId": "9a03abd5-9b0e-4f8b-f17a-d785a2455e00"
      },
      "source": [
        "usersdf.head()"
      ],
      "execution_count": null,
      "outputs": [
        {
          "output_type": "execute_result",
          "data": {
            "text/html": [
              "<div>\n",
              "<style scoped>\n",
              "    .dataframe tbody tr th:only-of-type {\n",
              "        vertical-align: middle;\n",
              "    }\n",
              "\n",
              "    .dataframe tbody tr th {\n",
              "        vertical-align: top;\n",
              "    }\n",
              "\n",
              "    .dataframe thead th {\n",
              "        text-align: right;\n",
              "    }\n",
              "</style>\n",
              "<table border=\"1\" class=\"dataframe\">\n",
              "  <thead>\n",
              "    <tr style=\"text-align: right;\">\n",
              "      <th></th>\n",
              "      <th>Unnamed: 0</th>\n",
              "      <th>id</th>\n",
              "      <th>display_name</th>\n",
              "      <th>creation_date</th>\n",
              "      <th>last_access_date</th>\n",
              "      <th>reputation</th>\n",
              "      <th>up_votes</th>\n",
              "      <th>down_votes</th>\n",
              "      <th>views</th>\n",
              "    </tr>\n",
              "  </thead>\n",
              "  <tbody>\n",
              "    <tr>\n",
              "      <th>0</th>\n",
              "      <td>0</td>\n",
              "      <td>26</td>\n",
              "      <td>Shawn</td>\n",
              "      <td>2008-08-01 12:18:14.52 UTC</td>\n",
              "      <td>2018-04-11 04:40:35.66 UTC</td>\n",
              "      <td>11820</td>\n",
              "      <td>565</td>\n",
              "      <td>67</td>\n",
              "      <td>3547</td>\n",
              "    </tr>\n",
              "    <tr>\n",
              "      <th>1</th>\n",
              "      <td>1</td>\n",
              "      <td>26</td>\n",
              "      <td>Shawn</td>\n",
              "      <td>2008-08-01 12:18:14.52 UTC</td>\n",
              "      <td>2018-04-11 04:40:35.66 UTC</td>\n",
              "      <td>11820</td>\n",
              "      <td>565</td>\n",
              "      <td>67</td>\n",
              "      <td>3547</td>\n",
              "    </tr>\n",
              "    <tr>\n",
              "      <th>2</th>\n",
              "      <td>2</td>\n",
              "      <td>26</td>\n",
              "      <td>Shawn</td>\n",
              "      <td>2008-08-01 12:18:14.52 UTC</td>\n",
              "      <td>2018-04-11 04:40:35.66 UTC</td>\n",
              "      <td>11820</td>\n",
              "      <td>565</td>\n",
              "      <td>67</td>\n",
              "      <td>3547</td>\n",
              "    </tr>\n",
              "    <tr>\n",
              "      <th>3</th>\n",
              "      <td>3</td>\n",
              "      <td>26</td>\n",
              "      <td>Shawn</td>\n",
              "      <td>2008-08-01 12:18:14.52 UTC</td>\n",
              "      <td>2018-04-11 04:40:35.66 UTC</td>\n",
              "      <td>11820</td>\n",
              "      <td>565</td>\n",
              "      <td>67</td>\n",
              "      <td>3547</td>\n",
              "    </tr>\n",
              "    <tr>\n",
              "      <th>4</th>\n",
              "      <td>4</td>\n",
              "      <td>26</td>\n",
              "      <td>Shawn</td>\n",
              "      <td>2008-08-01 12:18:14.52 UTC</td>\n",
              "      <td>2018-04-11 04:40:35.66 UTC</td>\n",
              "      <td>11820</td>\n",
              "      <td>565</td>\n",
              "      <td>67</td>\n",
              "      <td>3547</td>\n",
              "    </tr>\n",
              "  </tbody>\n",
              "</table>\n",
              "</div>"
            ],
            "text/plain": [
              "   Unnamed: 0  id display_name  ... up_votes down_votes  views\n",
              "0           0  26        Shawn  ...      565         67   3547\n",
              "1           1  26        Shawn  ...      565         67   3547\n",
              "2           2  26        Shawn  ...      565         67   3547\n",
              "3           3  26        Shawn  ...      565         67   3547\n",
              "4           4  26        Shawn  ...      565         67   3547\n",
              "\n",
              "[5 rows x 9 columns]"
            ]
          },
          "metadata": {
            "tags": []
          },
          "execution_count": 23
        }
      ]
    },
    {
      "cell_type": "code",
      "metadata": {
        "colab": {
          "base_uri": "https://localhost:8080/"
        },
        "id": "_Xy6PADJobJl",
        "outputId": "0421d97d-53d1-467a-e294-69ceb8704bf5"
      },
      "source": [
        "usersdf.dtypes"
      ],
      "execution_count": null,
      "outputs": [
        {
          "output_type": "execute_result",
          "data": {
            "text/plain": [
              "Unnamed: 0           int64\n",
              "id                   int64\n",
              "display_name        object\n",
              "creation_date       object\n",
              "last_access_date    object\n",
              "reputation           int64\n",
              "up_votes             int64\n",
              "down_votes           int64\n",
              "views                int64\n",
              "dtype: object"
            ]
          },
          "metadata": {
            "tags": []
          },
          "execution_count": 24
        }
      ]
    },
    {
      "cell_type": "code",
      "metadata": {
        "colab": {
          "base_uri": "https://localhost:8080/"
        },
        "id": "I8qbRIDVuYJd",
        "outputId": "db9dfb3a-5f75-4078-c8a6-c6b884a24a56"
      },
      "source": [
        "usersdf.info()"
      ],
      "execution_count": null,
      "outputs": [
        {
          "output_type": "stream",
          "text": [
            "<class 'pandas.core.frame.DataFrame'>\n",
            "RangeIndex: 1990480 entries, 0 to 1990479\n",
            "Data columns (total 9 columns):\n",
            " #   Column            Dtype \n",
            "---  ------            ----- \n",
            " 0   Unnamed: 0        int64 \n",
            " 1   id                int64 \n",
            " 2   display_name      object\n",
            " 3   creation_date     object\n",
            " 4   last_access_date  object\n",
            " 5   reputation        int64 \n",
            " 6   up_votes          int64 \n",
            " 7   down_votes        int64 \n",
            " 8   views             int64 \n",
            "dtypes: int64(6), object(3)\n",
            "memory usage: 136.7+ MB\n"
          ],
          "name": "stdout"
        }
      ]
    },
    {
      "cell_type": "markdown",
      "metadata": {
        "id": "9NhdDlKB8RL5"
      },
      "source": [
        "### Standardising and Changing to appropriate data types"
      ]
    },
    {
      "cell_type": "code",
      "metadata": {
        "collapsed": true,
        "id": "qXP1qoSrUc9X"
      },
      "source": [
        "quesdf.CreationDate= quesdf.CreationDate.apply(lambda x: str(x).split('+')[0])"
      ],
      "execution_count": null,
      "outputs": []
    },
    {
      "cell_type": "code",
      "metadata": {
        "collapsed": true,
        "id": "-oOFl4GG8YjU"
      },
      "source": [
        "quesdf['CreationDate']= pd.to_datetime(quesdf['CreationDate'])"
      ],
      "execution_count": null,
      "outputs": []
    },
    {
      "cell_type": "code",
      "metadata": {
        "collapsed": true,
        "id": "_alyFCtR8rhP"
      },
      "source": [
        "quesdf['ClosedDate']= pd.to_datetime(quesdf['ClosedDate'])"
      ],
      "execution_count": null,
      "outputs": []
    },
    {
      "cell_type": "code",
      "metadata": {
        "colab": {
          "base_uri": "https://localhost:8080/"
        },
        "id": "kI3yHgAa8uxJ",
        "outputId": "e92df3ca-2cf9-440a-973a-a7ca162e461e"
      },
      "source": [
        "quesdf.info()"
      ],
      "execution_count": null,
      "outputs": [
        {
          "output_type": "stream",
          "text": [
            "<class 'pandas.core.frame.DataFrame'>\n",
            "RangeIndex: 1264216 entries, 0 to 1264215\n",
            "Data columns (total 7 columns):\n",
            " #   Column        Non-Null Count    Dtype              \n",
            "---  ------        --------------    -----              \n",
            " 0   Id            1264216 non-null  int64              \n",
            " 1   OwnerUserId   1249762 non-null  float64            \n",
            " 2   CreationDate  1264216 non-null  datetime64[ns, UTC]\n",
            " 3   ClosedDate    55959 non-null    datetime64[ns, UTC]\n",
            " 4   Score         1264216 non-null  int64              \n",
            " 5   Title         1264216 non-null  object             \n",
            " 6   Body          1264216 non-null  object             \n",
            "dtypes: datetime64[ns, UTC](2), float64(1), int64(2), object(2)\n",
            "memory usage: 67.5+ MB\n"
          ],
          "name": "stdout"
        }
      ]
    },
    {
      "cell_type": "code",
      "metadata": {
        "collapsed": true,
        "id": "DFhF2dnYVu8K"
      },
      "source": [
        "ansdf.CreationDate= ansdf.CreationDate.apply(lambda x: str(x).split('+')[0])"
      ],
      "execution_count": null,
      "outputs": []
    },
    {
      "cell_type": "code",
      "metadata": {
        "collapsed": true,
        "id": "cCE8vk3pn3_Z"
      },
      "source": [
        "ansdf['CreationDate']= pd.to_datetime(ansdf['CreationDate'])"
      ],
      "execution_count": null,
      "outputs": []
    },
    {
      "cell_type": "code",
      "metadata": {
        "colab": {
          "base_uri": "https://localhost:8080/"
        },
        "id": "wTDI4mgzusNx",
        "outputId": "ebb9b57b-e3e6-441e-b358-a86732fbc850"
      },
      "source": [
        "ansdf.info()"
      ],
      "execution_count": null,
      "outputs": [
        {
          "output_type": "stream",
          "text": [
            "<class 'pandas.core.frame.DataFrame'>\n",
            "RangeIndex: 2014516 entries, 0 to 2014515\n",
            "Data columns (total 6 columns):\n",
            " #   Column        Dtype              \n",
            "---  ------        -----              \n",
            " 0   Id            int64              \n",
            " 1   OwnerUserId   float64            \n",
            " 2   CreationDate  datetime64[ns, UTC]\n",
            " 3   ParentId      int64              \n",
            " 4   Score         int64              \n",
            " 5   Body          object             \n",
            "dtypes: datetime64[ns, UTC](1), float64(1), int64(3), object(1)\n",
            "memory usage: 92.2+ MB\n"
          ],
          "name": "stdout"
        }
      ]
    },
    {
      "cell_type": "code",
      "metadata": {
        "collapsed": true,
        "id": "vdJwODWSTnnL"
      },
      "source": [
        "usersdf.creation_date= usersdf.creation_date.apply(lambda x: x.split('+')[0])"
      ],
      "execution_count": null,
      "outputs": []
    },
    {
      "cell_type": "code",
      "metadata": {
        "collapsed": true,
        "id": "8IW_DXYuuvK-"
      },
      "source": [
        "usersdf['creation_date']=pd.to_datetime(usersdf['creation_date'])"
      ],
      "execution_count": null,
      "outputs": []
    },
    {
      "cell_type": "code",
      "metadata": {
        "collapsed": true,
        "id": "Eb52p_x5NJr5"
      },
      "source": [
        "usersdf.last_access_date= usersdf.last_access_date.apply(lambda x: str(x).split('+')[0])\n"
      ],
      "execution_count": null,
      "outputs": []
    },
    {
      "cell_type": "code",
      "metadata": {
        "collapsed": true,
        "id": "DnirED_tvGZh"
      },
      "source": [
        "usersdf['last_access_date']= pd.to_datetime(usersdf['last_access_date'])"
      ],
      "execution_count": null,
      "outputs": []
    },
    {
      "cell_type": "code",
      "metadata": {
        "colab": {
          "base_uri": "https://localhost:8080/"
        },
        "id": "z9me-1sewrJC",
        "outputId": "0f1ae565-abc2-4ea8-bdff-be5d57b648c5"
      },
      "source": [
        "usersdf.info()"
      ],
      "execution_count": null,
      "outputs": [
        {
          "output_type": "stream",
          "text": [
            "<class 'pandas.core.frame.DataFrame'>\n",
            "RangeIndex: 1990480 entries, 0 to 1990479\n",
            "Data columns (total 9 columns):\n",
            " #   Column            Dtype              \n",
            "---  ------            -----              \n",
            " 0   Unnamed: 0        int64              \n",
            " 1   id                int64              \n",
            " 2   display_name      object             \n",
            " 3   creation_date     datetime64[ns, UTC]\n",
            " 4   last_access_date  datetime64[ns, UTC]\n",
            " 5   reputation        int64              \n",
            " 6   up_votes          int64              \n",
            " 7   down_votes        int64              \n",
            " 8   views             int64              \n",
            "dtypes: datetime64[ns, UTC](2), int64(6), object(1)\n",
            "memory usage: 136.7+ MB\n"
          ],
          "name": "stdout"
        }
      ]
    },
    {
      "cell_type": "code",
      "metadata": {
        "collapsed": true,
        "id": "TU3ldXu2CYA-"
      },
      "source": [
        "usersdf.drop_duplicates(inplace= True)"
      ],
      "execution_count": null,
      "outputs": []
    },
    {
      "cell_type": "code",
      "metadata": {
        "colab": {
          "base_uri": "https://localhost:8080/"
        },
        "id": "iTf4o5vUClPg",
        "outputId": "5868f968-d4f3-4037-c363-398527674c78"
      },
      "source": [
        "usersdf.shape"
      ],
      "execution_count": null,
      "outputs": [
        {
          "output_type": "execute_result",
          "data": {
            "text/plain": [
              "(1990480, 9)"
            ]
          },
          "metadata": {
            "tags": []
          },
          "execution_count": 39
        }
      ]
    },
    {
      "cell_type": "code",
      "metadata": {
        "colab": {
          "base_uri": "https://localhost:8080/"
        },
        "id": "Ixf9WnpdDcwM",
        "outputId": "f69fabe4-6cf2-4b7e-ba6d-f2be535c5356"
      },
      "source": [
        "usersdf.id.unique"
      ],
      "execution_count": null,
      "outputs": [
        {
          "output_type": "execute_result",
          "data": {
            "text/plain": [
              "<bound method Series.unique of 0               26\n",
              "1               26\n",
              "2               26\n",
              "3               26\n",
              "4               26\n",
              "            ...   \n",
              "1990475    4228492\n",
              "1990476    6820506\n",
              "1990477    4464432\n",
              "1990478    4605946\n",
              "1990479    6107989\n",
              "Name: id, Length: 1990480, dtype: int64>"
            ]
          },
          "metadata": {
            "tags": []
          },
          "execution_count": 40
        }
      ]
    },
    {
      "cell_type": "markdown",
      "metadata": {
        "id": "N7S5EcY6iccf"
      },
      "source": [
        "### Handling the null values "
      ]
    },
    {
      "cell_type": "code",
      "metadata": {
        "colab": {
          "base_uri": "https://localhost:8080/"
        },
        "id": "GTLAC8Sdr0k9",
        "outputId": "c7de9a71-9729-4bab-dc4a-50e8b3f2cf99"
      },
      "source": [
        "quesdf.OwnerUserId.isnull().sum()"
      ],
      "execution_count": null,
      "outputs": [
        {
          "output_type": "execute_result",
          "data": {
            "text/plain": [
              "14454"
            ]
          },
          "metadata": {
            "tags": []
          },
          "execution_count": 41
        }
      ]
    },
    {
      "cell_type": "code",
      "metadata": {
        "collapsed": true,
        "id": "AD-W-18wNVC1"
      },
      "source": [
        "quesdf= quesdf[~quesdf['OwnerUserId'].isnull()]"
      ],
      "execution_count": null,
      "outputs": []
    },
    {
      "cell_type": "code",
      "metadata": {
        "colab": {
          "base_uri": "https://localhost:8080/"
        },
        "id": "iNFmrasJ--rl",
        "outputId": "36e74587-3df9-4257-c20e-f5adcb350b2c"
      },
      "source": [
        "quesdf.OwnerUserId.isnull().sum()"
      ],
      "execution_count": null,
      "outputs": [
        {
          "output_type": "execute_result",
          "data": {
            "text/plain": [
              "0"
            ]
          },
          "metadata": {
            "tags": []
          },
          "execution_count": 43
        }
      ]
    },
    {
      "cell_type": "code",
      "metadata": {
        "colab": {
          "base_uri": "https://localhost:8080/"
        },
        "id": "8lW_PSoVsC3L",
        "outputId": "f6742d75-9628-4b40-8214-2482de7fb7ca"
      },
      "source": [
        "quesdf.ClosedDate.isnull().sum()"
      ],
      "execution_count": null,
      "outputs": [
        {
          "output_type": "execute_result",
          "data": {
            "text/plain": [
              "1194522"
            ]
          },
          "metadata": {
            "tags": []
          },
          "execution_count": 44
        }
      ]
    },
    {
      "cell_type": "code",
      "metadata": {
        "colab": {
          "base_uri": "https://localhost:8080/"
        },
        "id": "TlphnlUxsIKC",
        "outputId": "8fde5e5f-faf3-4614-8bba-dc066ea5f0b5"
      },
      "source": [
        "quesdf['ClosedDate'].notnull().sum()"
      ],
      "execution_count": null,
      "outputs": [
        {
          "output_type": "execute_result",
          "data": {
            "text/plain": [
              "55240"
            ]
          },
          "metadata": {
            "tags": []
          },
          "execution_count": 45
        }
      ]
    },
    {
      "cell_type": "code",
      "metadata": {
        "colab": {
          "base_uri": "https://localhost:8080/",
          "height": 402
        },
        "id": "4d54kJ0nsU6W",
        "outputId": "09e05035-81aa-4718-a9ea-833761bfab53"
      },
      "source": [
        "quesdf[quesdf.ClosedDate.notnull()]"
      ],
      "execution_count": null,
      "outputs": [
        {
          "output_type": "execute_result",
          "data": {
            "text/html": [
              "<div>\n",
              "<style scoped>\n",
              "    .dataframe tbody tr th:only-of-type {\n",
              "        vertical-align: middle;\n",
              "    }\n",
              "\n",
              "    .dataframe tbody tr th {\n",
              "        vertical-align: top;\n",
              "    }\n",
              "\n",
              "    .dataframe thead th {\n",
              "        text-align: right;\n",
              "    }\n",
              "</style>\n",
              "<table border=\"1\" class=\"dataframe\">\n",
              "  <thead>\n",
              "    <tr style=\"text-align: right;\">\n",
              "      <th></th>\n",
              "      <th>Id</th>\n",
              "      <th>OwnerUserId</th>\n",
              "      <th>CreationDate</th>\n",
              "      <th>ClosedDate</th>\n",
              "      <th>Score</th>\n",
              "      <th>Title</th>\n",
              "      <th>Body</th>\n",
              "    </tr>\n",
              "  </thead>\n",
              "  <tbody>\n",
              "    <tr>\n",
              "      <th>1</th>\n",
              "      <td>90</td>\n",
              "      <td>58.0</td>\n",
              "      <td>2008-08-01 14:41:24+00:00</td>\n",
              "      <td>2012-12-26 03:45:49+00:00</td>\n",
              "      <td>144</td>\n",
              "      <td>Good branching and merging tutorials for Torto...</td>\n",
              "      <td>&lt;p&gt;Are there any really good tutorials explain...</td>\n",
              "    </tr>\n",
              "    <tr>\n",
              "      <th>6</th>\n",
              "      <td>470</td>\n",
              "      <td>71.0</td>\n",
              "      <td>2008-08-02 15:11:47+00:00</td>\n",
              "      <td>2016-03-26 05:23:29+00:00</td>\n",
              "      <td>13</td>\n",
              "      <td>Homegrown consumption of web services</td>\n",
              "      <td>&lt;p&gt;I've been writing a few web services for a ...</td>\n",
              "    </tr>\n",
              "    <tr>\n",
              "      <th>27</th>\n",
              "      <td>2540</td>\n",
              "      <td>136.0</td>\n",
              "      <td>2008-08-05 16:30:37+00:00</td>\n",
              "      <td>2014-04-03 15:36:28+00:00</td>\n",
              "      <td>39</td>\n",
              "      <td>Good STL-like library for C</td>\n",
              "      <td>&lt;p&gt;What are good libraries for C with datastru...</td>\n",
              "    </tr>\n",
              "    <tr>\n",
              "      <th>29</th>\n",
              "      <td>2630</td>\n",
              "      <td>17.0</td>\n",
              "      <td>2008-08-05 18:01:32+00:00</td>\n",
              "      <td>2012-02-22 01:58:23+00:00</td>\n",
              "      <td>14</td>\n",
              "      <td>What are your favorite Powershell Cmdlets?</td>\n",
              "      <td>&lt;p&gt;I just found /n softwares free Powershell N...</td>\n",
              "    </tr>\n",
              "    <tr>\n",
              "      <th>35</th>\n",
              "      <td>2970</td>\n",
              "      <td>58.0</td>\n",
              "      <td>2008-08-05 23:55:25+00:00</td>\n",
              "      <td>2012-03-06 03:17:01+00:00</td>\n",
              "      <td>17</td>\n",
              "      <td>My website got hacked... What should I do?</td>\n",
              "      <td>&lt;p&gt;My dad called me today and said people goin...</td>\n",
              "    </tr>\n",
              "    <tr>\n",
              "      <th>...</th>\n",
              "      <td>...</td>\n",
              "      <td>...</td>\n",
              "      <td>...</td>\n",
              "      <td>...</td>\n",
              "      <td>...</td>\n",
              "      <td>...</td>\n",
              "      <td>...</td>\n",
              "    </tr>\n",
              "    <tr>\n",
              "      <th>1264148</th>\n",
              "      <td>40141810</td>\n",
              "      <td>7044612.0</td>\n",
              "      <td>2016-10-19 21:29:05+00:00</td>\n",
              "      <td>2016-10-19 21:41:54+00:00</td>\n",
              "      <td>-1</td>\n",
              "      <td>Windows - Where can I find a system() list of ...</td>\n",
              "      <td>&lt;p&gt;This is my first question here in StackOver...</td>\n",
              "    </tr>\n",
              "    <tr>\n",
              "      <th>1264177</th>\n",
              "      <td>40142370</td>\n",
              "      <td>7044756.0</td>\n",
              "      <td>2016-10-19 22:12:46+00:00</td>\n",
              "      <td>2016-10-19 22:17:45+00:00</td>\n",
              "      <td>-6</td>\n",
              "      <td>How can i find value of first zero in base 2</td>\n",
              "      <td>&lt;p&gt;I'm tried to write a program to find value ...</td>\n",
              "    </tr>\n",
              "    <tr>\n",
              "      <th>1264180</th>\n",
              "      <td>40142450</td>\n",
              "      <td>6247467.0</td>\n",
              "      <td>2016-10-19 22:19:45+00:00</td>\n",
              "      <td>2016-10-19 23:06:30+00:00</td>\n",
              "      <td>-1</td>\n",
              "      <td>C# thread report found items</td>\n",
              "      <td>&lt;p&gt;Lets say I want to make a program that find...</td>\n",
              "    </tr>\n",
              "    <tr>\n",
              "      <th>1264187</th>\n",
              "      <td>40142600</td>\n",
              "      <td>7044841.0</td>\n",
              "      <td>2016-10-19 22:33:00+00:00</td>\n",
              "      <td>2016-10-19 22:34:48+00:00</td>\n",
              "      <td>-10</td>\n",
              "      <td>Remove white spaces without replace()</td>\n",
              "      <td>&lt;pre&gt;&lt;code&gt;def compress(s):\\n    âââ(str...</td>\n",
              "    </tr>\n",
              "    <tr>\n",
              "      <th>1264194</th>\n",
              "      <td>40142790</td>\n",
              "      <td>7044882.0</td>\n",
              "      <td>2016-10-19 22:52:53+00:00</td>\n",
              "      <td>2016-10-19 23:05:09+00:00</td>\n",
              "      <td>-5</td>\n",
              "      <td>Why is my switch statement giving me constant ...</td>\n",
              "      <td>&lt;p&gt;Sorry in advance for the weird format of th...</td>\n",
              "    </tr>\n",
              "  </tbody>\n",
              "</table>\n",
              "<p>55240 rows × 7 columns</p>\n",
              "</div>"
            ],
            "text/plain": [
              "               Id  ...                                               Body\n",
              "1              90  ...  <p>Are there any really good tutorials explain...\n",
              "6             470  ...  <p>I've been writing a few web services for a ...\n",
              "27           2540  ...  <p>What are good libraries for C with datastru...\n",
              "29           2630  ...  <p>I just found /n softwares free Powershell N...\n",
              "35           2970  ...  <p>My dad called me today and said people goin...\n",
              "...           ...  ...                                                ...\n",
              "1264148  40141810  ...  <p>This is my first question here in StackOver...\n",
              "1264177  40142370  ...  <p>I'm tried to write a program to find value ...\n",
              "1264180  40142450  ...  <p>Lets say I want to make a program that find...\n",
              "1264187  40142600  ...  <pre><code>def compress(s):\\n    âââ(str...\n",
              "1264194  40142790  ...  <p>Sorry in advance for the weird format of th...\n",
              "\n",
              "[55240 rows x 7 columns]"
            ]
          },
          "metadata": {
            "tags": []
          },
          "execution_count": 46
        }
      ]
    },
    {
      "cell_type": "markdown",
      "metadata": {
        "id": "htfoDfd_qVEE"
      },
      "source": [
        "Closed Date column is the date when the question is closed due to duplicacy or other reasons. Closed questions cannot be answered so we will not be dealing with this column in our data analysis. According to the above analysis, 55240 questions cannot be answered because they are closed."
      ]
    },
    {
      "cell_type": "code",
      "metadata": {
        "colab": {
          "base_uri": "https://localhost:8080/",
          "height": 402
        },
        "id": "Bqe2ftNntWhj",
        "outputId": "6132de5f-3269-4400-ad27-2439553c9223"
      },
      "source": [
        "quesdf.drop(['ClosedDate'], axis=1)"
      ],
      "execution_count": null,
      "outputs": [
        {
          "output_type": "execute_result",
          "data": {
            "text/html": [
              "<div>\n",
              "<style scoped>\n",
              "    .dataframe tbody tr th:only-of-type {\n",
              "        vertical-align: middle;\n",
              "    }\n",
              "\n",
              "    .dataframe tbody tr th {\n",
              "        vertical-align: top;\n",
              "    }\n",
              "\n",
              "    .dataframe thead th {\n",
              "        text-align: right;\n",
              "    }\n",
              "</style>\n",
              "<table border=\"1\" class=\"dataframe\">\n",
              "  <thead>\n",
              "    <tr style=\"text-align: right;\">\n",
              "      <th></th>\n",
              "      <th>Id</th>\n",
              "      <th>OwnerUserId</th>\n",
              "      <th>CreationDate</th>\n",
              "      <th>Score</th>\n",
              "      <th>Title</th>\n",
              "      <th>Body</th>\n",
              "    </tr>\n",
              "  </thead>\n",
              "  <tbody>\n",
              "    <tr>\n",
              "      <th>0</th>\n",
              "      <td>80</td>\n",
              "      <td>26.0</td>\n",
              "      <td>2008-08-01 13:57:07+00:00</td>\n",
              "      <td>26</td>\n",
              "      <td>SQLStatement.execute() - multiple queries in o...</td>\n",
              "      <td>&lt;p&gt;I've written a database generation script i...</td>\n",
              "    </tr>\n",
              "    <tr>\n",
              "      <th>1</th>\n",
              "      <td>90</td>\n",
              "      <td>58.0</td>\n",
              "      <td>2008-08-01 14:41:24+00:00</td>\n",
              "      <td>144</td>\n",
              "      <td>Good branching and merging tutorials for Torto...</td>\n",
              "      <td>&lt;p&gt;Are there any really good tutorials explain...</td>\n",
              "    </tr>\n",
              "    <tr>\n",
              "      <th>2</th>\n",
              "      <td>120</td>\n",
              "      <td>83.0</td>\n",
              "      <td>2008-08-01 15:50:08+00:00</td>\n",
              "      <td>21</td>\n",
              "      <td>ASP.NET Site Maps</td>\n",
              "      <td>&lt;p&gt;Has anyone got experience creating &lt;strong&gt;...</td>\n",
              "    </tr>\n",
              "    <tr>\n",
              "      <th>3</th>\n",
              "      <td>180</td>\n",
              "      <td>2089740.0</td>\n",
              "      <td>2008-08-01 18:42:19+00:00</td>\n",
              "      <td>53</td>\n",
              "      <td>Function for creating color wheels</td>\n",
              "      <td>&lt;p&gt;This is something I've pseudo-solved many t...</td>\n",
              "    </tr>\n",
              "    <tr>\n",
              "      <th>4</th>\n",
              "      <td>260</td>\n",
              "      <td>91.0</td>\n",
              "      <td>2008-08-01 23:22:08+00:00</td>\n",
              "      <td>49</td>\n",
              "      <td>Adding scripting functionality to .NET applica...</td>\n",
              "      <td>&lt;p&gt;I have a little game written in C#. It uses...</td>\n",
              "    </tr>\n",
              "    <tr>\n",
              "      <th>...</th>\n",
              "      <td>...</td>\n",
              "      <td>...</td>\n",
              "      <td>...</td>\n",
              "      <td>...</td>\n",
              "      <td>...</td>\n",
              "      <td>...</td>\n",
              "    </tr>\n",
              "    <tr>\n",
              "      <th>1264211</th>\n",
              "      <td>40143210</td>\n",
              "      <td>5610777.0</td>\n",
              "      <td>2016-10-19 23:38:01+00:00</td>\n",
              "      <td>0</td>\n",
              "      <td>URL routing in PHP (MVC)</td>\n",
              "      <td>&lt;p&gt;I am building a custom MVC project and I ha...</td>\n",
              "    </tr>\n",
              "    <tr>\n",
              "      <th>1264212</th>\n",
              "      <td>40143300</td>\n",
              "      <td>3791161.0</td>\n",
              "      <td>2016-10-19 23:48:09+00:00</td>\n",
              "      <td>0</td>\n",
              "      <td>Bigquery.Jobs.Insert - Resumable Upload?</td>\n",
              "      <td>&lt;p&gt;The API docs show that you should be able t...</td>\n",
              "    </tr>\n",
              "    <tr>\n",
              "      <th>1264213</th>\n",
              "      <td>40143340</td>\n",
              "      <td>7028647.0</td>\n",
              "      <td>2016-10-19 23:52:50+00:00</td>\n",
              "      <td>1</td>\n",
              "      <td>Obfuscating code in android studio</td>\n",
              "      <td>&lt;p&gt;Under minifyEnabled I changed from false to...</td>\n",
              "    </tr>\n",
              "    <tr>\n",
              "      <th>1264214</th>\n",
              "      <td>40143360</td>\n",
              "      <td>871677.0</td>\n",
              "      <td>2016-10-19 23:55:24+00:00</td>\n",
              "      <td>0</td>\n",
              "      <td>How to fire function after v-model change?</td>\n",
              "      <td>&lt;p&gt;I have input which I use to filter my array...</td>\n",
              "    </tr>\n",
              "    <tr>\n",
              "      <th>1264215</th>\n",
              "      <td>40143380</td>\n",
              "      <td>6823982.0</td>\n",
              "      <td>2016-10-19 23:57:31+00:00</td>\n",
              "      <td>0</td>\n",
              "      <td>npm run mocha test - files being cached</td>\n",
              "      <td>&lt;p&gt;I'm running a mocha test and I noticed my c...</td>\n",
              "    </tr>\n",
              "  </tbody>\n",
              "</table>\n",
              "<p>1249762 rows × 6 columns</p>\n",
              "</div>"
            ],
            "text/plain": [
              "               Id  ...                                               Body\n",
              "0              80  ...  <p>I've written a database generation script i...\n",
              "1              90  ...  <p>Are there any really good tutorials explain...\n",
              "2             120  ...  <p>Has anyone got experience creating <strong>...\n",
              "3             180  ...  <p>This is something I've pseudo-solved many t...\n",
              "4             260  ...  <p>I have a little game written in C#. It uses...\n",
              "...           ...  ...                                                ...\n",
              "1264211  40143210  ...  <p>I am building a custom MVC project and I ha...\n",
              "1264212  40143300  ...  <p>The API docs show that you should be able t...\n",
              "1264213  40143340  ...  <p>Under minifyEnabled I changed from false to...\n",
              "1264214  40143360  ...  <p>I have input which I use to filter my array...\n",
              "1264215  40143380  ...  <p>I'm running a mocha test and I noticed my c...\n",
              "\n",
              "[1249762 rows x 6 columns]"
            ]
          },
          "metadata": {
            "tags": []
          },
          "execution_count": 47
        }
      ]
    },
    {
      "cell_type": "code",
      "metadata": {
        "collapsed": true,
        "id": "Zzt5MZQo0_xV"
      },
      "source": [
        "quesdf= quesdf.drop(['ClosedDate'], axis=1)"
      ],
      "execution_count": null,
      "outputs": []
    },
    {
      "cell_type": "markdown",
      "metadata": {
        "id": "-Jk9JM1Btose"
      },
      "source": [
        "Closed Date is irrelevant to our analysis so I dropped it."
      ]
    },
    {
      "cell_type": "code",
      "metadata": {
        "collapsed": true,
        "id": "Mt7ZgwtbvpOr"
      },
      "source": [
        "ansdf.drop(['Id'], axis=1, inplace=True)"
      ],
      "execution_count": null,
      "outputs": []
    },
    {
      "cell_type": "markdown",
      "metadata": {
        "id": "oTZR0sLwvyAb"
      },
      "source": [
        "Answer Id is irrelevant to analysis so it is dropped"
      ]
    },
    {
      "cell_type": "code",
      "metadata": {
        "collapsed": true,
        "id": "4GIHRp_fnGVP"
      },
      "source": [
        "ansdf= ansdf[~ansdf['OwnerUserId'].isnull()]"
      ],
      "execution_count": null,
      "outputs": []
    },
    {
      "cell_type": "code",
      "metadata": {
        "colab": {
          "base_uri": "https://localhost:8080/"
        },
        "id": "xPxzpM61nRvz",
        "outputId": "dc49a181-357d-4404-b9c9-2b0a71acd294"
      },
      "source": [
        "ansdf.OwnerUserId.isnull().sum()"
      ],
      "execution_count": null,
      "outputs": [
        {
          "output_type": "execute_result",
          "data": {
            "text/plain": [
              "0"
            ]
          },
          "metadata": {
            "tags": []
          },
          "execution_count": 51
        }
      ]
    },
    {
      "cell_type": "code",
      "metadata": {
        "collapsed": true,
        "id": "r9w_CuFVnXzj"
      },
      "source": [
        "quesdf['OwnerUserId']= quesdf['OwnerUserId'].astype('int32')"
      ],
      "execution_count": null,
      "outputs": []
    },
    {
      "cell_type": "code",
      "metadata": {
        "collapsed": true,
        "id": "68qY7PTlnqiH"
      },
      "source": [
        "ansdf['OwnerUserId']= ansdf['OwnerUserId'].astype('int32')"
      ],
      "execution_count": null,
      "outputs": []
    },
    {
      "cell_type": "code",
      "metadata": {
        "colab": {
          "base_uri": "https://localhost:8080/",
          "height": 402
        },
        "id": "A729KgeI1FhU",
        "outputId": "de61a555-01ed-46f3-c087-caf17fe1df96"
      },
      "source": [
        "usersdf.drop(['Unnamed: 0'], axis=1)"
      ],
      "execution_count": null,
      "outputs": [
        {
          "output_type": "execute_result",
          "data": {
            "text/html": [
              "<div>\n",
              "<style scoped>\n",
              "    .dataframe tbody tr th:only-of-type {\n",
              "        vertical-align: middle;\n",
              "    }\n",
              "\n",
              "    .dataframe tbody tr th {\n",
              "        vertical-align: top;\n",
              "    }\n",
              "\n",
              "    .dataframe thead th {\n",
              "        text-align: right;\n",
              "    }\n",
              "</style>\n",
              "<table border=\"1\" class=\"dataframe\">\n",
              "  <thead>\n",
              "    <tr style=\"text-align: right;\">\n",
              "      <th></th>\n",
              "      <th>id</th>\n",
              "      <th>display_name</th>\n",
              "      <th>creation_date</th>\n",
              "      <th>last_access_date</th>\n",
              "      <th>reputation</th>\n",
              "      <th>up_votes</th>\n",
              "      <th>down_votes</th>\n",
              "      <th>views</th>\n",
              "    </tr>\n",
              "  </thead>\n",
              "  <tbody>\n",
              "    <tr>\n",
              "      <th>0</th>\n",
              "      <td>26</td>\n",
              "      <td>Shawn</td>\n",
              "      <td>2008-08-01 12:18:14.520000+00:00</td>\n",
              "      <td>2018-04-11 04:40:35.660000+00:00</td>\n",
              "      <td>11820</td>\n",
              "      <td>565</td>\n",
              "      <td>67</td>\n",
              "      <td>3547</td>\n",
              "    </tr>\n",
              "    <tr>\n",
              "      <th>1</th>\n",
              "      <td>26</td>\n",
              "      <td>Shawn</td>\n",
              "      <td>2008-08-01 12:18:14.520000+00:00</td>\n",
              "      <td>2018-04-11 04:40:35.660000+00:00</td>\n",
              "      <td>11820</td>\n",
              "      <td>565</td>\n",
              "      <td>67</td>\n",
              "      <td>3547</td>\n",
              "    </tr>\n",
              "    <tr>\n",
              "      <th>2</th>\n",
              "      <td>26</td>\n",
              "      <td>Shawn</td>\n",
              "      <td>2008-08-01 12:18:14.520000+00:00</td>\n",
              "      <td>2018-04-11 04:40:35.660000+00:00</td>\n",
              "      <td>11820</td>\n",
              "      <td>565</td>\n",
              "      <td>67</td>\n",
              "      <td>3547</td>\n",
              "    </tr>\n",
              "    <tr>\n",
              "      <th>3</th>\n",
              "      <td>26</td>\n",
              "      <td>Shawn</td>\n",
              "      <td>2008-08-01 12:18:14.520000+00:00</td>\n",
              "      <td>2018-04-11 04:40:35.660000+00:00</td>\n",
              "      <td>11820</td>\n",
              "      <td>565</td>\n",
              "      <td>67</td>\n",
              "      <td>3547</td>\n",
              "    </tr>\n",
              "    <tr>\n",
              "      <th>4</th>\n",
              "      <td>26</td>\n",
              "      <td>Shawn</td>\n",
              "      <td>2008-08-01 12:18:14.520000+00:00</td>\n",
              "      <td>2018-04-11 04:40:35.660000+00:00</td>\n",
              "      <td>11820</td>\n",
              "      <td>565</td>\n",
              "      <td>67</td>\n",
              "      <td>3547</td>\n",
              "    </tr>\n",
              "    <tr>\n",
              "      <th>...</th>\n",
              "      <td>...</td>\n",
              "      <td>...</td>\n",
              "      <td>...</td>\n",
              "      <td>...</td>\n",
              "      <td>...</td>\n",
              "      <td>...</td>\n",
              "      <td>...</td>\n",
              "      <td>...</td>\n",
              "    </tr>\n",
              "    <tr>\n",
              "      <th>1990475</th>\n",
              "      <td>4228492</td>\n",
              "      <td>Michael Spranger</td>\n",
              "      <td>2014-11-07 20:21:14.283000+00:00</td>\n",
              "      <td>2019-08-28 18:01:29.560000+00:00</td>\n",
              "      <td>415</td>\n",
              "      <td>112</td>\n",
              "      <td>2</td>\n",
              "      <td>17</td>\n",
              "    </tr>\n",
              "    <tr>\n",
              "      <th>1990476</th>\n",
              "      <td>6820506</td>\n",
              "      <td>Manuela</td>\n",
              "      <td>2016-09-12 00:19:17.830000+00:00</td>\n",
              "      <td>2018-07-20 01:28:24.853000+00:00</td>\n",
              "      <td>21</td>\n",
              "      <td>38</td>\n",
              "      <td>0</td>\n",
              "      <td>50</td>\n",
              "    </tr>\n",
              "    <tr>\n",
              "      <th>1990477</th>\n",
              "      <td>4464432</td>\n",
              "      <td>YTorii</td>\n",
              "      <td>2015-01-17 10:48:17.523000+00:00</td>\n",
              "      <td>2019-08-31 13:51:47.413000+00:00</td>\n",
              "      <td>336</td>\n",
              "      <td>67</td>\n",
              "      <td>1</td>\n",
              "      <td>13</td>\n",
              "    </tr>\n",
              "    <tr>\n",
              "      <th>1990478</th>\n",
              "      <td>4605946</td>\n",
              "      <td>space_voyager</td>\n",
              "      <td>2015-02-25 13:43:24.630000+00:00</td>\n",
              "      <td>2019-07-13 23:55:47.607000+00:00</td>\n",
              "      <td>884</td>\n",
              "      <td>53</td>\n",
              "      <td>1</td>\n",
              "      <td>191</td>\n",
              "    </tr>\n",
              "    <tr>\n",
              "      <th>1990479</th>\n",
              "      <td>6107989</td>\n",
              "      <td>Nicky HFE</td>\n",
              "      <td>2016-03-24 06:25:14.090000+00:00</td>\n",
              "      <td>2019-08-21 13:40:34.197000+00:00</td>\n",
              "      <td>108</td>\n",
              "      <td>0</td>\n",
              "      <td>0</td>\n",
              "      <td>30</td>\n",
              "    </tr>\n",
              "  </tbody>\n",
              "</table>\n",
              "<p>1990480 rows × 8 columns</p>\n",
              "</div>"
            ],
            "text/plain": [
              "              id      display_name  ... down_votes views\n",
              "0             26             Shawn  ...         67  3547\n",
              "1             26             Shawn  ...         67  3547\n",
              "2             26             Shawn  ...         67  3547\n",
              "3             26             Shawn  ...         67  3547\n",
              "4             26             Shawn  ...         67  3547\n",
              "...          ...               ...  ...        ...   ...\n",
              "1990475  4228492  Michael Spranger  ...          2    17\n",
              "1990476  6820506           Manuela  ...          0    50\n",
              "1990477  4464432            YTorii  ...          1    13\n",
              "1990478  4605946     space_voyager  ...          1   191\n",
              "1990479  6107989         Nicky HFE  ...          0    30\n",
              "\n",
              "[1990480 rows x 8 columns]"
            ]
          },
          "metadata": {
            "tags": []
          },
          "execution_count": 54
        }
      ]
    },
    {
      "cell_type": "code",
      "metadata": {
        "collapsed": true,
        "id": "AMjCWpOq19rz"
      },
      "source": [
        "usersdf= usersdf.drop(['Unnamed: 0'], axis=1)"
      ],
      "execution_count": null,
      "outputs": []
    },
    {
      "cell_type": "code",
      "metadata": {
        "collapsed": true,
        "id": "BFxt0KsTObPV"
      },
      "source": [
        "usersdf.drop(['creation_date','last_access_date'], axis=1, inplace=True)"
      ],
      "execution_count": null,
      "outputs": []
    },
    {
      "cell_type": "code",
      "metadata": {
        "colab": {
          "base_uri": "https://localhost:8080/"
        },
        "id": "kF6mIKbMEhID",
        "outputId": "b9ff1d28-e4ff-4f8e-9a35-b6f138f49bf2"
      },
      "source": [
        "usersdf.drop_duplicates(inplace= True)\n",
        "usersdf.shape"
      ],
      "execution_count": null,
      "outputs": [
        {
          "output_type": "execute_result",
          "data": {
            "text/plain": [
              "(465460, 6)"
            ]
          },
          "metadata": {
            "tags": []
          },
          "execution_count": 57
        }
      ]
    },
    {
      "cell_type": "code",
      "metadata": {
        "colab": {
          "base_uri": "https://localhost:8080/",
          "height": 195
        },
        "id": "CCczY0kZkyuK",
        "outputId": "44c02846-e2dc-445a-a1c1-444d556bb534"
      },
      "source": [
        "usersdf.head()"
      ],
      "execution_count": null,
      "outputs": [
        {
          "output_type": "execute_result",
          "data": {
            "text/html": [
              "<div>\n",
              "<style scoped>\n",
              "    .dataframe tbody tr th:only-of-type {\n",
              "        vertical-align: middle;\n",
              "    }\n",
              "\n",
              "    .dataframe tbody tr th {\n",
              "        vertical-align: top;\n",
              "    }\n",
              "\n",
              "    .dataframe thead th {\n",
              "        text-align: right;\n",
              "    }\n",
              "</style>\n",
              "<table border=\"1\" class=\"dataframe\">\n",
              "  <thead>\n",
              "    <tr style=\"text-align: right;\">\n",
              "      <th></th>\n",
              "      <th>id</th>\n",
              "      <th>display_name</th>\n",
              "      <th>reputation</th>\n",
              "      <th>up_votes</th>\n",
              "      <th>down_votes</th>\n",
              "      <th>views</th>\n",
              "    </tr>\n",
              "  </thead>\n",
              "  <tbody>\n",
              "    <tr>\n",
              "      <th>0</th>\n",
              "      <td>26</td>\n",
              "      <td>Shawn</td>\n",
              "      <td>11820</td>\n",
              "      <td>565</td>\n",
              "      <td>67</td>\n",
              "      <td>3547</td>\n",
              "    </tr>\n",
              "    <tr>\n",
              "      <th>27</th>\n",
              "      <td>1109</td>\n",
              "      <td>Theo</td>\n",
              "      <td>116072</td>\n",
              "      <td>457</td>\n",
              "      <td>136</td>\n",
              "      <td>6905</td>\n",
              "    </tr>\n",
              "    <tr>\n",
              "      <th>85</th>\n",
              "      <td>364174</td>\n",
              "      <td>stats</td>\n",
              "      <td>325</td>\n",
              "      <td>25</td>\n",
              "      <td>1</td>\n",
              "      <td>60</td>\n",
              "    </tr>\n",
              "    <tr>\n",
              "      <th>87</th>\n",
              "      <td>61</td>\n",
              "      <td>Bernard</td>\n",
              "      <td>22779</td>\n",
              "      <td>1321</td>\n",
              "      <td>219</td>\n",
              "      <td>1731</td>\n",
              "    </tr>\n",
              "    <tr>\n",
              "      <th>97</th>\n",
              "      <td>20709</td>\n",
              "      <td>Black Horus</td>\n",
              "      <td>978</td>\n",
              "      <td>73</td>\n",
              "      <td>2</td>\n",
              "      <td>96</td>\n",
              "    </tr>\n",
              "  </tbody>\n",
              "</table>\n",
              "</div>"
            ],
            "text/plain": [
              "        id display_name  reputation  up_votes  down_votes  views\n",
              "0       26        Shawn       11820       565          67   3547\n",
              "27    1109         Theo      116072       457         136   6905\n",
              "85  364174        stats         325        25           1     60\n",
              "87      61      Bernard       22779      1321         219   1731\n",
              "97   20709  Black Horus         978        73           2     96"
            ]
          },
          "metadata": {
            "tags": []
          },
          "execution_count": 58
        }
      ]
    },
    {
      "cell_type": "code",
      "metadata": {
        "colab": {
          "base_uri": "https://localhost:8080/",
          "height": 195
        },
        "id": "xM8YgDvuk4aI",
        "outputId": "72280b92-4ca1-4a17-9054-ee7ec904531e"
      },
      "source": [
        "ansdf.head()"
      ],
      "execution_count": null,
      "outputs": [
        {
          "output_type": "execute_result",
          "data": {
            "text/html": [
              "<div>\n",
              "<style scoped>\n",
              "    .dataframe tbody tr th:only-of-type {\n",
              "        vertical-align: middle;\n",
              "    }\n",
              "\n",
              "    .dataframe tbody tr th {\n",
              "        vertical-align: top;\n",
              "    }\n",
              "\n",
              "    .dataframe thead th {\n",
              "        text-align: right;\n",
              "    }\n",
              "</style>\n",
              "<table border=\"1\" class=\"dataframe\">\n",
              "  <thead>\n",
              "    <tr style=\"text-align: right;\">\n",
              "      <th></th>\n",
              "      <th>OwnerUserId</th>\n",
              "      <th>CreationDate</th>\n",
              "      <th>ParentId</th>\n",
              "      <th>Score</th>\n",
              "      <th>Body</th>\n",
              "    </tr>\n",
              "  </thead>\n",
              "  <tbody>\n",
              "    <tr>\n",
              "      <th>0</th>\n",
              "      <td>61</td>\n",
              "      <td>2008-08-01 14:45:37+00:00</td>\n",
              "      <td>90</td>\n",
              "      <td>13</td>\n",
              "      <td>&lt;p&gt;&lt;a href=\"http://svnbook.red-bean.com/\"&gt;Vers...</td>\n",
              "    </tr>\n",
              "    <tr>\n",
              "      <th>1</th>\n",
              "      <td>26</td>\n",
              "      <td>2008-08-01 16:09:47+00:00</td>\n",
              "      <td>80</td>\n",
              "      <td>12</td>\n",
              "      <td>&lt;p&gt;I wound up using this. It is a kind of a ha...</td>\n",
              "    </tr>\n",
              "    <tr>\n",
              "      <th>2</th>\n",
              "      <td>50</td>\n",
              "      <td>2008-08-01 19:36:46+00:00</td>\n",
              "      <td>180</td>\n",
              "      <td>1</td>\n",
              "      <td>&lt;p&gt;I've read somewhere the human eye can't dis...</td>\n",
              "    </tr>\n",
              "    <tr>\n",
              "      <th>3</th>\n",
              "      <td>91</td>\n",
              "      <td>2008-08-01 23:49:57+00:00</td>\n",
              "      <td>260</td>\n",
              "      <td>4</td>\n",
              "      <td>&lt;p&gt;Yes, I thought about that, but I soon figur...</td>\n",
              "    </tr>\n",
              "    <tr>\n",
              "      <th>4</th>\n",
              "      <td>49</td>\n",
              "      <td>2008-08-02 01:49:46+00:00</td>\n",
              "      <td>260</td>\n",
              "      <td>28</td>\n",
              "      <td>&lt;p&gt;&lt;a href=\"http://www.codeproject.com/Article...</td>\n",
              "    </tr>\n",
              "  </tbody>\n",
              "</table>\n",
              "</div>"
            ],
            "text/plain": [
              "   OwnerUserId  ...                                               Body\n",
              "0           61  ...  <p><a href=\"http://svnbook.red-bean.com/\">Vers...\n",
              "1           26  ...  <p>I wound up using this. It is a kind of a ha...\n",
              "2           50  ...  <p>I've read somewhere the human eye can't dis...\n",
              "3           91  ...  <p>Yes, I thought about that, but I soon figur...\n",
              "4           49  ...  <p><a href=\"http://www.codeproject.com/Article...\n",
              "\n",
              "[5 rows x 5 columns]"
            ]
          },
          "metadata": {
            "tags": []
          },
          "execution_count": 59
        }
      ]
    },
    {
      "cell_type": "code",
      "metadata": {
        "collapsed": true,
        "id": "Nwl9sYV7sGXD"
      },
      "source": [
        "ansdf.rename(columns= {'CreationDate': 'AnswerDate', 'Body':'Answer','Score':'AnswerScore', 'ParentId':'QuesId'}, inplace=True)"
      ],
      "execution_count": null,
      "outputs": []
    },
    {
      "cell_type": "code",
      "metadata": {
        "colab": {
          "base_uri": "https://localhost:8080/",
          "height": 343
        },
        "id": "HxtFE5EHtBSq",
        "outputId": "75d10c01-0e70-468e-b3bd-86a05afb2091"
      },
      "source": [
        "ansdf.head(10)"
      ],
      "execution_count": null,
      "outputs": [
        {
          "output_type": "execute_result",
          "data": {
            "text/html": [
              "<div>\n",
              "<style scoped>\n",
              "    .dataframe tbody tr th:only-of-type {\n",
              "        vertical-align: middle;\n",
              "    }\n",
              "\n",
              "    .dataframe tbody tr th {\n",
              "        vertical-align: top;\n",
              "    }\n",
              "\n",
              "    .dataframe thead th {\n",
              "        text-align: right;\n",
              "    }\n",
              "</style>\n",
              "<table border=\"1\" class=\"dataframe\">\n",
              "  <thead>\n",
              "    <tr style=\"text-align: right;\">\n",
              "      <th></th>\n",
              "      <th>OwnerUserId</th>\n",
              "      <th>AnswerDate</th>\n",
              "      <th>QuesId</th>\n",
              "      <th>AnswerScore</th>\n",
              "      <th>Answer</th>\n",
              "    </tr>\n",
              "  </thead>\n",
              "  <tbody>\n",
              "    <tr>\n",
              "      <th>0</th>\n",
              "      <td>61</td>\n",
              "      <td>2008-08-01 14:45:37+00:00</td>\n",
              "      <td>90</td>\n",
              "      <td>13</td>\n",
              "      <td>&lt;p&gt;&lt;a href=\"http://svnbook.red-bean.com/\"&gt;Vers...</td>\n",
              "    </tr>\n",
              "    <tr>\n",
              "      <th>1</th>\n",
              "      <td>26</td>\n",
              "      <td>2008-08-01 16:09:47+00:00</td>\n",
              "      <td>80</td>\n",
              "      <td>12</td>\n",
              "      <td>&lt;p&gt;I wound up using this. It is a kind of a ha...</td>\n",
              "    </tr>\n",
              "    <tr>\n",
              "      <th>2</th>\n",
              "      <td>50</td>\n",
              "      <td>2008-08-01 19:36:46+00:00</td>\n",
              "      <td>180</td>\n",
              "      <td>1</td>\n",
              "      <td>&lt;p&gt;I've read somewhere the human eye can't dis...</td>\n",
              "    </tr>\n",
              "    <tr>\n",
              "      <th>3</th>\n",
              "      <td>91</td>\n",
              "      <td>2008-08-01 23:49:57+00:00</td>\n",
              "      <td>260</td>\n",
              "      <td>4</td>\n",
              "      <td>&lt;p&gt;Yes, I thought about that, but I soon figur...</td>\n",
              "    </tr>\n",
              "    <tr>\n",
              "      <th>4</th>\n",
              "      <td>49</td>\n",
              "      <td>2008-08-02 01:49:46+00:00</td>\n",
              "      <td>260</td>\n",
              "      <td>28</td>\n",
              "      <td>&lt;p&gt;&lt;a href=\"http://www.codeproject.com/Article...</td>\n",
              "    </tr>\n",
              "    <tr>\n",
              "      <th>5</th>\n",
              "      <td>59</td>\n",
              "      <td>2008-08-02 03:00:24+00:00</td>\n",
              "      <td>330</td>\n",
              "      <td>19</td>\n",
              "      <td>&lt;p&gt;I would be a bit reluctant to use nested cl...</td>\n",
              "    </tr>\n",
              "    <tr>\n",
              "      <th>6</th>\n",
              "      <td>100</td>\n",
              "      <td>2008-08-02 04:18:15+00:00</td>\n",
              "      <td>260</td>\n",
              "      <td>6</td>\n",
              "      <td>&lt;p&gt;You might be able to use IronRuby for that....</td>\n",
              "    </tr>\n",
              "    <tr>\n",
              "      <th>7</th>\n",
              "      <td>119</td>\n",
              "      <td>2008-08-02 06:16:23+00:00</td>\n",
              "      <td>260</td>\n",
              "      <td>5</td>\n",
              "      <td>&lt;P&gt;You could use any of the DLR languages, whi...</td>\n",
              "    </tr>\n",
              "    <tr>\n",
              "      <th>8</th>\n",
              "      <td>49</td>\n",
              "      <td>2008-08-02 15:33:13+00:00</td>\n",
              "      <td>470</td>\n",
              "      <td>8</td>\n",
              "      <td>&lt;p&gt;No, what you're doing is fine. Don't let th...</td>\n",
              "    </tr>\n",
              "    <tr>\n",
              "      <th>9</th>\n",
              "      <td>86</td>\n",
              "      <td>2008-08-02 18:16:07+00:00</td>\n",
              "      <td>180</td>\n",
              "      <td>3</td>\n",
              "      <td>&lt;p&gt;Isn't it also a factor which order you set ...</td>\n",
              "    </tr>\n",
              "  </tbody>\n",
              "</table>\n",
              "</div>"
            ],
            "text/plain": [
              "   OwnerUserId  ...                                             Answer\n",
              "0           61  ...  <p><a href=\"http://svnbook.red-bean.com/\">Vers...\n",
              "1           26  ...  <p>I wound up using this. It is a kind of a ha...\n",
              "2           50  ...  <p>I've read somewhere the human eye can't dis...\n",
              "3           91  ...  <p>Yes, I thought about that, but I soon figur...\n",
              "4           49  ...  <p><a href=\"http://www.codeproject.com/Article...\n",
              "5           59  ...  <p>I would be a bit reluctant to use nested cl...\n",
              "6          100  ...  <p>You might be able to use IronRuby for that....\n",
              "7          119  ...  <P>You could use any of the DLR languages, whi...\n",
              "8           49  ...  <p>No, what you're doing is fine. Don't let th...\n",
              "9           86  ...  <p>Isn't it also a factor which order you set ...\n",
              "\n",
              "[10 rows x 5 columns]"
            ]
          },
          "metadata": {
            "tags": []
          },
          "execution_count": 61
        }
      ]
    },
    {
      "cell_type": "code",
      "metadata": {
        "colab": {
          "base_uri": "https://localhost:8080/",
          "height": 195
        },
        "id": "vIEk_T3ax4n-",
        "outputId": "e18715b6-4543-497e-8299-77740d74268f"
      },
      "source": [
        "usersdf.rename(columns= {'id':'OwnerUserId'}, inplace=True)\n",
        "usersdf.head()"
      ],
      "execution_count": null,
      "outputs": [
        {
          "output_type": "execute_result",
          "data": {
            "text/html": [
              "<div>\n",
              "<style scoped>\n",
              "    .dataframe tbody tr th:only-of-type {\n",
              "        vertical-align: middle;\n",
              "    }\n",
              "\n",
              "    .dataframe tbody tr th {\n",
              "        vertical-align: top;\n",
              "    }\n",
              "\n",
              "    .dataframe thead th {\n",
              "        text-align: right;\n",
              "    }\n",
              "</style>\n",
              "<table border=\"1\" class=\"dataframe\">\n",
              "  <thead>\n",
              "    <tr style=\"text-align: right;\">\n",
              "      <th></th>\n",
              "      <th>OwnerUserId</th>\n",
              "      <th>display_name</th>\n",
              "      <th>reputation</th>\n",
              "      <th>up_votes</th>\n",
              "      <th>down_votes</th>\n",
              "      <th>views</th>\n",
              "    </tr>\n",
              "  </thead>\n",
              "  <tbody>\n",
              "    <tr>\n",
              "      <th>0</th>\n",
              "      <td>26</td>\n",
              "      <td>Shawn</td>\n",
              "      <td>11820</td>\n",
              "      <td>565</td>\n",
              "      <td>67</td>\n",
              "      <td>3547</td>\n",
              "    </tr>\n",
              "    <tr>\n",
              "      <th>27</th>\n",
              "      <td>1109</td>\n",
              "      <td>Theo</td>\n",
              "      <td>116072</td>\n",
              "      <td>457</td>\n",
              "      <td>136</td>\n",
              "      <td>6905</td>\n",
              "    </tr>\n",
              "    <tr>\n",
              "      <th>85</th>\n",
              "      <td>364174</td>\n",
              "      <td>stats</td>\n",
              "      <td>325</td>\n",
              "      <td>25</td>\n",
              "      <td>1</td>\n",
              "      <td>60</td>\n",
              "    </tr>\n",
              "    <tr>\n",
              "      <th>87</th>\n",
              "      <td>61</td>\n",
              "      <td>Bernard</td>\n",
              "      <td>22779</td>\n",
              "      <td>1321</td>\n",
              "      <td>219</td>\n",
              "      <td>1731</td>\n",
              "    </tr>\n",
              "    <tr>\n",
              "      <th>97</th>\n",
              "      <td>20709</td>\n",
              "      <td>Black Horus</td>\n",
              "      <td>978</td>\n",
              "      <td>73</td>\n",
              "      <td>2</td>\n",
              "      <td>96</td>\n",
              "    </tr>\n",
              "  </tbody>\n",
              "</table>\n",
              "</div>"
            ],
            "text/plain": [
              "    OwnerUserId display_name  reputation  up_votes  down_votes  views\n",
              "0            26        Shawn       11820       565          67   3547\n",
              "27         1109         Theo      116072       457         136   6905\n",
              "85       364174        stats         325        25           1     60\n",
              "87           61      Bernard       22779      1321         219   1731\n",
              "97        20709  Black Horus         978        73           2     96"
            ]
          },
          "metadata": {
            "tags": []
          },
          "execution_count": 62
        }
      ]
    },
    {
      "cell_type": "markdown",
      "metadata": {
        "id": "ma7dYRn168lB"
      },
      "source": [
        "### Standardising columns/rows"
      ]
    },
    {
      "cell_type": "code",
      "metadata": {
        "colab": {
          "base_uri": "https://localhost:8080/"
        },
        "id": "jIT83aZQ015H",
        "outputId": "41ae9e03-902f-4282-c378-5c8871d0c1b6"
      },
      "source": [
        "quesdf.Score.describe()"
      ],
      "execution_count": null,
      "outputs": [
        {
          "output_type": "execute_result",
          "data": {
            "text/plain": [
              "count    1.249762e+06\n",
              "mean     1.770194e+00\n",
              "std      1.365188e+01\n",
              "min     -7.300000e+01\n",
              "25%      0.000000e+00\n",
              "50%      0.000000e+00\n",
              "75%      1.000000e+00\n",
              "max      5.190000e+03\n",
              "Name: Score, dtype: float64"
            ]
          },
          "metadata": {
            "tags": []
          },
          "execution_count": 63
        }
      ]
    },
    {
      "cell_type": "code",
      "metadata": {
        "collapsed": true,
        "id": "fNceSab28cE9"
      },
      "source": [
        "quesdf.Score= quesdf.Score.astype(\"int64\")"
      ],
      "execution_count": null,
      "outputs": []
    },
    {
      "cell_type": "code",
      "metadata": {
        "colab": {
          "base_uri": "https://localhost:8080/",
          "height": 333
        },
        "id": "wJYv0EjR8l3m",
        "outputId": "d9634f0c-3aab-4b43-abc5-69f76be999ba"
      },
      "source": [
        "sns.boxplot(quesdf.Score)\n",
        "plt.show()"
      ],
      "execution_count": null,
      "outputs": [
        {
          "output_type": "stream",
          "text": [
            "/usr/local/lib/python3.7/dist-packages/seaborn/_decorators.py:43: FutureWarning: Pass the following variable as a keyword arg: x. From version 0.12, the only valid positional argument will be `data`, and passing other arguments without an explicit keyword will result in an error or misinterpretation.\n",
            "  FutureWarning\n"
          ],
          "name": "stderr"
        },
        {
          "output_type": "display_data",
          "data": {
            "image/png": "[encoded data removed]",
            "text/plain": [
              "<Figure size 432x288 with 1 Axes>"
            ]
          },
          "metadata": {
            "tags": []
          }
        }
      ]
    },
    {
      "cell_type": "markdown",
      "metadata": {
        "id": "YwtjTECBO_67"
      },
      "source": [
        "As we can see, maximum values lie between 0 to 1200"
      ]
    },
    {
      "cell_type": "markdown",
      "metadata": {
        "id": "oqti7twZlzHo"
      },
      "source": [
        "# EDA"
      ]
    },
    {
      "cell_type": "code",
      "metadata": {
        "colab": {
          "base_uri": "https://localhost:8080/"
        },
        "id": "1eCiMyB1Hilm",
        "outputId": "b547fa0c-b80c-4f3d-bb45-1419a9243178"
      },
      "source": [
        "quesdf.Score.quantile([0.5,0.7,0.8,0.9,0.95,0.99,1])"
      ],
      "execution_count": null,
      "outputs": [
        {
          "output_type": "execute_result",
          "data": {
            "text/plain": [
              "0.50       0.0\n",
              "0.70       1.0\n",
              "0.80       2.0\n",
              "0.90       3.0\n",
              "0.95       6.0\n",
              "0.99      22.0\n",
              "1.00    5190.0\n",
              "Name: Score, dtype: float64"
            ]
          },
          "metadata": {
            "tags": []
          },
          "execution_count": 66
        }
      ]
    },
    {
      "cell_type": "markdown",
      "metadata": {
        "id": "rVFzE53qM6z5"
      },
      "source": [
        "As we can see, outliers are present but shouldn't be removed. They need to be binned or capped."
      ]
    },
    {
      "cell_type": "code",
      "metadata": {
        "colab": {
          "base_uri": "https://localhost:8080/"
        },
        "id": "2ljSlUFZhKvW",
        "outputId": "e5d602ef-366a-4465-e7e9-d06ef20d8da7"
      },
      "source": [
        "quesdf[quesdf['Score']>0].Score.describe()"
      ],
      "execution_count": null,
      "outputs": [
        {
          "output_type": "execute_result",
          "data": {
            "text/plain": [
              "count    585976.000000\n",
              "mean          4.024475\n",
              "std          19.679127\n",
              "min           1.000000\n",
              "25%           1.000000\n",
              "50%           2.000000\n",
              "75%           3.000000\n",
              "max        5190.000000\n",
              "Name: Score, dtype: float64"
            ]
          },
          "metadata": {
            "tags": []
          },
          "execution_count": 67
        }
      ]
    },
    {
      "cell_type": "code",
      "metadata": {
        "colab": {
          "base_uri": "https://localhost:8080/"
        },
        "id": "gfHW5y7mLUb0",
        "outputId": "faa60318-4d82-4ccd-fd54-b3e85557b902"
      },
      "source": [
        "quesdf[quesdf['Score']>22].Score.describe()"
      ],
      "execution_count": null,
      "outputs": [
        {
          "output_type": "execute_result",
          "data": {
            "text/plain": [
              "count    12289.000000\n",
              "mean        67.773456\n",
              "std        117.900893\n",
              "min         23.000000\n",
              "25%         28.000000\n",
              "50%         39.000000\n",
              "75%         66.000000\n",
              "max       5190.000000\n",
              "Name: Score, dtype: float64"
            ]
          },
          "metadata": {
            "tags": []
          },
          "execution_count": 68
        }
      ]
    },
    {
      "cell_type": "code",
      "metadata": {
        "colab": {
          "base_uri": "https://localhost:8080/"
        },
        "id": "aP3Sv-JJLvW1",
        "outputId": "b4e03304-f090-4608-966a-bbcd133b781d"
      },
      "source": [
        "quesdf.Score.count()"
      ],
      "execution_count": null,
      "outputs": [
        {
          "output_type": "execute_result",
          "data": {
            "text/plain": [
              "1249762"
            ]
          },
          "metadata": {
            "tags": []
          },
          "execution_count": 69
        }
      ]
    },
    {
      "cell_type": "code",
      "metadata": {
        "colab": {
          "base_uri": "https://localhost:8080/"
        },
        "id": "gOy4hiSrOD9M",
        "outputId": "4f5073bc-d14d-4152-9d72-057fc4aad706"
      },
      "source": [
        "quesdf[(quesdf['Score']>0) & (quesdf['Score']<2000)].Score.describe()"
      ],
      "execution_count": null,
      "outputs": [
        {
          "output_type": "execute_result",
          "data": {
            "text/plain": [
              "count    585971.000000\n",
              "mean          3.997031\n",
              "std          16.997386\n",
              "min           1.000000\n",
              "25%           1.000000\n",
              "50%           2.000000\n",
              "75%           3.000000\n",
              "max        1760.000000\n",
              "Name: Score, dtype: float64"
            ]
          },
          "metadata": {
            "tags": []
          },
          "execution_count": 70
        }
      ]
    },
    {
      "cell_type": "code",
      "metadata": {
        "colab": {
          "base_uri": "https://localhost:8080/"
        },
        "id": "f0PNl38jOPju",
        "outputId": "a2fba66c-3484-4238-dfb8-443320372c8a"
      },
      "source": [
        "quesdf[quesdf['Score']>2000].Score.describe()"
      ],
      "execution_count": null,
      "outputs": [
        {
          "output_type": "execute_result",
          "data": {
            "text/plain": [
              "count       5.000000\n",
              "mean     3220.400000\n",
              "std      1215.558226\n",
              "min      2363.000000\n",
              "25%      2399.000000\n",
              "50%      2537.000000\n",
              "75%      3613.000000\n",
              "max      5190.000000\n",
              "Name: Score, dtype: float64"
            ]
          },
          "metadata": {
            "tags": []
          },
          "execution_count": 71
        }
      ]
    },
    {
      "cell_type": "code",
      "metadata": {
        "colab": {
          "base_uri": "https://localhost:8080/",
          "height": 195
        },
        "id": "cPKuVJmNm8JG",
        "outputId": "65f6f1d7-dd48-47d3-bf0a-97dbcf5eca3a"
      },
      "source": [
        "quesdf[quesdf['Score']>2000]"
      ],
      "execution_count": null,
      "outputs": [
        {
          "output_type": "execute_result",
          "data": {
            "text/html": [
              "<div>\n",
              "<style scoped>\n",
              "    .dataframe tbody tr th:only-of-type {\n",
              "        vertical-align: middle;\n",
              "    }\n",
              "\n",
              "    .dataframe tbody tr th {\n",
              "        vertical-align: top;\n",
              "    }\n",
              "\n",
              "    .dataframe thead th {\n",
              "        text-align: right;\n",
              "    }\n",
              "</style>\n",
              "<table border=\"1\" class=\"dataframe\">\n",
              "  <thead>\n",
              "    <tr style=\"text-align: right;\">\n",
              "      <th></th>\n",
              "      <th>Id</th>\n",
              "      <th>OwnerUserId</th>\n",
              "      <th>CreationDate</th>\n",
              "      <th>Score</th>\n",
              "      <th>Title</th>\n",
              "      <th>Body</th>\n",
              "    </tr>\n",
              "  </thead>\n",
              "  <tbody>\n",
              "    <tr>\n",
              "      <th>441</th>\n",
              "      <td>40480</td>\n",
              "      <td>4315</td>\n",
              "      <td>2008-09-02 20:14:29+00:00</td>\n",
              "      <td>3613</td>\n",
              "      <td>Is Java \"pass-by-reference\" or \"pass-by-value\"?</td>\n",
              "      <td>&lt;p&gt;I always thought Java was &lt;strong&gt;pass-by-r...</td>\n",
              "    </tr>\n",
              "    <tr>\n",
              "      <th>4907</th>\n",
              "      <td>348170</td>\n",
              "      <td>14069</td>\n",
              "      <td>2008-12-07 21:57:46+00:00</td>\n",
              "      <td>5190</td>\n",
              "      <td>How to undo 'git add' before commit?</td>\n",
              "      <td>&lt;p&gt;I mistakenly added files using the command:...</td>\n",
              "    </tr>\n",
              "    <tr>\n",
              "      <th>5859</th>\n",
              "      <td>406230</td>\n",
              "      <td>36830</td>\n",
              "      <td>2009-01-02 07:30:16+00:00</td>\n",
              "      <td>2537</td>\n",
              "      <td>Regular expression to match line that doesn't ...</td>\n",
              "      <td>&lt;p&gt;I know it's possible to match a word and th...</td>\n",
              "    </tr>\n",
              "    <tr>\n",
              "      <th>7771</th>\n",
              "      <td>520650</td>\n",
              "      <td>825</td>\n",
              "      <td>2009-02-06 15:14:04+00:00</td>\n",
              "      <td>2399</td>\n",
              "      <td>Make an existing Git branch track a remote bra...</td>\n",
              "      <td>&lt;p&gt;I know how to make a new branch that tracks...</td>\n",
              "    </tr>\n",
              "    <tr>\n",
              "      <th>57759</th>\n",
              "      <td>2669690</td>\n",
              "      <td>151495</td>\n",
              "      <td>2010-04-19 18:00:09+00:00</td>\n",
              "      <td>2363</td>\n",
              "      <td>Why does Google prepend while(1); to their JSO...</td>\n",
              "      <td>&lt;p&gt;Why does Google prepend &lt;code&gt;while(1);&lt;/co...</td>\n",
              "    </tr>\n",
              "  </tbody>\n",
              "</table>\n",
              "</div>"
            ],
            "text/plain": [
              "            Id  ...                                               Body\n",
              "441      40480  ...  <p>I always thought Java was <strong>pass-by-r...\n",
              "4907    348170  ...  <p>I mistakenly added files using the command:...\n",
              "5859    406230  ...  <p>I know it's possible to match a word and th...\n",
              "7771    520650  ...  <p>I know how to make a new branch that tracks...\n",
              "57759  2669690  ...  <p>Why does Google prepend <code>while(1);</co...\n",
              "\n",
              "[5 rows x 6 columns]"
            ]
          },
          "metadata": {
            "tags": []
          },
          "execution_count": 72
        }
      ]
    },
    {
      "cell_type": "code",
      "metadata": {
        "collapsed": true,
        "id": "zJfmeAWFf0KX"
      },
      "source": [
        "quesdf['bin'] = pd.cut(quesdf['Score'], bins=[-73,0,22,5190], labels=[\"Poor\", \"Average\", \"Good\"])"
      ],
      "execution_count": null,
      "outputs": []
    },
    {
      "cell_type": "code",
      "metadata": {
        "colab": {
          "base_uri": "https://localhost:8080/"
        },
        "id": "Y4Uz8xNogRJq",
        "outputId": "4d292bea-611a-4bfa-a8cf-4e034e49c123"
      },
      "source": [
        "quesdf.bin.value_counts()"
      ],
      "execution_count": null,
      "outputs": [
        {
          "output_type": "execute_result",
          "data": {
            "text/plain": [
              "Poor       663785\n",
              "Average    573687\n",
              "Good        12289\n",
              "Name: bin, dtype: int64"
            ]
          },
          "metadata": {
            "tags": []
          },
          "execution_count": 74
        }
      ]
    },
    {
      "cell_type": "code",
      "metadata": {
        "colab": {
          "base_uri": "https://localhost:8080/"
        },
        "id": "4esy-HV3kYSZ",
        "outputId": "6ecf44c5-68b0-4185-9d33-6f715b222574"
      },
      "source": [
        "quesdf.bin.value_counts(normalize=True)"
      ],
      "execution_count": null,
      "outputs": [
        {
          "output_type": "execute_result",
          "data": {
            "text/plain": [
              "Poor       0.531130\n",
              "Average    0.459037\n",
              "Good       0.009833\n",
              "Name: bin, dtype: float64"
            ]
          },
          "metadata": {
            "tags": []
          },
          "execution_count": 75
        }
      ]
    },
    {
      "cell_type": "code",
      "metadata": {
        "colab": {
          "base_uri": "https://localhost:8080/",
          "height": 265
        },
        "id": "1DsoItmRkQOO",
        "outputId": "dc89d66b-2366-4ae3-88f1-32e9dd3c0e1b"
      },
      "source": [
        "quesdf.bin.value_counts(normalize=True).plot.barh()\n",
        "plt.show()"
      ],
      "execution_count": null,
      "outputs": [
        {
          "output_type": "display_data",
          "data": {
            "image/png": "[encoded data removed]",
            "text/plain": [
              "<Figure size 432x288 with 1 Axes>"
            ]
          },
          "metadata": {
            "tags": []
          }
        }
      ]
    },
    {
      "cell_type": "code",
      "metadata": {
        "colab": {
          "base_uri": "https://localhost:8080/"
        },
        "id": "BiSUG14SO8vA",
        "outputId": "3d26eb1b-8e5f-46d9-e6f0-ebb8381ac0c7"
      },
      "source": [
        "ansdf.info()"
      ],
      "execution_count": null,
      "outputs": [
        {
          "output_type": "stream",
          "text": [
            "<class 'pandas.core.frame.DataFrame'>\n",
            "Int64Index: 2001316 entries, 0 to 2014515\n",
            "Data columns (total 5 columns):\n",
            " #   Column       Dtype              \n",
            "---  ------       -----              \n",
            " 0   OwnerUserId  int32              \n",
            " 1   AnswerDate   datetime64[ns, UTC]\n",
            " 2   QuesId       int64              \n",
            " 3   AnswerScore  int64              \n",
            " 4   Answer       object             \n",
            "dtypes: datetime64[ns, UTC](1), int32(1), int64(2), object(1)\n",
            "memory usage: 84.0+ MB\n"
          ],
          "name": "stdout"
        }
      ]
    },
    {
      "cell_type": "code",
      "metadata": {
        "colab": {
          "base_uri": "https://localhost:8080/"
        },
        "id": "gi3h-xfpP_Cg",
        "outputId": "60d4000d-b9e3-4fe4-a360-5772aaa55615"
      },
      "source": [
        "quesdf.Score.value_counts()"
      ],
      "execution_count": null,
      "outputs": [
        {
          "output_type": "execute_result",
          "data": {
            "text/plain": [
              " 0       585537\n",
              " 1       277534\n",
              " 2       123270\n",
              " 3        60314\n",
              "-1        43636\n",
              "          ...  \n",
              " 432          1\n",
              " 435          1\n",
              " 1460         1\n",
              " 261          1\n",
              " 1023         1\n",
              "Name: Score, Length: 529, dtype: int64"
            ]
          },
          "metadata": {
            "tags": []
          },
          "execution_count": 78
        }
      ]
    },
    {
      "cell_type": "code",
      "metadata": {
        "colab": {
          "base_uri": "https://localhost:8080/",
          "height": 195
        },
        "id": "mmXL8xqrP9fQ",
        "outputId": "6ce629c6-bdc3-47bb-97e1-e5a99c869ab4"
      },
      "source": [
        "ansdf.head()"
      ],
      "execution_count": null,
      "outputs": [
        {
          "output_type": "execute_result",
          "data": {
            "text/html": [
              "<div>\n",
              "<style scoped>\n",
              "    .dataframe tbody tr th:only-of-type {\n",
              "        vertical-align: middle;\n",
              "    }\n",
              "\n",
              "    .dataframe tbody tr th {\n",
              "        vertical-align: top;\n",
              "    }\n",
              "\n",
              "    .dataframe thead th {\n",
              "        text-align: right;\n",
              "    }\n",
              "</style>\n",
              "<table border=\"1\" class=\"dataframe\">\n",
              "  <thead>\n",
              "    <tr style=\"text-align: right;\">\n",
              "      <th></th>\n",
              "      <th>OwnerUserId</th>\n",
              "      <th>AnswerDate</th>\n",
              "      <th>QuesId</th>\n",
              "      <th>AnswerScore</th>\n",
              "      <th>Answer</th>\n",
              "    </tr>\n",
              "  </thead>\n",
              "  <tbody>\n",
              "    <tr>\n",
              "      <th>0</th>\n",
              "      <td>61</td>\n",
              "      <td>2008-08-01 14:45:37+00:00</td>\n",
              "      <td>90</td>\n",
              "      <td>13</td>\n",
              "      <td>&lt;p&gt;&lt;a href=\"http://svnbook.red-bean.com/\"&gt;Vers...</td>\n",
              "    </tr>\n",
              "    <tr>\n",
              "      <th>1</th>\n",
              "      <td>26</td>\n",
              "      <td>2008-08-01 16:09:47+00:00</td>\n",
              "      <td>80</td>\n",
              "      <td>12</td>\n",
              "      <td>&lt;p&gt;I wound up using this. It is a kind of a ha...</td>\n",
              "    </tr>\n",
              "    <tr>\n",
              "      <th>2</th>\n",
              "      <td>50</td>\n",
              "      <td>2008-08-01 19:36:46+00:00</td>\n",
              "      <td>180</td>\n",
              "      <td>1</td>\n",
              "      <td>&lt;p&gt;I've read somewhere the human eye can't dis...</td>\n",
              "    </tr>\n",
              "    <tr>\n",
              "      <th>3</th>\n",
              "      <td>91</td>\n",
              "      <td>2008-08-01 23:49:57+00:00</td>\n",
              "      <td>260</td>\n",
              "      <td>4</td>\n",
              "      <td>&lt;p&gt;Yes, I thought about that, but I soon figur...</td>\n",
              "    </tr>\n",
              "    <tr>\n",
              "      <th>4</th>\n",
              "      <td>49</td>\n",
              "      <td>2008-08-02 01:49:46+00:00</td>\n",
              "      <td>260</td>\n",
              "      <td>28</td>\n",
              "      <td>&lt;p&gt;&lt;a href=\"http://www.codeproject.com/Article...</td>\n",
              "    </tr>\n",
              "  </tbody>\n",
              "</table>\n",
              "</div>"
            ],
            "text/plain": [
              "   OwnerUserId  ...                                             Answer\n",
              "0           61  ...  <p><a href=\"http://svnbook.red-bean.com/\">Vers...\n",
              "1           26  ...  <p>I wound up using this. It is a kind of a ha...\n",
              "2           50  ...  <p>I've read somewhere the human eye can't dis...\n",
              "3           91  ...  <p>Yes, I thought about that, but I soon figur...\n",
              "4           49  ...  <p><a href=\"http://www.codeproject.com/Article...\n",
              "\n",
              "[5 rows x 5 columns]"
            ]
          },
          "metadata": {
            "tags": []
          },
          "execution_count": 79
        }
      ]
    },
    {
      "cell_type": "code",
      "metadata": {
        "colab": {
          "base_uri": "https://localhost:8080/"
        },
        "id": "8xxI_kGKRuGo",
        "outputId": "a5908f9d-7dd2-4cec-9e1c-c27a7ae31c34"
      },
      "source": [
        "ansdf.AnswerScore.describe()"
      ],
      "execution_count": null,
      "outputs": [
        {
          "output_type": "execute_result",
          "data": {
            "text/plain": [
              "count    2.001316e+06\n",
              "mean     2.479975e+00\n",
              "std      1.592961e+01\n",
              "min     -4.200000e+01\n",
              "25%      0.000000e+00\n",
              "50%      1.000000e+00\n",
              "75%      2.000000e+00\n",
              "max      5.718000e+03\n",
              "Name: AnswerScore, dtype: float64"
            ]
          },
          "metadata": {
            "tags": []
          },
          "execution_count": 80
        }
      ]
    },
    {
      "cell_type": "code",
      "metadata": {
        "colab": {
          "base_uri": "https://localhost:8080/",
          "height": 333
        },
        "id": "odZOi84rQQuS",
        "outputId": "9c73a663-9191-4a5c-bdd0-9727e28fd833"
      },
      "source": [
        "sns.boxplot(ansdf.AnswerScore)\n",
        "plt.show()"
      ],
      "execution_count": null,
      "outputs": [
        {
          "output_type": "stream",
          "text": [
            "/usr/local/lib/python3.7/dist-packages/seaborn/_decorators.py:43: FutureWarning: Pass the following variable as a keyword arg: x. From version 0.12, the only valid positional argument will be `data`, and passing other arguments without an explicit keyword will result in an error or misinterpretation.\n",
            "  FutureWarning\n"
          ],
          "name": "stderr"
        },
        {
          "output_type": "display_data",
          "data": {
            "image/png": "[encoded data removed]",
            "text/plain": [
              "<Figure size 432x288 with 1 Axes>"
            ]
          },
          "metadata": {
            "tags": []
          }
        }
      ]
    },
    {
      "cell_type": "code",
      "metadata": {
        "colab": {
          "base_uri": "https://localhost:8080/"
        },
        "id": "T1888lfDSfyb",
        "outputId": "258b6bfa-3ea6-4965-ce0f-147ecdd1a544"
      },
      "source": [
        "ansdf.AnswerScore.quantile([0.5,0.7,0.8,0.9,0.95,0.99,1])"
      ],
      "execution_count": null,
      "outputs": [
        {
          "output_type": "execute_result",
          "data": {
            "text/plain": [
              "0.50       1.0\n",
              "0.70       2.0\n",
              "0.80       3.0\n",
              "0.90       4.0\n",
              "0.95       8.0\n",
              "0.99      28.0\n",
              "1.00    5718.0\n",
              "Name: AnswerScore, dtype: float64"
            ]
          },
          "metadata": {
            "tags": []
          },
          "execution_count": 82
        }
      ]
    },
    {
      "cell_type": "code",
      "metadata": {
        "colab": {
          "base_uri": "https://localhost:8080/"
        },
        "id": "IUg5578_UUeo",
        "outputId": "95bdf728-7f0a-483c-f373-6310741cd2f8"
      },
      "source": [
        "ansdf[ansdf['AnswerScore']<2000].AnswerScore.describe()"
      ],
      "execution_count": null,
      "outputs": [
        {
          "output_type": "execute_result",
          "data": {
            "text/plain": [
              "count    2.001301e+06\n",
              "mean     2.458493e+00\n",
              "std      1.364353e+01\n",
              "min     -4.200000e+01\n",
              "25%      0.000000e+00\n",
              "50%      1.000000e+00\n",
              "75%      2.000000e+00\n",
              "max      1.963000e+03\n",
              "Name: AnswerScore, dtype: float64"
            ]
          },
          "metadata": {
            "tags": []
          },
          "execution_count": 83
        }
      ]
    },
    {
      "cell_type": "code",
      "metadata": {
        "colab": {
          "base_uri": "https://localhost:8080/"
        },
        "id": "_3U0WqjLUFA5",
        "outputId": "c4d14805-078e-4fa9-f8f7-806cdee83a7a"
      },
      "source": [
        "ansdf[ansdf['AnswerScore']>3000].AnswerScore.describe()"
      ],
      "execution_count": null,
      "outputs": [
        {
          "output_type": "execute_result",
          "data": {
            "text/plain": [
              "count       4.000000\n",
              "mean     3985.500000\n",
              "std      1184.806173\n",
              "min      3038.000000\n",
              "25%      3421.250000\n",
              "50%      3593.000000\n",
              "75%      4157.250000\n",
              "max      5718.000000\n",
              "Name: AnswerScore, dtype: float64"
            ]
          },
          "metadata": {
            "tags": []
          },
          "execution_count": 84
        }
      ]
    },
    {
      "cell_type": "markdown",
      "metadata": {
        "id": "0pGE2KFQnUG6"
      },
      "source": [
        "So we can see that maximum scores lie between the range of 0 to 2000"
      ]
    },
    {
      "cell_type": "code",
      "metadata": {
        "colab": {
          "base_uri": "https://localhost:8080/"
        },
        "id": "yGAvBNcXUSLU",
        "outputId": "39b68772-cfd0-482e-9a00-4d9721ebb134"
      },
      "source": [
        "ansdf.AnswerScore.value_counts()"
      ],
      "execution_count": null,
      "outputs": [
        {
          "output_type": "execute_result",
          "data": {
            "text/plain": [
              "0       771984\n",
              "1       526071\n",
              "2       258565\n",
              "3       134389\n",
              "4        76165\n",
              "         ...  \n",
              "569          1\n",
              "571          1\n",
              "572          1\n",
              "573          1\n",
              "1015         1\n",
              "Name: AnswerScore, Length: 695, dtype: int64"
            ]
          },
          "metadata": {
            "tags": []
          },
          "execution_count": 85
        }
      ]
    },
    {
      "cell_type": "code",
      "metadata": {
        "colab": {
          "base_uri": "https://localhost:8080/",
          "height": 195
        },
        "id": "NQm-FeOSb5jq",
        "outputId": "19ecff93-49f5-459e-88c8-d9214a5b11e1"
      },
      "source": [
        "usersdf.head()"
      ],
      "execution_count": null,
      "outputs": [
        {
          "output_type": "execute_result",
          "data": {
            "text/html": [
              "<div>\n",
              "<style scoped>\n",
              "    .dataframe tbody tr th:only-of-type {\n",
              "        vertical-align: middle;\n",
              "    }\n",
              "\n",
              "    .dataframe tbody tr th {\n",
              "        vertical-align: top;\n",
              "    }\n",
              "\n",
              "    .dataframe thead th {\n",
              "        text-align: right;\n",
              "    }\n",
              "</style>\n",
              "<table border=\"1\" class=\"dataframe\">\n",
              "  <thead>\n",
              "    <tr style=\"text-align: right;\">\n",
              "      <th></th>\n",
              "      <th>OwnerUserId</th>\n",
              "      <th>display_name</th>\n",
              "      <th>reputation</th>\n",
              "      <th>up_votes</th>\n",
              "      <th>down_votes</th>\n",
              "      <th>views</th>\n",
              "    </tr>\n",
              "  </thead>\n",
              "  <tbody>\n",
              "    <tr>\n",
              "      <th>0</th>\n",
              "      <td>26</td>\n",
              "      <td>Shawn</td>\n",
              "      <td>11820</td>\n",
              "      <td>565</td>\n",
              "      <td>67</td>\n",
              "      <td>3547</td>\n",
              "    </tr>\n",
              "    <tr>\n",
              "      <th>27</th>\n",
              "      <td>1109</td>\n",
              "      <td>Theo</td>\n",
              "      <td>116072</td>\n",
              "      <td>457</td>\n",
              "      <td>136</td>\n",
              "      <td>6905</td>\n",
              "    </tr>\n",
              "    <tr>\n",
              "      <th>85</th>\n",
              "      <td>364174</td>\n",
              "      <td>stats</td>\n",
              "      <td>325</td>\n",
              "      <td>25</td>\n",
              "      <td>1</td>\n",
              "      <td>60</td>\n",
              "    </tr>\n",
              "    <tr>\n",
              "      <th>87</th>\n",
              "      <td>61</td>\n",
              "      <td>Bernard</td>\n",
              "      <td>22779</td>\n",
              "      <td>1321</td>\n",
              "      <td>219</td>\n",
              "      <td>1731</td>\n",
              "    </tr>\n",
              "    <tr>\n",
              "      <th>97</th>\n",
              "      <td>20709</td>\n",
              "      <td>Black Horus</td>\n",
              "      <td>978</td>\n",
              "      <td>73</td>\n",
              "      <td>2</td>\n",
              "      <td>96</td>\n",
              "    </tr>\n",
              "  </tbody>\n",
              "</table>\n",
              "</div>"
            ],
            "text/plain": [
              "    OwnerUserId display_name  reputation  up_votes  down_votes  views\n",
              "0            26        Shawn       11820       565          67   3547\n",
              "27         1109         Theo      116072       457         136   6905\n",
              "85       364174        stats         325        25           1     60\n",
              "87           61      Bernard       22779      1321         219   1731\n",
              "97        20709  Black Horus         978        73           2     96"
            ]
          },
          "metadata": {
            "tags": []
          },
          "execution_count": 86
        }
      ]
    },
    {
      "cell_type": "code",
      "metadata": {
        "colab": {
          "base_uri": "https://localhost:8080/",
          "height": 195
        },
        "id": "AgsBY4FycDkh",
        "outputId": "d9fad609-246f-4ee8-b4c4-cf11366e4672"
      },
      "source": [
        "ansdf.head()"
      ],
      "execution_count": null,
      "outputs": [
        {
          "output_type": "execute_result",
          "data": {
            "text/html": [
              "<div>\n",
              "<style scoped>\n",
              "    .dataframe tbody tr th:only-of-type {\n",
              "        vertical-align: middle;\n",
              "    }\n",
              "\n",
              "    .dataframe tbody tr th {\n",
              "        vertical-align: top;\n",
              "    }\n",
              "\n",
              "    .dataframe thead th {\n",
              "        text-align: right;\n",
              "    }\n",
              "</style>\n",
              "<table border=\"1\" class=\"dataframe\">\n",
              "  <thead>\n",
              "    <tr style=\"text-align: right;\">\n",
              "      <th></th>\n",
              "      <th>OwnerUserId</th>\n",
              "      <th>AnswerDate</th>\n",
              "      <th>QuesId</th>\n",
              "      <th>AnswerScore</th>\n",
              "      <th>Answer</th>\n",
              "    </tr>\n",
              "  </thead>\n",
              "  <tbody>\n",
              "    <tr>\n",
              "      <th>0</th>\n",
              "      <td>61</td>\n",
              "      <td>2008-08-01 14:45:37+00:00</td>\n",
              "      <td>90</td>\n",
              "      <td>13</td>\n",
              "      <td>&lt;p&gt;&lt;a href=\"http://svnbook.red-bean.com/\"&gt;Vers...</td>\n",
              "    </tr>\n",
              "    <tr>\n",
              "      <th>1</th>\n",
              "      <td>26</td>\n",
              "      <td>2008-08-01 16:09:47+00:00</td>\n",
              "      <td>80</td>\n",
              "      <td>12</td>\n",
              "      <td>&lt;p&gt;I wound up using this. It is a kind of a ha...</td>\n",
              "    </tr>\n",
              "    <tr>\n",
              "      <th>2</th>\n",
              "      <td>50</td>\n",
              "      <td>2008-08-01 19:36:46+00:00</td>\n",
              "      <td>180</td>\n",
              "      <td>1</td>\n",
              "      <td>&lt;p&gt;I've read somewhere the human eye can't dis...</td>\n",
              "    </tr>\n",
              "    <tr>\n",
              "      <th>3</th>\n",
              "      <td>91</td>\n",
              "      <td>2008-08-01 23:49:57+00:00</td>\n",
              "      <td>260</td>\n",
              "      <td>4</td>\n",
              "      <td>&lt;p&gt;Yes, I thought about that, but I soon figur...</td>\n",
              "    </tr>\n",
              "    <tr>\n",
              "      <th>4</th>\n",
              "      <td>49</td>\n",
              "      <td>2008-08-02 01:49:46+00:00</td>\n",
              "      <td>260</td>\n",
              "      <td>28</td>\n",
              "      <td>&lt;p&gt;&lt;a href=\"http://www.codeproject.com/Article...</td>\n",
              "    </tr>\n",
              "  </tbody>\n",
              "</table>\n",
              "</div>"
            ],
            "text/plain": [
              "   OwnerUserId  ...                                             Answer\n",
              "0           61  ...  <p><a href=\"http://svnbook.red-bean.com/\">Vers...\n",
              "1           26  ...  <p>I wound up using this. It is a kind of a ha...\n",
              "2           50  ...  <p>I've read somewhere the human eye can't dis...\n",
              "3           91  ...  <p>Yes, I thought about that, but I soon figur...\n",
              "4           49  ...  <p><a href=\"http://www.codeproject.com/Article...\n",
              "\n",
              "[5 rows x 5 columns]"
            ]
          },
          "metadata": {
            "tags": []
          },
          "execution_count": 87
        }
      ]
    },
    {
      "cell_type": "code",
      "metadata": {
        "colab": {
          "base_uri": "https://localhost:8080/",
          "height": 195
        },
        "id": "eRHBpFgpshWl",
        "outputId": "2d5f952d-5661-4a63-aae7-486b1a9b92df"
      },
      "source": [
        "quesdf.head()"
      ],
      "execution_count": null,
      "outputs": [
        {
          "output_type": "execute_result",
          "data": {
            "text/html": [
              "<div>\n",
              "<style scoped>\n",
              "    .dataframe tbody tr th:only-of-type {\n",
              "        vertical-align: middle;\n",
              "    }\n",
              "\n",
              "    .dataframe tbody tr th {\n",
              "        vertical-align: top;\n",
              "    }\n",
              "\n",
              "    .dataframe thead th {\n",
              "        text-align: right;\n",
              "    }\n",
              "</style>\n",
              "<table border=\"1\" class=\"dataframe\">\n",
              "  <thead>\n",
              "    <tr style=\"text-align: right;\">\n",
              "      <th></th>\n",
              "      <th>Id</th>\n",
              "      <th>OwnerUserId</th>\n",
              "      <th>CreationDate</th>\n",
              "      <th>Score</th>\n",
              "      <th>Title</th>\n",
              "      <th>Body</th>\n",
              "      <th>bin</th>\n",
              "    </tr>\n",
              "  </thead>\n",
              "  <tbody>\n",
              "    <tr>\n",
              "      <th>0</th>\n",
              "      <td>80</td>\n",
              "      <td>26</td>\n",
              "      <td>2008-08-01 13:57:07+00:00</td>\n",
              "      <td>26</td>\n",
              "      <td>SQLStatement.execute() - multiple queries in o...</td>\n",
              "      <td>&lt;p&gt;I've written a database generation script i...</td>\n",
              "      <td>Good</td>\n",
              "    </tr>\n",
              "    <tr>\n",
              "      <th>1</th>\n",
              "      <td>90</td>\n",
              "      <td>58</td>\n",
              "      <td>2008-08-01 14:41:24+00:00</td>\n",
              "      <td>144</td>\n",
              "      <td>Good branching and merging tutorials for Torto...</td>\n",
              "      <td>&lt;p&gt;Are there any really good tutorials explain...</td>\n",
              "      <td>Good</td>\n",
              "    </tr>\n",
              "    <tr>\n",
              "      <th>2</th>\n",
              "      <td>120</td>\n",
              "      <td>83</td>\n",
              "      <td>2008-08-01 15:50:08+00:00</td>\n",
              "      <td>21</td>\n",
              "      <td>ASP.NET Site Maps</td>\n",
              "      <td>&lt;p&gt;Has anyone got experience creating &lt;strong&gt;...</td>\n",
              "      <td>Average</td>\n",
              "    </tr>\n",
              "    <tr>\n",
              "      <th>3</th>\n",
              "      <td>180</td>\n",
              "      <td>2089740</td>\n",
              "      <td>2008-08-01 18:42:19+00:00</td>\n",
              "      <td>53</td>\n",
              "      <td>Function for creating color wheels</td>\n",
              "      <td>&lt;p&gt;This is something I've pseudo-solved many t...</td>\n",
              "      <td>Good</td>\n",
              "    </tr>\n",
              "    <tr>\n",
              "      <th>4</th>\n",
              "      <td>260</td>\n",
              "      <td>91</td>\n",
              "      <td>2008-08-01 23:22:08+00:00</td>\n",
              "      <td>49</td>\n",
              "      <td>Adding scripting functionality to .NET applica...</td>\n",
              "      <td>&lt;p&gt;I have a little game written in C#. It uses...</td>\n",
              "      <td>Good</td>\n",
              "    </tr>\n",
              "  </tbody>\n",
              "</table>\n",
              "</div>"
            ],
            "text/plain": [
              "    Id  OwnerUserId  ...                                               Body      bin\n",
              "0   80           26  ...  <p>I've written a database generation script i...     Good\n",
              "1   90           58  ...  <p>Are there any really good tutorials explain...     Good\n",
              "2  120           83  ...  <p>Has anyone got experience creating <strong>...  Average\n",
              "3  180      2089740  ...  <p>This is something I've pseudo-solved many t...     Good\n",
              "4  260           91  ...  <p>I have a little game written in C#. It uses...     Good\n",
              "\n",
              "[5 rows x 7 columns]"
            ]
          },
          "metadata": {
            "tags": []
          },
          "execution_count": 88
        }
      ]
    },
    {
      "cell_type": "code",
      "metadata": {
        "colab": {
          "base_uri": "https://localhost:8080/"
        },
        "id": "YPi8RKC1yowq",
        "outputId": "8e770b5c-2c23-4da6-abbb-4eaf18da55de"
      },
      "source": [
        "usersdf.info()"
      ],
      "execution_count": null,
      "outputs": [
        {
          "output_type": "stream",
          "text": [
            "<class 'pandas.core.frame.DataFrame'>\n",
            "Int64Index: 465460 entries, 0 to 1990479\n",
            "Data columns (total 6 columns):\n",
            " #   Column        Non-Null Count   Dtype \n",
            "---  ------        --------------   ----- \n",
            " 0   OwnerUserId   465460 non-null  int64 \n",
            " 1   display_name  465436 non-null  object\n",
            " 2   reputation    465460 non-null  int64 \n",
            " 3   up_votes      465460 non-null  int64 \n",
            " 4   down_votes    465460 non-null  int64 \n",
            " 5   views         465460 non-null  int64 \n",
            "dtypes: int64(5), object(1)\n",
            "memory usage: 24.9+ MB\n"
          ],
          "name": "stdout"
        }
      ]
    },
    {
      "cell_type": "code",
      "metadata": {
        "colab": {
          "base_uri": "https://localhost:8080/"
        },
        "id": "skSNvfq95pr4",
        "outputId": "03b78f44-dd48-4503-ad4e-bff053bfbe57"
      },
      "source": [
        "ansdf.info()"
      ],
      "execution_count": null,
      "outputs": [
        {
          "output_type": "stream",
          "text": [
            "<class 'pandas.core.frame.DataFrame'>\n",
            "Int64Index: 2001316 entries, 0 to 2014515\n",
            "Data columns (total 5 columns):\n",
            " #   Column       Dtype              \n",
            "---  ------       -----              \n",
            " 0   OwnerUserId  int32              \n",
            " 1   AnswerDate   datetime64[ns, UTC]\n",
            " 2   QuesId       int64              \n",
            " 3   AnswerScore  int64              \n",
            " 4   Answer       object             \n",
            "dtypes: datetime64[ns, UTC](1), int32(1), int64(2), object(1)\n",
            "memory usage: 84.0+ MB\n"
          ],
          "name": "stdout"
        }
      ]
    },
    {
      "cell_type": "code",
      "metadata": {
        "colab": {
          "base_uri": "https://localhost:8080/"
        },
        "id": "wV7oeg4yScuc",
        "outputId": "86c4751f-a7b3-4b3d-cdc1-1ecf3603c928"
      },
      "source": [
        "quesdf.info()"
      ],
      "execution_count": null,
      "outputs": [
        {
          "output_type": "stream",
          "text": [
            "<class 'pandas.core.frame.DataFrame'>\n",
            "Int64Index: 1249762 entries, 0 to 1264215\n",
            "Data columns (total 7 columns):\n",
            " #   Column        Non-Null Count    Dtype              \n",
            "---  ------        --------------    -----              \n",
            " 0   Id            1249762 non-null  int64              \n",
            " 1   OwnerUserId   1249762 non-null  int32              \n",
            " 2   CreationDate  1249762 non-null  datetime64[ns, UTC]\n",
            " 3   Score         1249762 non-null  int64              \n",
            " 4   Title         1249762 non-null  object             \n",
            " 5   Body          1249762 non-null  object             \n",
            " 6   bin           1249761 non-null  category           \n",
            "dtypes: category(1), datetime64[ns, UTC](1), int32(1), int64(2), object(2)\n",
            "memory usage: 63.2+ MB\n"
          ],
          "name": "stdout"
        }
      ]
    },
    {
      "cell_type": "markdown",
      "metadata": {
        "id": "cw-SQ4kb3aAR"
      },
      "source": [
        "## Most popular Data Science tag"
      ]
    },
    {
      "cell_type": "code",
      "metadata": {
        "colab": {
          "base_uri": "https://localhost:8080/"
        },
        "id": "1IhvXzkiSiRf",
        "outputId": "6c326b4f-672e-4241-d84a-ccbc9fbfeb4a"
      },
      "source": [
        "DStagsdf.Tag.value_counts()"
      ],
      "execution_count": null,
      "outputs": [
        {
          "output_type": "execute_result",
          "data": {
            "text/plain": [
              "python    64601\n",
              "sql       35782\n",
              "r         15701\n",
              "matlab     6495\n",
              "sas         697\n",
              "Name: Tag, dtype: int64"
            ]
          },
          "metadata": {
            "tags": []
          },
          "execution_count": 92
        }
      ]
    },
    {
      "cell_type": "code",
      "metadata": {
        "colab": {
          "base_uri": "https://localhost:8080/",
          "height": 282
        },
        "id": "C68w31jpbRtp",
        "outputId": "1594cf8d-7048-4759-a453-5e1d81bea5f7"
      },
      "source": [
        "DStagsdf.Tag.value_counts().plot.barh()"
      ],
      "execution_count": null,
      "outputs": [
        {
          "output_type": "execute_result",
          "data": {
            "text/plain": [
              "<matplotlib.axes._subplots.AxesSubplot at 0x7fc042f06550>"
            ]
          },
          "metadata": {
            "tags": []
          },
          "execution_count": 93
        },
        {
          "output_type": "display_data",
          "data": {
            "image/png": "[encoded data removed]",
            "text/plain": [
              "<Figure size 432x288 with 1 Axes>"
            ]
          },
          "metadata": {
            "tags": []
          }
        }
      ]
    },
    {
      "cell_type": "markdown",
      "metadata": {
        "id": "RAz7c2HTiRAB"
      },
      "source": [
        "##Combining question dataframe with tags dataframe"
      ]
    },
    {
      "cell_type": "code",
      "metadata": {
        "colab": {
          "base_uri": "https://localhost:8080/",
          "height": 343
        },
        "id": "4YeFmIZY6Do0",
        "outputId": "513d94c9-6198-4c4b-a7d6-e48d2be53cb0"
      },
      "source": [
        "questag= pd.merge(quesdf, tagsdf, how='outer',on='Id')\n",
        "questag.head(10)"
      ],
      "execution_count": null,
      "outputs": [
        {
          "output_type": "execute_result",
          "data": {
            "text/html": [
              "<div>\n",
              "<style scoped>\n",
              "    .dataframe tbody tr th:only-of-type {\n",
              "        vertical-align: middle;\n",
              "    }\n",
              "\n",
              "    .dataframe tbody tr th {\n",
              "        vertical-align: top;\n",
              "    }\n",
              "\n",
              "    .dataframe thead th {\n",
              "        text-align: right;\n",
              "    }\n",
              "</style>\n",
              "<table border=\"1\" class=\"dataframe\">\n",
              "  <thead>\n",
              "    <tr style=\"text-align: right;\">\n",
              "      <th></th>\n",
              "      <th>Id</th>\n",
              "      <th>OwnerUserId</th>\n",
              "      <th>CreationDate</th>\n",
              "      <th>Score</th>\n",
              "      <th>Title</th>\n",
              "      <th>Body</th>\n",
              "      <th>bin</th>\n",
              "      <th>Tag</th>\n",
              "    </tr>\n",
              "  </thead>\n",
              "  <tbody>\n",
              "    <tr>\n",
              "      <th>0</th>\n",
              "      <td>80</td>\n",
              "      <td>26.0</td>\n",
              "      <td>2008-08-01 13:57:07+00:00</td>\n",
              "      <td>26.0</td>\n",
              "      <td>SQLStatement.execute() - multiple queries in o...</td>\n",
              "      <td>&lt;p&gt;I've written a database generation script i...</td>\n",
              "      <td>Good</td>\n",
              "      <td>flex</td>\n",
              "    </tr>\n",
              "    <tr>\n",
              "      <th>1</th>\n",
              "      <td>80</td>\n",
              "      <td>26.0</td>\n",
              "      <td>2008-08-01 13:57:07+00:00</td>\n",
              "      <td>26.0</td>\n",
              "      <td>SQLStatement.execute() - multiple queries in o...</td>\n",
              "      <td>&lt;p&gt;I've written a database generation script i...</td>\n",
              "      <td>Good</td>\n",
              "      <td>actionscript-3</td>\n",
              "    </tr>\n",
              "    <tr>\n",
              "      <th>2</th>\n",
              "      <td>80</td>\n",
              "      <td>26.0</td>\n",
              "      <td>2008-08-01 13:57:07+00:00</td>\n",
              "      <td>26.0</td>\n",
              "      <td>SQLStatement.execute() - multiple queries in o...</td>\n",
              "      <td>&lt;p&gt;I've written a database generation script i...</td>\n",
              "      <td>Good</td>\n",
              "      <td>air</td>\n",
              "    </tr>\n",
              "    <tr>\n",
              "      <th>3</th>\n",
              "      <td>90</td>\n",
              "      <td>58.0</td>\n",
              "      <td>2008-08-01 14:41:24+00:00</td>\n",
              "      <td>144.0</td>\n",
              "      <td>Good branching and merging tutorials for Torto...</td>\n",
              "      <td>&lt;p&gt;Are there any really good tutorials explain...</td>\n",
              "      <td>Good</td>\n",
              "      <td>svn</td>\n",
              "    </tr>\n",
              "    <tr>\n",
              "      <th>4</th>\n",
              "      <td>90</td>\n",
              "      <td>58.0</td>\n",
              "      <td>2008-08-01 14:41:24+00:00</td>\n",
              "      <td>144.0</td>\n",
              "      <td>Good branching and merging tutorials for Torto...</td>\n",
              "      <td>&lt;p&gt;Are there any really good tutorials explain...</td>\n",
              "      <td>Good</td>\n",
              "      <td>tortoisesvn</td>\n",
              "    </tr>\n",
              "    <tr>\n",
              "      <th>5</th>\n",
              "      <td>90</td>\n",
              "      <td>58.0</td>\n",
              "      <td>2008-08-01 14:41:24+00:00</td>\n",
              "      <td>144.0</td>\n",
              "      <td>Good branching and merging tutorials for Torto...</td>\n",
              "      <td>&lt;p&gt;Are there any really good tutorials explain...</td>\n",
              "      <td>Good</td>\n",
              "      <td>branch</td>\n",
              "    </tr>\n",
              "    <tr>\n",
              "      <th>6</th>\n",
              "      <td>90</td>\n",
              "      <td>58.0</td>\n",
              "      <td>2008-08-01 14:41:24+00:00</td>\n",
              "      <td>144.0</td>\n",
              "      <td>Good branching and merging tutorials for Torto...</td>\n",
              "      <td>&lt;p&gt;Are there any really good tutorials explain...</td>\n",
              "      <td>Good</td>\n",
              "      <td>branching-and-merging</td>\n",
              "    </tr>\n",
              "    <tr>\n",
              "      <th>7</th>\n",
              "      <td>120</td>\n",
              "      <td>83.0</td>\n",
              "      <td>2008-08-01 15:50:08+00:00</td>\n",
              "      <td>21.0</td>\n",
              "      <td>ASP.NET Site Maps</td>\n",
              "      <td>&lt;p&gt;Has anyone got experience creating &lt;strong&gt;...</td>\n",
              "      <td>Average</td>\n",
              "      <td>sql</td>\n",
              "    </tr>\n",
              "    <tr>\n",
              "      <th>8</th>\n",
              "      <td>120</td>\n",
              "      <td>83.0</td>\n",
              "      <td>2008-08-01 15:50:08+00:00</td>\n",
              "      <td>21.0</td>\n",
              "      <td>ASP.NET Site Maps</td>\n",
              "      <td>&lt;p&gt;Has anyone got experience creating &lt;strong&gt;...</td>\n",
              "      <td>Average</td>\n",
              "      <td>asp.net</td>\n",
              "    </tr>\n",
              "    <tr>\n",
              "      <th>9</th>\n",
              "      <td>120</td>\n",
              "      <td>83.0</td>\n",
              "      <td>2008-08-01 15:50:08+00:00</td>\n",
              "      <td>21.0</td>\n",
              "      <td>ASP.NET Site Maps</td>\n",
              "      <td>&lt;p&gt;Has anyone got experience creating &lt;strong&gt;...</td>\n",
              "      <td>Average</td>\n",
              "      <td>sitemap</td>\n",
              "    </tr>\n",
              "  </tbody>\n",
              "</table>\n",
              "</div>"
            ],
            "text/plain": [
              "    Id  OwnerUserId  ...      bin                    Tag\n",
              "0   80         26.0  ...     Good                   flex\n",
              "1   80         26.0  ...     Good         actionscript-3\n",
              "2   80         26.0  ...     Good                    air\n",
              "3   90         58.0  ...     Good                    svn\n",
              "4   90         58.0  ...     Good            tortoisesvn\n",
              "5   90         58.0  ...     Good                 branch\n",
              "6   90         58.0  ...     Good  branching-and-merging\n",
              "7  120         83.0  ...  Average                    sql\n",
              "8  120         83.0  ...  Average                asp.net\n",
              "9  120         83.0  ...  Average                sitemap\n",
              "\n",
              "[10 rows x 8 columns]"
            ]
          },
          "metadata": {
            "tags": []
          },
          "execution_count": 133
        }
      ]
    },
    {
      "cell_type": "code",
      "metadata": {
        "id": "sbQ80B1qnGBp"
      },
      "source": [
        "quesdf.shape"
      ],
      "execution_count": null,
      "outputs": []
    },
    {
      "cell_type": "code",
      "metadata": {
        "colab": {
          "base_uri": "https://localhost:8080/"
        },
        "id": "3XSj5UdfEGE-",
        "outputId": "a0753440-3623-41d7-836d-8a8957499e19"
      },
      "source": [
        "quesdf.info()"
      ],
      "execution_count": null,
      "outputs": [
        {
          "output_type": "stream",
          "text": [
            "<class 'pandas.core.frame.DataFrame'>\n",
            "Int64Index: 1249762 entries, 0 to 1264215\n",
            "Data columns (total 7 columns):\n",
            " #   Column        Non-Null Count    Dtype              \n",
            "---  ------        --------------    -----              \n",
            " 0   Id            1249762 non-null  int64              \n",
            " 1   OwnerUserId   1249762 non-null  int32              \n",
            " 2   CreationDate  1249762 non-null  datetime64[ns, UTC]\n",
            " 3   Score         1249762 non-null  int64              \n",
            " 4   Title         1249762 non-null  object             \n",
            " 5   Body          1249762 non-null  object             \n",
            " 6   bin           1249761 non-null  category           \n",
            "dtypes: category(1), datetime64[ns, UTC](1), int32(1), int64(2), object(2)\n",
            "memory usage: 63.2+ MB\n"
          ],
          "name": "stdout"
        }
      ]
    },
    {
      "cell_type": "code",
      "metadata": {
        "colab": {
          "base_uri": "https://localhost:8080/"
        },
        "id": "Fvnt3nMTETRn",
        "outputId": "98761e83-2b44-4e85-ffd4-0373e9536100"
      },
      "source": [
        "tagsdf.info()"
      ],
      "execution_count": null,
      "outputs": [
        {
          "output_type": "stream",
          "text": [
            "<class 'pandas.core.frame.DataFrame'>\n",
            "RangeIndex: 3750994 entries, 0 to 3750993\n",
            "Data columns (total 2 columns):\n",
            " #   Column  Dtype \n",
            "---  ------  ----- \n",
            " 0   Id      int64 \n",
            " 1   Tag     object\n",
            "dtypes: int64(1), object(1)\n",
            "memory usage: 57.2+ MB\n"
          ],
          "name": "stdout"
        }
      ]
    },
    {
      "cell_type": "code",
      "metadata": {
        "colab": {
          "base_uri": "https://localhost:8080/"
        },
        "id": "LSyE0fBl7nQ1",
        "outputId": "36ac0f6e-91e8-4da9-e7ca-d4d888723d2e"
      },
      "source": [
        "questag.shape"
      ],
      "execution_count": null,
      "outputs": [
        {
          "output_type": "execute_result",
          "data": {
            "text/plain": [
              "(3750994, 8)"
            ]
          },
          "metadata": {
            "tags": []
          },
          "execution_count": 135
        }
      ]
    },
    {
      "cell_type": "markdown",
      "metadata": {
        "id": "7tcjlNcO3uZz"
      },
      "source": [
        "### Most popular tags"
      ]
    },
    {
      "cell_type": "code",
      "metadata": {
        "colab": {
          "base_uri": "https://localhost:8080/"
        },
        "id": "ZHCP0Y9aaEep",
        "outputId": "2216f9bb-a155-4cdd-d934-82683e7a3e2e"
      },
      "source": [
        "tagsdf.Tag.value_counts()"
      ],
      "execution_count": null,
      "outputs": [
        {
          "output_type": "execute_result",
          "data": {
            "text/plain": [
              "javascript          124155\n",
              "java                115212\n",
              "c#                  101186\n",
              "php                  98808\n",
              "android              90659\n",
              "                     ...  \n",
              "bootstrap-notify         1\n",
              "netgroup                 1\n",
              "tool-rec                 1\n",
              "navigateuri              1\n",
              "product-key              1\n",
              "Name: Tag, Length: 37034, dtype: int64"
            ]
          },
          "metadata": {
            "tags": []
          },
          "execution_count": 136
        }
      ]
    },
    {
      "cell_type": "code",
      "metadata": {
        "colab": {
          "base_uri": "https://localhost:8080/"
        },
        "id": "oAOAzfheaxxv",
        "outputId": "081d6d05-5980-4960-c0c7-335a2d348f6e"
      },
      "source": [
        "tagsdf.Tag.nunique()"
      ],
      "execution_count": null,
      "outputs": [
        {
          "output_type": "execute_result",
          "data": {
            "text/plain": [
              "37034"
            ]
          },
          "metadata": {
            "tags": []
          },
          "execution_count": 137
        }
      ]
    },
    {
      "cell_type": "code",
      "metadata": {
        "colab": {
          "base_uri": "https://localhost:8080/"
        },
        "id": "h-b3_JuI_O72",
        "outputId": "06f018dc-8401-4e03-f27f-cc7b7f361539"
      },
      "source": [
        "tagsdf.Tag.value_counts()"
      ],
      "execution_count": null,
      "outputs": [
        {
          "output_type": "execute_result",
          "data": {
            "text/plain": [
              "javascript          124155\n",
              "java                115212\n",
              "c#                  101186\n",
              "php                  98808\n",
              "android              90659\n",
              "                     ...  \n",
              "bootstrap-notify         1\n",
              "netgroup                 1\n",
              "tool-rec                 1\n",
              "navigateuri              1\n",
              "product-key              1\n",
              "Name: Tag, Length: 37034, dtype: int64"
            ]
          },
          "metadata": {
            "tags": []
          },
          "execution_count": 138
        }
      ]
    },
    {
      "cell_type": "code",
      "metadata": {
        "colab": {
          "base_uri": "https://localhost:8080/",
          "height": 282
        },
        "id": "WWbnjLnq_O72",
        "outputId": "a2f53a08-bff7-4277-a210-258a338738c8"
      },
      "source": [
        "tagsdf.Tag.value_counts().plot.hist()"
      ],
      "execution_count": null,
      "outputs": [
        {
          "output_type": "execute_result",
          "data": {
            "text/plain": [
              "<matplotlib.axes._subplots.AxesSubplot at 0x7fc040fba5d0>"
            ]
          },
          "metadata": {
            "tags": []
          },
          "execution_count": 139
        },
        {
          "output_type": "display_data",
          "data": {
            "image/png": "[encoded data removed]",
            "text/plain": [
              "<Figure size 432x288 with 1 Axes>"
            ]
          },
          "metadata": {
            "tags": []
          }
        }
      ]
    },
    {
      "cell_type": "code",
      "metadata": {
        "colab": {
          "base_uri": "https://localhost:8080/"
        },
        "id": "JBDNjeY14cU5",
        "outputId": "593d6a86-ce15-4d36-dbcc-5b5bbd73d21e"
      },
      "source": [
        "quesdf.Id.count()"
      ],
      "execution_count": null,
      "outputs": [
        {
          "output_type": "execute_result",
          "data": {
            "text/plain": [
              "1249762"
            ]
          },
          "metadata": {
            "tags": []
          },
          "execution_count": 140
        }
      ]
    },
    {
      "cell_type": "code",
      "metadata": {
        "colab": {
          "base_uri": "https://localhost:8080/"
        },
        "id": "VMiOf9E85r_C",
        "outputId": "2b04ba55-1a0a-4b9c-f76e-26a66eea3c66"
      },
      "source": [
        "ansdf.QuesId.nunique()"
      ],
      "execution_count": null,
      "outputs": [
        {
          "output_type": "execute_result",
          "data": {
            "text/plain": [
              "1099938"
            ]
          },
          "metadata": {
            "tags": []
          },
          "execution_count": 141
        }
      ]
    },
    {
      "cell_type": "code",
      "metadata": {
        "colab": {
          "base_uri": "https://localhost:8080/"
        },
        "id": "RwNh0nqG9CcK",
        "outputId": "49e884e7-ddc4-48b3-d2eb-80ee288c6523"
      },
      "source": [
        "quesdf.shape"
      ],
      "execution_count": null,
      "outputs": [
        {
          "output_type": "execute_result",
          "data": {
            "text/plain": [
              "(1249762, 7)"
            ]
          },
          "metadata": {
            "tags": []
          },
          "execution_count": 142
        }
      ]
    },
    {
      "cell_type": "code",
      "metadata": {
        "colab": {
          "base_uri": "https://localhost:8080/"
        },
        "id": "W0J707n_9Jpw",
        "outputId": "b2437186-e0cd-47e5-e7dc-8b77e05ab715"
      },
      "source": [
        "ansdf.shape"
      ],
      "execution_count": null,
      "outputs": [
        {
          "output_type": "execute_result",
          "data": {
            "text/plain": [
              "(2001316, 5)"
            ]
          },
          "metadata": {
            "tags": []
          },
          "execution_count": 143
        }
      ]
    },
    {
      "cell_type": "markdown",
      "metadata": {
        "id": "oyUz2ptzg4t6"
      },
      "source": [
        "## Question with highest score"
      ]
    },
    {
      "cell_type": "code",
      "metadata": {
        "colab": {
          "base_uri": "https://localhost:8080/",
          "height": 136
        },
        "id": "X9QowJ3UgWvD",
        "outputId": "543ec92b-a985-4e70-9aa3-bf5313ca64db"
      },
      "source": [
        "questag[questag.Score==questag.Score.max()]"
      ],
      "execution_count": null,
      "outputs": [
        {
          "output_type": "execute_result",
          "data": {
            "text/html": [
              "<div>\n",
              "<style scoped>\n",
              "    .dataframe tbody tr th:only-of-type {\n",
              "        vertical-align: middle;\n",
              "    }\n",
              "\n",
              "    .dataframe tbody tr th {\n",
              "        vertical-align: top;\n",
              "    }\n",
              "\n",
              "    .dataframe thead th {\n",
              "        text-align: right;\n",
              "    }\n",
              "</style>\n",
              "<table border=\"1\" class=\"dataframe\">\n",
              "  <thead>\n",
              "    <tr style=\"text-align: right;\">\n",
              "      <th></th>\n",
              "      <th>Id</th>\n",
              "      <th>OwnerUserId</th>\n",
              "      <th>CreationDate</th>\n",
              "      <th>Score</th>\n",
              "      <th>Title</th>\n",
              "      <th>Body</th>\n",
              "      <th>bin</th>\n",
              "      <th>Tag</th>\n",
              "    </tr>\n",
              "  </thead>\n",
              "  <tbody>\n",
              "    <tr>\n",
              "      <th>13109</th>\n",
              "      <td>348170</td>\n",
              "      <td>14069.0</td>\n",
              "      <td>2008-12-07 21:57:46+00:00</td>\n",
              "      <td>5190.0</td>\n",
              "      <td>How to undo 'git add' before commit?</td>\n",
              "      <td>&lt;p&gt;I mistakenly added files using the command:...</td>\n",
              "      <td>Good</td>\n",
              "      <td>git</td>\n",
              "    </tr>\n",
              "    <tr>\n",
              "      <th>13110</th>\n",
              "      <td>348170</td>\n",
              "      <td>14069.0</td>\n",
              "      <td>2008-12-07 21:57:46+00:00</td>\n",
              "      <td>5190.0</td>\n",
              "      <td>How to undo 'git add' before commit?</td>\n",
              "      <td>&lt;p&gt;I mistakenly added files using the command:...</td>\n",
              "      <td>Good</td>\n",
              "      <td>version-control</td>\n",
              "    </tr>\n",
              "    <tr>\n",
              "      <th>13111</th>\n",
              "      <td>348170</td>\n",
              "      <td>14069.0</td>\n",
              "      <td>2008-12-07 21:57:46+00:00</td>\n",
              "      <td>5190.0</td>\n",
              "      <td>How to undo 'git add' before commit?</td>\n",
              "      <td>&lt;p&gt;I mistakenly added files using the command:...</td>\n",
              "      <td>Good</td>\n",
              "      <td>git-stage</td>\n",
              "    </tr>\n",
              "  </tbody>\n",
              "</table>\n",
              "</div>"
            ],
            "text/plain": [
              "           Id  OwnerUserId  ...   bin              Tag\n",
              "13109  348170      14069.0  ...  Good              git\n",
              "13110  348170      14069.0  ...  Good  version-control\n",
              "13111  348170      14069.0  ...  Good        git-stage\n",
              "\n",
              "[3 rows x 8 columns]"
            ]
          },
          "metadata": {
            "tags": []
          },
          "execution_count": 146
        }
      ]
    },
    {
      "cell_type": "code",
      "metadata": {
        "colab": {
          "base_uri": "https://localhost:8080/"
        },
        "id": "iu7kQN6qFmzU",
        "outputId": "371c6dfb-2ae4-4ab7-e2f5-a0c06364cd18"
      },
      "source": [
        "top_ques = list(zip(questag['Id'],questag['Score'],questag['Title']))\n",
        "top_ques.sort(key=lambda x: x[1], reverse= True)\n",
        "for i,s,t in top_ques[:5]:\n",
        "  print(\"Question id:\", i) \n",
        "  print(\"Score :\", s)\n",
        "  print(\"Title :\", t, '\\n')"
      ],
      "execution_count": null,
      "outputs": [
        {
          "output_type": "stream",
          "text": [
            "Question id: 348170\n",
            "Score : 5190.0\n",
            "Title : How to undo 'git add' before commit? \n",
            "\n",
            "Question id: 348170\n",
            "Score : 5190.0\n",
            "Title : How to undo 'git add' before commit? \n",
            "\n",
            "Question id: 348170\n",
            "Score : 5190.0\n",
            "Title : How to undo 'git add' before commit? \n",
            "\n",
            "Question id: 40480\n",
            "Score : 3613.0\n",
            "Title : Is Java \"pass-by-reference\" or \"pass-by-value\"? \n",
            "\n",
            "Question id: 40480\n",
            "Score : 3613.0\n",
            "Title : Is Java \"pass-by-reference\" or \"pass-by-value\"? \n",
            "\n"
          ],
          "name": "stdout"
        }
      ]
    },
    {
      "cell_type": "code",
      "metadata": {
        "colab": {
          "base_uri": "https://localhost:8080/"
        },
        "id": "t92iUSf8gmBm",
        "outputId": "15b83766-84b2-49dd-dfd7-d9cafc9dbdeb"
      },
      "source": [
        "ansdf.info()"
      ],
      "execution_count": null,
      "outputs": [
        {
          "output_type": "stream",
          "text": [
            "<class 'pandas.core.frame.DataFrame'>\n",
            "Int64Index: 2001316 entries, 0 to 2014515\n",
            "Data columns (total 5 columns):\n",
            " #   Column       Dtype              \n",
            "---  ------       -----              \n",
            " 0   OwnerUserId  int32              \n",
            " 1   AnswerDate   datetime64[ns, UTC]\n",
            " 2   QuesId       int64              \n",
            " 3   AnswerScore  int64              \n",
            " 4   Answer       object             \n",
            "dtypes: datetime64[ns, UTC](1), int32(1), int64(2), object(1)\n",
            "memory usage: 84.0+ MB\n"
          ],
          "name": "stdout"
        }
      ]
    },
    {
      "cell_type": "code",
      "metadata": {
        "colab": {
          "base_uri": "https://localhost:8080/"
        },
        "id": "JF-2DQ3rimdn",
        "outputId": "d672b6ae-e1f0-42e3-eea5-d9f37930ba76"
      },
      "source": [
        "ansdf.shape"
      ],
      "execution_count": null,
      "outputs": [
        {
          "output_type": "execute_result",
          "data": {
            "text/plain": [
              "(2001316, 5)"
            ]
          },
          "metadata": {
            "tags": []
          },
          "execution_count": 149
        }
      ]
    },
    {
      "cell_type": "markdown",
      "metadata": {
        "id": "tJUK_Hc_oAwa"
      },
      "source": [
        "## Combining Answers dataframe with users dataframe"
      ]
    },
    {
      "cell_type": "code",
      "metadata": {
        "colab": {
          "base_uri": "https://localhost:8080/",
          "height": 343
        },
        "id": "ptvkOkkzoE9a",
        "outputId": "d9afd586-33d6-496b-a4a1-86b5fcf170a3"
      },
      "source": [
        "userans= pd.merge(ansdf,usersdf,how='inner',on='OwnerUserId')\n",
        "userans.head(10)"
      ],
      "execution_count": null,
      "outputs": [
        {
          "output_type": "execute_result",
          "data": {
            "text/html": [
              "<div>\n",
              "<style scoped>\n",
              "    .dataframe tbody tr th:only-of-type {\n",
              "        vertical-align: middle;\n",
              "    }\n",
              "\n",
              "    .dataframe tbody tr th {\n",
              "        vertical-align: top;\n",
              "    }\n",
              "\n",
              "    .dataframe thead th {\n",
              "        text-align: right;\n",
              "    }\n",
              "</style>\n",
              "<table border=\"1\" class=\"dataframe\">\n",
              "  <thead>\n",
              "    <tr style=\"text-align: right;\">\n",
              "      <th></th>\n",
              "      <th>OwnerUserId</th>\n",
              "      <th>AnswerDate</th>\n",
              "      <th>QuesId</th>\n",
              "      <th>AnswerScore</th>\n",
              "      <th>Answer</th>\n",
              "      <th>display_name</th>\n",
              "      <th>reputation</th>\n",
              "      <th>up_votes</th>\n",
              "      <th>down_votes</th>\n",
              "      <th>views</th>\n",
              "    </tr>\n",
              "  </thead>\n",
              "  <tbody>\n",
              "    <tr>\n",
              "      <th>0</th>\n",
              "      <td>61</td>\n",
              "      <td>2008-08-01 14:45:37+00:00</td>\n",
              "      <td>90</td>\n",
              "      <td>13</td>\n",
              "      <td>&lt;p&gt;&lt;a href=\"http://svnbook.red-bean.com/\"&gt;Vers...</td>\n",
              "      <td>Bernard</td>\n",
              "      <td>22779</td>\n",
              "      <td>1321</td>\n",
              "      <td>219</td>\n",
              "      <td>1731</td>\n",
              "    </tr>\n",
              "    <tr>\n",
              "      <th>1</th>\n",
              "      <td>61</td>\n",
              "      <td>2008-08-29 01:30:38+00:00</td>\n",
              "      <td>24270</td>\n",
              "      <td>1</td>\n",
              "      <td>&lt;p&gt;I know I find OOP useful pretty much solely...</td>\n",
              "      <td>Bernard</td>\n",
              "      <td>22779</td>\n",
              "      <td>1321</td>\n",
              "      <td>219</td>\n",
              "      <td>1731</td>\n",
              "    </tr>\n",
              "    <tr>\n",
              "      <th>2</th>\n",
              "      <td>61</td>\n",
              "      <td>2008-09-07 02:32:02+00:00</td>\n",
              "      <td>47980</td>\n",
              "      <td>7</td>\n",
              "      <td>&lt;p&gt;I sure as hell can't. Small errors explode ...</td>\n",
              "      <td>Bernard</td>\n",
              "      <td>22779</td>\n",
              "      <td>1321</td>\n",
              "      <td>219</td>\n",
              "      <td>1731</td>\n",
              "    </tr>\n",
              "    <tr>\n",
              "      <th>3</th>\n",
              "      <td>61</td>\n",
              "      <td>2008-09-09 08:35:20+00:00</td>\n",
              "      <td>51390</td>\n",
              "      <td>2</td>\n",
              "      <td>&lt;p&gt;I wonder how widespread the JVM actually is...</td>\n",
              "      <td>Bernard</td>\n",
              "      <td>22779</td>\n",
              "      <td>1321</td>\n",
              "      <td>219</td>\n",
              "      <td>1731</td>\n",
              "    </tr>\n",
              "    <tr>\n",
              "      <th>4</th>\n",
              "      <td>61</td>\n",
              "      <td>2008-09-26 22:57:06+00:00</td>\n",
              "      <td>142340</td>\n",
              "      <td>0</td>\n",
              "      <td>&lt;p&gt;I just have a number. First release is &lt;cod...</td>\n",
              "      <td>Bernard</td>\n",
              "      <td>22779</td>\n",
              "      <td>1321</td>\n",
              "      <td>219</td>\n",
              "      <td>1731</td>\n",
              "    </tr>\n",
              "    <tr>\n",
              "      <th>5</th>\n",
              "      <td>61</td>\n",
              "      <td>2009-02-08 23:41:04+00:00</td>\n",
              "      <td>526660</td>\n",
              "      <td>3</td>\n",
              "      <td>&lt;p&gt;You need a main function:&lt;/p&gt;\\n\\n&lt;pre&gt;&lt;code...</td>\n",
              "      <td>Bernard</td>\n",
              "      <td>22779</td>\n",
              "      <td>1321</td>\n",
              "      <td>219</td>\n",
              "      <td>1731</td>\n",
              "    </tr>\n",
              "    <tr>\n",
              "      <th>6</th>\n",
              "      <td>61</td>\n",
              "      <td>2009-11-23 10:24:47+00:00</td>\n",
              "      <td>1581560</td>\n",
              "      <td>0</td>\n",
              "      <td>&lt;p&gt;The answer, it seems, is to use &lt;a href=\"ht...</td>\n",
              "      <td>Bernard</td>\n",
              "      <td>22779</td>\n",
              "      <td>1321</td>\n",
              "      <td>219</td>\n",
              "      <td>1731</td>\n",
              "    </tr>\n",
              "    <tr>\n",
              "      <th>7</th>\n",
              "      <td>61</td>\n",
              "      <td>2010-03-25 23:53:31+00:00</td>\n",
              "      <td>2520220</td>\n",
              "      <td>8</td>\n",
              "      <td>&lt;p&gt;Yes, the function must be declared as &lt;code...</td>\n",
              "      <td>Bernard</td>\n",
              "      <td>22779</td>\n",
              "      <td>1321</td>\n",
              "      <td>219</td>\n",
              "      <td>1731</td>\n",
              "    </tr>\n",
              "    <tr>\n",
              "      <th>8</th>\n",
              "      <td>61</td>\n",
              "      <td>2011-06-05 11:28:08+00:00</td>\n",
              "      <td>6242540</td>\n",
              "      <td>8</td>\n",
              "      <td>&lt;p&gt;If you merely want a pointer, the correct w...</td>\n",
              "      <td>Bernard</td>\n",
              "      <td>22779</td>\n",
              "      <td>1321</td>\n",
              "      <td>219</td>\n",
              "      <td>1731</td>\n",
              "    </tr>\n",
              "    <tr>\n",
              "      <th>9</th>\n",
              "      <td>61</td>\n",
              "      <td>2011-07-02 12:03:26+00:00</td>\n",
              "      <td>6553950</td>\n",
              "      <td>7</td>\n",
              "      <td>&lt;p&gt;I asked around on IRC, and as far as we can...</td>\n",
              "      <td>Bernard</td>\n",
              "      <td>22779</td>\n",
              "      <td>1321</td>\n",
              "      <td>219</td>\n",
              "      <td>1731</td>\n",
              "    </tr>\n",
              "  </tbody>\n",
              "</table>\n",
              "</div>"
            ],
            "text/plain": [
              "   OwnerUserId                AnswerDate   QuesId  ...  up_votes down_votes views\n",
              "0           61 2008-08-01 14:45:37+00:00       90  ...      1321        219  1731\n",
              "1           61 2008-08-29 01:30:38+00:00    24270  ...      1321        219  1731\n",
              "2           61 2008-09-07 02:32:02+00:00    47980  ...      1321        219  1731\n",
              "3           61 2008-09-09 08:35:20+00:00    51390  ...      1321        219  1731\n",
              "4           61 2008-09-26 22:57:06+00:00   142340  ...      1321        219  1731\n",
              "5           61 2009-02-08 23:41:04+00:00   526660  ...      1321        219  1731\n",
              "6           61 2009-11-23 10:24:47+00:00  1581560  ...      1321        219  1731\n",
              "7           61 2010-03-25 23:53:31+00:00  2520220  ...      1321        219  1731\n",
              "8           61 2011-06-05 11:28:08+00:00  6242540  ...      1321        219  1731\n",
              "9           61 2011-07-02 12:03:26+00:00  6553950  ...      1321        219  1731\n",
              "\n",
              "[10 rows x 10 columns]"
            ]
          },
          "metadata": {
            "tags": []
          },
          "execution_count": 150
        }
      ]
    },
    {
      "cell_type": "code",
      "metadata": {
        "colab": {
          "base_uri": "https://localhost:8080/"
        },
        "id": "a9CsDSIioSP3",
        "outputId": "c9a9e8b1-ba9e-4eb3-deff-da33ace80131"
      },
      "source": [
        "userans.shape"
      ],
      "execution_count": null,
      "outputs": [
        {
          "output_type": "execute_result",
          "data": {
            "text/plain": [
              "(1990480, 10)"
            ]
          },
          "metadata": {
            "tags": []
          },
          "execution_count": 151
        }
      ]
    },
    {
      "cell_type": "code",
      "metadata": {
        "colab": {
          "base_uri": "https://localhost:8080/"
        },
        "id": "L3u5iUzkoVcj",
        "outputId": "c0a850d2-79a5-4a82-fb6e-782c602756c2"
      },
      "source": [
        "usersdf.shape"
      ],
      "execution_count": null,
      "outputs": [
        {
          "output_type": "execute_result",
          "data": {
            "text/plain": [
              "(465460, 6)"
            ]
          },
          "metadata": {
            "tags": []
          },
          "execution_count": 152
        }
      ]
    },
    {
      "cell_type": "code",
      "metadata": {
        "colab": {
          "base_uri": "https://localhost:8080/"
        },
        "id": "vpfgF1eioYZb",
        "outputId": "fb703e52-949a-45f2-d363-1b5c2ecf90bd"
      },
      "source": [
        "ansdf.shape"
      ],
      "execution_count": null,
      "outputs": [
        {
          "output_type": "execute_result",
          "data": {
            "text/plain": [
              "(2001316, 5)"
            ]
          },
          "metadata": {
            "tags": []
          },
          "execution_count": 153
        }
      ]
    },
    {
      "cell_type": "code",
      "metadata": {
        "collapsed": true,
        "id": "HfDkt4HmrL2P"
      },
      "source": [
        "userans.rename(columns= {'OwnerUserId':'A_OwnerUserId'}, inplace= True)"
      ],
      "execution_count": null,
      "outputs": []
    },
    {
      "cell_type": "code",
      "metadata": {
        "collapsed": true,
        "id": "XIvHkKpUqn7b"
      },
      "source": [
        "userans.drop_duplicates(inplace= True)"
      ],
      "execution_count": null,
      "outputs": []
    },
    {
      "cell_type": "code",
      "metadata": {
        "colab": {
          "base_uri": "https://localhost:8080/",
          "height": 639
        },
        "id": "28AquSFGqtEM",
        "outputId": "536b460b-c3d4-486f-9d12-113c60a0d793"
      },
      "source": [
        "userans.head(20)"
      ],
      "execution_count": null,
      "outputs": [
        {
          "output_type": "execute_result",
          "data": {
            "text/html": [
              "<div>\n",
              "<style scoped>\n",
              "    .dataframe tbody tr th:only-of-type {\n",
              "        vertical-align: middle;\n",
              "    }\n",
              "\n",
              "    .dataframe tbody tr th {\n",
              "        vertical-align: top;\n",
              "    }\n",
              "\n",
              "    .dataframe thead th {\n",
              "        text-align: right;\n",
              "    }\n",
              "</style>\n",
              "<table border=\"1\" class=\"dataframe\">\n",
              "  <thead>\n",
              "    <tr style=\"text-align: right;\">\n",
              "      <th></th>\n",
              "      <th>A_OwnerUserId</th>\n",
              "      <th>AnswerDate</th>\n",
              "      <th>QuesId</th>\n",
              "      <th>AnswerScore</th>\n",
              "      <th>Answer</th>\n",
              "      <th>display_name</th>\n",
              "      <th>reputation</th>\n",
              "      <th>up_votes</th>\n",
              "      <th>down_votes</th>\n",
              "      <th>views</th>\n",
              "    </tr>\n",
              "  </thead>\n",
              "  <tbody>\n",
              "    <tr>\n",
              "      <th>0</th>\n",
              "      <td>61</td>\n",
              "      <td>2008-08-01 14:45:37+00:00</td>\n",
              "      <td>90</td>\n",
              "      <td>13</td>\n",
              "      <td>&lt;p&gt;&lt;a href=\"http://svnbook.red-bean.com/\"&gt;Vers...</td>\n",
              "      <td>Bernard</td>\n",
              "      <td>22779</td>\n",
              "      <td>1321</td>\n",
              "      <td>219</td>\n",
              "      <td>1731</td>\n",
              "    </tr>\n",
              "    <tr>\n",
              "      <th>1</th>\n",
              "      <td>61</td>\n",
              "      <td>2008-08-29 01:30:38+00:00</td>\n",
              "      <td>24270</td>\n",
              "      <td>1</td>\n",
              "      <td>&lt;p&gt;I know I find OOP useful pretty much solely...</td>\n",
              "      <td>Bernard</td>\n",
              "      <td>22779</td>\n",
              "      <td>1321</td>\n",
              "      <td>219</td>\n",
              "      <td>1731</td>\n",
              "    </tr>\n",
              "    <tr>\n",
              "      <th>2</th>\n",
              "      <td>61</td>\n",
              "      <td>2008-09-07 02:32:02+00:00</td>\n",
              "      <td>47980</td>\n",
              "      <td>7</td>\n",
              "      <td>&lt;p&gt;I sure as hell can't. Small errors explode ...</td>\n",
              "      <td>Bernard</td>\n",
              "      <td>22779</td>\n",
              "      <td>1321</td>\n",
              "      <td>219</td>\n",
              "      <td>1731</td>\n",
              "    </tr>\n",
              "    <tr>\n",
              "      <th>3</th>\n",
              "      <td>61</td>\n",
              "      <td>2008-09-09 08:35:20+00:00</td>\n",
              "      <td>51390</td>\n",
              "      <td>2</td>\n",
              "      <td>&lt;p&gt;I wonder how widespread the JVM actually is...</td>\n",
              "      <td>Bernard</td>\n",
              "      <td>22779</td>\n",
              "      <td>1321</td>\n",
              "      <td>219</td>\n",
              "      <td>1731</td>\n",
              "    </tr>\n",
              "    <tr>\n",
              "      <th>4</th>\n",
              "      <td>61</td>\n",
              "      <td>2008-09-26 22:57:06+00:00</td>\n",
              "      <td>142340</td>\n",
              "      <td>0</td>\n",
              "      <td>&lt;p&gt;I just have a number. First release is &lt;cod...</td>\n",
              "      <td>Bernard</td>\n",
              "      <td>22779</td>\n",
              "      <td>1321</td>\n",
              "      <td>219</td>\n",
              "      <td>1731</td>\n",
              "    </tr>\n",
              "    <tr>\n",
              "      <th>5</th>\n",
              "      <td>61</td>\n",
              "      <td>2009-02-08 23:41:04+00:00</td>\n",
              "      <td>526660</td>\n",
              "      <td>3</td>\n",
              "      <td>&lt;p&gt;You need a main function:&lt;/p&gt;\\n\\n&lt;pre&gt;&lt;code...</td>\n",
              "      <td>Bernard</td>\n",
              "      <td>22779</td>\n",
              "      <td>1321</td>\n",
              "      <td>219</td>\n",
              "      <td>1731</td>\n",
              "    </tr>\n",
              "    <tr>\n",
              "      <th>6</th>\n",
              "      <td>61</td>\n",
              "      <td>2009-11-23 10:24:47+00:00</td>\n",
              "      <td>1581560</td>\n",
              "      <td>0</td>\n",
              "      <td>&lt;p&gt;The answer, it seems, is to use &lt;a href=\"ht...</td>\n",
              "      <td>Bernard</td>\n",
              "      <td>22779</td>\n",
              "      <td>1321</td>\n",
              "      <td>219</td>\n",
              "      <td>1731</td>\n",
              "    </tr>\n",
              "    <tr>\n",
              "      <th>7</th>\n",
              "      <td>61</td>\n",
              "      <td>2010-03-25 23:53:31+00:00</td>\n",
              "      <td>2520220</td>\n",
              "      <td>8</td>\n",
              "      <td>&lt;p&gt;Yes, the function must be declared as &lt;code...</td>\n",
              "      <td>Bernard</td>\n",
              "      <td>22779</td>\n",
              "      <td>1321</td>\n",
              "      <td>219</td>\n",
              "      <td>1731</td>\n",
              "    </tr>\n",
              "    <tr>\n",
              "      <th>8</th>\n",
              "      <td>61</td>\n",
              "      <td>2011-06-05 11:28:08+00:00</td>\n",
              "      <td>6242540</td>\n",
              "      <td>8</td>\n",
              "      <td>&lt;p&gt;If you merely want a pointer, the correct w...</td>\n",
              "      <td>Bernard</td>\n",
              "      <td>22779</td>\n",
              "      <td>1321</td>\n",
              "      <td>219</td>\n",
              "      <td>1731</td>\n",
              "    </tr>\n",
              "    <tr>\n",
              "      <th>9</th>\n",
              "      <td>61</td>\n",
              "      <td>2011-07-02 12:03:26+00:00</td>\n",
              "      <td>6553950</td>\n",
              "      <td>7</td>\n",
              "      <td>&lt;p&gt;I asked around on IRC, and as far as we can...</td>\n",
              "      <td>Bernard</td>\n",
              "      <td>22779</td>\n",
              "      <td>1321</td>\n",
              "      <td>219</td>\n",
              "      <td>1731</td>\n",
              "    </tr>\n",
              "    <tr>\n",
              "      <th>10</th>\n",
              "      <td>26</td>\n",
              "      <td>2008-08-01 16:09:47+00:00</td>\n",
              "      <td>80</td>\n",
              "      <td>12</td>\n",
              "      <td>&lt;p&gt;I wound up using this. It is a kind of a ha...</td>\n",
              "      <td>Shawn</td>\n",
              "      <td>11820</td>\n",
              "      <td>565</td>\n",
              "      <td>67</td>\n",
              "      <td>3547</td>\n",
              "    </tr>\n",
              "    <tr>\n",
              "      <th>11</th>\n",
              "      <td>26</td>\n",
              "      <td>2008-08-04 18:00:50+00:00</td>\n",
              "      <td>580</td>\n",
              "      <td>5</td>\n",
              "      <td>&lt;p&gt;Like Rob Allen, I use SQL Compare / Data Co...</td>\n",
              "      <td>Shawn</td>\n",
              "      <td>11820</td>\n",
              "      <td>565</td>\n",
              "      <td>67</td>\n",
              "      <td>3547</td>\n",
              "    </tr>\n",
              "    <tr>\n",
              "      <th>12</th>\n",
              "      <td>26</td>\n",
              "      <td>2008-08-05 13:15:53+00:00</td>\n",
              "      <td>2250</td>\n",
              "      <td>3</td>\n",
              "      <td>&lt;p&gt;One feature of the DataSet is that if you c...</td>\n",
              "      <td>Shawn</td>\n",
              "      <td>11820</td>\n",
              "      <td>565</td>\n",
              "      <td>67</td>\n",
              "      <td>3547</td>\n",
              "    </tr>\n",
              "    <tr>\n",
              "      <th>13</th>\n",
              "      <td>26</td>\n",
              "      <td>2008-08-06 15:16:32+00:00</td>\n",
              "      <td>3470</td>\n",
              "      <td>1</td>\n",
              "      <td>&lt;p&gt;I had to do this for a project before. One ...</td>\n",
              "      <td>Shawn</td>\n",
              "      <td>11820</td>\n",
              "      <td>565</td>\n",
              "      <td>67</td>\n",
              "      <td>3547</td>\n",
              "    </tr>\n",
              "    <tr>\n",
              "      <th>14</th>\n",
              "      <td>26</td>\n",
              "      <td>2008-08-14 15:52:17+00:00</td>\n",
              "      <td>11200</td>\n",
              "      <td>1</td>\n",
              "      <td>&lt;p&gt;I wound up using format 120 in MS SQL: &lt;/p&gt;...</td>\n",
              "      <td>Shawn</td>\n",
              "      <td>11820</td>\n",
              "      <td>565</td>\n",
              "      <td>67</td>\n",
              "      <td>3547</td>\n",
              "    </tr>\n",
              "    <tr>\n",
              "      <th>15</th>\n",
              "      <td>26</td>\n",
              "      <td>2008-09-01 20:36:21+00:00</td>\n",
              "      <td>38370</td>\n",
              "      <td>0</td>\n",
              "      <td>&lt;p&gt;It's not working because on the client sess...</td>\n",
              "      <td>Shawn</td>\n",
              "      <td>11820</td>\n",
              "      <td>565</td>\n",
              "      <td>67</td>\n",
              "      <td>3547</td>\n",
              "    </tr>\n",
              "    <tr>\n",
              "      <th>16</th>\n",
              "      <td>26</td>\n",
              "      <td>2008-10-31 04:27:08+00:00</td>\n",
              "      <td>252230</td>\n",
              "      <td>0</td>\n",
              "      <td>&lt;p&gt;I prefer inline sql unless the stored proce...</td>\n",
              "      <td>Shawn</td>\n",
              "      <td>11820</td>\n",
              "      <td>565</td>\n",
              "      <td>67</td>\n",
              "      <td>3547</td>\n",
              "    </tr>\n",
              "    <tr>\n",
              "      <th>17</th>\n",
              "      <td>26</td>\n",
              "      <td>2008-12-09 04:52:54+00:00</td>\n",
              "      <td>351800</td>\n",
              "      <td>6</td>\n",
              "      <td>&lt;p&gt;Try:&lt;/p&gt;\\n\\n&lt;pre&gt;&lt;code&gt;myObjects.RemoveAll(...</td>\n",
              "      <td>Shawn</td>\n",
              "      <td>11820</td>\n",
              "      <td>565</td>\n",
              "      <td>67</td>\n",
              "      <td>3547</td>\n",
              "    </tr>\n",
              "    <tr>\n",
              "      <th>18</th>\n",
              "      <td>26</td>\n",
              "      <td>2008-12-27 07:10:57+00:00</td>\n",
              "      <td>393110</td>\n",
              "      <td>0</td>\n",
              "      <td>&lt;p&gt;Why not just do it all via JavaScript? Some...</td>\n",
              "      <td>Shawn</td>\n",
              "      <td>11820</td>\n",
              "      <td>565</td>\n",
              "      <td>67</td>\n",
              "      <td>3547</td>\n",
              "    </tr>\n",
              "    <tr>\n",
              "      <th>19</th>\n",
              "      <td>26</td>\n",
              "      <td>2008-12-31 18:15:22+00:00</td>\n",
              "      <td>403630</td>\n",
              "      <td>1</td>\n",
              "      <td>&lt;p&gt;I would use a stored procedure. The full te...</td>\n",
              "      <td>Shawn</td>\n",
              "      <td>11820</td>\n",
              "      <td>565</td>\n",
              "      <td>67</td>\n",
              "      <td>3547</td>\n",
              "    </tr>\n",
              "  </tbody>\n",
              "</table>\n",
              "</div>"
            ],
            "text/plain": [
              "    A_OwnerUserId                AnswerDate  ...  down_votes  views\n",
              "0              61 2008-08-01 14:45:37+00:00  ...         219   1731\n",
              "1              61 2008-08-29 01:30:38+00:00  ...         219   1731\n",
              "2              61 2008-09-07 02:32:02+00:00  ...         219   1731\n",
              "3              61 2008-09-09 08:35:20+00:00  ...         219   1731\n",
              "4              61 2008-09-26 22:57:06+00:00  ...         219   1731\n",
              "5              61 2009-02-08 23:41:04+00:00  ...         219   1731\n",
              "6              61 2009-11-23 10:24:47+00:00  ...         219   1731\n",
              "7              61 2010-03-25 23:53:31+00:00  ...         219   1731\n",
              "8              61 2011-06-05 11:28:08+00:00  ...         219   1731\n",
              "9              61 2011-07-02 12:03:26+00:00  ...         219   1731\n",
              "10             26 2008-08-01 16:09:47+00:00  ...          67   3547\n",
              "11             26 2008-08-04 18:00:50+00:00  ...          67   3547\n",
              "12             26 2008-08-05 13:15:53+00:00  ...          67   3547\n",
              "13             26 2008-08-06 15:16:32+00:00  ...          67   3547\n",
              "14             26 2008-08-14 15:52:17+00:00  ...          67   3547\n",
              "15             26 2008-09-01 20:36:21+00:00  ...          67   3547\n",
              "16             26 2008-10-31 04:27:08+00:00  ...          67   3547\n",
              "17             26 2008-12-09 04:52:54+00:00  ...          67   3547\n",
              "18             26 2008-12-27 07:10:57+00:00  ...          67   3547\n",
              "19             26 2008-12-31 18:15:22+00:00  ...          67   3547\n",
              "\n",
              "[20 rows x 10 columns]"
            ]
          },
          "metadata": {
            "tags": []
          },
          "execution_count": 156
        }
      ]
    },
    {
      "cell_type": "markdown",
      "metadata": {
        "id": "31q5MmOojEP2"
      },
      "source": [
        "## Combining all the 4 dataframes- questions, tags, answers and users"
      ]
    },
    {
      "cell_type": "code",
      "metadata": {
        "colab": {
          "base_uri": "https://localhost:8080/",
          "height": 343
        },
        "id": "pM3A3oh-jS-4",
        "outputId": "abb3b02f-c0c2-447a-e604-7b1e60fc4485"
      },
      "source": [
        "questag.head(10)"
      ],
      "execution_count": null,
      "outputs": [
        {
          "output_type": "execute_result",
          "data": {
            "text/html": [
              "<div>\n",
              "<style scoped>\n",
              "    .dataframe tbody tr th:only-of-type {\n",
              "        vertical-align: middle;\n",
              "    }\n",
              "\n",
              "    .dataframe tbody tr th {\n",
              "        vertical-align: top;\n",
              "    }\n",
              "\n",
              "    .dataframe thead th {\n",
              "        text-align: right;\n",
              "    }\n",
              "</style>\n",
              "<table border=\"1\" class=\"dataframe\">\n",
              "  <thead>\n",
              "    <tr style=\"text-align: right;\">\n",
              "      <th></th>\n",
              "      <th>Id</th>\n",
              "      <th>OwnerUserId</th>\n",
              "      <th>CreationDate</th>\n",
              "      <th>Score</th>\n",
              "      <th>Title</th>\n",
              "      <th>Body</th>\n",
              "      <th>bin</th>\n",
              "      <th>Tag</th>\n",
              "    </tr>\n",
              "  </thead>\n",
              "  <tbody>\n",
              "    <tr>\n",
              "      <th>0</th>\n",
              "      <td>80</td>\n",
              "      <td>26.0</td>\n",
              "      <td>2008-08-01 13:57:07+00:00</td>\n",
              "      <td>26.0</td>\n",
              "      <td>SQLStatement.execute() - multiple queries in o...</td>\n",
              "      <td>&lt;p&gt;I've written a database generation script i...</td>\n",
              "      <td>Good</td>\n",
              "      <td>flex</td>\n",
              "    </tr>\n",
              "    <tr>\n",
              "      <th>1</th>\n",
              "      <td>80</td>\n",
              "      <td>26.0</td>\n",
              "      <td>2008-08-01 13:57:07+00:00</td>\n",
              "      <td>26.0</td>\n",
              "      <td>SQLStatement.execute() - multiple queries in o...</td>\n",
              "      <td>&lt;p&gt;I've written a database generation script i...</td>\n",
              "      <td>Good</td>\n",
              "      <td>actionscript-3</td>\n",
              "    </tr>\n",
              "    <tr>\n",
              "      <th>2</th>\n",
              "      <td>80</td>\n",
              "      <td>26.0</td>\n",
              "      <td>2008-08-01 13:57:07+00:00</td>\n",
              "      <td>26.0</td>\n",
              "      <td>SQLStatement.execute() - multiple queries in o...</td>\n",
              "      <td>&lt;p&gt;I've written a database generation script i...</td>\n",
              "      <td>Good</td>\n",
              "      <td>air</td>\n",
              "    </tr>\n",
              "    <tr>\n",
              "      <th>3</th>\n",
              "      <td>90</td>\n",
              "      <td>58.0</td>\n",
              "      <td>2008-08-01 14:41:24+00:00</td>\n",
              "      <td>144.0</td>\n",
              "      <td>Good branching and merging tutorials for Torto...</td>\n",
              "      <td>&lt;p&gt;Are there any really good tutorials explain...</td>\n",
              "      <td>Good</td>\n",
              "      <td>svn</td>\n",
              "    </tr>\n",
              "    <tr>\n",
              "      <th>4</th>\n",
              "      <td>90</td>\n",
              "      <td>58.0</td>\n",
              "      <td>2008-08-01 14:41:24+00:00</td>\n",
              "      <td>144.0</td>\n",
              "      <td>Good branching and merging tutorials for Torto...</td>\n",
              "      <td>&lt;p&gt;Are there any really good tutorials explain...</td>\n",
              "      <td>Good</td>\n",
              "      <td>tortoisesvn</td>\n",
              "    </tr>\n",
              "    <tr>\n",
              "      <th>5</th>\n",
              "      <td>90</td>\n",
              "      <td>58.0</td>\n",
              "      <td>2008-08-01 14:41:24+00:00</td>\n",
              "      <td>144.0</td>\n",
              "      <td>Good branching and merging tutorials for Torto...</td>\n",
              "      <td>&lt;p&gt;Are there any really good tutorials explain...</td>\n",
              "      <td>Good</td>\n",
              "      <td>branch</td>\n",
              "    </tr>\n",
              "    <tr>\n",
              "      <th>6</th>\n",
              "      <td>90</td>\n",
              "      <td>58.0</td>\n",
              "      <td>2008-08-01 14:41:24+00:00</td>\n",
              "      <td>144.0</td>\n",
              "      <td>Good branching and merging tutorials for Torto...</td>\n",
              "      <td>&lt;p&gt;Are there any really good tutorials explain...</td>\n",
              "      <td>Good</td>\n",
              "      <td>branching-and-merging</td>\n",
              "    </tr>\n",
              "    <tr>\n",
              "      <th>7</th>\n",
              "      <td>120</td>\n",
              "      <td>83.0</td>\n",
              "      <td>2008-08-01 15:50:08+00:00</td>\n",
              "      <td>21.0</td>\n",
              "      <td>ASP.NET Site Maps</td>\n",
              "      <td>&lt;p&gt;Has anyone got experience creating &lt;strong&gt;...</td>\n",
              "      <td>Average</td>\n",
              "      <td>sql</td>\n",
              "    </tr>\n",
              "    <tr>\n",
              "      <th>8</th>\n",
              "      <td>120</td>\n",
              "      <td>83.0</td>\n",
              "      <td>2008-08-01 15:50:08+00:00</td>\n",
              "      <td>21.0</td>\n",
              "      <td>ASP.NET Site Maps</td>\n",
              "      <td>&lt;p&gt;Has anyone got experience creating &lt;strong&gt;...</td>\n",
              "      <td>Average</td>\n",
              "      <td>asp.net</td>\n",
              "    </tr>\n",
              "    <tr>\n",
              "      <th>9</th>\n",
              "      <td>120</td>\n",
              "      <td>83.0</td>\n",
              "      <td>2008-08-01 15:50:08+00:00</td>\n",
              "      <td>21.0</td>\n",
              "      <td>ASP.NET Site Maps</td>\n",
              "      <td>&lt;p&gt;Has anyone got experience creating &lt;strong&gt;...</td>\n",
              "      <td>Average</td>\n",
              "      <td>sitemap</td>\n",
              "    </tr>\n",
              "  </tbody>\n",
              "</table>\n",
              "</div>"
            ],
            "text/plain": [
              "    Id  OwnerUserId  ...      bin                    Tag\n",
              "0   80         26.0  ...     Good                   flex\n",
              "1   80         26.0  ...     Good         actionscript-3\n",
              "2   80         26.0  ...     Good                    air\n",
              "3   90         58.0  ...     Good                    svn\n",
              "4   90         58.0  ...     Good            tortoisesvn\n",
              "5   90         58.0  ...     Good                 branch\n",
              "6   90         58.0  ...     Good  branching-and-merging\n",
              "7  120         83.0  ...  Average                    sql\n",
              "8  120         83.0  ...  Average                asp.net\n",
              "9  120         83.0  ...  Average                sitemap\n",
              "\n",
              "[10 rows x 8 columns]"
            ]
          },
          "metadata": {
            "tags": []
          },
          "execution_count": 157
        }
      ]
    },
    {
      "cell_type": "code",
      "metadata": {
        "collapsed": true,
        "id": "ldRbnEAduQsJ"
      },
      "source": [
        "questag.rename(columns= {'Id':'QuesId','Body':'Question'}, inplace=True)"
      ],
      "execution_count": null,
      "outputs": []
    },
    {
      "cell_type": "code",
      "metadata": {
        "collapsed": true,
        "id": "3m4CJIu8raHN"
      },
      "source": [
        "questag.rename(columns= {'OwnerUserId':'Q_OwnerUserId'}, inplace=True)"
      ],
      "execution_count": null,
      "outputs": []
    },
    {
      "cell_type": "code",
      "metadata": {
        "colab": {
          "base_uri": "https://localhost:8080/"
        },
        "id": "P1x15SxqjcXs",
        "outputId": "a3fc6eaf-8f29-432a-a541-61c95db060c0"
      },
      "source": [
        "len(questag.QuesId)"
      ],
      "execution_count": null,
      "outputs": [
        {
          "output_type": "execute_result",
          "data": {
            "text/plain": [
              "3750994"
            ]
          },
          "metadata": {
            "tags": []
          },
          "execution_count": 160
        }
      ]
    },
    {
      "cell_type": "code",
      "metadata": {
        "colab": {
          "base_uri": "https://localhost:8080/"
        },
        "id": "1NVnjY3pwh9-",
        "outputId": "69e7d7ff-04f0-48d4-cbf4-91ed3cc14b4f"
      },
      "source": [
        "len(userans.QuesId)"
      ],
      "execution_count": null,
      "outputs": [
        {
          "output_type": "execute_result",
          "data": {
            "text/plain": [
              "1990480"
            ]
          },
          "metadata": {
            "tags": []
          },
          "execution_count": 161
        }
      ]
    },
    {
      "cell_type": "code",
      "metadata": {
        "collapsed": true,
        "id": "yIzWnNsVlB5H"
      },
      "source": [
        "Stack= pd.merge(questag, userans, how='inner',on='QuesId')"
      ],
      "execution_count": null,
      "outputs": []
    },
    {
      "cell_type": "code",
      "metadata": {
        "colab": {
          "base_uri": "https://localhost:8080/"
        },
        "id": "HGd9JPhquj3V",
        "outputId": "863810ec-a75a-4d8d-fdc8-36d496c04a0c"
      },
      "source": [
        "Stack.shape"
      ],
      "execution_count": null,
      "outputs": [
        {
          "output_type": "execute_result",
          "data": {
            "text/plain": [
              "(5827037, 17)"
            ]
          },
          "metadata": {
            "tags": []
          },
          "execution_count": 163
        }
      ]
    },
    {
      "cell_type": "code",
      "metadata": {
        "colab": {
          "base_uri": "https://localhost:8080/",
          "height": 551
        },
        "id": "aGGV37aiul_R",
        "outputId": "15749b57-582e-45fc-fcc9-39c559e2fe32"
      },
      "source": [
        "Stack.head()"
      ],
      "execution_count": null,
      "outputs": [
        {
          "output_type": "execute_result",
          "data": {
            "text/html": [
              "<div>\n",
              "<style scoped>\n",
              "    .dataframe tbody tr th:only-of-type {\n",
              "        vertical-align: middle;\n",
              "    }\n",
              "\n",
              "    .dataframe tbody tr th {\n",
              "        vertical-align: top;\n",
              "    }\n",
              "\n",
              "    .dataframe thead th {\n",
              "        text-align: right;\n",
              "    }\n",
              "</style>\n",
              "<table border=\"1\" class=\"dataframe\">\n",
              "  <thead>\n",
              "    <tr style=\"text-align: right;\">\n",
              "      <th></th>\n",
              "      <th>QuesId</th>\n",
              "      <th>Q_OwnerUserId</th>\n",
              "      <th>CreationDate</th>\n",
              "      <th>Score</th>\n",
              "      <th>Title</th>\n",
              "      <th>Question</th>\n",
              "      <th>bin</th>\n",
              "      <th>Tag</th>\n",
              "      <th>A_OwnerUserId</th>\n",
              "      <th>AnswerDate</th>\n",
              "      <th>AnswerScore</th>\n",
              "      <th>Answer</th>\n",
              "      <th>display_name</th>\n",
              "      <th>reputation</th>\n",
              "      <th>up_votes</th>\n",
              "      <th>down_votes</th>\n",
              "      <th>views</th>\n",
              "    </tr>\n",
              "  </thead>\n",
              "  <tbody>\n",
              "    <tr>\n",
              "      <th>0</th>\n",
              "      <td>80</td>\n",
              "      <td>26.0</td>\n",
              "      <td>2008-08-01 13:57:07+00:00</td>\n",
              "      <td>26.0</td>\n",
              "      <td>SQLStatement.execute() - multiple queries in o...</td>\n",
              "      <td>&lt;p&gt;I've written a database generation script i...</td>\n",
              "      <td>Good</td>\n",
              "      <td>flex</td>\n",
              "      <td>26</td>\n",
              "      <td>2008-08-01 16:09:47+00:00</td>\n",
              "      <td>12</td>\n",
              "      <td>&lt;p&gt;I wound up using this. It is a kind of a ha...</td>\n",
              "      <td>Shawn</td>\n",
              "      <td>11820</td>\n",
              "      <td>565</td>\n",
              "      <td>67</td>\n",
              "      <td>3547</td>\n",
              "    </tr>\n",
              "    <tr>\n",
              "      <th>1</th>\n",
              "      <td>80</td>\n",
              "      <td>26.0</td>\n",
              "      <td>2008-08-01 13:57:07+00:00</td>\n",
              "      <td>26.0</td>\n",
              "      <td>SQLStatement.execute() - multiple queries in o...</td>\n",
              "      <td>&lt;p&gt;I've written a database generation script i...</td>\n",
              "      <td>Good</td>\n",
              "      <td>flex</td>\n",
              "      <td>1109</td>\n",
              "      <td>2008-08-13 16:09:09+00:00</td>\n",
              "      <td>6</td>\n",
              "      <td>&lt;p&gt;The &lt;a href=\"http://en.wikipedia.org/wiki/S...</td>\n",
              "      <td>Theo</td>\n",
              "      <td>116072</td>\n",
              "      <td>457</td>\n",
              "      <td>136</td>\n",
              "      <td>6905</td>\n",
              "    </tr>\n",
              "    <tr>\n",
              "      <th>2</th>\n",
              "      <td>80</td>\n",
              "      <td>26.0</td>\n",
              "      <td>2008-08-01 13:57:07+00:00</td>\n",
              "      <td>26.0</td>\n",
              "      <td>SQLStatement.execute() - multiple queries in o...</td>\n",
              "      <td>&lt;p&gt;I've written a database generation script i...</td>\n",
              "      <td>Good</td>\n",
              "      <td>flex</td>\n",
              "      <td>364174</td>\n",
              "      <td>2010-09-22 15:37:30+00:00</td>\n",
              "      <td>1</td>\n",
              "      <td>&lt;p&gt;What about making your delimiter something ...</td>\n",
              "      <td>stats</td>\n",
              "      <td>325</td>\n",
              "      <td>25</td>\n",
              "      <td>1</td>\n",
              "      <td>60</td>\n",
              "    </tr>\n",
              "    <tr>\n",
              "      <th>3</th>\n",
              "      <td>80</td>\n",
              "      <td>26.0</td>\n",
              "      <td>2008-08-01 13:57:07+00:00</td>\n",
              "      <td>26.0</td>\n",
              "      <td>SQLStatement.execute() - multiple queries in o...</td>\n",
              "      <td>&lt;p&gt;I've written a database generation script i...</td>\n",
              "      <td>Good</td>\n",
              "      <td>actionscript-3</td>\n",
              "      <td>26</td>\n",
              "      <td>2008-08-01 16:09:47+00:00</td>\n",
              "      <td>12</td>\n",
              "      <td>&lt;p&gt;I wound up using this. It is a kind of a ha...</td>\n",
              "      <td>Shawn</td>\n",
              "      <td>11820</td>\n",
              "      <td>565</td>\n",
              "      <td>67</td>\n",
              "      <td>3547</td>\n",
              "    </tr>\n",
              "    <tr>\n",
              "      <th>4</th>\n",
              "      <td>80</td>\n",
              "      <td>26.0</td>\n",
              "      <td>2008-08-01 13:57:07+00:00</td>\n",
              "      <td>26.0</td>\n",
              "      <td>SQLStatement.execute() - multiple queries in o...</td>\n",
              "      <td>&lt;p&gt;I've written a database generation script i...</td>\n",
              "      <td>Good</td>\n",
              "      <td>actionscript-3</td>\n",
              "      <td>1109</td>\n",
              "      <td>2008-08-13 16:09:09+00:00</td>\n",
              "      <td>6</td>\n",
              "      <td>&lt;p&gt;The &lt;a href=\"http://en.wikipedia.org/wiki/S...</td>\n",
              "      <td>Theo</td>\n",
              "      <td>116072</td>\n",
              "      <td>457</td>\n",
              "      <td>136</td>\n",
              "      <td>6905</td>\n",
              "    </tr>\n",
              "  </tbody>\n",
              "</table>\n",
              "</div>"
            ],
            "text/plain": [
              "   QuesId  Q_OwnerUserId              CreationDate  ...  up_votes down_votes views\n",
              "0      80           26.0 2008-08-01 13:57:07+00:00  ...       565         67  3547\n",
              "1      80           26.0 2008-08-01 13:57:07+00:00  ...       457        136  6905\n",
              "2      80           26.0 2008-08-01 13:57:07+00:00  ...        25          1    60\n",
              "3      80           26.0 2008-08-01 13:57:07+00:00  ...       565         67  3547\n",
              "4      80           26.0 2008-08-01 13:57:07+00:00  ...       457        136  6905\n",
              "\n",
              "[5 rows x 17 columns]"
            ]
          },
          "metadata": {
            "tags": []
          },
          "execution_count": 164
        }
      ]
    },
    {
      "cell_type": "code",
      "metadata": {
        "colab": {
          "base_uri": "https://localhost:8080/"
        },
        "id": "jKMndgksvKHA",
        "outputId": "8f0a3bb6-20a1-40ca-8de9-20f3d4226f96"
      },
      "source": [
        "Stack.AnswerScore.describe()"
      ],
      "execution_count": null,
      "outputs": [
        {
          "output_type": "execute_result",
          "data": {
            "text/plain": [
              "count    5.827037e+06\n",
              "mean     2.489158e+00\n",
              "std      1.610304e+01\n",
              "min     -4.200000e+01\n",
              "25%      0.000000e+00\n",
              "50%      1.000000e+00\n",
              "75%      2.000000e+00\n",
              "max      5.718000e+03\n",
              "Name: AnswerScore, dtype: float64"
            ]
          },
          "metadata": {
            "tags": []
          },
          "execution_count": 165
        }
      ]
    },
    {
      "cell_type": "code",
      "metadata": {
        "colab": {
          "base_uri": "https://localhost:8080/"
        },
        "id": "cG2Fi3SVxLK6",
        "outputId": "d5a0d019-c309-45a5-b326-5f1cb597738d"
      },
      "source": [
        "Stack.Score.describe()"
      ],
      "execution_count": null,
      "outputs": [
        {
          "output_type": "execute_result",
          "data": {
            "text/plain": [
              "count    5.743352e+06\n",
              "mean     5.794480e+00\n",
              "std      4.977437e+01\n",
              "min     -7.300000e+01\n",
              "25%      0.000000e+00\n",
              "50%      1.000000e+00\n",
              "75%      3.000000e+00\n",
              "max      5.190000e+03\n",
              "Name: Score, dtype: float64"
            ]
          },
          "metadata": {
            "tags": []
          },
          "execution_count": 166
        }
      ]
    },
    {
      "cell_type": "code",
      "metadata": {
        "colab": {
          "base_uri": "https://localhost:8080/",
          "height": 1000
        },
        "id": "0-s5JnFPpNn0",
        "outputId": "a747eb3b-e3fb-4f9c-845e-4b4c9b9030d4"
      },
      "source": [
        "Stack.drop_duplicates(inplace= True)\n",
        "Stack.head(10)"
      ],
      "execution_count": null,
      "outputs": [
        {
          "output_type": "execute_result",
          "data": {
            "text/html": [
              "<div>\n",
              "<style scoped>\n",
              "    .dataframe tbody tr th:only-of-type {\n",
              "        vertical-align: middle;\n",
              "    }\n",
              "\n",
              "    .dataframe tbody tr th {\n",
              "        vertical-align: top;\n",
              "    }\n",
              "\n",
              "    .dataframe thead th {\n",
              "        text-align: right;\n",
              "    }\n",
              "</style>\n",
              "<table border=\"1\" class=\"dataframe\">\n",
              "  <thead>\n",
              "    <tr style=\"text-align: right;\">\n",
              "      <th></th>\n",
              "      <th>QuesId</th>\n",
              "      <th>Q_OwnerUserId</th>\n",
              "      <th>CreationDate</th>\n",
              "      <th>Score</th>\n",
              "      <th>Title</th>\n",
              "      <th>Question</th>\n",
              "      <th>bin</th>\n",
              "      <th>Tag</th>\n",
              "      <th>A_OwnerUserId</th>\n",
              "      <th>AnswerDate</th>\n",
              "      <th>AnswerScore</th>\n",
              "      <th>Answer</th>\n",
              "      <th>display_name</th>\n",
              "      <th>reputation</th>\n",
              "      <th>up_votes</th>\n",
              "      <th>down_votes</th>\n",
              "      <th>views</th>\n",
              "    </tr>\n",
              "  </thead>\n",
              "  <tbody>\n",
              "    <tr>\n",
              "      <th>0</th>\n",
              "      <td>80</td>\n",
              "      <td>26.0</td>\n",
              "      <td>2008-08-01 13:57:07+00:00</td>\n",
              "      <td>26.0</td>\n",
              "      <td>SQLStatement.execute() - multiple queries in o...</td>\n",
              "      <td>&lt;p&gt;I've written a database generation script i...</td>\n",
              "      <td>Good</td>\n",
              "      <td>flex</td>\n",
              "      <td>26</td>\n",
              "      <td>2008-08-01 16:09:47+00:00</td>\n",
              "      <td>12</td>\n",
              "      <td>&lt;p&gt;I wound up using this. It is a kind of a ha...</td>\n",
              "      <td>Shawn</td>\n",
              "      <td>11820</td>\n",
              "      <td>565</td>\n",
              "      <td>67</td>\n",
              "      <td>3547</td>\n",
              "    </tr>\n",
              "    <tr>\n",
              "      <th>1</th>\n",
              "      <td>80</td>\n",
              "      <td>26.0</td>\n",
              "      <td>2008-08-01 13:57:07+00:00</td>\n",
              "      <td>26.0</td>\n",
              "      <td>SQLStatement.execute() - multiple queries in o...</td>\n",
              "      <td>&lt;p&gt;I've written a database generation script i...</td>\n",
              "      <td>Good</td>\n",
              "      <td>flex</td>\n",
              "      <td>1109</td>\n",
              "      <td>2008-08-13 16:09:09+00:00</td>\n",
              "      <td>6</td>\n",
              "      <td>&lt;p&gt;The &lt;a href=\"http://en.wikipedia.org/wiki/S...</td>\n",
              "      <td>Theo</td>\n",
              "      <td>116072</td>\n",
              "      <td>457</td>\n",
              "      <td>136</td>\n",
              "      <td>6905</td>\n",
              "    </tr>\n",
              "    <tr>\n",
              "      <th>2</th>\n",
              "      <td>80</td>\n",
              "      <td>26.0</td>\n",
              "      <td>2008-08-01 13:57:07+00:00</td>\n",
              "      <td>26.0</td>\n",
              "      <td>SQLStatement.execute() - multiple queries in o...</td>\n",
              "      <td>&lt;p&gt;I've written a database generation script i...</td>\n",
              "      <td>Good</td>\n",
              "      <td>flex</td>\n",
              "      <td>364174</td>\n",
              "      <td>2010-09-22 15:37:30+00:00</td>\n",
              "      <td>1</td>\n",
              "      <td>&lt;p&gt;What about making your delimiter something ...</td>\n",
              "      <td>stats</td>\n",
              "      <td>325</td>\n",
              "      <td>25</td>\n",
              "      <td>1</td>\n",
              "      <td>60</td>\n",
              "    </tr>\n",
              "    <tr>\n",
              "      <th>3</th>\n",
              "      <td>80</td>\n",
              "      <td>26.0</td>\n",
              "      <td>2008-08-01 13:57:07+00:00</td>\n",
              "      <td>26.0</td>\n",
              "      <td>SQLStatement.execute() - multiple queries in o...</td>\n",
              "      <td>&lt;p&gt;I've written a database generation script i...</td>\n",
              "      <td>Good</td>\n",
              "      <td>actionscript-3</td>\n",
              "      <td>26</td>\n",
              "      <td>2008-08-01 16:09:47+00:00</td>\n",
              "      <td>12</td>\n",
              "      <td>&lt;p&gt;I wound up using this. It is a kind of a ha...</td>\n",
              "      <td>Shawn</td>\n",
              "      <td>11820</td>\n",
              "      <td>565</td>\n",
              "      <td>67</td>\n",
              "      <td>3547</td>\n",
              "    </tr>\n",
              "    <tr>\n",
              "      <th>4</th>\n",
              "      <td>80</td>\n",
              "      <td>26.0</td>\n",
              "      <td>2008-08-01 13:57:07+00:00</td>\n",
              "      <td>26.0</td>\n",
              "      <td>SQLStatement.execute() - multiple queries in o...</td>\n",
              "      <td>&lt;p&gt;I've written a database generation script i...</td>\n",
              "      <td>Good</td>\n",
              "      <td>actionscript-3</td>\n",
              "      <td>1109</td>\n",
              "      <td>2008-08-13 16:09:09+00:00</td>\n",
              "      <td>6</td>\n",
              "      <td>&lt;p&gt;The &lt;a href=\"http://en.wikipedia.org/wiki/S...</td>\n",
              "      <td>Theo</td>\n",
              "      <td>116072</td>\n",
              "      <td>457</td>\n",
              "      <td>136</td>\n",
              "      <td>6905</td>\n",
              "    </tr>\n",
              "    <tr>\n",
              "      <th>5</th>\n",
              "      <td>80</td>\n",
              "      <td>26.0</td>\n",
              "      <td>2008-08-01 13:57:07+00:00</td>\n",
              "      <td>26.0</td>\n",
              "      <td>SQLStatement.execute() - multiple queries in o...</td>\n",
              "      <td>&lt;p&gt;I've written a database generation script i...</td>\n",
              "      <td>Good</td>\n",
              "      <td>actionscript-3</td>\n",
              "      <td>364174</td>\n",
              "      <td>2010-09-22 15:37:30+00:00</td>\n",
              "      <td>1</td>\n",
              "      <td>&lt;p&gt;What about making your delimiter something ...</td>\n",
              "      <td>stats</td>\n",
              "      <td>325</td>\n",
              "      <td>25</td>\n",
              "      <td>1</td>\n",
              "      <td>60</td>\n",
              "    </tr>\n",
              "    <tr>\n",
              "      <th>6</th>\n",
              "      <td>80</td>\n",
              "      <td>26.0</td>\n",
              "      <td>2008-08-01 13:57:07+00:00</td>\n",
              "      <td>26.0</td>\n",
              "      <td>SQLStatement.execute() - multiple queries in o...</td>\n",
              "      <td>&lt;p&gt;I've written a database generation script i...</td>\n",
              "      <td>Good</td>\n",
              "      <td>air</td>\n",
              "      <td>26</td>\n",
              "      <td>2008-08-01 16:09:47+00:00</td>\n",
              "      <td>12</td>\n",
              "      <td>&lt;p&gt;I wound up using this. It is a kind of a ha...</td>\n",
              "      <td>Shawn</td>\n",
              "      <td>11820</td>\n",
              "      <td>565</td>\n",
              "      <td>67</td>\n",
              "      <td>3547</td>\n",
              "    </tr>\n",
              "    <tr>\n",
              "      <th>7</th>\n",
              "      <td>80</td>\n",
              "      <td>26.0</td>\n",
              "      <td>2008-08-01 13:57:07+00:00</td>\n",
              "      <td>26.0</td>\n",
              "      <td>SQLStatement.execute() - multiple queries in o...</td>\n",
              "      <td>&lt;p&gt;I've written a database generation script i...</td>\n",
              "      <td>Good</td>\n",
              "      <td>air</td>\n",
              "      <td>1109</td>\n",
              "      <td>2008-08-13 16:09:09+00:00</td>\n",
              "      <td>6</td>\n",
              "      <td>&lt;p&gt;The &lt;a href=\"http://en.wikipedia.org/wiki/S...</td>\n",
              "      <td>Theo</td>\n",
              "      <td>116072</td>\n",
              "      <td>457</td>\n",
              "      <td>136</td>\n",
              "      <td>6905</td>\n",
              "    </tr>\n",
              "    <tr>\n",
              "      <th>8</th>\n",
              "      <td>80</td>\n",
              "      <td>26.0</td>\n",
              "      <td>2008-08-01 13:57:07+00:00</td>\n",
              "      <td>26.0</td>\n",
              "      <td>SQLStatement.execute() - multiple queries in o...</td>\n",
              "      <td>&lt;p&gt;I've written a database generation script i...</td>\n",
              "      <td>Good</td>\n",
              "      <td>air</td>\n",
              "      <td>364174</td>\n",
              "      <td>2010-09-22 15:37:30+00:00</td>\n",
              "      <td>1</td>\n",
              "      <td>&lt;p&gt;What about making your delimiter something ...</td>\n",
              "      <td>stats</td>\n",
              "      <td>325</td>\n",
              "      <td>25</td>\n",
              "      <td>1</td>\n",
              "      <td>60</td>\n",
              "    </tr>\n",
              "    <tr>\n",
              "      <th>9</th>\n",
              "      <td>90</td>\n",
              "      <td>58.0</td>\n",
              "      <td>2008-08-01 14:41:24+00:00</td>\n",
              "      <td>144.0</td>\n",
              "      <td>Good branching and merging tutorials for Torto...</td>\n",
              "      <td>&lt;p&gt;Are there any really good tutorials explain...</td>\n",
              "      <td>Good</td>\n",
              "      <td>svn</td>\n",
              "      <td>61</td>\n",
              "      <td>2008-08-01 14:45:37+00:00</td>\n",
              "      <td>13</td>\n",
              "      <td>&lt;p&gt;&lt;a href=\"http://svnbook.red-bean.com/\"&gt;Vers...</td>\n",
              "      <td>Bernard</td>\n",
              "      <td>22779</td>\n",
              "      <td>1321</td>\n",
              "      <td>219</td>\n",
              "      <td>1731</td>\n",
              "    </tr>\n",
              "  </tbody>\n",
              "</table>\n",
              "</div>"
            ],
            "text/plain": [
              "   QuesId  Q_OwnerUserId              CreationDate  ...  up_votes down_votes views\n",
              "0      80           26.0 2008-08-01 13:57:07+00:00  ...       565         67  3547\n",
              "1      80           26.0 2008-08-01 13:57:07+00:00  ...       457        136  6905\n",
              "2      80           26.0 2008-08-01 13:57:07+00:00  ...        25          1    60\n",
              "3      80           26.0 2008-08-01 13:57:07+00:00  ...       565         67  3547\n",
              "4      80           26.0 2008-08-01 13:57:07+00:00  ...       457        136  6905\n",
              "5      80           26.0 2008-08-01 13:57:07+00:00  ...        25          1    60\n",
              "6      80           26.0 2008-08-01 13:57:07+00:00  ...       565         67  3547\n",
              "7      80           26.0 2008-08-01 13:57:07+00:00  ...       457        136  6905\n",
              "8      80           26.0 2008-08-01 13:57:07+00:00  ...        25          1    60\n",
              "9      90           58.0 2008-08-01 14:41:24+00:00  ...      1321        219  1731\n",
              "\n",
              "[10 rows x 17 columns]"
            ]
          },
          "metadata": {
            "tags": []
          },
          "execution_count": 167
        }
      ]
    },
    {
      "cell_type": "markdown",
      "metadata": {
        "id": "dZNDAkmaylCa"
      },
      "source": [
        "## Calculating the expected time to get a question answered"
      ]
    },
    {
      "cell_type": "code",
      "metadata": {
        "id": "ehprZ-LRx8nn"
      },
      "source": [
        "Stack['Expected time']= Stack.AnswerDate-Stack.CreationDate"
      ],
      "execution_count": null,
      "outputs": []
    },
    {
      "cell_type": "code",
      "metadata": {
        "colab": {
          "base_uri": "https://localhost:8080/",
          "height": 568
        },
        "id": "MgGoNL9gyFbE",
        "outputId": "db16223b-a2ec-415c-fe9e-5d662e87cdd6"
      },
      "source": [
        "Stack.head()"
      ],
      "execution_count": null,
      "outputs": [
        {
          "output_type": "execute_result",
          "data": {
            "text/html": [
              "<div>\n",
              "<style scoped>\n",
              "    .dataframe tbody tr th:only-of-type {\n",
              "        vertical-align: middle;\n",
              "    }\n",
              "\n",
              "    .dataframe tbody tr th {\n",
              "        vertical-align: top;\n",
              "    }\n",
              "\n",
              "    .dataframe thead th {\n",
              "        text-align: right;\n",
              "    }\n",
              "</style>\n",
              "<table border=\"1\" class=\"dataframe\">\n",
              "  <thead>\n",
              "    <tr style=\"text-align: right;\">\n",
              "      <th></th>\n",
              "      <th>QuesId</th>\n",
              "      <th>Q_OwnerUserId</th>\n",
              "      <th>CreationDate</th>\n",
              "      <th>Score</th>\n",
              "      <th>Title</th>\n",
              "      <th>Question</th>\n",
              "      <th>bin</th>\n",
              "      <th>Tag</th>\n",
              "      <th>A_OwnerUserId</th>\n",
              "      <th>AnswerDate</th>\n",
              "      <th>AnswerScore</th>\n",
              "      <th>Answer</th>\n",
              "      <th>display_name</th>\n",
              "      <th>reputation</th>\n",
              "      <th>up_votes</th>\n",
              "      <th>down_votes</th>\n",
              "      <th>views</th>\n",
              "      <th>Expected time</th>\n",
              "    </tr>\n",
              "  </thead>\n",
              "  <tbody>\n",
              "    <tr>\n",
              "      <th>0</th>\n",
              "      <td>80</td>\n",
              "      <td>26.0</td>\n",
              "      <td>2008-08-01 13:57:07+00:00</td>\n",
              "      <td>26.0</td>\n",
              "      <td>SQLStatement.execute() - multiple queries in o...</td>\n",
              "      <td>&lt;p&gt;I've written a database generation script i...</td>\n",
              "      <td>Good</td>\n",
              "      <td>flex</td>\n",
              "      <td>26</td>\n",
              "      <td>2008-08-01 16:09:47+00:00</td>\n",
              "      <td>12</td>\n",
              "      <td>&lt;p&gt;I wound up using this. It is a kind of a ha...</td>\n",
              "      <td>Shawn</td>\n",
              "      <td>11820</td>\n",
              "      <td>565</td>\n",
              "      <td>67</td>\n",
              "      <td>3547</td>\n",
              "      <td>0 days 02:12:40</td>\n",
              "    </tr>\n",
              "    <tr>\n",
              "      <th>1</th>\n",
              "      <td>80</td>\n",
              "      <td>26.0</td>\n",
              "      <td>2008-08-01 13:57:07+00:00</td>\n",
              "      <td>26.0</td>\n",
              "      <td>SQLStatement.execute() - multiple queries in o...</td>\n",
              "      <td>&lt;p&gt;I've written a database generation script i...</td>\n",
              "      <td>Good</td>\n",
              "      <td>flex</td>\n",
              "      <td>1109</td>\n",
              "      <td>2008-08-13 16:09:09+00:00</td>\n",
              "      <td>6</td>\n",
              "      <td>&lt;p&gt;The &lt;a href=\"http://en.wikipedia.org/wiki/S...</td>\n",
              "      <td>Theo</td>\n",
              "      <td>116072</td>\n",
              "      <td>457</td>\n",
              "      <td>136</td>\n",
              "      <td>6905</td>\n",
              "      <td>12 days 02:12:02</td>\n",
              "    </tr>\n",
              "    <tr>\n",
              "      <th>2</th>\n",
              "      <td>80</td>\n",
              "      <td>26.0</td>\n",
              "      <td>2008-08-01 13:57:07+00:00</td>\n",
              "      <td>26.0</td>\n",
              "      <td>SQLStatement.execute() - multiple queries in o...</td>\n",
              "      <td>&lt;p&gt;I've written a database generation script i...</td>\n",
              "      <td>Good</td>\n",
              "      <td>flex</td>\n",
              "      <td>364174</td>\n",
              "      <td>2010-09-22 15:37:30+00:00</td>\n",
              "      <td>1</td>\n",
              "      <td>&lt;p&gt;What about making your delimiter something ...</td>\n",
              "      <td>stats</td>\n",
              "      <td>325</td>\n",
              "      <td>25</td>\n",
              "      <td>1</td>\n",
              "      <td>60</td>\n",
              "      <td>782 days 01:40:23</td>\n",
              "    </tr>\n",
              "    <tr>\n",
              "      <th>3</th>\n",
              "      <td>80</td>\n",
              "      <td>26.0</td>\n",
              "      <td>2008-08-01 13:57:07+00:00</td>\n",
              "      <td>26.0</td>\n",
              "      <td>SQLStatement.execute() - multiple queries in o...</td>\n",
              "      <td>&lt;p&gt;I've written a database generation script i...</td>\n",
              "      <td>Good</td>\n",
              "      <td>actionscript-3</td>\n",
              "      <td>26</td>\n",
              "      <td>2008-08-01 16:09:47+00:00</td>\n",
              "      <td>12</td>\n",
              "      <td>&lt;p&gt;I wound up using this. It is a kind of a ha...</td>\n",
              "      <td>Shawn</td>\n",
              "      <td>11820</td>\n",
              "      <td>565</td>\n",
              "      <td>67</td>\n",
              "      <td>3547</td>\n",
              "      <td>0 days 02:12:40</td>\n",
              "    </tr>\n",
              "    <tr>\n",
              "      <th>4</th>\n",
              "      <td>80</td>\n",
              "      <td>26.0</td>\n",
              "      <td>2008-08-01 13:57:07+00:00</td>\n",
              "      <td>26.0</td>\n",
              "      <td>SQLStatement.execute() - multiple queries in o...</td>\n",
              "      <td>&lt;p&gt;I've written a database generation script i...</td>\n",
              "      <td>Good</td>\n",
              "      <td>actionscript-3</td>\n",
              "      <td>1109</td>\n",
              "      <td>2008-08-13 16:09:09+00:00</td>\n",
              "      <td>6</td>\n",
              "      <td>&lt;p&gt;The &lt;a href=\"http://en.wikipedia.org/wiki/S...</td>\n",
              "      <td>Theo</td>\n",
              "      <td>116072</td>\n",
              "      <td>457</td>\n",
              "      <td>136</td>\n",
              "      <td>6905</td>\n",
              "      <td>12 days 02:12:02</td>\n",
              "    </tr>\n",
              "  </tbody>\n",
              "</table>\n",
              "</div>"
            ],
            "text/plain": [
              "   QuesId  Q_OwnerUserId  ... views     Expected time\n",
              "0      80           26.0  ...  3547   0 days 02:12:40\n",
              "1      80           26.0  ...  6905  12 days 02:12:02\n",
              "2      80           26.0  ...    60 782 days 01:40:23\n",
              "3      80           26.0  ...  3547   0 days 02:12:40\n",
              "4      80           26.0  ...  6905  12 days 02:12:02\n",
              "\n",
              "[5 rows x 18 columns]"
            ]
          },
          "metadata": {
            "tags": []
          },
          "execution_count": 169
        }
      ]
    },
    {
      "cell_type": "code",
      "metadata": {
        "colab": {
          "base_uri": "https://localhost:8080/",
          "height": 178
        },
        "id": "FMLSqAJIJrjZ",
        "outputId": "7eafa603-d7b0-4d72-a1cc-aa74b2bb37bc"
      },
      "source": [
        "# To avoid any repition of tags, let us consider the minimum time required to answer any particular answer\n",
        "stack1 = Stack.loc[Stack.groupby([\"QuesId\"])[\"Expected time\"].min()]"
      ],
      "execution_count": 1,
      "outputs": [
        {
          "output_type": "error",
          "ename": "NameError",
          "evalue": "ignored",
          "traceback": [
            "\u001b[0;31m---------------------------------------------------------------------------\u001b[0m",
            "\u001b[0;31mNameError\u001b[0m                                 Traceback (most recent call last)",
            "\u001b[0;32m<ipython-input-1-1dc0c7fd8fcb>\u001b[0m in \u001b[0;36m<module>\u001b[0;34m()\u001b[0m\n\u001b[1;32m      1\u001b[0m \u001b[0;31m# To avoid any repition of tags, let us consider the minimum time required to answer any particular answer\u001b[0m\u001b[0;34m\u001b[0m\u001b[0;34m\u001b[0m\u001b[0;34m\u001b[0m\u001b[0m\n\u001b[0;32m----> 2\u001b[0;31m \u001b[0mstack1\u001b[0m \u001b[0;34m=\u001b[0m \u001b[0mStack\u001b[0m\u001b[0;34m.\u001b[0m\u001b[0mloc\u001b[0m\u001b[0;34m[\u001b[0m\u001b[0mStack\u001b[0m\u001b[0;34m.\u001b[0m\u001b[0mgroupby\u001b[0m\u001b[0;34m(\u001b[0m\u001b[0;34m[\u001b[0m\u001b[0;34m\"QuesId\"\u001b[0m\u001b[0;34m]\u001b[0m\u001b[0;34m)\u001b[0m\u001b[0;34m[\u001b[0m\u001b[0;34m\"Expected time\"\u001b[0m\u001b[0;34m]\u001b[0m\u001b[0;34m.\u001b[0m\u001b[0mmin\u001b[0m\u001b[0;34m(\u001b[0m\u001b[0;34m)\u001b[0m\u001b[0;34m]\u001b[0m\u001b[0;34m\u001b[0m\u001b[0;34m\u001b[0m\u001b[0m\n\u001b[0m",
            "\u001b[0;31mNameError\u001b[0m: name 'Stack' is not defined"
          ]
        }
      ]
    },
    {
      "cell_type": "code",
      "metadata": {
        "colab": {
          "base_uri": "https://localhost:8080/",
          "height": 69
        },
        "id": "VrfMGz5bIiRZ",
        "outputId": "b033612b-2406-43aa-8e26-266cee755066"
      },
      "source": [
        "'''# Extract the Creation date from CreationDate_x column.\n",
        "Stack['CreationDate']= Stack['CreationDate'].apply(lambda x: x.split(\"T\")[0])\n",
        "\n",
        "# Extract the Creation date from CreationDate_y column.\n",
        "Stack['AnswerDate']= inp0['AnswerDate'].apply(lambda x: x.split(\"T\")[0])\n",
        "\n",
        "# Convert the Creation date column into date type.\n",
        "Stack['CreationDate'] = pd.to_datetime(inp0['CreationDate'])\n",
        "Stack['AnswerDate'] = pd.to_datetime(inp0['AnswerDate'])'''"
      ],
      "execution_count": null,
      "outputs": [
        {
          "output_type": "execute_result",
          "data": {
            "application/vnd.google.colaboratory.intrinsic+json": {
              "type": "string"
            },
            "text/plain": [
              "'# Extract the Creation date from CreationDate_x column.\\nStack[\\'CreationDate\\']= Stack[\\'CreationDate\\'].apply(lambda x: x.split(\"T\")[0])\\n\\n# Extract the Creation date from CreationDate_y column.\\nStack[\\'AnswerDate\\']= inp0[\\'AnswerDate\\'].apply(lambda x: x.split(\"T\")[0])\\n\\n# Convert the Creation date column into date type.\\nStack[\\'CreationDate\\'] = pd.to_datetime(inp0[\\'CreationDate\\'])\\nStack[\\'AnswerDate\\'] = pd.to_datetime(inp0[\\'AnswerDate\\'])'"
            ]
          },
          "metadata": {
            "tags": []
          },
          "execution_count": 176
        }
      ]
    },
    {
      "cell_type": "code",
      "metadata": {
        "collapsed": true,
        "id": "W1xa1qwbvRTe"
      },
      "source": [
        "tagsdf.rename(columns={'Id':'QuesId'}, inplace=True)"
      ],
      "execution_count": null,
      "outputs": []
    },
    {
      "cell_type": "code",
      "metadata": {
        "colab": {
          "base_uri": "https://localhost:8080/",
          "height": 343
        },
        "id": "gheuowyPtLFe",
        "outputId": "1d511bcf-75a3-4dfa-8bb5-5824396032cf"
      },
      "source": [
        "DStagsdf.head(10)"
      ],
      "execution_count": null,
      "outputs": [
        {
          "output_type": "execute_result",
          "data": {
            "text/html": [
              "<div>\n",
              "<style scoped>\n",
              "    .dataframe tbody tr th:only-of-type {\n",
              "        vertical-align: middle;\n",
              "    }\n",
              "\n",
              "    .dataframe tbody tr th {\n",
              "        vertical-align: top;\n",
              "    }\n",
              "\n",
              "    .dataframe thead th {\n",
              "        text-align: right;\n",
              "    }\n",
              "</style>\n",
              "<table border=\"1\" class=\"dataframe\">\n",
              "  <thead>\n",
              "    <tr style=\"text-align: right;\">\n",
              "      <th></th>\n",
              "      <th>QuesId</th>\n",
              "      <th>Tag</th>\n",
              "    </tr>\n",
              "  </thead>\n",
              "  <tbody>\n",
              "    <tr>\n",
              "      <th>7</th>\n",
              "      <td>120</td>\n",
              "      <td>sql</td>\n",
              "    </tr>\n",
              "    <tr>\n",
              "      <th>67</th>\n",
              "      <td>1970</td>\n",
              "      <td>sql</td>\n",
              "    </tr>\n",
              "    <tr>\n",
              "      <th>72</th>\n",
              "      <td>2120</td>\n",
              "      <td>sql</td>\n",
              "    </tr>\n",
              "    <tr>\n",
              "      <th>99</th>\n",
              "      <td>2840</td>\n",
              "      <td>sql</td>\n",
              "    </tr>\n",
              "    <tr>\n",
              "      <th>130</th>\n",
              "      <td>4110</td>\n",
              "      <td>sql</td>\n",
              "    </tr>\n",
              "    <tr>\n",
              "      <th>184</th>\n",
              "      <td>6340</td>\n",
              "      <td>sql</td>\n",
              "    </tr>\n",
              "    <tr>\n",
              "      <th>266</th>\n",
              "      <td>10190</td>\n",
              "      <td>sql</td>\n",
              "    </tr>\n",
              "    <tr>\n",
              "      <th>312</th>\n",
              "      <td>11060</td>\n",
              "      <td>python</td>\n",
              "    </tr>\n",
              "    <tr>\n",
              "      <th>392</th>\n",
              "      <td>13540</td>\n",
              "      <td>sql</td>\n",
              "    </tr>\n",
              "    <tr>\n",
              "      <th>503</th>\n",
              "      <td>17250</td>\n",
              "      <td>python</td>\n",
              "    </tr>\n",
              "  </tbody>\n",
              "</table>\n",
              "</div>"
            ],
            "text/plain": [
              "     QuesId     Tag\n",
              "7       120     sql\n",
              "67     1970     sql\n",
              "72     2120     sql\n",
              "99     2840     sql\n",
              "130    4110     sql\n",
              "184    6340     sql\n",
              "266   10190     sql\n",
              "312   11060  python\n",
              "392   13540     sql\n",
              "503   17250  python"
            ]
          },
          "metadata": {
            "tags": []
          },
          "execution_count": 178
        }
      ]
    },
    {
      "cell_type": "code",
      "metadata": {
        "colab": {
          "base_uri": "https://localhost:8080/"
        },
        "id": "IGGb2aBQiiEt",
        "outputId": "0dff9e34-55b6-49a6-e553-938ac8dda043"
      },
      "source": [
        "DStagsdf.rename(columns= {'Id':'QuesId'}, inplace=True)"
      ],
      "execution_count": null,
      "outputs": [
        {
          "output_type": "stream",
          "text": [
            "/usr/local/lib/python3.7/dist-packages/pandas/core/frame.py:4308: SettingWithCopyWarning: \n",
            "A value is trying to be set on a copy of a slice from a DataFrame\n",
            "\n",
            "See the caveats in the documentation: https://pandas.pydata.org/pandas-docs/stable/user_guide/indexing.html#returning-a-view-versus-a-copy\n",
            "  errors=errors,\n"
          ],
          "name": "stderr"
        }
      ]
    },
    {
      "cell_type": "code",
      "metadata": {
        "colab": {
          "base_uri": "https://localhost:8080/",
          "height": 1000
        },
        "id": "TmsiLphWufNg",
        "outputId": "37b8280c-1e00-4c95-e81b-b668644ccefb"
      },
      "source": [
        "DSStack= pd.merge(Stack, DStagsdf, how='inner', on='QuesId')\n",
        "DSStack.head(10)"
      ],
      "execution_count": null,
      "outputs": [
        {
          "output_type": "execute_result",
          "data": {
            "text/html": [
              "<div>\n",
              "<style scoped>\n",
              "    .dataframe tbody tr th:only-of-type {\n",
              "        vertical-align: middle;\n",
              "    }\n",
              "\n",
              "    .dataframe tbody tr th {\n",
              "        vertical-align: top;\n",
              "    }\n",
              "\n",
              "    .dataframe thead th {\n",
              "        text-align: right;\n",
              "    }\n",
              "</style>\n",
              "<table border=\"1\" class=\"dataframe\">\n",
              "  <thead>\n",
              "    <tr style=\"text-align: right;\">\n",
              "      <th></th>\n",
              "      <th>QuesId</th>\n",
              "      <th>Q_OwnerUserId</th>\n",
              "      <th>CreationDate</th>\n",
              "      <th>Score</th>\n",
              "      <th>Title</th>\n",
              "      <th>Question</th>\n",
              "      <th>bin</th>\n",
              "      <th>Tag_x</th>\n",
              "      <th>A_OwnerUserId</th>\n",
              "      <th>AnswerDate</th>\n",
              "      <th>AnswerScore</th>\n",
              "      <th>Answer</th>\n",
              "      <th>display_name</th>\n",
              "      <th>reputation</th>\n",
              "      <th>up_votes</th>\n",
              "      <th>down_votes</th>\n",
              "      <th>views</th>\n",
              "      <th>Expected time</th>\n",
              "      <th>Tag_y</th>\n",
              "    </tr>\n",
              "  </thead>\n",
              "  <tbody>\n",
              "    <tr>\n",
              "      <th>0</th>\n",
              "      <td>120</td>\n",
              "      <td>83.0</td>\n",
              "      <td>2008-08-01 15:50:08+00:00</td>\n",
              "      <td>21.0</td>\n",
              "      <td>ASP.NET Site Maps</td>\n",
              "      <td>&lt;p&gt;Has anyone got experience creating &lt;strong&gt;...</td>\n",
              "      <td>Average</td>\n",
              "      <td>sql</td>\n",
              "      <td>12734</td>\n",
              "      <td>2008-09-23 22:41:11+00:00</td>\n",
              "      <td>9</td>\n",
              "      <td>&lt;p&gt;The Jeff Prosise version from MSDN magazine...</td>\n",
              "      <td>Kelly Adams</td>\n",
              "      <td>695</td>\n",
              "      <td>35</td>\n",
              "      <td>0</td>\n",
              "      <td>105</td>\n",
              "      <td>53 days 06:51:03</td>\n",
              "      <td>sql</td>\n",
              "    </tr>\n",
              "    <tr>\n",
              "      <th>1</th>\n",
              "      <td>120</td>\n",
              "      <td>83.0</td>\n",
              "      <td>2008-08-01 15:50:08+00:00</td>\n",
              "      <td>21.0</td>\n",
              "      <td>ASP.NET Site Maps</td>\n",
              "      <td>&lt;p&gt;Has anyone got experience creating &lt;strong&gt;...</td>\n",
              "      <td>Average</td>\n",
              "      <td>asp.net</td>\n",
              "      <td>12734</td>\n",
              "      <td>2008-09-23 22:41:11+00:00</td>\n",
              "      <td>9</td>\n",
              "      <td>&lt;p&gt;The Jeff Prosise version from MSDN magazine...</td>\n",
              "      <td>Kelly Adams</td>\n",
              "      <td>695</td>\n",
              "      <td>35</td>\n",
              "      <td>0</td>\n",
              "      <td>105</td>\n",
              "      <td>53 days 06:51:03</td>\n",
              "      <td>sql</td>\n",
              "    </tr>\n",
              "    <tr>\n",
              "      <th>2</th>\n",
              "      <td>120</td>\n",
              "      <td>83.0</td>\n",
              "      <td>2008-08-01 15:50:08+00:00</td>\n",
              "      <td>21.0</td>\n",
              "      <td>ASP.NET Site Maps</td>\n",
              "      <td>&lt;p&gt;Has anyone got experience creating &lt;strong&gt;...</td>\n",
              "      <td>Average</td>\n",
              "      <td>sitemap</td>\n",
              "      <td>12734</td>\n",
              "      <td>2008-09-23 22:41:11+00:00</td>\n",
              "      <td>9</td>\n",
              "      <td>&lt;p&gt;The Jeff Prosise version from MSDN magazine...</td>\n",
              "      <td>Kelly Adams</td>\n",
              "      <td>695</td>\n",
              "      <td>35</td>\n",
              "      <td>0</td>\n",
              "      <td>105</td>\n",
              "      <td>53 days 06:51:03</td>\n",
              "      <td>sql</td>\n",
              "    </tr>\n",
              "    <tr>\n",
              "      <th>3</th>\n",
              "      <td>1970</td>\n",
              "      <td>116.0</td>\n",
              "      <td>2008-08-05 06:39:31+00:00</td>\n",
              "      <td>10.0</td>\n",
              "      <td>What language do you use for PostgreSQL trigge...</td>\n",
              "      <td>&lt;p&gt;PostgreSQL is interesting in that it suppor...</td>\n",
              "      <td>Average</td>\n",
              "      <td>sql</td>\n",
              "      <td>269</td>\n",
              "      <td>2008-08-05 06:43:30+00:00</td>\n",
              "      <td>3</td>\n",
              "      <td>&lt;p&gt;When I wrote my first trigger it was in Per...</td>\n",
              "      <td>sparkes</td>\n",
              "      <td>14710</td>\n",
              "      <td>330</td>\n",
              "      <td>37</td>\n",
              "      <td>549</td>\n",
              "      <td>0 days 00:03:59</td>\n",
              "      <td>sql</td>\n",
              "    </tr>\n",
              "    <tr>\n",
              "      <th>4</th>\n",
              "      <td>1970</td>\n",
              "      <td>116.0</td>\n",
              "      <td>2008-08-05 06:39:31+00:00</td>\n",
              "      <td>10.0</td>\n",
              "      <td>What language do you use for PostgreSQL trigge...</td>\n",
              "      <td>&lt;p&gt;PostgreSQL is interesting in that it suppor...</td>\n",
              "      <td>Average</td>\n",
              "      <td>sql</td>\n",
              "      <td>277</td>\n",
              "      <td>2008-08-06 14:26:08+00:00</td>\n",
              "      <td>5</td>\n",
              "      <td>&lt;p&gt;I have only really used PL/pgSQL, but that ...</td>\n",
              "      <td>kaybenleroll</td>\n",
              "      <td>7980</td>\n",
              "      <td>878</td>\n",
              "      <td>5</td>\n",
              "      <td>534</td>\n",
              "      <td>1 days 07:46:37</td>\n",
              "      <td>sql</td>\n",
              "    </tr>\n",
              "    <tr>\n",
              "      <th>5</th>\n",
              "      <td>1970</td>\n",
              "      <td>116.0</td>\n",
              "      <td>2008-08-05 06:39:31+00:00</td>\n",
              "      <td>10.0</td>\n",
              "      <td>What language do you use for PostgreSQL trigge...</td>\n",
              "      <td>&lt;p&gt;PostgreSQL is interesting in that it suppor...</td>\n",
              "      <td>Average</td>\n",
              "      <td>sql</td>\n",
              "      <td>1081</td>\n",
              "      <td>2008-09-12 15:39:39+00:00</td>\n",
              "      <td>2</td>\n",
              "      <td>&lt;p&gt;Skype uses &lt;strong&gt;PostgreSQL&lt;/strong&gt; toge...</td>\n",
              "      <td>dpavlin</td>\n",
              "      <td>837</td>\n",
              "      <td>125</td>\n",
              "      <td>12</td>\n",
              "      <td>221</td>\n",
              "      <td>38 days 09:00:08</td>\n",
              "      <td>sql</td>\n",
              "    </tr>\n",
              "    <tr>\n",
              "      <th>6</th>\n",
              "      <td>1970</td>\n",
              "      <td>116.0</td>\n",
              "      <td>2008-08-05 06:39:31+00:00</td>\n",
              "      <td>10.0</td>\n",
              "      <td>What language do you use for PostgreSQL trigge...</td>\n",
              "      <td>&lt;p&gt;PostgreSQL is interesting in that it suppor...</td>\n",
              "      <td>Average</td>\n",
              "      <td>sql</td>\n",
              "      <td>11116</td>\n",
              "      <td>2008-09-16 05:43:22+00:00</td>\n",
              "      <td>4</td>\n",
              "      <td>&lt;p&gt;I write pretty much everything in plpgsql, ...</td>\n",
              "      <td>decibel</td>\n",
              "      <td>361</td>\n",
              "      <td>3</td>\n",
              "      <td>0</td>\n",
              "      <td>34</td>\n",
              "      <td>41 days 23:03:51</td>\n",
              "      <td>sql</td>\n",
              "    </tr>\n",
              "    <tr>\n",
              "      <th>7</th>\n",
              "      <td>1970</td>\n",
              "      <td>116.0</td>\n",
              "      <td>2008-08-05 06:39:31+00:00</td>\n",
              "      <td>10.0</td>\n",
              "      <td>What language do you use for PostgreSQL trigge...</td>\n",
              "      <td>&lt;p&gt;PostgreSQL is interesting in that it suppor...</td>\n",
              "      <td>Average</td>\n",
              "      <td>sql</td>\n",
              "      <td>13860</td>\n",
              "      <td>2008-09-16 22:00:49+00:00</td>\n",
              "      <td>2</td>\n",
              "      <td>&lt;p&gt;For anything really small/simple or that do...</td>\n",
              "      <td>Flimzy</td>\n",
              "      <td>44463</td>\n",
              "      <td>2200</td>\n",
              "      <td>6081</td>\n",
              "      <td>9183</td>\n",
              "      <td>42 days 15:21:18</td>\n",
              "      <td>sql</td>\n",
              "    </tr>\n",
              "    <tr>\n",
              "      <th>8</th>\n",
              "      <td>1970</td>\n",
              "      <td>116.0</td>\n",
              "      <td>2008-08-05 06:39:31+00:00</td>\n",
              "      <td>10.0</td>\n",
              "      <td>What language do you use for PostgreSQL trigge...</td>\n",
              "      <td>&lt;p&gt;PostgreSQL is interesting in that it suppor...</td>\n",
              "      <td>Average</td>\n",
              "      <td>sql</td>\n",
              "      <td>1167846</td>\n",
              "      <td>2008-09-18 14:54:22+00:00</td>\n",
              "      <td>2</td>\n",
              "      <td>&lt;p&gt;PL/Ruby because I use Ruby every day anyway...</td>\n",
              "      <td>Tony Pitale</td>\n",
              "      <td>837</td>\n",
              "      <td>116</td>\n",
              "      <td>10</td>\n",
              "      <td>138</td>\n",
              "      <td>44 days 08:14:51</td>\n",
              "      <td>sql</td>\n",
              "    </tr>\n",
              "    <tr>\n",
              "      <th>9</th>\n",
              "      <td>1970</td>\n",
              "      <td>116.0</td>\n",
              "      <td>2008-08-05 06:39:31+00:00</td>\n",
              "      <td>10.0</td>\n",
              "      <td>What language do you use for PostgreSQL trigge...</td>\n",
              "      <td>&lt;p&gt;PostgreSQL is interesting in that it suppor...</td>\n",
              "      <td>Average</td>\n",
              "      <td>sql</td>\n",
              "      <td>49166</td>\n",
              "      <td>2009-09-05 04:01:09+00:00</td>\n",
              "      <td>2</td>\n",
              "      <td>&lt;p&gt;I use PL/Perl because:&lt;/p&gt;\\n\\n&lt;ul&gt;\\n&lt;li&gt;I l...</td>\n",
              "      <td>porkbird</td>\n",
              "      <td>51</td>\n",
              "      <td>0</td>\n",
              "      <td>0</td>\n",
              "      <td>16</td>\n",
              "      <td>395 days 21:21:38</td>\n",
              "      <td>sql</td>\n",
              "    </tr>\n",
              "  </tbody>\n",
              "</table>\n",
              "</div>"
            ],
            "text/plain": [
              "   QuesId  Q_OwnerUserId  ...     Expected time  Tag_y\n",
              "0     120           83.0  ...  53 days 06:51:03    sql\n",
              "1     120           83.0  ...  53 days 06:51:03    sql\n",
              "2     120           83.0  ...  53 days 06:51:03    sql\n",
              "3    1970          116.0  ...   0 days 00:03:59    sql\n",
              "4    1970          116.0  ...   1 days 07:46:37    sql\n",
              "5    1970          116.0  ...  38 days 09:00:08    sql\n",
              "6    1970          116.0  ...  41 days 23:03:51    sql\n",
              "7    1970          116.0  ...  42 days 15:21:18    sql\n",
              "8    1970          116.0  ...  44 days 08:14:51    sql\n",
              "9    1970          116.0  ... 395 days 21:21:38    sql\n",
              "\n",
              "[10 rows x 19 columns]"
            ]
          },
          "metadata": {
            "tags": []
          },
          "execution_count": 180
        }
      ]
    },
    {
      "cell_type": "markdown",
      "metadata": {
        "collapsed": true,
        "id": "MN0W8HiCvr7d"
      },
      "source": [
        "# RDS Connection"
      ]
    },
    {
      "cell_type": "code",
      "metadata": {
        "collapsed": true,
        "id": "7vh8VmFf_O8C"
      },
      "source": [
        "!pip3 install boto3"
      ],
      "execution_count": null,
      "outputs": []
    },
    {
      "cell_type": "code",
      "metadata": {
        "collapsed": true,
        "id": "8YEPpZFK_O8C"
      },
      "source": [
        "!pip3 install mysql-connector --user"
      ],
      "execution_count": null,
      "outputs": []
    },
    {
      "cell_type": "code",
      "metadata": {
        "collapsed": true,
        "id": "c2yZnq29_O8C"
      },
      "source": [
        "import boto3\n",
        "\n",
        "client = boto3.client('rds')"
      ],
      "execution_count": null,
      "outputs": []
    },
    {
      "cell_type": "code",
      "metadata": {
        "collapsed": true,
        "id": "Ka83XGWT_O8D"
      },
      "source": [
        "import mysql.connector\n",
        "\n",
        "dbstack= mysql.connector.connect(\n",
        "    host= 'dbstackoverflow.cghrzblxzfuz.us-east-1.rds.amazonaws.com',\n",
        "    user= 'admin'\n",
        "    passwd= 'Balthazar123',\n",
        "    port= 3306,\n",
        "    db= 'dbstackoverflow'\n",
        "\n",
        ")"
      ],
      "execution_count": null,
      "outputs": []
    },
    {
      "cell_type": "code",
      "metadata": {
        "collapsed": true,
        "id": "FX5J5u5a_O8D"
      },
      "source": [
        ""
      ],
      "execution_count": null,
      "outputs": []
    }
  ]
}